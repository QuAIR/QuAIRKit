{
 "cells": [
  {
   "cell_type": "code",
   "execution_count": 1,
   "id": "caefd89f",
   "metadata": {},
   "outputs": [],
   "source": [
    "%%bash\n",
    "if ! python -c \"import quairkit\" 2>/dev/null; then\n",
    "    pip install quairkit\n",
    "fi\n",
    "\n",
    "if ! command -v pdftotext &> /dev/null; then\n",
    "    conda install -c conda-forge poppler\n",
    "fi"
   ]
  },
  {
   "cell_type": "markdown",
   "id": "f3b9c9b6",
   "metadata": {},
   "source": [
    "# Superdense coding\n",
    "\n",
    "<em style=\"color:gray;\">Copyright (c) 2025 QuAIR team. All Rights Reserved.</em>\n",
    "\n",
    "This tutorial aims to introduce the Superdense Coding protocol. We will explore the background and importance of this protocol, its specific implementation process, and how to simulate it using QuAIRKit."
   ]
  },
  {
   "cell_type": "markdown",
   "id": "d0e9868f",
   "metadata": {},
   "source": [
    "**Table of Contents** \n",
    "\n",
    "- [Introduction](#introduction)\n",
    "- [The Protocol](#the-protocol)\n",
    "    - [Initialization](#initialization)\n",
    "    - [Encoding](#encoding)\n",
    "    - [Decoding](#decoding)\n",
    "- [Superdense Coding with Batch Computation](#superdense-coding-with-batch-computation)\n",
    "    - [Generate Encoded States](#generate-encoded-states)\n",
    "    - [Batch Decoding and Measurement](#batch-decoding-and-measurement)"
   ]
  },
  {
   "cell_type": "code",
   "execution_count": 2,
   "id": "b2a164f3",
   "metadata": {},
   "outputs": [],
   "source": [
    "import torch\n",
    "\n",
    "import quairkit as qkit\n",
    "from quairkit.database import *\n",
    "from quairkit import Circuit"
   ]
  },
  {
   "cell_type": "markdown",
   "id": "6bddaaac",
   "metadata": {},
   "source": [
    "---"
   ]
  },
  {
   "cell_type": "markdown",
   "id": "9d85b3b5",
   "metadata": {},
   "source": [
    "## Introduction\n",
    "\n",
    "The coding and operation of classical computers are based on Boolean logic algebra, and a single bit is a binary number of 0 and 1, which means one classical bit can encode one bit of information at most. However, with the discovery of quantum entanglement and the introduction of Bell states, Bennett and Wiesner proposed a quantum coding protocol in 1992 [1]. This protocol uses the entangled nature of qubits to transmit the information of two classical bits through one qubit, thereby realizing a communication method with larger capacity and higher efficiency. This way of using quantum entanglement to achieve high-capacity coding is called quantum superdense coding, and it is an important application of quantum mechanics in coding. Experimentally, the quantum superdense coding protocol was verified by Mattle et al. through photon polarization experiments in 1996 [2].\n",
    "\n",
    "It should be highlighted that the concepts of quantum superdense coding and quantum teleportation should not be confused. Here we will make a simple comparison:\n",
    "- Quantum superdense coding transmits two classical bits of information through one qubit.\n",
    "- Quantum teleportation transmits one of qubit information through two classical bits of information.\n",
    "\n",
    "At the same time, both protocols use quantum entanglement as a resource.\n",
    "\n",
    "<figure style=\"text-align: center;\">\n",
    "  <img src=\"figures/densecoding_workflow.jpg\" alt=\"alt text\" width=\"1000\"/>\n",
    "  <figcaption>Figure 1. The quantum circuit for superdense coding</figcaption>\n",
    "</figure>\n",
    "\n",
    "The diagram above shows the quantum circuit for superdense coding. The entire process is divided into three steps:\n",
    "1.  **Initialization**: First, an entanglement source produces a pair of entangled qubits in a Bell state, typically the $|\\Phi^+\\rangle$ state. These two qubits are then distributed to Alice and Bob, serving as their shared quantum channel.\n",
    "2.  **Encoding**: Alice, based on the two classical bits she wishes to send (00, 01, 10, or 11), performs a specific quantum gate operation ($U$) on her qubit ($q_A$). After the operation, she sends her qubit to Bob.\n",
    "3.  **Decoding and Measurement**:  Bob now possesses the complete entangled pair. He performs a decoding operation on these two qubits (first a CNOT gate, then a Hadamard gate) and then measures them. The measurement outcome will correspond to Alice's intended two-bit classical message with 100% probability."
   ]
  },
  {
   "cell_type": "markdown",
   "id": "9e71957d",
   "metadata": {},
   "source": [
    "## The Protocol\n",
    "\n",
    "In this section, we will detail the three core steps of superdense coding: initialization, encoding, and decoding, providing mathematical descriptions and the corresponding QuAIRKit code implementations."
   ]
  },
  {
   "cell_type": "markdown",
   "id": "429b0048",
   "metadata": {},
   "source": [
    "### Initialization\n",
    "\n",
    "Before the protocol begins, Alice and Bob must share a pair of entangled qubits. The standard procedure is to prepare one of the four Bell states; we will use the most common one, $|\\Phi^+\\rangle$, as our example. Its mathematical expression is:\n",
    "$$|\\Phi^+\\rangle = \\frac{1}{\\sqrt{2}}(|00\\rangle + |11\\rangle), \\tag{1}$$\n",
    "After this Bell state is generated by an entanglement source, the first qubit ($q_A$) is sent to Alice, and the second ($q_B$) is sent to Bob. Now, even though Alice and Bob may be far apart, their respective qubits are strongly correlated.\n",
    "\n",
    "In QuAIRKit, we can directly call the `bell_state` function from the `database` module to create this entangled state."
   ]
  },
  {
   "cell_type": "code",
   "execution_count": 3,
   "id": "353c0e22",
   "metadata": {},
   "outputs": [
    {
     "name": "stdout",
     "output_type": "stream",
     "text": [
      "Initial shared entangled state |Φ+>:\n",
      "tensor([[0.7071+0.j],\n",
      "        [0.0000+0.j],\n",
      "        [0.0000+0.j],\n",
      "        [0.7071+0.j]])\n"
     ]
    }
   ],
   "source": [
    "r\"\"\"\n",
    "    Prepare the shared entangled state\n",
    "\"\"\"\n",
    "num_qubits = 2\n",
    "\n",
    "# 1. Initialization: Create a Bell state\n",
    "shared_entangled_state = bell_state(num_qubits)\n",
    "\n",
    "print(\"Initial shared entangled state |Φ+>:\")\n",
    "print(shared_entangled_state.ket)"
   ]
  },
  {
   "cell_type": "markdown",
   "id": "950d2c88",
   "metadata": {},
   "source": [
    "### Encoding\n",
    "\n",
    "Alice's task is to perform an operation on her qubit, $q_A$ (the 0th qubit in the system), based on the two-bit classical message she wants to send. The rules for the operation are shown in the table below, where each classical message corresponds to a specific quantum gate operation.\n",
    "\n",
    "| Classical Bits | Alice's Operation (Gate) | Action on $q_A$ | Resulting Bell State | Mathematical Expression |\n",
    "| :---: | :---: | :---: |:---:| :--- |\n",
    "| **00** | $I$ (Identity) | $(I \\otimes I)$ | $\\ket{\\Phi^+}$ | $\\frac{1}{\\sqrt{2}}(\\ket{00} + \\ket{11})$ |\n",
    "| **01** | $X$ (Pauli-X) | $(X \\otimes I)$ | $\\ket{\\Psi^+}$ | $\\frac{1}{\\sqrt{2}}(\\ket{10} + \\ket{01})$ |\n",
    "| **10** | $Z$ (Pauli-Z) | $(Z \\otimes I)$ | $\\ket{\\Phi^-}$ | $\\frac{1}{\\sqrt{2}}(\\ket{00} - \\ket{11})$ |\n",
    "| **11** | $iY$ ($Z \\cdot X$) | $(ZX \\otimes I)$ | $\\ket{\\Psi^-}$ | $\\frac{1}{\\sqrt{2}}(\\ket{01} - \\ket{10})$ |\n",
    "\n",
    "After performing the operation, Alice sends her qubit $q_A$ through a quantum channel to Bob. Now, Bob possesses the complete, encoded entangled pair.\n",
    "\n",
    "In QuAIRKit, we can use the `Circuit` class to simulate Alice's encoding operation. A `Circuit` object can be applied to a `State` object to evolve it into a new quantum state.\n"
   ]
  },
  {
   "cell_type": "code",
   "execution_count": 4,
   "id": "8e73855b",
   "metadata": {},
   "outputs": [
    {
     "name": "stdout",
     "output_type": "stream",
     "text": [
      "After Alice sends '10', the system's state becomes |Φ->:\n",
      "tensor([[ 0.7071+0.j],\n",
      "        [ 0.0000+0.j],\n",
      "        [ 0.0000+0.j],\n",
      "        [-0.7071+0.j]])\n"
     ]
    }
   ],
   "source": [
    "# Assume Alice wants to send the classical message '10'\n",
    "# 2. Encoding: Alice creates a quantum circuit with only a Z gate and specifies that it acts on qubit 0\n",
    "alice_encoding_circuit = Circuit(num_qubits)\n",
    "alice_encoding_circuit.z(0)\n",
    "\n",
    "# Alice applies her operation to the shared entangled state\n",
    "state_after_encoding = alice_encoding_circuit(shared_entangled_state)\n",
    "\n",
    "print(\"After Alice sends '10', the system's state becomes |Φ->:\")\n",
    "print(state_after_encoding.ket)"
   ]
  },
  {
   "cell_type": "markdown",
   "id": "67c927a3",
   "metadata": {},
   "source": [
    "### Decoding\n",
    "\n",
    "To read the information Alice sent, Bob needs to perform a decoding operation that uniquely maps the four possible Bell states to the four computational basis states: $|00\\rangle, |01\\rangle, |10\\rangle, |11\\rangle$.\n",
    "\n",
    "The decoding process consists of two steps:\n",
    "1.  Apply a CNOT gate to the two qubits Bob holds, with Alice's qubit $q_A$ as the control bit and Bob's original qubit $q_B$ as the target bit.\n",
    "2.  Apply a Hadamard gate to Alice's qubit $q_A$.\n",
    "\n",
    "After these two operations, the quantum state of the system transforms from the Bell basis to the computational basis, with the following relationship:\n",
    "* $|\\Phi^+\\rangle \\xrightarrow{\\text{CNOT}_{AB}} \\xrightarrow{H_A} |00\\rangle$\n",
    "* $|\\Psi^+\\rangle \\xrightarrow{\\text{CNOT}_{AB}} \\xrightarrow{H_A} |01\\rangle$\n",
    "* $|\\Phi^-\\rangle \\xrightarrow{\\text{CNOT}_{AB}} \\xrightarrow{H_A} |10\\rangle$\n",
    "* $|\\Psi^-\\rangle \\xrightarrow{\\text{CNOT}_{AB}} \\xrightarrow{H_A} |11\\rangle$\n",
    "\n",
    "Finally, Bob measures both qubits, and the resulting classical bit string is the message Alice sent."
   ]
  },
  {
   "cell_type": "markdown",
   "id": "f537f576",
   "metadata": {},
   "source": [
    "Let's continue with the example of Alice sending **'10'** to complete the entire decoding and measurement process:\n",
    "1.  **Initial State**: $|\\Phi^+\\rangle = \\frac{1}{\\sqrt{2}}(|00\\rangle + |11\\rangle)$\n",
    "2.  **Alice's Encoding**: Alice applies a $Z$ gate to her qubit $q_A$.\n",
    "    $$(Z \\otimes I)|\\Phi^+\\rangle = \\frac{1}{\\sqrt{2}}(Z|0\\rangle|0\\rangle + Z|1\\rangle|1\\rangle) = \\frac{1}{\\sqrt{2}}(|0\\rangle|0\\rangle - |1\\rangle|1\\rangle) = |\\Phi^-\\rangle, \\tag{2}$$\n",
    "3.  **Bob's Decoding**: Bob receives $q_A$, and the state he has is $|\\Phi^-\\rangle$. He first applies a CNOT gate, then an H gate on the first qubit.\n",
    "    $$\\text{CNOT}_{AB}|\\Phi^-\\rangle = \\text{CNOT}_{AB}\\frac{1}{\\sqrt{2}}(|00\\rangle - |11\\rangle) = \\frac{1}{\\sqrt{2}}(|00\\rangle - |10\\rangle), \\tag{3}$$\n",
    "    $$(H \\otimes I)\\frac{1}{\\sqrt{2}}(|00\\rangle - |10\\rangle) = \\frac{1}{\\sqrt{2}}(H|0\\rangle|0\\rangle - H|1\\rangle|0\\rangle) = \\frac{1}{\\sqrt{2}}\\left(\\frac{|0\\rangle+|1\\rangle}{\\sqrt{2}}|0\\rangle - \\frac{|0\\rangle-|1\\rangle}{\\sqrt{2}}|0\\rangle\\right) = \\frac{1}{2}(|00\\rangle + |10\\rangle - |00\\rangle + |10\\rangle) = |10\\rangle, \\tag{4}$$\n",
    "4.  **Measurement**: Bob measures the final state $|10\\rangle$ and will obtain the result \"10\" with 100% probability, successfully decoding Alice's message.\n",
    "\n",
    "In QuAIRKit, we similarly construct a decoding circuit and perform a measurement on the encoded quantum state."
   ]
  },
  {
   "cell_type": "code",
   "execution_count": 5,
   "id": "802492d8",
   "metadata": {},
   "outputs": [
    {
     "name": "stdout",
     "output_type": "stream",
     "text": [
      "Final quantum state after Bob's decoding operation:\n",
      "tensor([[0.0000+0.j],\n",
      "        [0.0000+0.j],\n",
      "        [1.0000+0.j],\n",
      "        [0.0000+0.j]])\n",
      "\n",
      "Probability distribution of measurement results:\n",
      "P(|00>): 0.00\n",
      "P(|01>): 0.00\n",
      "P(|10>): 1.00\n",
      "P(|11>): 0.00\n"
     ]
    }
   ],
   "source": [
    "# 3. Decoding: Bob constructs the decoding circuit\n",
    "bob_decoding_circuit = Circuit(num_qubits)\n",
    "bob_decoding_circuit.cx([0, 1])\n",
    "bob_decoding_circuit.h(0)\n",
    "\n",
    "# Bob applies the decoding circuit to the quantum state he received\n",
    "final_state = bob_decoding_circuit(state_after_encoding)\n",
    "\n",
    "print(\"Final quantum state after Bob's decoding operation:\")\n",
    "print(final_state.ket)\n",
    "\n",
    "# 4. Measurement: Bob measures the final state in the computational basis\n",
    "# The .measure() method returns the probability distribution of the measurement outcomes\n",
    "measurement_result = final_state.measure()\n",
    "\n",
    "print(\"\\nProbability distribution of measurement results:\")\n",
    "print(f\"P(|00>): {measurement_result[0]:.2f}\")\n",
    "print(f\"P(|01>): {measurement_result[1]:.2f}\")\n",
    "print(f\"P(|10>): {measurement_result[2]:.2f}\")\n",
    "print(f\"P(|11>): {measurement_result[3]:.2f}\")"
   ]
  },
  {
   "cell_type": "markdown",
   "id": "e8efd9a6",
   "metadata": {},
   "source": [
    "As seen from the output, the probability of measuring \"10\" is 1, while the probabilities for all other outcomes are 0. This perfectly matches our theoretical derivation."
   ]
  },
  {
   "cell_type": "markdown",
   "id": "827ad0f4",
   "metadata": {},
   "source": [
    "## Superdense Coding with Batch Computation\n",
    "\n",
    "In the previous example, we simulated the full process for Alice to send one specific message, \"10\". However, when analyzing a protocol, we often want to verify its correctness for all possible cases. This means we need to simulate all four scenarios where Alice sends \"00\", \"01\", \"10\", and \"11\".\n",
    "\n",
    "A key observation is that no matter which classical bits Alice wants to transmit, Bob's decoding procedure is always the same. This uniformity makes the protocol an excellent candidate for verification using **batch computation** in `QuAIRKit`. We can first prepare all four potential quantum states that Bob could receive. Then, we group these states into a single batch and apply Bob's single, uniform decoding circuit to the entire batch in one operation. This allows us to efficiently verify all outcomes of the protocol at once.\n",
    "\n",
    "### Generate Encoded States\n",
    "\n",
    "First, we create the initial Bell state, then apply each of the four separate encoding circuits to it, resulting in four distinct encoded quantum states. As shown in the table above, '00' -> I gate; '01' -> X gate; '10' -> Z gate; '11' -> ZX gate."
   ]
  },
  {
   "cell_type": "code",
   "execution_count": 6,
   "id": "1409999d",
   "metadata": {},
   "outputs": [],
   "source": [
    "encode_gate = torch.stack([eye(2), x(), z(), z() @ x()])\n",
    "\n",
    "encoding_circuit = qkit.Circuit(2)\n",
    "encoding_circuit.oracle(encode_gate, [0])\n",
    "\n",
    "state_after_encoding_batch = encoding_circuit(bell_state(2))"
   ]
  },
  {
   "cell_type": "markdown",
   "id": "5cde22fe",
   "metadata": {},
   "source": [
    "Now, `state_after_encoding_batch` is a `State` object with a batch size of 4, containing all the quantum states that need to be decoded.\n",
    "\n",
    "### Batch Decoding and Measurement\n",
    "\n",
    "Bob's decoding circuit (CNOT gate + H gate) is the same for all cases. Therefore, we only need to create a regular decoding circuit. When this circuit is applied to the batched `State` object we just combined, the circuit will be automatically broadcast to every quantum state within the batch.\n",
    "\n",
    "The measurement module also supports computation on batched quantum states. Calling the `.measure()` method on a batched `State` object will return a batched probability distribution result."
   ]
  },
  {
   "cell_type": "code",
   "execution_count": 7,
   "id": "55e7001f",
   "metadata": {},
   "outputs": [
    {
     "name": "stdout",
     "output_type": "stream",
     "text": [
      "Final batch of 4 decoded states:\n",
      "\n",
      "-----------------------------------------------------\n",
      " Backend: default-pure\n",
      " System dimension: [2, 2]\n",
      " System sequence: [0, 1]\n",
      " Batch size: [4]\n",
      "\n",
      " # 0:\n",
      "[1.+0.j 0.+0.j 0.+0.j 0.+0.j]\n",
      " # 1:\n",
      "[0.+0.j 1.+0.j 0.+0.j 0.+0.j]\n",
      " # 2:\n",
      "[0.+0.j 0.+0.j 1.+0.j 0.+0.j]\n",
      " # 3:\n",
      "[0.+0.j 0.+0.j 0.+0.j 1.+0.j]\n",
      "-----------------------------------------------------\n",
      "\n",
      "\n",
      "Probability distribution of measurement results for the batch:\n",
      "tensor([[1.0000, 0.0000, 0.0000, 0.0000],\n",
      "        [0.0000, 1.0000, 0.0000, 0.0000],\n",
      "        [0.0000, 0.0000, 1.0000, 0.0000],\n",
      "        [0.0000, 0.0000, 0.0000, 1.0000]])\n"
     ]
    }
   ],
   "source": [
    "# Batch Decoding:\n",
    "# Bob's decoding circuit is the same as before\n",
    "bob_decoding_circuit = qkit.Circuit(2)\n",
    "bob_decoding_circuit.cx([0, 1])\n",
    "bob_decoding_circuit.h(0)\n",
    "\n",
    "# Apply the decoding circuit to the batched encoded states\n",
    "final_state_batch = bob_decoding_circuit(state_after_encoding_batch)\n",
    "\n",
    "print(\"Final batch of 4 decoded states:\")\n",
    "print(final_state_batch)\n",
    "\n",
    "# Batch Measurement:\n",
    "# Perform measurement on the final batched state\n",
    "measurement_results_batch = final_state_batch.measure()\n",
    "\n",
    "print(\"\\nProbability distribution of measurement results for the batch:\")\n",
    "print(measurement_results_batch)"
   ]
  },
  {
   "cell_type": "markdown",
   "id": "75e10ef4",
   "metadata": {},
   "source": [
    "The final measurement output should be an identity matrix:\n",
    "$$\n",
    "\\begin{pmatrix}\n",
    "1 & 0 & 0 & 0 \\\\\n",
    "0 & 1 & 0 & 0 \\\\\n",
    "0 & 0 & 1 & 0 \\\\\n",
    "0 & 0 & 0 & 1\n",
    "\\end{pmatrix}, \n",
    "$$\n",
    "\n",
    "This indicates that:\n",
    "* When Alice sends \"00\" (row 0), the probability of measuring \"00\" is 1.\n",
    "* When Alice sends \"01\" (row 1), the probability of measuring \"01\" is 1.\n",
    "* When Alice sends \"10\" (row 2), the probability of measuring \"10\" is 1.\n",
    "* When Alice sends \"11\" (row 3), the probability of measuring \"11\" is 1.\n",
    "\n",
    "This result clearly demonstrates that the superdense coding protocol is correct for all four cases.\n",
    "\n",
    "> Note: `QuAIRKit` also supports batch computation for gate parameters, providing further efficiency for tasks like training variational quantum circuits."
   ]
  },
  {
   "cell_type": "markdown",
   "id": "f96d1e32",
   "metadata": {},
   "source": [
    "## References\n",
    "\n",
    "[1] Bennett, Charles H., and Stephen J. Wiesner. \"Communication via one-and two-particle operators on Einstein-Podolsky-Rosen states.\" Physical Review Letters 69.20 (1992): 2881.\n",
    "\n",
    "[2] Mattle, Klaus, et al. \"Dense coding in experimental quantum communication.\" Physical Review Letters 76.25 (1996): 4656."
   ]
  },
  {
   "cell_type": "markdown",
   "id": "1bb4dbe6",
   "metadata": {},
   "source": [
    "*Table: A reference of notation conventions in this tutorial.*\n",
    "\n",
    "| Symbol        | Variant          | Description                               |\n",
    "|:---------------:|:------------------:|-------------------------------------------|\n",
    "| $\\ket{\\psi}$ | $\\ket{\\Phi^+}, \\ket{\\Psi^+}, \\ket{\\Phi^-}, \\ket{\\Psi^-}$ | Ket notation for a quantum state. Variants are the four Bell states. |\n",
    "| $I$ | | Identity gate. |\n",
    "| $X, Y, Z$ | $\\sigma_x, \\sigma_y, \\sigma_z$ | The Pauli gates. |\n",
    "| $H$ | | Hadamard gate. |\n",
    "| CNOT | CX | Controlled-NOT gate. |\n",
    "| $\\otimes$ | | Tensor product operator. |\n",
    "| $q_A, q_B$ | $q_0, q_1$ | Qubits belonging to Alice (0) and Bob (1). |\n",
    "| $P(\\cdot)$ | $P(\\ket{00})$ | Probability of a measurement outcome. |"
   ]
  },
  {
   "cell_type": "code",
   "execution_count": 8,
   "id": "69e1c231",
   "metadata": {},
   "outputs": [
    {
     "name": "stdout",
     "output_type": "stream",
     "text": [
      "\n",
      "---------VERSION---------\n",
      "quairkit: 0.4.2\n",
      "torch: 2.8.0+cu128\n",
      "torch cuda: 12.8\n",
      "numpy: 2.2.6\n",
      "scipy: 1.15.3\n",
      "matplotlib: 3.10.6\n",
      "---------SYSTEM---------\n",
      "Python version: 3.10.18\n",
      "OS: Linux\n",
      "OS version: #1 SMP Tue Nov 5 00:21:55 UTC 2024\n",
      "---------DEVICE---------\n",
      "CPU:  13th Gen Intel(R) Core(TM) i9-13980HX\n",
      "GPU: (0) NVIDIA GeForce RTX 4090 Laptop GPU\n"
     ]
    }
   ],
   "source": [
    "qkit.print_info()"
   ]
  }
 ],
 "metadata": {
  "kernelspec": {
   "display_name": "api",
   "language": "python",
   "name": "python3"
  },
  "language_info": {
   "codemirror_mode": {
    "name": "ipython",
    "version": 3
   },
   "file_extension": ".py",
   "mimetype": "text/x-python",
   "name": "python",
   "nbconvert_exporter": "python",
   "pygments_lexer": "ipython3",
   "version": "3.10.18"
  }
 },
 "nbformat": 4,
 "nbformat_minor": 5
}
