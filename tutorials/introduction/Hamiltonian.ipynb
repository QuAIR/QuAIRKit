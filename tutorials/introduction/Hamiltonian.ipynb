{
 "cells": [
  {
   "cell_type": "markdown",
   "metadata": {},
   "source": [
    "# Hamiltonian in QuAIRKit\n",
    "\n",
    "QuAIRKit uses the `Hamiltonian` class to represent Hamiltonian. In this tutorial, users will learn how to construct Hamiltonian in QuAIRKit.\n",
    "\n",
    "**Table of Contents**\n",
    "\n",
    "- [Introduction to Hamiltonian](#Introduction-to-Hamiltonian)\n",
    "- [Construction of Hamiltonian](#Construction-of-Hamiltonian)\n",
    "- [Expection value of the Hamiltonian](#Expection-value-of-the-Hamiltonian)\n",
    "  <!-- - [Batch calculation of the expection value of a Hamiltonian](#The-batch-calculation-of-the-expection-value-of-a-Hamiltonian) -->\n",
    "- [The Hamiltonian class](#The-Hamiltonian-class)"
   ]
  },
  {
   "cell_type": "code",
   "execution_count": 1,
   "metadata": {},
   "outputs": [],
   "source": [
    "import torch\n",
    "\n",
    "import quairkit as qkit\n",
    "from quairkit.core.hamiltonian import *\n",
    "from quairkit.database.hamiltonian import *\n",
    "from quairkit.database.random import *\n",
    "from quairkit.loss import *"
   ]
  },
  {
   "cell_type": "markdown",
   "metadata": {},
   "source": [
    "## Introduction to Hamiltonian\n",
    "\n",
    "In physics, Hamiltonian is often represented by the symbol $\\hat{H}$, Hamiltonian $\\hat{H}$ is a mathematical representation of the total energy of a system. In quantum mechanics, Hamiltonian refers to the sum of the kinetic energy operator $\\hat{T}$ and potential energy operator $\\hat{V}$ of the system [1-2],\n",
    "$$\n",
    "\\hat{H} = \\hat{T} + \\hat{V}. \\tag{1}\n",
    "$$\n",
    "Its spectrum, namely, the system's energy spectrum, or its set of energy eigenvalues $\\{\\lambda_k\\}^{d-1}_{k=0}$, results in possible outcomes obtainable from a measurement of the system's total energy. Matrix representation of a Hamiltonian operator $\\hat{H}$ is $H$. $H$ satisfies the following conditions: $H = H^\\dagger$, namely, Hamiltonian is a hermitian matrix. \n",
    "\n",
    "When the dimension of the Hilbert space is $d=2$, a set of Pauli matrices [1-3] defined as follows :\n",
    "\n",
    "$$\n",
    "I = \\begin{pmatrix} 1 & 0 \\\\ 0 & 1 \\end{pmatrix}, \\quad X = \\begin{pmatrix} 0 & 1 \\\\ 1 & 0 \\end{pmatrix}, \\quad Y = \\begin{pmatrix} 0 & -i \\\\ i & 0 \\end{pmatrix}, \\quad Z = \\begin{pmatrix} 1 & 0 \\\\ 0 & -1 \\end{pmatrix}. \\tag{2}\n",
    "$$\n",
    "\n",
    "For single-qubit system, the Hamiltonian can be expressed via Pauli matrices [3] as:\n",
    "$$\n",
    "H = p_0 I + p_1 X + p_2 Y + p_3 Z, \\tag{3}\n",
    "$$\n",
    "where $p_0$, $p_1$, $p_2$, and $p_3$ are the real coefficients of the Pauli matrices. For $n$-qubit systems, the Hamiltonian might be expressed as a sum of tensor products of Pauli strings $P$:\n",
    "$$\n",
    "H = \\sum_{i=0} p_i \\left (\\bigotimes_{j = 0}^n P_j    \\right), \\tag{4}\n",
    "$$\n",
    "where $p_i$ is the real coefficients of the Pauli matrices, and $P_j, \\; P_j \\in \\{ \\sigma_0, \\sigma_1, \\sigma_2, \\sigma_3 \\}$, is a Pauli matrix on the $j$-th qubit."
   ]
  },
  {
   "cell_type": "markdown",
   "metadata": {},
   "source": [
    "## Construction of Hamiltonian\n",
    "\n",
    "There are four examples: Ising model, XY chain, Random Hamiltonian, and Heisenberg model.\n",
    "\n",
    "- Ising model describes Hamiltonian with two-site interaction and external field:\n",
    "$$\n",
    "\\sum_{i<j} J_{ij}Z_i Z_j + \\sum_{k} h_k X_k \\tag{1}\n",
    "$$\n",
    "where $J_{ij}$ is the coupling strength between sites $i$ and $j$, and $h_k$ is the magnetic field strength at vertex $k$. In QuAirKit, Ising model can be constructed via `ising_hamiltonian`.\n",
    "\n",
    "- XY chain refers to the Hamiltonian:\n",
    "$$\n",
    "\\sum_{ i<j}(J^x_{ij}X_i X_j + J^y_{ij}Y_i Y_j) \\tag{2}\n",
    "$$\n",
    "where $J^x_{ij}$ and $J^y_{ij}$ are the coupling strengths between sites $i$ and $j$. XY model is able to be implemented from `xy_hamiltonian`.\n",
    "\n",
    "- Heisenberg model serves as a good candidate to study the ferromagnetic phase transition:\n",
    "$$\n",
    "\\sum_{i<j}(J^x_{ij}X_i X_j + J^y_{ij}Y_i Y_j + J^z_{ij}Z_i Z_j) \\tag{3}\n",
    "$$\n",
    "where $J^x_{ij}$, $J^y_{ij}$, and $J^z_{ij}$ are the coupling strengths between sites $i$ and $j$. Heisenberg model can be implemented by `heisenberg_hamiltonian`.\n",
    "\n",
    "QuAIRKit also supports random Hamiltonian, with given seed and number of qubits."
   ]
  },
  {
   "cell_type": "code",
   "execution_count": 2,
   "metadata": {},
   "outputs": [
    {
     "name": "stdout",
     "output_type": "stream",
     "text": [
      "The Pauli decomposition of the Hamiltonian for the Ising model is:\n",
      " 0.5 Z0, Z1\n",
      "0.5 Z0, Z2\n",
      "0.5 Z1, Z2\n",
      "0.30000001192092896 X0\n",
      "0.30000001192092896 X1\n",
      "0.30000001192092896 X2\n",
      "----------------------------------------------------------------------------------------------------\n",
      "The Pauli decomposition of the Hamiltonian for the XY chain is:\n",
      " 0.5 X0, X1\n",
      "0.5 Y0, Y1\n",
      "0.5 X0, X2\n",
      "0.5 Y0, Y2\n",
      "0.5 X1, X2\n",
      "0.5 Y1, Y2\n",
      "----------------------------------------------------------------------------------------------------\n",
      "The Pauli decomposition of the Hamiltonian for the Heisenberg model is:\n",
      " 0.5 X0, X1\n",
      "0.5 Y0, Y1\n",
      "0.5 Z0, Z1\n",
      "0.5 X0, X2\n",
      "0.5 Y0, Y2\n",
      "0.5 Z0, Z2\n",
      "0.5 X1, X2\n",
      "0.5 Y1, Y2\n",
      "0.5 Z1, Z2\n",
      "----------------------------------------------------------------------------------------------------\n",
      "The Pauli decomposition of the random Hamiltonian is:\n",
      " 0.8979110061506057 Z0, Z1\n",
      "0.34592743506578594 Z0, Y1, X2\n",
      "0.05319839079740385 X2\n",
      "----------------------------------------------------------------------------------------------------\n"
     ]
    }
   ],
   "source": [
    "num_qubits = 3  # initial setting with 3 qubits\n",
    "split_line = '\\n' + '-' * 100 + '\\n'  # a line of '-' for better readability\n",
    "\n",
    "gamma = torch.ones(num_qubits, num_qubits) * 0.5\n",
    "beta = torch.ones(num_qubits) * 0.3\n",
    "H = ising_hamiltonian(gamma, beta)\n",
    "print(\"The Pauli decomposition of the Hamiltonian for the Ising model is:\\n\", H, end=split_line)\n",
    "\n",
    "gamma = torch.ones(2, num_qubits, num_qubits) * 0.5\n",
    "H = xy_hamiltonian(gamma)\n",
    "print(\"The Pauli decomposition of the Hamiltonian for the XY chain is:\\n\", H, end=split_line)\n",
    "\n",
    "gamma = torch.ones(3, num_qubits, num_qubits) * 0.5\n",
    "H = heisenberg_hamiltonian(gamma)\n",
    "print(\"The Pauli decomposition of the Hamiltonian for the Heisenberg model is:\\n\", H, end=split_line)\n",
    "\n",
    "H = random_hamiltonian_generator(num_qubits)\n",
    "print(\"The Pauli decomposition of the random Hamiltonian is:\\n\", H, end=split_line)"
   ]
  },
  {
   "cell_type": "markdown",
   "metadata": {},
   "source": [
    "Users can customize a Hamiltonian matrix with given coefficients and the corresponding Pauli matrices. "
   ]
  },
  {
   "cell_type": "code",
   "execution_count": 3,
   "metadata": {},
   "outputs": [
    {
     "name": "stdout",
     "output_type": "stream",
     "text": [
      "For given Hamiltonian coefficients, the coresponding Hamiltonian class is:\n",
      " 0.1 X0, Z1\n",
      "0.3 Z1\n",
      "0.5 Z2\n"
     ]
    }
   ],
   "source": [
    "h_list = [[0.1, \"X0,Z1\"], [0.3, \"Z1\"], [0.5, \"Z2\"]]\n",
    "\n",
    "print(\n",
    "    \"For given Hamiltonian coefficients, \"\n",
    "    \"the coresponding Hamiltonian class is:\\n\",\n",
    "    Hamiltonian(h_list),\n",
    ")"
   ]
  },
  {
   "cell_type": "markdown",
   "metadata": {},
   "source": [
    "## Expection value of the Hamiltonian\n",
    "\n",
    "The expectation value of $H$ [1-3] with respect to state $\\vert \\psi\\rangle$ is defined as:\n",
    "\n",
    "$$\n",
    "\\langle H \\rangle := \\langle \\psi \\vert H \\vert \\psi \\rangle, \\tag{4}\n",
    "$$\n",
    "\n",
    "which is also known as the energy of the system. A more general form of expectation value of $H$ considers mixed state $\\rho$:\n",
    "$$\n",
    "\\langle H \\rangle = \\operatorname{tr}(H\\rho). \\tag{5}\n",
    "$$\n",
    "\n",
    "In QuAIRKit, `ExpecVal` or `State.expec_val` calculates the expectation value of $H$."
   ]
  },
  {
   "cell_type": "code",
   "execution_count": 4,
   "metadata": {},
   "outputs": [
    {
     "name": "stdout",
     "output_type": "stream",
     "text": [
      "Expection value of the Hamiltonian: tensor(-0.0039)\n",
      "----------------------------------------------------------------------------------------------------\n",
      "Expection value of the Hamiltonian: tensor(-0.0039)\n"
     ]
    }
   ],
   "source": [
    "rho = random_state(num_qubits)\n",
    "print('Expection value of the Hamiltonian:', rho.expec_val(H), end=split_line)\n",
    "\n",
    "exp_H = ExpecVal(H)\n",
    "print('Expection value of the Hamiltonian:', exp_H(rho))"
   ]
  },
  {
   "cell_type": "markdown",
   "metadata": {},
   "source": [
    "Moreover, for batch state,  batch calculation of the expection value of a Hamiltonian is also provided."
   ]
  },
  {
   "cell_type": "code",
   "execution_count": 5,
   "metadata": {},
   "outputs": [
    {
     "name": "stdout",
     "output_type": "stream",
     "text": [
      "For 1000 random 3-qubit states, a set of Expection value of a given Hamiltonian:\n",
      " tensor([-0.0149,  0.0714,  0.0518, -0.3050, -0.0510, -0.2239,  0.1357, -0.1817,\n",
      "         0.0769,  0.1664])\n",
      "----------------------------------------------------------------------------------------------------\n",
      "For 1000 random 3-qubit states, a set of Expection value of a given Hamiltonian:\n",
      " tensor([-0.0149,  0.0714,  0.0518, -0.3050, -0.0510, -0.2239,  0.1357, -0.1817,\n",
      "         0.0769,  0.1664])\n"
     ]
    }
   ],
   "source": [
    "rho = random_state(num_qubits, size=10)  # 1000 random 3-qubit states\n",
    "\n",
    "print(\n",
    "    \"For 1000 random 3-qubit states, \"\n",
    "    \"a set of Expection value of a given Hamiltonian:\\n\",\n",
    "    rho.expec_val(H),\n",
    "    end=split_line,\n",
    ")\n",
    "# this is equivalent to below code\n",
    "# list_exp_H = []\n",
    "# for i in range(len(rho)):\n",
    "#     list_exp_H.append(rho[i].expec_val(H))\n",
    "# list_exp_H = torch.stack(list_exp_H)\n",
    "\n",
    "exp_H = ExpecVal(H)\n",
    "print(\n",
    "    \"For 1000 random 3-qubit states, \"\n",
    "    \"a set of Expection value of a given Hamiltonian:\\n\",\n",
    "    exp_H(rho),\n",
    ")\n",
    "# this is equivalent to below code\n",
    "# exp_H = ExpecVal(H)\n",
    "# list_exp_H = []\n",
    "# for i in range(len(rho)):\n",
    "#     list_exp_H.append(exp_H(rho[i]))\n",
    "# list_exp_H = torch.stack(list_exp_H)"
   ]
  },
  {
   "cell_type": "markdown",
   "metadata": {},
   "source": [
    "## The Hamiltonian class\n",
    "\n",
    "There are some important properties involving `Hamiltonian` class.\n",
    "\n",
    "- `n_terms`: Number of terms.\n",
    "\n",
    "- `pauli_str`: The Pauli string corresponding to the Hamiltonian.\n",
    "\n",
    "- `coefficients`: The coefficients of the terms in the Hamiltonian.\n",
    "\n",
    "- `matrix `: The matrix form of the Hamiltonian.\n",
    "\n",
    "- `pauli_words`: The Pauli word of each term, i.e. ['ZIZ', 'IIX'].\n",
    "\n",
    "- `n_qubits `: Number of qubits in the Hamiltonian."
   ]
  },
  {
   "cell_type": "code",
   "execution_count": 6,
   "metadata": {},
   "outputs": [
    {
     "name": "stdout",
     "output_type": "stream",
     "text": [
      "The Pauli decomposition of the random Hamiltonian is:\n",
      " 0.8608537228435211 X0\n",
      "-0.07604062649501331 Y0, Z1, X2\n",
      "0.7978893154846145 X0, Y2\n",
      "----------------------------------------------------------------------------------------------------\n",
      "Number of terms: 3\n",
      "----------------------------------------------------------------------------------------------------\n",
      "The Pauli string corresponding to the Hamiltonian:\n",
      " [[0.8608537228435211, 'X0'], [-0.07604062649501331, 'Y0,Z1,X2'], [0.7978893154846145, 'X0,Y2']]\n",
      "----------------------------------------------------------------------------------------------------\n",
      "The coefficients of the terms in the Hamiltonian:\n",
      " [0.8608537228435211, -0.07604062649501331, 0.7978893154846145]\n",
      "----------------------------------------------------------------------------------------------------\n",
      "The matrix form of the Hamiltonian:\n",
      " tensor([[0.0000+0.0000j, 0.0000+0.0000j, 0.0000+0.0000j, 0.0000+0.0000j,\n",
      "         0.8609+0.0000j, 0.0000-0.7218j, 0.0000+0.0000j, 0.0000+0.0000j],\n",
      "        [0.0000+0.0000j, 0.0000+0.0000j, 0.0000+0.0000j, 0.0000+0.0000j,\n",
      "         0.0000+0.8739j, 0.8609+0.0000j, 0.0000+0.0000j, 0.0000+0.0000j],\n",
      "        [0.0000+0.0000j, 0.0000+0.0000j, 0.0000+0.0000j, 0.0000+0.0000j,\n",
      "         0.0000+0.0000j, 0.0000+0.0000j, 0.8609+0.0000j, 0.0000-0.8739j],\n",
      "        [0.0000+0.0000j, 0.0000+0.0000j, 0.0000+0.0000j, 0.0000+0.0000j,\n",
      "         0.0000+0.0000j, 0.0000+0.0000j, 0.0000+0.7218j, 0.8609+0.0000j],\n",
      "        [0.8609+0.0000j, 0.0000-0.8739j, 0.0000+0.0000j, 0.0000+0.0000j,\n",
      "         0.0000+0.0000j, 0.0000+0.0000j, 0.0000+0.0000j, 0.0000+0.0000j],\n",
      "        [0.0000+0.7218j, 0.8609+0.0000j, 0.0000+0.0000j, 0.0000+0.0000j,\n",
      "         0.0000+0.0000j, 0.0000+0.0000j, 0.0000+0.0000j, 0.0000+0.0000j],\n",
      "        [0.0000+0.0000j, 0.0000+0.0000j, 0.8609+0.0000j, 0.0000-0.7218j,\n",
      "         0.0000+0.0000j, 0.0000+0.0000j, 0.0000+0.0000j, 0.0000+0.0000j],\n",
      "        [0.0000+0.0000j, 0.0000+0.0000j, 0.0000+0.8739j, 0.8609+0.0000j,\n",
      "         0.0000+0.0000j, 0.0000+0.0000j, 0.0000+0.0000j, 0.0000+0.0000j]])\n",
      "----------------------------------------------------------------------------------------------------\n",
      "The Pauli word of each term: ['XII', 'YZX', 'XIY']\n",
      "----------------------------------------------------------------------------------------------------\n",
      "Number of qubits in the Hamiltonian: 3\n",
      "----------------------------------------------------------------------------------------------------\n"
     ]
    }
   ],
   "source": [
    "H = random_hamiltonian_generator(num_qubits)\n",
    "print(\"The Pauli decomposition of the random Hamiltonian is:\\n\", H, end=split_line)\n",
    "\n",
    "print('Number of terms:', H.n_terms, end=split_line)\n",
    "\n",
    "print('The Pauli string corresponding to the Hamiltonian:\\n', H.pauli_str, end=split_line)\n",
    "\n",
    "print('The coefficients of the terms in the Hamiltonian:\\n', H.coefficients, end=split_line)\n",
    "\n",
    "print('The matrix form of the Hamiltonian:\\n', H.matrix, end=split_line)\n",
    "\n",
    "print('The Pauli word of each term:', H.pauli_words, end=split_line)\n",
    "\n",
    "print('Number of qubits in the Hamiltonian:', H.n_qubits, end=split_line)"
   ]
  },
  {
   "cell_type": "markdown",
   "metadata": {},
   "source": [
    "---"
   ]
  },
  {
   "cell_type": "markdown",
   "metadata": {},
   "source": [
    "## References\n",
    "[1] Sakurai, J. J., and Jim Napolitano. Modern Quantum Mechanics. 3rd ed. Cambridge: Cambridge University Press, 2020. Print.\n",
    "\n",
    "[2] Griffiths, David J., and Darrell F. Schroeter. Introduction to Quantum Mechanics. 3rd ed. Cambridge: Cambridge University Press, 2018. Print.\n",
    "\n",
    "[3] Nielsen, Michael A., and Isaac L. Chuang. Quantum computation and quantum information. Vol. 2. Cambridge: Cambridge university press, 2001."
   ]
  },
  {
   "cell_type": "markdown",
   "metadata": {},
   "source": [
    "*Table: A reference of notation conventions in this tutorial.*\n",
    "\n",
    "| Symbol        | Variant          | Description                               |\n",
    "|:---------------:|:------------------:|-------------------------------------------|\n",
    "|  $\\hat{H}$ |  |   the Hamiltonian operator|\n",
    "|  $\\hat{T}$ |  |   the kinetic energy operator|\n",
    "|  $\\hat{V}$ |   |   the potential energy operator|\n",
    "| $\\operatorname{tr}$ |   |   trace of a matrix|\n",
    "|  $H$ |   |   the matrix representation of the Hamiltonian|\n",
    "|  $\\lambda$ |  $\\lambda_k$ |   the eigenvalue of the Hamiltonian|\n",
    "|  $d$ |  |   the dimension of the Hilbert space|\n",
    "| $\\vert \\psi \\rangle$ | | quantum pure state|\n",
    "| $\\rho$ |  | quantum state|\n",
    "|  $I$ | $\\sigma_0$ |   Identity matrix|\n",
    "|  $X$, $Y$, $Z$ |  $\\sigma_1$, $\\sigma_2$, $\\sigma_3$ |  Pauli matrices|"
   ]
  },
  {
   "cell_type": "code",
   "execution_count": 7,
   "metadata": {},
   "outputs": [
    {
     "name": "stdout",
     "output_type": "stream",
     "text": [
      "\n",
      "---------VERSION---------\n",
      "quairkit: 0.1.0\n",
      "torch: 2.3.1+cpu\n",
      "numpy: 1.26.0\n",
      "scipy: 1.14.0\n",
      "matplotlib: 3.9.0\n",
      "---------SYSTEM---------\n",
      "Python version: 3.10.14\n",
      "OS: Windows\n",
      "OS version: 10.0.26100\n",
      "---------DEVICE---------\n",
      "CPU: ARMv8 (64-bit) Family 8 Model 1 Revision 201, Qualcomm Technologies Inc\n"
     ]
    }
   ],
   "source": [
    "qkit.print_info()"
   ]
  }
 ],
 "metadata": {
  "kernelspec": {
   "display_name": "quair",
   "language": "python",
   "name": "python3"
  },
  "language_info": {
   "codemirror_mode": {
    "name": "ipython",
    "version": 3
   },
   "file_extension": ".py",
   "mimetype": "text/x-python",
   "name": "python",
   "nbconvert_exporter": "python",
   "pygments_lexer": "ipython3",
   "version": "3.10.14"
  }
 },
 "nbformat": 4,
 "nbformat_minor": 2
}
