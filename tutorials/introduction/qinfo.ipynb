{
 "cells": [
  {
   "cell_type": "markdown",
   "metadata": {},
   "source": [
    "# Quantum information tools\n",
    "\n",
    "This tutorial introduces the `qinfo` module in QuAIRKit. The functions in `quairkit.qinfo` can be categorized into several application areas relevant to quantum computation and quantum information. For quantum computation, there are functions mainly to compute the Kronecker product, conjugate transpose, and trace of matrices. There are also functions associated with quantum gates, such as decomposing a single-qubit unitary operation into rotation angles around the Z and Y axes. For functions related to quantum information theory, this module includes partial trace, quantum entropies, the fidelity of quantum states, various kinds of norms, and so on. Additionally, this module provides data format validation such as verifying whether a matrix is a unitary, density matrix, or a projector. \n",
    "\n",
    "**Table of Contents**\n",
    "- [Functions in quantum computation](#Functions-in-quantum-computation)\n",
    "- [Functions in quantum information](#Functions-in-quantum-information)\n",
    "- [Validation functions](#Validation-functions)\n",
    "- [Compatibility with different data formats](#Compatibility-with-different-data-formats)\n"
   ]
  },
  {
   "cell_type": "code",
   "execution_count": 1,
   "metadata": {},
   "outputs": [],
   "source": [
    "import quairkit as qkit\n",
    "from quairkit import to_state\n",
    "from quairkit.database import *\n",
    "from quairkit.qinfo import *\n",
    "\n",
    "qkit.set_dtype(\"complex128\")"
   ]
  },
  {
   "cell_type": "markdown",
   "metadata": {},
   "source": [
    "## Functions in quantum computation\n",
    "First, initialize two random unitary matrices through a built-in function of QuAIRKit. The matrix A and B are both in *torch.tensor* format."
   ]
  },
  {
   "cell_type": "code",
   "execution_count": 2,
   "metadata": {},
   "outputs": [
    {
     "name": "stdout",
     "output_type": "stream",
     "text": [
      "Matrix A is:\n",
      "tensor([[ 0.1914+0.9269j, -0.2656+0.1834j],\n",
      "        [-0.0108-0.3226j, -0.8587+0.3980j]])\n",
      "\n",
      "Matrix B is:\n",
      "tensor([[ 0.2658-0.4467j,  0.4252+0.7409j],\n",
      "        [ 0.6777-0.5201j, -0.0733-0.5146j]])\n"
     ]
    }
   ],
   "source": [
    "A = random_unitary(num_qubits=1)\n",
    "B = random_unitary(num_qubits=1)\n",
    "print(f\"Matrix A is:\\n{A}\\n\")\n",
    "print(f\"Matrix B is:\\n{B}\")"
   ]
  },
  {
   "cell_type": "markdown",
   "metadata": {},
   "source": [
    "Users can use functions in `qinfo` to implement specific operations on these two matrices.\n",
    "- Calculate the trace of a matrix by `trace`.\n",
    "- Calculate the direct sum of matrix A and B with `direct_sum`. Direct sum is an operation that combines two matrices into a larger matrix where \n",
    "A and B occupy diagonal blocks of the resulting matrix, and the remaining entries are zero.\n",
    "- Calculate the Kronecker products of at least two matrices by `NKron`.\n",
    "- Implement conjugate transpose of a matrix by `dagger`.\n",
    "- Decompose a single-qubit unitary operator into Z-Y-Z rotation angles by `decomp_1qubit`.\n",
    "- ..."
   ]
  },
  {
   "cell_type": "code",
   "execution_count": 3,
   "metadata": {},
   "outputs": [
    {
     "name": "stdout",
     "output_type": "stream",
     "text": [
      "The trace of matrix A is (-0.6672641169304913+1.3249511422386733j)\n",
      "The direct sum of matrix A and B is: \n",
      "tensor([[ 0.1914+0.9269j, -0.2656+0.1834j,  0.0000+0.0000j,  0.0000+0.0000j],\n",
      "        [-0.0108-0.3226j, -0.8587+0.3980j,  0.0000+0.0000j,  0.0000+0.0000j],\n",
      "        [ 0.0000+0.0000j,  0.0000+0.0000j,  0.2658-0.4467j,  0.4252+0.7409j],\n",
      "        [ 0.0000+0.0000j,  0.0000+0.0000j,  0.6777-0.5201j, -0.0733-0.5146j]])\n",
      "\n",
      "The tensor product of matrix A and B is: \n",
      "tensor([[ 0.4650+0.1609j, -0.6054+0.5360j,  0.0113+0.1674j, -0.2488-0.1188j],\n",
      "        [ 0.6118+0.5286j,  0.4630-0.1665j, -0.0846+0.2624j,  0.1139+0.1232j],\n",
      "        [-0.1470-0.0809j,  0.2344-0.1452j, -0.0504+0.4894j, -0.6601-0.4670j],\n",
      "        [-0.1751-0.2130j, -0.1652+0.0292j, -0.3749+0.7164j,  0.2678+0.4127j]])\n",
      "\n",
      "The conjugate transpose of matrix A is: \n",
      "tensor([[ 0.1914-0.9269j, -0.0108+0.3226j],\n",
      "        [-0.2656-0.1834j, -0.8587-0.3980j]])\n",
      "\n",
      "The decomposition of single-qubit unitary operator A to Z-Y-Z rotation angles is (tensor(-2.9713), tensor(0.6573), tensor(4.3117))\n"
     ]
    }
   ],
   "source": [
    "\n",
    "print(f\"The trace of matrix A is {trace(A)}\")\n",
    "\n",
    "print(f\"The direct sum of matrix A and B is: \\n{direct_sum(A,B)}\\n\")\n",
    "\n",
    "print(f\"The tensor product of matrix A and B is: \\n{NKron(A,B)}\\n\")\n",
    "\n",
    "print(f\"The conjugate transpose of matrix A is: \\n{dagger(A)}\\n\")\n",
    "\n",
    "print(f\"The decomposition of single-qubit unitary operator A to Z-Y-Z rotation angles is {decomp_1qubit(A)}\")"
   ]
  },
  {
   "cell_type": "markdown",
   "metadata": {},
   "source": [
    "## Functions in quantum information\n",
    "Users can use functions in `qinfo` to quantify information-theoretic properties of quantum states.\n",
    "- Calculate the von-Neumann entropy of a quantum state by `von_neumann_entropy`.\n",
    "- Calculate the trace distance of two quantum states by `trace_distance`.\n",
    "- Calculate the fidelity of two quantum states by `state_fidelity`.\n",
    "- Calculate the purity of a quantum state by `purity`.\n",
    "- Calculate the relative entropy of two quantum states by `relative_entropy`.\n",
    "- Calculate of Schatten p-norm by `p_norm`.\n",
    "- ..."
   ]
  },
  {
   "cell_type": "code",
   "execution_count": 4,
   "metadata": {},
   "outputs": [
    {
     "name": "stdout",
     "output_type": "stream",
     "text": [
      "The first quantum state is:\n",
      " tensor([[ 0.2684+0.0000j,  0.0092+0.0313j,  0.0341+0.0293j, -0.0813+0.0701j],\n",
      "        [ 0.0092-0.0313j,  0.2159+0.0000j, -0.1825-0.0705j, -0.0018+0.0696j],\n",
      "        [ 0.0341-0.0293j, -0.1825+0.0705j,  0.3833+0.0000j,  0.0972-0.0349j],\n",
      "        [-0.0813-0.0701j, -0.0018-0.0696j,  0.0972+0.0349j,  0.1325+0.0000j]])\n",
      "\n",
      "The second quantum state is:\n",
      " tensor([[-0.0700+0.5420j],\n",
      "        [-0.0039+0.5182j],\n",
      "        [ 0.2417+0.5471j],\n",
      "        [ 0.0225-0.2730j]])\n"
     ]
    }
   ],
   "source": [
    "state1 =  random_state(2).density_matrix\n",
    "print(f\"The first quantum state is:\\n {state1}\\n\")\n",
    "state2 = random_state(2, rank=1).ket\n",
    "print(f\"The second quantum state is:\\n {state2}\")"
   ]
  },
  {
   "cell_type": "code",
   "execution_count": 5,
   "metadata": {},
   "outputs": [
    {
     "name": "stdout",
     "output_type": "stream",
     "text": [
      "The von Neumann entropy between state 1 is:\n",
      "1.4001894880834034\n",
      "torch.float64\n",
      "The trace distance between state 1 and state 2  is:\n",
      "0.8345775362792703\n",
      "The state fidelity between state 1 and state 2 is:\n",
      "0.4385664929761338\n",
      "The purity of state 1 is:\n",
      "0.41984282366044323\n",
      "The relative entropy of state 1 and state 2 is:\n",
      "42.64251394695692\n",
      "The Schatten 2-norm of state 1 is:\n",
      "0.6479527943148662\n"
     ]
    }
   ],
   "source": [
    "entropy = von_neumann_entropy(state1)\n",
    "print(f\"The von Neumann entropy between state 1 is:\\n{entropy}\")\n",
    "\n",
    "traceDistance = trace_distance(state1, state2)\n",
    "print(traceDistance.dtype)\n",
    "print(f\"The trace distance between state 1 and state 2  is:\\n{traceDistance}\")\n",
    "\n",
    "fidelity = state_fidelity(state1, state2)\n",
    "print(f\"The state fidelity between state 1 and state 2 is:\\n{fidelity}\")\n",
    "\n",
    "purity_state = purity(state1)\n",
    "print(f\"The purity of state 1 is:\\n{purity_state}\")\n",
    "\n",
    "r_entropy = relative_entropy(state1, state2)\n",
    "print(f\"The relative entropy of state 1 and state 2 is:\\n{r_entropy}\")\n",
    "\n",
    "p = 2\n",
    "pnorm = p_norm(state1, p)\n",
    "print(f\"The Schatten {p}-norm of state 1 is:\\n{pnorm}\")"
   ]
  },
  {
   "cell_type": "markdown",
   "metadata": {},
   "source": [
    "## Validation functions\n",
    "Users can use validation functions in `qinfo` to check if the matrix satisfies certain conditions.\n",
    "- Check if the input matrix is a positive semi-definite matrix by `is_positive`.\n",
    "- Check if the input quantum state is PPT by `is_ppt`.\n",
    "- Check if the input matrix is unitary by `is_unitary`."
   ]
  },
  {
   "cell_type": "code",
   "execution_count": 6,
   "metadata": {},
   "outputs": [
    {
     "name": "stdout",
     "output_type": "stream",
     "text": [
      "The matrix is a positive matrix: False\n",
      "The matrix is a unitary matrix: True\n",
      "The state 1 is a PPT state: False\n"
     ]
    }
   ],
   "source": [
    "is_positive(A)\n",
    "print(f\"The matrix is a positive matrix: {is_positive(A)}\")\n",
    "\n",
    "is_unitary(A)\n",
    "print(f\"The matrix is a unitary matrix: {is_unitary(A)}\")\n",
    "\n",
    "is_ppt(state1)\n",
    "print(f\"The state 1 is a PPT state: {is_ppt(state1)}\")"
   ]
  },
  {
   "cell_type": "markdown",
   "metadata": {},
   "source": [
    "## Compatibility with different data formats\n",
    "Functions in `qinfo` support different formats of input, including *torch.Tensor*, *numpy.ndarray*, and *State*. The input data format is transformed through `_type_transform`. At the same time, the output format is consistent with the input format in the most situations. For example, the output will be *numpy.ndarray* format if the input is also *numpy.ndarray* format."
   ]
  },
  {
   "cell_type": "code",
   "execution_count": 7,
   "metadata": {},
   "outputs": [
    {
     "name": "stdout",
     "output_type": "stream",
     "text": [
      "State fidelity dtype (torch.tensor): <class 'torch.Tensor'>\n",
      "State fidelity dtype (numpy.ndarray): <class 'numpy.ndarray'>\n",
      "State fidelity dtype (State): <class 'torch.Tensor'>\n"
     ]
    }
   ],
   "source": [
    "# Input with torch.tensor format\n",
    "print(f\"State fidelity dtype (torch.tensor): {type(state_fidelity(state1, state2))}\")\n",
    "\n",
    "# Input with numpy.ndarray format\n",
    "state1_num = state1.numpy()\n",
    "state2_num = state2.numpy()\n",
    "print(f\"State fidelity dtype (numpy.ndarray): {type(state_fidelity(state1_num, state2_num))}\")\n",
    "\n",
    "# Input with State format\n",
    "state1_sta = to_state(state1)\n",
    "state2_sta = to_state(state2)\n",
    "print(f\"State fidelity dtype (State): {type(state_fidelity(state1_sta, state2_sta))}\")\n"
   ]
  },
  {
   "cell_type": "markdown",
   "metadata": {},
   "source": [
    "---"
   ]
  },
  {
   "cell_type": "code",
   "execution_count": 8,
   "metadata": {},
   "outputs": [
    {
     "name": "stdout",
     "output_type": "stream",
     "text": [
      "\n",
      "---------VERSION---------\n",
      "quairkit: 0.1.0\n",
      "torch: 2.3.1+cpu\n",
      "numpy: 1.26.0\n",
      "scipy: 1.14.0\n",
      "matplotlib: 3.9.0\n",
      "---------SYSTEM---------\n",
      "Python version: 3.10.14\n",
      "OS: Windows\n",
      "OS version: 10.0.26100\n",
      "---------DEVICE---------\n",
      "CPU: ARMv8 (64-bit) Family 8 Model 1 Revision 201, Qualcomm Technologies Inc\n"
     ]
    }
   ],
   "source": [
    "qkit.print_info()"
   ]
  }
 ],
 "metadata": {
  "kernelspec": {
   "display_name": "quair",
   "language": "python",
   "name": "python3"
  },
  "language_info": {
   "codemirror_mode": {
    "name": "ipython",
    "version": 3
   },
   "file_extension": ".py",
   "mimetype": "text/x-python",
   "name": "python",
   "nbconvert_exporter": "python",
   "pygments_lexer": "ipython3",
   "version": "3.10.14"
  }
 },
 "nbformat": 4,
 "nbformat_minor": 2
}
