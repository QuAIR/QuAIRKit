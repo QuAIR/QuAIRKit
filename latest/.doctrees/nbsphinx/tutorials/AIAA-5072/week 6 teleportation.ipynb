{
 "cells": [
  {
   "cell_type": "code",
   "execution_count": 1,
   "id": "0f03ee2f",
   "metadata": {},
   "outputs": [],
   "source": [
    "%%bash\n",
    "if ! python -c \"import quairkit\" 2>/dev/null; then\n",
    "    pip install quairkit\n",
    "fi\n",
    "\n",
    "if ! command -v pdftotext &> /dev/null; then\n",
    "    conda install -c conda-forge poppler\n",
    "fi"
   ]
  },
  {
   "cell_type": "markdown",
   "id": "91ca55f5",
   "metadata": {},
   "source": [
    "# Quantum state teleportation\n",
    "\n",
    "<em style=\"color:gray;\">Copyright (c) 2025 QuAIR team. All Rights Reserved.</em>\n",
    "\n",
    "This tutorial introduces **Quantum State Teleportation**, a fundamental protocol in quantum information science. We will cover the theoretical foundations and motivations behind quantum teleportation, examine its mathematical formulation, and implement it using **QuAIRKit**.\n",
    "\n",
    "**Table of Contents**\n",
    "\n",
    "- [Introduction](#introduction)\n",
    "  - [Background](#background)  \n",
    "  - [Motivation](#motivation)  \n",
    "- [Single Qubit Teleportation](#single-qubit-teleportation)\n",
    "  - [Mathematical Proof](#mathematical-proof-of-teleportation)\n",
    "  - [QuAIRKit Implementation](#quairkit-implementation)\n",
    "- [Summary](#summary)"
   ]
  },
  {
   "cell_type": "code",
   "execution_count": 2,
   "id": "987ae779",
   "metadata": {},
   "outputs": [],
   "source": [
    "import torch\n",
    "import quairkit as qkit\n",
    "from quairkit import Circuit\n",
    "from quairkit.database import *\n",
    "from quairkit.operator import *\n",
    "from quairkit.qinfo import *\n",
    "\n",
    "qkit.set_dtype('complex128')"
   ]
  },
  {
   "cell_type": "markdown",
   "id": "d250d5f3",
   "metadata": {},
   "source": [
    "## Introduction\n",
    "\n",
    "### Background\n",
    "\n",
    "Quantum state teleportation is a process whereby the quantum information of a particle is transferred from one location (the sender, \"Alice\") to another (the receiver, \"Bob\"), without physically transmitting the particle itself[1]. First proposed by Bennett *et al.* in 1993[2], this protocol has become a cornerstone of quantum information science. Unlike classical information transfer, quantum teleportation transmits the complete quantum state while the original state is necessarily destroyed in the process.\n",
    "\n",
    "The quantum teleportation protocol relies on several essential components that work together to transfer quantum states.\n",
    "\n",
    "The quantum circuit shown below provides a schematic representation of the quantum teleportation protocol[1].\n",
    "\n",
    "<figure style=\"text-align: center;\">\n",
    "  <img src=\"figures/teleportation_circuit.png\" alt=\"alt text\"/>\n",
    "  <figcaption>Quantum Teleportation Circuit. </figcaption>\n",
    "</figure>\n",
    "\n",
    "In this circuit, the two upper lines represent Alice's system, while the bottom line represents Bob's system. The meters denote measurements, and the double lines represent classical communication channels carrying classical bits (recall that single lines denote qubits)."
   ]
  },
  {
   "cell_type": "markdown",
   "id": "fc3781a2",
   "metadata": {},
   "source": [
    "First, **entanglement** is established between two quantum systems (for example, qubits) by preparing them in a maximally entangled Bell state, such as\n",
    "$$\n",
    "|\\Phi^+\\rangle = \\frac{1}{\\sqrt{2}} \\, (|00\\rangle + |11\\rangle).\\tag{1}\n",
    "$$\n",
    "This is one of the four Bell states, with the other three being:\n",
    "$$\n",
    "\\begin{align}\n",
    "|\\Phi^-\\rangle &= \\frac{1}{\\sqrt{2}} \\, (|00\\rangle - |11\\rangle)\\tag{2}\\\\\n",
    "|\\Psi^+\\rangle &= \\frac{1}{\\sqrt{2}} \\, (|01\\rangle + |10\\rangle)\\tag{3}\\\\\n",
    "|\\Psi^-\\rangle &= \\frac{1}{\\sqrt{2}} \\, (|01\\rangle - |10\\rangle)\\tag{4}\n",
    "\\end{align}\n",
    "$$\n",
    "This shared entangled pair is distributed between Alice and Bob, creating a quantum channel that connects them. Next, Alice takes the unknown quantum state she wants to teleport, namely\n",
    "$$\n",
    "|\\psi\\rangle = \\alpha|0\\rangle + \\beta|1\\rangle,\\tag{5}\n",
    "$$\n",
    "and performs a **Bell-state measurement (BSM)** on this state combined with her half of the entangled pair. A BSM is a joint measurement that projects two qubits onto one of the four maximally entangled Bell states defined above. This measurement essentially \"compares\" the unknown state with Alice's entangled qubit, encoding their relationship into a two-bit classical result (00, 01, 10, or 11 corresponding to which Bell state was measured). Although the outcome is random, it encodes the precise transformation that Bob needs to apply to recover the original state.\n",
    "After the measurement, Alice sends the two classical bits—which represent her measurement result—to Bob via a classical communication channel. Finally, Bob uses these bits to perform a conditional unitary transformation (which might be the identity, a bit-flip $X$, a phase-flip $Z$, or both $XZ$) on his half of the entangled pair. This corrects the state of Bob's qubit, reconstructing exactly the state $|\\psi\\rangle$ that Alice intended to send.\n",
    "In summary, the protocol involves:\n",
    "- **Pre-sharing entanglement:** Alice and Bob share a Bell state.\n",
    "- **Measurement and Communication:** Alice performs a Bell measurement on her unknown qubit $|\\psi\\rangle$ and her entangled qubit, then sends the two classical bits (the measurement outcome) to Bob.\n",
    "- **State Reconstruction:** Bob applies the corresponding unitary operation to his qubit so that it assumes the state $|\\psi\\rangle$."
   ]
  },
  {
   "cell_type": "markdown",
   "id": "cc62152c",
   "metadata": {},
   "source": [
    "### Motivation\n",
    "\n",
    "Quantum teleportation serves as both a cornerstone for practical implementations—such as long-distance quantum communication and distributed quantum computing—and as an indispensable theoretical tool for simplifying and characterizing complex adaptive protocols. By exploiting entanglement and classical communication, teleportation enables the mapping of arbitrary quantum channels into simplified forms, facilitating the analysis of quantum communication protocols.\n",
    "\n",
    "Beyond communication, quantum teleportation has become a foundational resource in quantum metrology, channel discrimination, and resource theories of quantum processors. The protocol not only facilitates operational tasks but also provides deep insight into diverse physical phenomena, from quantum catalysis and decoherence to direct wavefunction measurement and macroscopic quantum effects, thereby highlighting its dual role as both a practical protocol and a lens through which the subtleties of quantum mechanics can be explored."
   ]
  },
  {
   "cell_type": "markdown",
   "id": "cd32837c",
   "metadata": {},
   "source": [
    "## Single Qubit Teleportation\n",
    "\n",
    "### Mathematical Proof of Teleportation\n",
    "In this section, we provide a detailed mathematical derivation of the quantum teleportation protocol. We demonstrate step-by-step how an unknown single-qubit state can be transmitted from Alice to Bob using one Bell pair and two classical bits. \n",
    "\n",
    "Our task is to teleport an **unknown** single-qubit state  \n",
    "$$\n",
    "|\\psi\\rangle = \\alpha\\,|0\\rangle + \\beta\\,|1\\rangle,\\tag{6}\n",
    "$$  \n",
    "with $\\alpha,\\beta\\in\\mathbb{C}$ and $|\\alpha|^2 + |\\beta|^2 = 1$.\n",
    "\n",
    "1. **Initial state**  \n",
    "   Alice holds $|\\psi\\rangle$ (qubit 0) and one half of a Bell pair; Bob holds the other half (qubit 2). The total three-qubit state is  \n",
    "   $$\n",
    "   |\\psi_0\\rangle\n",
    "   = |\\psi\\rangle \\,\\bigl|\\beta_{00}\\bigr\\rangle\n",
    "   = \\frac{1}{\\sqrt 2}\\bigl[\\alpha\\,|0\\rangle(|00\\rangle+|11\\rangle)\n",
    "   + \\beta\\,|1\\rangle(|00\\rangle+|11\\rangle)\\bigr].\\tag{7}\n",
    "   $$\n",
    "\n",
    "\n",
    "2. **Apply CNOT** (control = qubit 0, target = qubit 1):  \n",
    "   $$\n",
    "   |\\psi_1\\rangle\n",
    "   = \\frac{1}{\\sqrt 2}\\bigl[\\alpha\\,|0\\rangle(|00\\rangle+|11\\rangle)\n",
    "   + \\beta\\,|1\\rangle(|10\\rangle+|01\\rangle)\\bigr].\\tag{8}\n",
    "   $$\n",
    "\n",
    "3. **Apply Hadamard** on qubit 0:  \n",
    "   $$\n",
    "   |\\psi_2\\rangle\n",
    "   = \\frac{1}{2}\\Bigl[\\alpha\\,(|0\\rangle+ |1\\rangle)(|00\\rangle+|11\\rangle)\n",
    "   + \\beta\\,(|0\\rangle- |1\\rangle)(|10\\rangle+|01\\rangle)\\Bigr].\\tag{9}\n",
    "   $$  \n",
    "\n",
    "   Expand and regroup:\n",
    "   $$\n",
    "   \\begin{aligned}\n",
    "   |\\psi_2\\rangle = \\tfrac12\\Bigl[\\, &|00\\rangle(\\alpha|0\\rangle+\\beta|1\\rangle)\n",
    "   +|01\\rangle(\\alpha|1\\rangle+\\beta|0\\rangle)\\\\\n",
    "   +&|10\\rangle(\\alpha|0\\rangle-\\beta|1\\rangle)\n",
    "   +|11\\rangle(\\alpha|1\\rangle-\\beta|0\\rangle)\\Bigr].\n",
    "   \\end{aligned}\n",
    "   $$\n",
    "\n",
    "4. **Bell-state measurement**  \n",
    "   Alice uses bell bases measures her two qubits, and gets the measurement outcomes (00, 01, 10, 11). Conditional on the outcome $m_1m_2$, Bob's qubit collapses to  \n",
    "   $$\n",
    "   \\begin{aligned}\n",
    "   00 &\\longmapsto\\;[\\alpha|0\\rangle+\\beta|1\\rangle],\\\\\n",
    "   01 &\\longmapsto\\;[\\alpha|1\\rangle+\\beta|0\\rangle] = X\\,|\\psi\\rangle,\\\\\n",
    "   10 &\\longmapsto\\;[\\alpha|0\\rangle-\\beta|1\\rangle] = Z\\,|\\psi\\rangle,\\\\\n",
    "   11 &\\longmapsto\\;[\\alpha|1\\rangle-\\beta|0\\rangle] = XZ\\,|\\psi\\rangle.\n",
    "   \\end{aligned}\n",
    "   $$\n",
    "\n",
    "5. **Classical communication**: Alice sends $(m_1,m_2)$ to Bob.  \n",
    "6. **Reconstruction** : Bob applies $Z^{m_1}X^{m_2}$ to recover  \n",
    "   $$\n",
    "   Z^{m_1}X^{m_2}\\bigl[\\dots\\bigl] = \\alpha|0\\rangle+\\beta|1\\rangle = |\\psi\\rangle.\\tag{10}\n",
    "   $$\n",
    "\n",
    "This completes the proof that an *unknown* qubit state can be faithfully transmitted using one Bell pair and two classical bits."
   ]
  },
  {
   "cell_type": "markdown",
   "id": "7cbed1ae",
   "metadata": {},
   "source": [
    "### QuAIRKit Implementation\n",
    "\n",
    "Below is a step-by-step QuAIRKit implementation that mirrors the above mathematical proof.\n",
    "\n",
    "We begin by creating a random quantum state and combining it with a Bell state to prepare the input state. In this example, we choose a batch size of 100 for the input states."
   ]
  },
  {
   "cell_type": "code",
   "execution_count": 3,
   "id": "8c61cbd6",
   "metadata": {},
   "outputs": [],
   "source": [
    "psi = random_state(1, size=100)\n",
    "input_state = nkron(psi, bell_state(2))"
   ]
  },
  {
   "cell_type": "markdown",
   "id": "b2323171",
   "metadata": {},
   "source": [
    "Next, we prepare the one-way LOCC controlled gates on Bob's side: an identity stack combined with X and Z gates."
   ]
  },
  {
   "cell_type": "code",
   "execution_count": 4,
   "id": "9860927b",
   "metadata": {},
   "outputs": [],
   "source": [
    "M1_locc = torch.stack([eye(), x()])\n",
    "M2_locc = torch.stack([eye(), z()])"
   ]
  },
  {
   "cell_type": "markdown",
   "id": "38f004c5",
   "metadata": {},
   "source": [
    "With the gate stacks ready, we construct the 3‑qubit circuit. We apply CNOT and Hadamard gates at the appropriate positions, then use the `locc` function to associate the stacked gates with measurement results and target qubits.\n",
    "\n",
    "The usage of `Circuit.locc` is as follows:\n",
    "\n",
    "- **First argument**: A stack of operators, i.e., a list of quantum operations (such as gates or measurements) that will be applied in sequence on the circuit.\n",
    "\n",
    "- **Second argument**: Two arrays of integer indices  \n",
    "  - The first array specifies which qubit positions serve as control qubits.  \n",
    "  - The second array specifies which qubit positions serve as target (or \"controlled\") qubits.\n",
    "\n",
    "- **Third argument**:  \n",
    "  - `label=` gives a name to the measurement.  \n",
    "  - `latex_name=` specifies name of the controlled gate.\n",
    "\n",
    "For example, consider a set of measurement operators $\\{\\mathcal{M}_x\\}$. Conditioned on the outcome $x$, one applies the operator $\\mathcal{N}^{(x)}$. The overall quantum channel can then be expressed as\n",
    "\n",
    "$$\n",
    "\\mathcal{N} = \\sum_x \\mathcal{M}_x \\otimes \\mathcal{N}^{(x)},\\tag{11}\n",
    "$$\n",
    "\n",
    "where each $\\mathcal{N}^{(x)}$ is a CPTP map acting on the appropriate subsystem, and $\\sum_x \\mathcal{M}_x$ is itself a CPTP map on the measured subsystem. In order to implement this in `Circuit.locc`, one stacks all of the operators $\\mathcal{N}^{(x)}$ (in ascending order of $x$) as the first argument; uses `label=` to name the measurement $\\mathcal{M}_x$; and specifies the name $N^{(x)}$ in `latex_name=`."
   ]
  },
  {
   "cell_type": "code",
   "execution_count": 5,
   "id": "7833dc7a",
   "metadata": {},
   "outputs": [],
   "source": [
    "cir = Circuit(3)\n",
    "cir.cnot([0, 1])\n",
    "cir.h(0)\n",
    "\n",
    "cir.locc(M1_locc, [1, 2], label='M_2', latex_name='X')\n",
    "cir.locc(M2_locc, [0, 2], label='M_1', latex_name='Z')"
   ]
  },
  {
   "cell_type": "markdown",
   "id": "ac3e9b93",
   "metadata": {},
   "source": [
    "We can visualize the circuit as follows:"
   ]
  },
  {
   "cell_type": "code",
   "execution_count": 6,
   "id": "11a81702",
   "metadata": {},
   "outputs": [
    {
     "data": {
      "image/png": "[encoded data removed]",
      "text/plain": [
       "<IPython.core.display.Image object>"
      ]
     },
     "metadata": {},
     "output_type": "display_data"
    }
   ],
   "source": [
    "cir.plot()"
   ]
  },
  {
   "cell_type": "markdown",
   "id": "7c989d7b",
   "metadata": {},
   "source": [
    "After running the teleportation circuit, there are 4 measurement branches per input state (one for each combination of Alice's two classical bits), so we have 100 × 4 = 400 output states."
   ]
  },
  {
   "cell_type": "code",
   "execution_count": 7,
   "id": "af42a61b",
   "metadata": {},
   "outputs": [],
   "source": [
    "output_state = cir(input_state).trace([0, 1])"
   ]
  },
  {
   "cell_type": "markdown",
   "id": "3ab867c9",
   "metadata": {},
   "source": [
    "We then use the `expec_state` attribute to collapse those 400 conditioned states back into a batch of 100 \"expected\" states.\n",
    "\n",
    "Finally, we compare the teleported state with the original state by computing the minimum fidelity across the four possible measurement outcomes."
   ]
  },
  {
   "cell_type": "code",
   "execution_count": 8,
   "id": "39ebf08d",
   "metadata": {},
   "outputs": [
    {
     "name": "stdout",
     "output_type": "stream",
     "text": [
      "The average fidelity of the qubit teleportation protocol on all outcomes and 100 random states is: 1.0000000028853822\n"
     ]
    }
   ],
   "source": [
    "result = state_fidelity(output_state.expec_state(), psi)\n",
    "print(\"The average fidelity of the qubit teleportation protocol on all outcomes and 100 random states is:\", result.mean().item())"
   ]
  },
  {
   "cell_type": "markdown",
   "id": "e911e538",
   "metadata": {},
   "source": [
    "## Summary\n",
    "\n",
    "This tutorial demonstrated quantum teleportation through mathematical proof and practical implementation. We showed how an unknown quantum state can be transmitted using one Bell pair and two classical bits, with the key insight being that entanglement enables the transfer of quantum information without physically moving the qubit itself. The QuAIRKit implementation validated this protocol by successfully teleporting random quantum states with high fidelity."
   ]
  },
  {
   "cell_type": "markdown",
   "id": "728f5a28",
   "metadata": {},
   "source": [
    "---"
   ]
  },
  {
   "cell_type": "markdown",
   "id": "1a2eff31",
   "metadata": {},
   "source": [
    "## References\n",
    "\n",
    "[1] Nielsen, Michael A., and Isaac L. Chuang. Quantum computation and quantum information. Cambridge university press, 2010.\n",
    "\n",
    "[2] Bennett, Charles H., et al. \"Teleporting an unknown quantum state via dual classical and Einstein-Podolsky-Rosen channels.\" Physical review letters 70.13 (1993): 1895."
   ]
  },
  {
   "cell_type": "markdown",
   "id": "55551f45",
   "metadata": {},
   "source": [
    "*Table: A reference of notation conventions in this tutorial.*\n",
    "\n",
    "| Symbol                                      | Description                                                                                     |\n",
    "|:--------------------------------------------:|:---------------------------------------------------------------|\n",
    "| $\\ket{\\Phi^+}$        | A maximally entangled Bell state: $\\tfrac1{\\sqrt2}(\\ket{00} + \\ket{11})$                       |\n",
    "| $\\ket{\\psi}$          | The unknown quantum state to be teleported                                                      |\n",
    "| $\\alpha, \\beta$       | Complex amplitudes of the quantum state                                                         |\n",
    "| $X, Y, Z$             | Pauli matrices                                                                  |\n",
    "| $\\mathcal{M}_x$       | Measurement operator                                                            |\n",
    "| $m_1, m_2$            | Alice's measurement outcomes (classical bits)                                                   |\n",
    "| $\\rho$                | Density matrix of a quantum state                                                              |"
   ]
  }
 ],
 "metadata": {
  "kernelspec": {
   "display_name": "api",
   "language": "python",
   "name": "python3"
  },
  "language_info": {
   "codemirror_mode": {
    "name": "ipython",
    "version": 3
   },
   "file_extension": ".py",
   "mimetype": "text/x-python",
   "name": "python",
   "nbconvert_exporter": "python",
   "pygments_lexer": "ipython3",
   "version": "3.10.18"
  }
 },
 "nbformat": 4,
 "nbformat_minor": 5
}
