{
 "cells": [
  {
   "cell_type": "markdown",
   "metadata": {},
   "source": [
    "# Manipulation of quantum states in QuAIRKit\n",
    "\n",
    "A pure quantum state is a unit vector in a Hilbert space $\\mathcal{H}$. A mixed quantum state could be described by a density matrix $\\rho$, which is a Hermitian, positive semi-definite matrix with unit trace. Concretely, pure states are of the form $|\\psi \\rangle \\langle \\psi |$ where $|\\psi \\rangle \\in \\mathcal{H}$ is a normalized vector. Mixed state is the convex combination of the pure states $\\sum_{x \\in \\mathcal{X}}p(x)|\\psi_x \\rangle \\langle \\psi_x |$ for some set $\\{|\\psi_x \\rangle\\}_{x \\in \\mathcal{X}}$ of state vectors defined with respect to a finite alphabet $\\mathcal{X}$, where $p: \\mathcal{X} \\rightarrow [0, 1]$ is a probability distribution. The `State` class in QuairKit supports operations related to quantum states, mainly including the preparation of quantum states and operations on them.\n",
    "\n",
    "**Table of Contents**\n",
    "\n",
    "- [Preparation of states](#Preparation-of-states)\n",
    "- [Information of a State instance](#Information-of-a-State-instance)\n",
    "- [Manipulation of states](#Manipulation-of-states)\n",
    "- [Interaction with environments](#Interaction-with-environments)"
   ]
  },
  {
   "cell_type": "code",
   "execution_count": 1,
   "metadata": {},
   "outputs": [],
   "source": [
    "import torch\n",
    "\n",
    "import quairkit as qkit\n",
    "from quairkit import Hamiltonian, to_state\n",
    "from quairkit.qinfo import *\n",
    "from quairkit.database import *"
   ]
  },
  {
   "cell_type": "markdown",
   "metadata": {},
   "source": [
    "## Preparation of states\n",
    "\n",
    "In QuAIRKit, states are prepared in several ways. For some commonly-used states, they are available in QuAIRKit database:\n"
   ]
  },
  {
   "cell_type": "code",
   "execution_count": 2,
   "metadata": {},
   "outputs": [
    {
     "name": "stdout",
     "output_type": "stream",
     "text": [
      "zero states with 2 qubits: \n",
      "-----------------------------------------------------\n",
      " Backend: state_vector\n",
      " System dimension: [2, 2]\n",
      " System sequence: [0, 1]\n",
      "[1.+0.j 0.+0.j 0.+0.j 0.+0.j]\n",
      "-----------------------------------------------------\n",
      "\n",
      "Bell states: \n",
      "-----------------------------------------------------\n",
      " Backend: state_vector\n",
      " System dimension: [2, 2]\n",
      " System sequence: [0, 1]\n",
      "[0.71+0.j 0.  +0.j 0.  +0.j 0.71+0.j]\n",
      "-----------------------------------------------------\n",
      "\n",
      "isotropic state: \n",
      "-----------------------------------------------------\n",
      " Backend: density_matrix\n",
      " System dimension: [2, 2]\n",
      " System sequence: [0, 1]\n",
      "[[0.27+0.j 0.  +0.j 0.  +0.j 0.05+0.j]\n",
      " [0.  +0.j 0.22+0.j 0.  +0.j 0.  +0.j]\n",
      " [0.  +0.j 0.  +0.j 0.22+0.j 0.  +0.j]\n",
      " [0.05+0.j 0.  +0.j 0.  +0.j 0.27+0.j]]\n",
      "-----------------------------------------------------\n",
      "\n"
     ]
    }
   ],
   "source": [
    "num_qubits = 2  # set the number of qubits\n",
    "\n",
    "state = zero_state(num_qubits)  # |00>\n",
    "print(f\"zero states with 2 qubits: {state}\")\n",
    "\n",
    "state = bell_state(num_qubits)  # (|00> + |11>) / sqrt(2)\n",
    "print(f\"Bell states: {state}\")\n",
    "\n",
    "state = isotropic_state(num_qubits, prob=0.1)  # isotropic state\n",
    "print(f\"isotropic state: {state}\")"
   ]
  },
  {
   "cell_type": "markdown",
   "metadata": {},
   "source": [
    "Users can also prepare a random state, with desirable size and rank. Additionally, by setting `is_real=True` one can restrict the random state within the real space."
   ]
  },
  {
   "cell_type": "code",
   "execution_count": 3,
   "metadata": {},
   "outputs": [],
   "source": [
    "state = random_state(num_qubits, rank=1)  # random 2-qubit pure state\n",
    "state = random_state(num_qubits, is_real=True)  # random 2-qubit real state\n",
    "state = random_state(num_qubits, size=1000)  # 1000 random 2-qubit states"
   ]
  },
  {
   "cell_type": "markdown",
   "metadata": {},
   "source": [
    "Another way of preparing a quantum state uses the function `to_state`. `to_state` converts a *torch.Tensor* or a *numpy.ndarray* data type to a `State` instance. Allowed shapes of the input tensor are listed in the following table. Based on the input data, the state will be represented differently. If the input is a vector, the state will be represented by a state vector, whereas if the input is a density matrix, the state will be adapted to a density matrix. The type can be checked by the `state.backend`.\n",
    "\n",
    "|                | single  state       | batch  states       |\n",
    "|----------------|:---------------------:|:---------------------:|\n",
    "| state vector   | [d], [1, d], [d, 1] | [d1, ..., dn, d, 1] |\n",
    "| density matrix | [d, d]              | [d1, ..., dn, d, d] |"
   ]
  },
  {
   "cell_type": "code",
   "execution_count": 4,
   "metadata": {},
   "outputs": [
    {
     "name": "stdout",
     "output_type": "stream",
     "text": [
      "A state vector with 2 qubits following Haar random\n",
      "-----------------------------------------------------\n",
      " Backend: state_vector\n",
      " System dimension: [2]\n",
      " System sequence: [0]\n",
      "[-0.26-0.11j  0.74+0.61j]\n",
      "-----------------------------------------------------\n",
      "\n",
      "type of the state: density_matrix\n"
     ]
    }
   ],
   "source": [
    "data = haar_state_vector(\n",
    "    num_qubits\n",
    ")  # randomly generate a state vector with 2 qubits following Haar random\n",
    "state = to_state(data)\n",
    "print(f\"A state vector with 2 qubits following Haar random{state}\")\n",
    "\n",
    "data = random_density_matrix(num_qubits)  # random 2-qubit density matrix\n",
    "state = to_state(data)\n",
    "print(f\"type of the state: {state.backend}\")"
   ]
  },
  {
   "cell_type": "markdown",
   "metadata": {},
   "source": [
    "## Information of a State instance\n",
    "The information of a `State` instance is provided as follows. Three random generated single-qubit states $\\{ |\\psi_j\\rangle \\}_{j=1}^3$ are taken as examples."
   ]
  },
  {
   "cell_type": "code",
   "execution_count": 5,
   "metadata": {},
   "outputs": [
    {
     "name": "stdout",
     "output_type": "stream",
     "text": [
      "3 random single-qubit pure states: \n",
      "-----------------------------------------------------\n",
      " Backend: state_vector\n",
      " System dimension: [2]\n",
      " System sequence: [0]\n",
      " Batch size: [3]\n",
      "\n",
      " # 0:\n",
      "[0.94+0.11j 0.15+0.27j]\n",
      " # 1:\n",
      "[-0.59-0.44j -0.57-0.37j]\n",
      " # 2:\n",
      "[0.42-0.16j 0.88-0.16j]\n",
      "-----------------------------------------------------\n",
      "\n"
     ]
    }
   ],
   "source": [
    "state = random_state(num_qubits=1, rank=1, size=3)  # 3 random single-qubit pure states\n",
    "print(f\"3 random single-qubit pure states: {state}\")"
   ]
  },
  {
   "cell_type": "markdown",
   "metadata": {},
   "source": [
    "One can obtain the ket $\\{ |\\psi_j\\rangle \\}_{j=1}^3$, bra $\\{ \\langle\\psi_j| \\}_{j=1}^3$ and the density matrix $\\{ |\\psi_j\\rangle\\langle\\psi_j| \\}_{j=1}^3$ of these states. (Note that ket and bra forms are only available for pure states.)"
   ]
  },
  {
   "cell_type": "code",
   "execution_count": 6,
   "metadata": {},
   "outputs": [
    {
     "name": "stdout",
     "output_type": "stream",
     "text": [
      "Its density matrix is :\n",
      " tensor([[[0.9029+0.0000j, 0.1728-0.2404j],\n",
      "         [0.1728+0.2404j, 0.0971+0.0000j]],\n",
      "\n",
      "        [[0.5393+0.0000j, 0.4976+0.0298j],\n",
      "         [0.4976-0.0298j, 0.4607+0.0000j]],\n",
      "\n",
      "        [[0.1976+0.0000j, 0.3922-0.0685j],\n",
      "         [0.3922+0.0685j, 0.8024+0.0000j]]])\n",
      "\n",
      "Its ket is :\n",
      " tensor([[[ 0.9436+0.1123j],\n",
      "         [ 0.1506+0.2727j]],\n",
      "\n",
      "        [[-0.5900-0.4373j],\n",
      "         [-0.5685-0.3708j]],\n",
      "\n",
      "        [[ 0.4164-0.1556j],\n",
      "         [ 0.8806-0.1645j]]])\n",
      "\n",
      "Its bra is :\n",
      " tensor([[[ 0.9436-0.1123j,  0.1506-0.2727j]],\n",
      "\n",
      "        [[-0.5900+0.4373j, -0.5685+0.3708j]],\n",
      "\n",
      "        [[ 0.4164+0.1556j,  0.8806+0.1645j]]])\n"
     ]
    }
   ],
   "source": [
    "print(\"Its density matrix is :\\n\", state.density_matrix)\n",
    "print(\"\\nIts ket is :\\n\", state.ket)\n",
    "print(\"\\nIts bra is :\\n\", state.bra)"
   ]
  },
  {
   "cell_type": "markdown",
   "metadata": {},
   "source": [
    "We can also use the method `numpy()` to output *numpy.ndarray* type data for `State`."
   ]
  },
  {
   "cell_type": "code",
   "execution_count": 7,
   "metadata": {},
   "outputs": [
    {
     "name": "stdout",
     "output_type": "stream",
     "text": [
      "\n",
      "The state is :\n",
      " [[ 0.9435761 +0.11229491j  0.15063664+0.27269506j]\n",
      " [-0.5899563 -0.4373287j  -0.5684789 -0.3708463j ]\n",
      " [ 0.41636243-0.1555816j   0.8805542 -0.16450219j]]\n"
     ]
    }
   ],
   "source": [
    "print(\"\\nThe state is :\\n\", state.numpy())"
   ]
  },
  {
   "cell_type": "markdown",
   "metadata": {},
   "source": [
    "Other useful information can be read via `State` object."
   ]
  },
  {
   "cell_type": "code",
   "execution_count": 8,
   "metadata": {},
   "outputs": [
    {
     "name": "stdout",
     "output_type": "stream",
     "text": [
      "The trace of these states are tensor([1.+0.j, 1.+0.j, 1.+0.j])\n",
      "The rank of these states are 1\n",
      "The size of these states are 2\n",
      "The shape of vectorization of these states are torch.Size([3, 4, 1])\n"
     ]
    }
   ],
   "source": [
    "print(\"The trace of these states are\", state.trace())\n",
    "print(\"The rank of these states are\", state.rank)\n",
    "print(\"The size of these states are\", state.dim)\n",
    "print(\"The shape of vectorization of these states are\", state.vec.shape)"
   ]
  },
  {
   "cell_type": "code",
   "execution_count": 9,
   "metadata": {},
   "outputs": [
    {
     "name": "stdout",
     "output_type": "stream",
     "text": [
      "The number of systems in these states are 1\n",
      "Are these states qubits? True\n",
      "Are these states qutrits? False\n"
     ]
    }
   ],
   "source": [
    "print(\"The number of systems in these states are\", state.num_systems)\n",
    "print(\"Are these states qubits?\", state.are_qubits())\n",
    "print(\"Are these states qutrits?\", state.are_qutrits())"
   ]
  },
  {
   "cell_type": "markdown",
   "metadata": {},
   "source": [
    "`State` instance supports direct indexing, returning the $i$-th state in the batch."
   ]
  },
  {
   "cell_type": "code",
   "execution_count": 10,
   "metadata": {},
   "outputs": [
    {
     "name": "stdout",
     "output_type": "stream",
     "text": [
      "the second and third state in the batch: \n",
      "-----------------------------------------------------\n",
      " Backend: state_vector\n",
      " System dimension: [2]\n",
      " System sequence: [0]\n",
      " Batch size: [2]\n",
      "\n",
      " # 0:\n",
      "[-0.59-0.44j -0.57-0.37j]\n",
      " # 1:\n",
      "[0.42-0.16j 0.88-0.16j]\n",
      "-----------------------------------------------------\n",
      "\n"
     ]
    }
   ],
   "source": [
    "print(f\"the second and third state in the batch: {state[1:]}\")"
   ]
  },
  {
   "cell_type": "markdown",
   "metadata": {},
   "source": [
    "## Manipulation of states\n",
    "\n",
    "Matrix multiplication is implemented via `@`, which makes calculating the inner product of two pure states $\\langle \\psi | \\phi \\rangle$ easily."
   ]
  },
  {
   "cell_type": "code",
   "execution_count": 11,
   "metadata": {},
   "outputs": [
    {
     "name": "stdout",
     "output_type": "stream",
     "text": [
      "matrix multiplication:\n",
      "tensor([[0.1567+0.0000j, 0.2268-0.2841j],\n",
      "        [0.0000+0.0000j, 0.0000+0.0000j]])\n",
      "The overlap of state_1 and state_2 is : tensor(0.1567+0.j)\n"
     ]
    }
   ],
   "source": [
    "state_1 = zero_state(num_qubits=1).density_matrix\n",
    "data = random_density_matrix(num_qubits=1)\n",
    "state_2 = to_state(data).density_matrix\n",
    "print(f\"matrix multiplication:\\n{state_1 @ state_2}\")\n",
    "print(\"The overlap of state_1 and state_2 is :\", trace(state_1 @ state_2))"
   ]
  },
  {
   "cell_type": "markdown",
   "metadata": {},
   "source": [
    "User can also use `NKron` to obtain the tensor product $\\rho \\otimes \\sigma$ of the two quantum states $\\rho$ and $\\sigma$.\n"
   ]
  },
  {
   "cell_type": "code",
   "execution_count": 12,
   "metadata": {},
   "outputs": [
    {
     "name": "stdout",
     "output_type": "stream",
     "text": [
      "tensor product:\n",
      "tensor([[0.1567+0.0000j, 0.2268-0.2841j, 0.0000+0.0000j, 0.0000+0.0000j],\n",
      "        [0.2268+0.2841j, 0.8433+0.0000j, 0.0000+0.0000j, 0.0000+0.0000j],\n",
      "        [0.0000+0.0000j, 0.0000+0.0000j, 0.0000+0.0000j, 0.0000+0.0000j],\n",
      "        [0.0000+0.0000j, 0.0000+0.0000j, 0.0000+0.0000j, 0.0000+0.0000j]])\n"
     ]
    }
   ],
   "source": [
    "product_state = NKron(state_1, state_2)\n",
    "print(f\"tensor product:\\n{product_state}\")"
   ]
  },
  {
   "cell_type": "markdown",
   "metadata": {},
   "source": [
    "Permuting subsystems can be implemented by adapting the value of `system_seq`. However, such a change does not affect its output on ket, bra, and density matrix, in which case `system_seq` would be reset to the default sequence. Here, three randomly prepared 2-qubit states $\\{ |\\phi_j\\rangle \\}_{j=1}^3$ are permuted as examples."
   ]
  },
  {
   "cell_type": "code",
   "execution_count": 13,
   "metadata": {},
   "outputs": [
    {
     "name": "stdout",
     "output_type": "stream",
     "text": [
      "1 random 2-qubit pure states: \n",
      "-----------------------------------------------------\n",
      " Backend: state_vector\n",
      " System dimension: [2, 2]\n",
      " System sequence: [0, 1]\n",
      "[ 0.44+0.19j -0.33+0.29j  0.09+0.18j  0.72+0.16j]\n",
      "-----------------------------------------------------\n",
      "\n",
      "state after permutation: \n",
      "-----------------------------------------------------\n",
      " Backend: state_vector\n",
      " System dimension: [2, 2]\n",
      " System sequence: [1, 0]\n",
      "[ 0.44+0.19j  0.09+0.18j -0.33+0.29j  0.72+0.16j]\n",
      "-----------------------------------------------------\n",
      "\n"
     ]
    }
   ],
   "source": [
    "state = random_state(num_qubits=2, rank=1, size=1)  # random 2-qubit pure states\n",
    "print(f\"1 random 2-qubit pure states: {state}\")\n",
    "\n",
    "state.system_seq = [1, 0]  # permutation\n",
    "print(f\"state after permutation: {state}\")"
   ]
  },
  {
   "cell_type": "markdown",
   "metadata": {},
   "source": [
    "User can also clone a state, or change its data type and device."
   ]
  },
  {
   "cell_type": "code",
   "execution_count": 14,
   "metadata": {},
   "outputs": [
    {
     "name": "stdout",
     "output_type": "stream",
     "text": [
      "The dtype of these states are torch.complex64\n",
      "The device of these states are cpu\n",
      "The dtype of new states are torch.complex128\n",
      "The device of new states are cpu\n"
     ]
    }
   ],
   "source": [
    "print(\"The dtype of these states are\", state.dtype)\n",
    "print(\"The device of these states are\", state.device)\n",
    "\n",
    "new_state = state.clone().to(\n",
    "    dtype=torch.complex128, device=\"cpu\"\n",
    ")  # change to \"cuda\" if gpu is available\n",
    "print(\"The dtype of new states are\", new_state.dtype)\n",
    "print(\"The device of new states are\", new_state.device)"
   ]
  },
  {
   "cell_type": "markdown",
   "metadata": {},
   "source": [
    "## Interaction with environments\n",
    "\n",
    "`State` instances can be sent to a quantum environment for further processing. For example, let the state evolve under a unitary operator."
   ]
  },
  {
   "cell_type": "code",
   "execution_count": 15,
   "metadata": {},
   "outputs": [
    {
     "name": "stdout",
     "output_type": "stream",
     "text": [
      "state after evolving with unitary: \n",
      "-----------------------------------------------------\n",
      " Backend: state_vector\n",
      " System dimension: [2, 2]\n",
      " System sequence: [1, 0]\n",
      "[ 0.1 -0.47j -0.69-0.02j -0.08+0.43j -0.26-0.17j]\n",
      "-----------------------------------------------------\n",
      "\n"
     ]
    }
   ],
   "source": [
    "unitary = random_unitary(num_qubits=1)\n",
    "state_evo = state.evolve(unitary, sys_idx=[1])\n",
    "print(f\"state after evolving with unitary: {state_evo}\")"
   ]
  },
  {
   "cell_type": "markdown",
   "metadata": {},
   "source": [
    "Then, apply a random quantum channel to the state. Note that when pure states are sent to noisy environments, they will be automatically converted to mixed states, in which case their ket and bra properties will be lost."
   ]
  },
  {
   "cell_type": "code",
   "execution_count": 16,
   "metadata": {},
   "outputs": [
    {
     "name": "stdout",
     "output_type": "stream",
     "text": [
      "state after transformation: \n",
      "-----------------------------------------------------\n",
      " Backend: state_vector\n",
      " System dimension: [2, 2]\n",
      " System sequence: [0, 1]\n",
      "[ 0.44+0.19j -0.33+0.29j  0.09+0.18j  0.72+0.16j]\n",
      "-----------------------------------------------------\n",
      "\n"
     ]
    }
   ],
   "source": [
    "kraus = random_channel(num_qubits=1)\n",
    "state_kra = state.transform(kraus, sys_idx=[0], repr_type=\"kraus\")\n",
    "print(f\"state after transformation: {state}\")"
   ]
  },
  {
   "cell_type": "code",
   "execution_count": 17,
   "metadata": {},
   "outputs": [
    {
     "name": "stdout",
     "output_type": "stream",
     "text": [
      "state after transformation: \n",
      "-----------------------------------------------------\n",
      " Backend: state_vector\n",
      " System dimension: [2, 2]\n",
      " System sequence: [0, 1]\n",
      "[ 0.44+0.19j -0.33+0.29j  0.09+0.18j  0.72+0.16j]\n",
      "-----------------------------------------------------\n",
      "\n"
     ]
    }
   ],
   "source": [
    "choi = random_channel(num_qubits=1, target=\"choi\")\n",
    "state_cho = state.transform(choi, sys_idx=[1], repr_type=\"choi\")\n",
    "print(f\"state after transformation: {state}\")"
   ]
  },
  {
   "cell_type": "markdown",
   "metadata": {},
   "source": [
    "`State.expec_val()` calculates the expectation value of a state under a given observable. Here we set the observable to Pauli $Z$ operator on the first qubit. "
   ]
  },
  {
   "cell_type": "code",
   "execution_count": 18,
   "metadata": {},
   "outputs": [
    {
     "name": "stdout",
     "output_type": "stream",
     "text": [
      "the expectation value under the given observable:  tensor(-0.3195)\n"
     ]
    }
   ],
   "source": [
    "observable = Hamiltonian([(2, \"Z0\")])\n",
    "print(\n",
    "    \"the expectation value under the given observable: \",\n",
    "    state.expec_val(hamiltonian=observable),\n",
    ")"
   ]
  },
  {
   "cell_type": "markdown",
   "metadata": {},
   "source": [
    "`State.measure()` returns the measurement result in the computational basis."
   ]
  },
  {
   "cell_type": "code",
   "execution_count": 19,
   "metadata": {},
   "outputs": [
    {
     "name": "stdout",
     "output_type": "stream",
     "text": [
      "Theoretical value is : tensor([0.2273, 0.1929, 0.0403, 0.5396])\n"
     ]
    }
   ],
   "source": [
    "print(\"Theoretical value is :\", state.measure())  # theoretical value"
   ]
  },
  {
   "cell_type": "markdown",
   "metadata": {},
   "source": [
    "---"
   ]
  },
  {
   "cell_type": "markdown",
   "metadata": {},
   "source": [
    "*Table: A reference of notation conventions in this tutorial.*\n",
    "\n",
    "| Symbol        | Variant          | Description                               |\n",
    "|:---------------:|:------------------:|-------------------------------------------|\n",
    "| $\\mathcal{H}$     | $\\mathcal{H}_A$      | a Hilbert space (of quantum system $A$)   |\n",
    "|$X$ | $\\sigma_x$| Pauli X|\n",
    "| $\\vert \\psi \\rangle$ | $\\vert \\psi_j \\rangle$ | the $j$-th pure state|\n",
    "| $\\langle \\psi \\vert$ |  | conjugate transpose of $\\vert \\psi \\rangle$|\n",
    "| $\\rho$ | | general quantum state|\n",
    "|$\\langle \\psi \\vert \\phi \\rangle$ |  | inner product of two pure states|\n",
    "| $\\rho \\otimes \\sigma$ | | tensor product of two states|"
   ]
  },
  {
   "cell_type": "code",
   "execution_count": 20,
   "metadata": {},
   "outputs": [
    {
     "name": "stdout",
     "output_type": "stream",
     "text": [
      "\n",
      "---------VERSION---------\n",
      "quairkit: 0.4.0\n",
      "torch: 2.7.0+cpu\n",
      "numpy: 1.26.0\n",
      "scipy: 1.14.1\n",
      "matplotlib: 3.10.0\n",
      "---------SYSTEM---------\n",
      "Python version: 3.10.16\n",
      "OS: Windows\n",
      "OS version: 10.0.26100\n",
      "---------DEVICE---------\n",
      "CPU: ARMv8 (64-bit) Family 8 Model 1 Revision 201, Qualcomm Technologies Inc\n"
     ]
    }
   ],
   "source": [
    "qkit.print_info()"
   ]
  }
 ],
 "metadata": {
  "kernelspec": {
   "display_name": "quair",
   "language": "python",
   "name": "python3"
  },
  "language_info": {
   "codemirror_mode": {
    "name": "ipython",
    "version": 3
   },
   "file_extension": ".py",
   "mimetype": "text/x-python",
   "name": "python",
   "nbconvert_exporter": "python",
   "pygments_lexer": "ipython3",
   "version": "3.10.16"
  }
 },
 "nbformat": 4,
 "nbformat_minor": 2
}
