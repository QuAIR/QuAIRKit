{
 "cells": [
  {
   "cell_type": "markdown",
   "metadata": {},
   "source": [
    "# Introduction to qudit quantum computing\n",
    "\n",
    "In this tutorial, users will learn how to use qudit setting in QuAIRKit.\n",
    "\n",
    "**Table of Contents**\n",
    "- [Review on qubit case](#Review-on-qubit-case)\n",
    "- [Setup for qutrit case](#Setup-for-qutrit-case)\n",
    "- [Setup for general cases](#Setup-for-general-cases)\n",
    "- [Operations in qudit circuits](#Operations-in-qudit-circuits)\n",
    "    - [Adding custom gates](#Adding-custom-gates)\n",
    "    - [Adding custom channels](#Adding-custom-channels)\n",
    "    - [Measurement](#Measurement)"
   ]
  },
  {
   "cell_type": "code",
   "execution_count": 1,
   "metadata": {},
   "outputs": [],
   "source": [
    "import quairkit as qkit\n",
    "from quairkit import Circuit\n",
    "from quairkit.database import *\n",
    "from quairkit.loss import *\n",
    "\n",
    "qkit.set_dtype('complex128')\n",
    "split_line = '\\n' + '-' * 100 + '\\n'  # a line of '-' for better readability"
   ]
  },
  {
   "cell_type": "markdown",
   "metadata": {},
   "source": [
    "### Review on qubit case\n",
    "\n",
    "The default setting in quantum computing is qubit unless specified otherwise. For detailed instruction on qubit circuits, please refer to the tutorials of states and circuits.\n",
    "\n",
    "Users can check the number of qubits, qutrits, and systems in the circuit using  `cir.num_qubits`, `cir.num_qutrits` and `cir.num_systems`, respectively.\n",
    "\n",
    "For example, one can create a circuit with 3 qubits:"
   ]
  },
  {
   "cell_type": "code",
   "execution_count": 2,
   "metadata": {},
   "outputs": [
    {
     "name": "stdout",
     "output_type": "stream",
     "text": [
      "The diagram of the quantum circuit:\n"
     ]
    },
    {
     "data": {
      "image/png": "[encoded data removed]",
      "text/plain": [
       "<Figure size 249x165 with 1 Axes>"
      ]
     },
     "metadata": {},
     "output_type": "display_data"
    },
    {
     "name": "stdout",
     "output_type": "stream",
     "text": [
      "\n",
      "----------------------------------------------------------------------------------------------------\n",
      "\n",
      "Are the systems composed of qubits? True\n",
      "----------------------------------------------------------------------------------------------------\n",
      "The total number of qubits in the circuit is 3\n",
      "----------------------------------------------------------------------------------------------------\n",
      "The total number of qutrits in the circuit is 0\n",
      "----------------------------------------------------------------------------------------------------\n",
      "The total number of systems in the circuit is 3\n",
      "----------------------------------------------------------------------------------------------------\n"
     ]
    }
   ],
   "source": [
    "num_qubits = 3  # number of qubits\n",
    "cir = Circuit(num_qubits)  # construct a circuit with specifying the number of qubits\n",
    "\n",
    "cir.complex_entangled_layer()  # add a complex entangled layer\n",
    "\n",
    "print('The diagram of the quantum circuit:')\n",
    "cir.plot()\n",
    "print(split_line)   # a line of '-' for better readability\n",
    "\n",
    "print(f'Are the systems composed of qubits? {cir().are_qubits()}', end=split_line)\n",
    "print(f'The total number of qubits in the circuit is {cir.num_qubits}', end=split_line)\n",
    "print(f'The total number of qutrits in the circuit is {cir.num_qutrits}', end=split_line)\n",
    "print(f'The total number of systems in the circuit is {cir.num_systems}', end=split_line)"
   ]
  },
  {
   "cell_type": "markdown",
   "metadata": {},
   "source": [
    "One can also verify the dimension of each system using the `System dimension` attribute from the `State` class."
   ]
  },
  {
   "cell_type": "code",
   "execution_count": 3,
   "metadata": {},
   "outputs": [
    {
     "name": "stdout",
     "output_type": "stream",
     "text": [
      "The output state of the circuit is \n",
      "-----------------------------------------------------\n",
      " Backend: state_vector\n",
      " System dimension: [2, 2, 2]\n",
      " System sequence: [2, 0, 1]\n",
      "[-0.1 +0.j    0.  -0.j   -0.01+0.j    0.01-0.36j  0.  -0.j   -0.74+0.55j\n",
      "  0.02-0.03j -0.  -0.j  ]\n",
      "-----------------------------------------------------\n",
      "\n"
     ]
    }
   ],
   "source": [
    "print(f'The output state of the circuit is {cir()}') "
   ]
  },
  {
   "cell_type": "markdown",
   "metadata": {},
   "source": [
    "## Setup for qutrit case\n",
    "\n",
    "To configure the qudit state and its corresponding circuit, users can set `system_dim` to $d$, where $d$ represents the dimension of the qudit. \n",
    "\n",
    "For instance, one can assign `system_dim` = $3$ for qutrit. Then, the following code establishes the qutrit setup:\n"
   ]
  },
  {
   "cell_type": "code",
   "execution_count": 4,
   "metadata": {},
   "outputs": [
    {
     "name": "stdout",
     "output_type": "stream",
     "text": [
      "The number of systems of the state is 2\n",
      "----------------------------------------------------------------------------------------------------\n",
      "The dimension of each system of the state is [3, 3]\n",
      "----------------------------------------------------------------------------------------------------\n",
      "Are the systems composed of qutrits? True \n",
      "----------------------------------------------------------------------------------------------------\n",
      "\n",
      "Random 2-qutrit states: \n",
      "-----------------------------------------------------\n",
      " Backend: density_matrix\n",
      " System dimension: [3, 3]\n",
      " System sequence: [0, 1]\n",
      "[[ 0.1 +0.j    0.04-0.05j  0.01+0.01j  0.03+0.02j  0.02-0.02j  0.01-0.01j\n",
      "   0.01-0.02j  0.02-0.03j  0.02+0.07j]\n",
      " [ 0.04+0.05j  0.14+0.j   -0.03+0.01j -0.03+0.03j -0.01-0.j   -0.01+0.01j\n",
      "  -0.06+0.05j -0.01+0.04j -0.01+0.05j]\n",
      " [ 0.01-0.01j -0.03-0.01j  0.21+0.j    0.04-0.02j  0.05+0.01j -0.  +0.05j\n",
      "   0.03+0.04j  0.05-0.01j  0.03+0.06j]\n",
      " [ 0.03-0.02j -0.03-0.03j  0.04+0.02j  0.08+0.j    0.03+0.01j  0.03-0.j\n",
      "   0.05-0.01j  0.04-0.01j -0.04+0.03j]\n",
      " [ 0.02+0.02j -0.01+0.j    0.05-0.01j  0.03-0.01j  0.04+0.j    0.02+0.j\n",
      "   0.02+0.01j  0.03-0.03j -0.02+0.03j]\n",
      " [ 0.01+0.01j -0.01-0.01j -0.  -0.05j  0.03+0.j    0.02-0.j    0.04+0.j\n",
      "   0.05-0.02j  0.03-0.02j -0.01-0.j  ]\n",
      " [ 0.01+0.02j -0.06-0.05j  0.03-0.04j  0.05+0.01j  0.02-0.01j  0.05+0.02j\n",
      "   0.16+0.j    0.07-0.01j -0.04+0.01j]\n",
      " [ 0.02+0.03j -0.01-0.04j  0.05+0.01j  0.04+0.01j  0.03+0.03j  0.03+0.02j\n",
      "   0.07+0.01j  0.08+0.j   -0.02+0.03j]\n",
      " [ 0.02-0.07j -0.01-0.05j  0.03-0.06j -0.04-0.03j -0.02-0.03j -0.01+0.j\n",
      "  -0.04-0.01j -0.02-0.03j  0.15+0.j  ]]\n",
      "-----------------------------------------------------\n",
      "\n"
     ]
    }
   ],
   "source": [
    "rho = random_state(2, system_dim=3) # generate a random 2-qutrit state\n",
    "\n",
    "print(f'The number of systems of the state is {rho.num_systems}', end=split_line)\n",
    "print(f'The dimension of each system of the state is {rho.system_dim}', end=split_line)\n",
    "print(f'Are the systems composed of qutrits? {rho.are_qutrits()}', split_line)\n",
    "\n",
    "print(f'Random 2-qutrit states: {rho}')"
   ]
  },
  {
   "cell_type": "markdown",
   "metadata": {},
   "source": [
    "The corresponding qutrit circuit is as follows:"
   ]
  },
  {
   "cell_type": "code",
   "execution_count": 5,
   "metadata": {},
   "outputs": [
    {
     "name": "stdout",
     "output_type": "stream",
     "text": [
      "Are the systems composed of qutrits? True\n",
      "----------------------------------------------------------------------------------------------------\n",
      "The total number of qubits in the circuit is 0\n",
      "----------------------------------------------------------------------------------------------------\n",
      "The total number of qutrits in the circuit is 2\n",
      "----------------------------------------------------------------------------------------------------\n",
      "The total number of systems in the circuit is 2\n",
      "----------------------------------------------------------------------------------------------------\n"
     ]
    }
   ],
   "source": [
    "cir = Circuit(num_systems=2, system_dim=3)  # create a circuit with 2 systems, each of dimension 3\n",
    "\n",
    "print(f'Are the systems composed of qutrits? {cir().are_qutrits()}', end=split_line)\n",
    "print(f'The total number of qubits in the circuit is {cir.num_qubits}', end=split_line)\n",
    "print(f'The total number of qutrits in the circuit is {cir.num_qutrits}', end=split_line)\n",
    "print(f'The total number of systems in the circuit is {cir.num_systems}', end=split_line)"
   ]
  },
  {
   "cell_type": "markdown",
   "metadata": {},
   "source": [
    "## Setup for general cases\n",
    "\n",
    "QuAIRKit supports general $d$-dimensional setup for qudits, as well as their compound, by setting `system_dim` as $[d_0, d_2, d_3, \\cdots, d_{n-1}]$.\n",
    "\n",
    "For example, to configure a 3-qudit system with dimensions $[2, 3, 6]$:"
   ]
  },
  {
   "cell_type": "code",
   "execution_count": 6,
   "metadata": {},
   "outputs": [
    {
     "name": "stdout",
     "output_type": "stream",
     "text": [
      "The number of systems of the state is 3\n",
      "----------------------------------------------------------------------------------------------------\n",
      "The dimension of each system of the state is [2, 3, 6]\n",
      "----------------------------------------------------------------------------------------------------\n",
      "Random 3-qudit states: \n",
      "-----------------------------------------------------\n",
      " Backend: density_matrix\n",
      " System dimension: [2, 3, 6]\n",
      " System sequence: [0, 1, 2]\n",
      "[[ 0.02+0.j   -0.  +0.j    0.  +0.01j ...  0.  +0.j   -0.  -0.j\n",
      "   0.  -0.j  ]\n",
      " [-0.  -0.j    0.02+0.j   -0.  +0.j   ...  0.  -0.01j  0.  -0.j\n",
      "  -0.  +0.01j]\n",
      " [ 0.  -0.01j -0.  -0.j    0.03+0.j   ...  0.  +0.01j  0.  -0.j\n",
      "   0.  -0.j  ]\n",
      " ...\n",
      " [ 0.  -0.j    0.  +0.01j  0.  -0.01j ...  0.04+0.j    0.  +0.j\n",
      "  -0.  +0.j  ]\n",
      " [-0.  +0.j    0.  +0.j    0.  +0.j   ...  0.  -0.j    0.04+0.j\n",
      "  -0.  +0.j  ]\n",
      " [ 0.  +0.j   -0.  -0.01j  0.  +0.j   ... -0.  -0.j   -0.  -0.j\n",
      "   0.03+0.j  ]]\n",
      "-----------------------------------------------------\n",
      "\n"
     ]
    }
   ],
   "source": [
    "rho = random_state(num_systems=3, system_dim=[2, 3, 6])   # generate a random state with 3 systems of dimensions [2, 3, 6]\n",
    "\n",
    "print(f'The number of systems of the state is {rho.num_systems}', end=split_line)\n",
    "print(f'The dimension of each system of the state is {rho.system_dim}', end=split_line)\n",
    "\n",
    "print(f'Random 3-qudit states: {rho}')"
   ]
  },
  {
   "cell_type": "markdown",
   "metadata": {},
   "source": [
    "For clarity, the following figure illustrates compound dimensions of qudits in a quantum circuit.\n",
    "\n",
    "<figure style=\"text-align: center;\">\n",
    "  <img src=\".\\figures\\tutorial of qudit circuit.svg\" alt=\"alt text\" width=\"150\"/>\n",
    "  <figcaption>Fig.1: Depiction of a qudit circuit with compound dimensions.</figcaption>\n",
    "</figure>\n"
   ]
  },
  {
   "cell_type": "code",
   "execution_count": 7,
   "metadata": {},
   "outputs": [
    {
     "name": "stdout",
     "output_type": "stream",
     "text": [
      "The total number of qubits in the circuit is 1\n",
      "----------------------------------------------------------------------------------------------------\n",
      "The total number of qutrits in the circuit is 1\n",
      "----------------------------------------------------------------------------------------------------\n",
      "The total number of systems in the circuit is 3\n",
      "----------------------------------------------------------------------------------------------------\n"
     ]
    }
   ],
   "source": [
    "cir = Circuit(3, system_dim=[2, 3, 6])  # generate a random state with 3 systems of dimensions [2, 3, 6]\n",
    "\n",
    "print(f'The total number of qubits in the circuit is {cir.num_qubits}', end=split_line)\n",
    "print(f'The total number of qutrits in the circuit is {cir.num_qutrits}', end=split_line)\n",
    "print(f'The total number of systems in the circuit is {cir.num_systems}', end=split_line)"
   ]
  },
  {
   "cell_type": "markdown",
   "metadata": {},
   "source": [
    "## Operations in qudit circuits\n",
    "\n",
    "QuAIRKit offers a variety of operations for qudit circuits, including:\n",
    "\n",
    "- [Adding custom gates](#Adding-custom-gates)\n",
    "- [Adding custom channels](#Adding-custom-channels)\n",
    "- [Measurement](#Measurement)\n",
    "\n",
    "In this section, we will demonstrate how to use these operations."
   ]
  },
  {
   "cell_type": "markdown",
   "metadata": {},
   "source": [
    "### Adding custom gates\n",
    "\n",
    "One can define and incorporate custom gates into qudit circuits. Here is an example of how to define custom gates in qudit circuits:"
   ]
  },
  {
   "cell_type": "code",
   "execution_count": 8,
   "metadata": {},
   "outputs": [
    {
     "name": "stdout",
     "output_type": "stream",
     "text": [
      "The diagram of the qudit circuit:\n"
     ]
    },
    {
     "data": {
      "image/png": "[encoded data removed]",
      "text/plain": [
       "<Figure size 224x165 with 1 Axes>"
      ]
     },
     "metadata": {},
     "output_type": "display_data"
    }
   ],
   "source": [
    "# generate a random state with 3 systems of dimensions [2, 3, 6]\n",
    "cir = Circuit(3, system_dim=[2, 3, 6])  \n",
    "\n",
    "# add a 3-dimension gate acting on the system 1\n",
    "cir.universal_qudits([1])  \n",
    "# add a 6-dimension custom gate acting on the system 2\n",
    "cir.oracle(random_unitary(1, system_dim=6), system_idx=[2]) \n",
    "# add a custom gate with the system 2 as control qudit acting on the 3 systems \n",
    "cir.control_oracle(random_unitary(2, system_dim=[3, 2]), system_idx=[2, 1, 0])  \n",
    "\n",
    "print('The diagram of the qudit circuit:')\n",
    "cir.plot()"
   ]
  },
  {
   "cell_type": "markdown",
   "metadata": {},
   "source": [
    "### Adding custom channels\n",
    "\n",
    "One can create and integrate custom channels into qudit circuits. Here’s a simple example of how to create a replacement channel in QuAIRKit:\n"
   ]
  },
  {
   "cell_type": "code",
   "execution_count": 9,
   "metadata": {},
   "outputs": [
    {
     "name": "stdout",
     "output_type": "stream",
     "text": [
      "The first system is replaced with state \n",
      "-----------------------------------------------------\n",
      " Backend: density_matrix\n",
      " System dimension: [4]\n",
      " System sequence: [0]\n",
      "[[ 0.25+0.j   -0.01-0.08j -0.02+0.03j  0.07-0.03j]\n",
      " [-0.01+0.08j  0.15+0.j    0.13+0.04j  0.04-0.09j]\n",
      " [-0.02-0.03j  0.13-0.04j  0.31+0.j   -0.09-0.24j]\n",
      " [ 0.07+0.03j  0.04+0.09j -0.09+0.24j  0.29+0.j  ]]\n",
      "-----------------------------------------------------\n",
      "\n",
      "while the output state of first system is: \n",
      "-----------------------------------------------------\n",
      " Backend: density_matrix\n",
      " System dimension: [4]\n",
      " System sequence: [0]\n",
      " Batch size: [1]\n",
      "\n",
      " # 0:\n",
      "[[ 0.25+0.j   -0.01-0.08j -0.02+0.03j  0.07-0.03j]\n",
      " [-0.01+0.08j  0.15+0.j    0.13+0.04j  0.04-0.09j]\n",
      " [-0.02-0.03j  0.13-0.04j  0.31+0.j   -0.09-0.24j]\n",
      " [ 0.07+0.03j  0.04+0.09j -0.09+0.24j  0.29+0.j  ]]\n",
      "-----------------------------------------------------\n",
      "\n"
     ]
    }
   ],
   "source": [
    "# create a circuit with 3 qudits and dimensions [2, 3, 6] for corresponding qudit systems\n",
    "cir = Circuit(3, system_dim=[4, 3, 2])  \n",
    "\n",
    "rho = random_state(1, system_dim=4) # create a random state \n",
    "\n",
    "# generate the replacement channel in Choi representation\n",
    "replacement_choi_repr = replacement_choi(rho) \n",
    "# add the replacement channel acting on the system 0\n",
    "cir.choi_channel(replacement_choi_repr, system_idx=[0]) \n",
    "\n",
    "print('The first system is replaced with state', rho)\n",
    "print('while the output state of first system is:', cir().trace([1, 2]))"
   ]
  },
  {
   "cell_type": "markdown",
   "metadata": {},
   "source": [
    "Similarly, QuAIRKit also supports batch computation for qudits. The following code demonstrates a simple example of batch computation in circuits:"
   ]
  },
  {
   "cell_type": "code",
   "execution_count": 10,
   "metadata": {},
   "outputs": [
    {
     "name": "stdout",
     "output_type": "stream",
     "text": [
      "The output state of the second system is: \n",
      "-----------------------------------------------------\n",
      " Backend: density_matrix\n",
      " System dimension: [3]\n",
      " System sequence: [0]\n",
      " Batch size: [5]\n",
      "\n",
      " # 0:\n",
      "[[0.37+0.j   0.03+0.17j 0.06+0.11j]\n",
      " [0.03-0.17j 0.51+0.j   0.22+0.04j]\n",
      " [0.06-0.11j 0.22-0.04j 0.12+0.j  ]]\n",
      " # 1:\n",
      "[[0.37+0.j   0.03+0.17j 0.06+0.11j]\n",
      " [0.03-0.17j 0.51+0.j   0.22+0.04j]\n",
      " [0.06-0.11j 0.22-0.04j 0.12+0.j  ]]\n",
      " # 2:\n",
      "[[0.37+0.j   0.03+0.17j 0.06+0.11j]\n",
      " [0.03-0.17j 0.51+0.j   0.22+0.04j]\n",
      " [0.06-0.11j 0.22-0.04j 0.12+0.j  ]]\n",
      " # 3:\n",
      "[[0.37+0.j   0.03+0.17j 0.06+0.11j]\n",
      " [0.03-0.17j 0.51+0.j   0.22+0.04j]\n",
      " [0.06-0.11j 0.22-0.04j 0.12+0.j  ]]\n",
      " # 4:\n",
      "[[0.37+0.j   0.03+0.17j 0.06+0.11j]\n",
      " [0.03-0.17j 0.51+0.j   0.22+0.04j]\n",
      " [0.06-0.11j 0.22-0.04j 0.12+0.j  ]]\n",
      "-----------------------------------------------------\n",
      "\n"
     ]
    }
   ],
   "source": [
    "batch_size = 5  # the numbar of batch size\n",
    "\n",
    "# create a circuit with 3 qudits and dimensions [2, 3, 6] for corresponding qudit systems\n",
    "cir = Circuit(3, system_dim=[2, 3, 6])  \n",
    "cir.universal_qudits(system_idx=[0, 1])  # add a universal gate to qudit system 0 and 1\n",
    "cir.oracle(random_unitary(1, size=batch_size, system_dim=6), system_idx=[2])    # add an custom gate to qudit system 2\n",
    "\n",
    "print('The output state of the second system is:', cir().trace([0, 2]))"
   ]
  },
  {
   "cell_type": "markdown",
   "metadata": {},
   "source": [
    "### Measurement\n",
    "\n",
    "Measurement operations in qudits are similar to those in qubit systems. Users just need to set the measurement basis dimensions to match the corresponding qudit system."
   ]
  },
  {
   "cell_type": "code",
   "execution_count": 11,
   "metadata": {},
   "outputs": [
    {
     "name": "stdout",
     "output_type": "stream",
     "text": [
      "The first state for obtaining measurement result '1' for the system 0 is \n",
      "-----------------------------------------------------\n",
      " Backend: state_vector\n",
      " System dimension: [2, 3, 6]\n",
      " System sequence: [0, 1, 2]\n",
      " Batch size: [5]\n",
      "\n",
      " # 0:\n",
      "[-0.08-0.16j -0.18+0.26j -0.15+0.05j  0.16+0.06j  0.07-0.16j  0.27-0.06j\n",
      " -0.12+0.06j  0.19+0.13j  0.03+0.11j  0.04-0.12j -0.12-0.05j -0.04-0.2j\n",
      " -0.07+0.02j  0.09+0.09j  0.01+0.06j  0.04-0.06j -0.06-0.04j  0.  -0.11j\n",
      "  0.08+0.16j  0.18-0.26j  0.15-0.05j -0.16-0.06j -0.07+0.16j -0.27+0.06j\n",
      "  0.12-0.06j -0.19-0.13j -0.03-0.11j -0.04+0.12j  0.12+0.05j  0.04+0.2j\n",
      "  0.07-0.02j -0.09-0.09j -0.01-0.06j -0.04+0.06j  0.06+0.04j -0.  +0.11j]\n",
      "-----------------------------------------------------\n",
      "\n",
      "The first state for obtaining measurement result '2' for the system 1, and '4' for the system 2 is \n",
      "-----------------------------------------------------\n",
      " Backend: state_vector\n",
      " System dimension: [2, 3, 6]\n",
      " System sequence: [0, 1, 2]\n",
      " Batch size: [5]\n",
      "\n",
      " # 0:\n",
      "[ 0.  +0.j    0.  +0.j    0.  +0.j    0.  +0.j    0.  +0.j    0.  +0.j\n",
      "  0.  +0.j    0.  +0.j    0.  +0.j    0.  +0.j    0.  +0.j    0.  +0.j\n",
      "  0.  +0.j    0.  +0.j    0.  +0.j    0.  +0.j   -0.04-0.66j  0.  +0.j\n",
      "  0.  +0.j    0.  +0.j    0.  +0.j    0.  +0.j    0.  +0.j    0.  +0.j\n",
      "  0.  +0.j    0.  +0.j    0.  +0.j    0.  +0.j    0.  +0.j    0.  +0.j\n",
      "  0.  +0.j    0.  +0.j    0.  +0.j    0.  +0.j    0.75-0.07j  0.  +0.j  ]\n",
      "-----------------------------------------------------\n",
      "\n"
     ]
    }
   ],
   "source": [
    "op = Measure('x') # define Pauli X basis as the measurement basis \n",
    "\n",
    "# measure the system 0 in the X basis for obtaining measurement result '1'\n",
    "prob, state = op(cir(), system_idx=[0], keep_state=True, desired_result='1')    \n",
    "print(\"The first state for obtaining measurement result '1' for the system 0 is\", state[0])\n",
    "\n",
    "\n",
    "op = Measure()  # computational basis as the measurement basis \n",
    "\n",
    "# measure systems 1 and 2, and obtaining measurement result '2' for the system 1, and '4' for the system 2\n",
    "prob, state = op(cir(), system_idx=[1, 2], desired_result='24', keep_state=True)\n",
    "print(\"The first state for obtaining measurement result '2' for the system 1, and '4' for the system 2 is\", state[0])"
   ]
  },
  {
   "cell_type": "markdown",
   "metadata": {},
   "source": [
    "After measuring some qudits, if we want to perform additional operations, users can utilize the `cir.collapse` function to collapse the measured qudits. By printing the output state of the circuit, the average probability distribution of the collapsed qudits is obtained.\n"
   ]
  },
  {
   "cell_type": "code",
   "execution_count": 12,
   "metadata": {},
   "outputs": [
    {
     "name": "stdout",
     "output_type": "stream",
     "text": [
      "systems [1, 2] collapse to the state |1>|3> with (average) probability 0.016744241430078275\n",
      "\n",
      " After collapsing the second qudit to its first eigenstate and the third qudit to its third eigenstate the state of the first system is: \n",
      "-----------------------------------------------------\n",
      " Backend: density_matrix\n",
      " System dimension: [2]\n",
      " System sequence: [0]\n",
      " Batch size: [5]\n",
      "\n",
      " # 0:\n",
      "[[0.09+0.j   0.24+0.15j]\n",
      " [0.24-0.15j 0.91+0.j  ]]\n",
      " # 1:\n",
      "[[0.09+0.j   0.24+0.15j]\n",
      " [0.24-0.15j 0.91+0.j  ]]\n",
      " # 2:\n",
      "[[0.09+0.j   0.24+0.15j]\n",
      " [0.24-0.15j 0.91+0.j  ]]\n",
      " # 3:\n",
      "[[0.09+0.j   0.24+0.15j]\n",
      " [0.24-0.15j 0.91+0.j  ]]\n",
      " # 4:\n",
      "[[0.09+0.j   0.24+0.15j]\n",
      " [0.24-0.15j 0.91+0.j  ]]\n",
      "-----------------------------------------------------\n",
      "\n"
     ]
    }
   ],
   "source": [
    "batch_size = 5  # the numbar of batch size\n",
    "\n",
    "# create a circuit with 3 qudits and dimensions [2, 3, 6] for corresponding qudit systems\n",
    "cir = Circuit(3, system_dim=[2, 3, 6])  \n",
    "\n",
    "cir.universal_qudits(system_idx=[0, 1])  # add a universal gate to qudit system 0 and 1\n",
    "cir.oracle(random_unitary(1, size=batch_size, system_dim=6), system_idx=[2])    # add an custom gate to qudit system 2\n",
    "\n",
    "# Collapse the second qudit to its first eigenstate and the third qudit to its third eigenstate\n",
    "cir.collapse([1, 2], desired_result='13', if_print=True)\n",
    "\n",
    "print(\"\\n After collapsing the second qudit to its first eigenstate and the third qudit to its third eigenstate\",\n",
    "      \"the state of the first system is:\", cir().trace([1, 2]))"
   ]
  },
  {
   "cell_type": "markdown",
   "metadata": {},
   "source": [
    "---"
   ]
  },
  {
   "cell_type": "code",
   "execution_count": 13,
   "metadata": {},
   "outputs": [
    {
     "name": "stdout",
     "output_type": "stream",
     "text": [
      "\n",
      "---------VERSION---------\n",
      "quairkit: 0.3.0\n",
      "torch: 2.5.1+cpu\n",
      "numpy: 1.26.0\n",
      "scipy: 1.14.1\n",
      "matplotlib: 3.10.0\n",
      "---------SYSTEM---------\n",
      "Python version: 3.10.16\n",
      "OS: Windows\n",
      "OS version: 10.0.26100\n",
      "---------DEVICE---------\n",
      "CPU: ARMv8 (64-bit) Family 8 Model 1 Revision 201, Qualcomm Technologies Inc\n"
     ]
    }
   ],
   "source": [
    "qkit.print_info()"
   ]
  }
 ],
 "metadata": {
  "kernelspec": {
   "display_name": "quair_test",
   "language": "python",
   "name": "python3"
  },
  "language_info": {
   "codemirror_mode": {
    "name": "ipython",
    "version": 3
   },
   "file_extension": ".py",
   "mimetype": "text/x-python",
   "name": "python",
   "nbconvert_exporter": "python",
   "pygments_lexer": "ipython3",
   "version": "3.10.16"
  }
 },
 "nbformat": 4,
 "nbformat_minor": 2
}
