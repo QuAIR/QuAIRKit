{
 "cells": [
  {
   "cell_type": "markdown",
   "metadata": {},
   "source": [
    "# Training parameterized quantum circuits\n",
    "\n",
    "In this tutorial, Parameterized Quantum Circuit (PQC) and its application on variational quantum eigensolvers (VQE) will be implemented in QuAIRKit.\n",
    "\n",
    "**Table of Contents**\n",
    "\n",
    "- [Introduction to Neural Networks](#Introduction-to-Neural-Networks)\n",
    "- [Neural Networks in PyTorch](#Neural-Networks-in-PyTorch)\n",
    "- [Parameterized quantum circuits (PQCs)](#Parameterized-quantum-circuits-(PQCs))\n",
    "- [Variational quantum eigensolvers (VQEs)](#Variational-quantum-eigensolvers-(VQEs))"
   ]
  },
  {
   "cell_type": "code",
   "execution_count": 1,
   "metadata": {},
   "outputs": [],
   "source": [
    "import time\n",
    "from typing import Callable, List\n",
    "\n",
    "import numpy as np\n",
    "import torch\n",
    "from matplotlib import pyplot as plt\n",
    "\n",
    "import quairkit as qkit\n",
    "from quairkit import Circuit, State, Hamiltonian\n",
    "from quairkit.database import *\n",
    "from quairkit.loss import *"
   ]
  },
  {
   "cell_type": "code",
   "execution_count": 2,
   "metadata": {},
   "outputs": [],
   "source": [
    "qkit.set_seed(1797587035)  # set a seed for reproducibility"
   ]
  },
  {
   "cell_type": "markdown",
   "metadata": {},
   "source": [
    "> The following section introduces the fundamentals of neural networks. For specific examples, you can proceed directly to the section on [variational quantum eigensolvers (VQEs)](#Variational-quantum-eigensolvers-(VQEs)).\n",
    "\n",
    "## Introduction to Neural Networks\n",
    "Neural networks are machine learning models that draw inspiration from the structure and function of the human brain. These networks are composed of layers of interconnected nodes, or artificial neurons, which include an input layer, one or more hidden layers, and an output layer. Each connection is characterized by weights and thresholds that influence how information is processed.\n",
    "\n",
    "In a neural network, the fundamental unit is the neuron. It receives input signals, processes them, and generates an output. For instance, parameterized quantum gates, which operate in quantum neural networks (QNNs), can be viewed as analogous to neurons.\n",
    "\n",
    "The neurons are organized into layers, where each layer transforms the input and passes it to the next. For example, a sequence of quantum gates like rotations and controlled-NOT (CNOT) gates can serve as a layer in a QNN.\n",
    "\n",
    "Key to neural network function are the parameters, which are adjusted during training to optimize performance. These parameters, such as the angles in quantum rotation gates $U(\\theta)$, are tuned to minimize the network's loss function. The loss function quantifies the error between the predicted and actual outputs, guiding the network toward more accurate predictions.\n",
    "\n",
    "Common loss functions include the Mean Squared Error (MSE), Cross-Entropy Loss, and more specialized metrics such as state and gate infidelity. These functions measure discrepancies in various contexts, such as between probability distributions or quantum states.\n",
    "- MSE measures the squared differences between predicted and actual outputs: $L(y,\\hat{y}) = \\frac{1}{2} \\sum_{i=1}^{m} (y_i - \\hat{y}_i)^2 .$\n",
    "- Cross-Entropy Loss is used in classification tasks: $L(y,\\hat{y}) = - \\sum_{i=1}^{m} y_i \\log(\\hat{y}_i) / m + (1-y_i) \\log(1-\\hat{y}_i) .$\n",
    "- State Infidelity measures the overlap between two quantum states: $L(\\rho, \\hat{\\rho}) = 1 - \\operatorname{tr} \\sqrt{\\sqrt{\\rho} \\hat{\\rho} \\sqrt{\\rho}} .$\n",
    "- Gate Infidelity evaluates the difference between two quantum operations: $L(U, V) = 1 - \\left| \\operatorname{tr} \\left( U^\\dagger V \\right) \\right| / d .$\n"
   ]
  },
  {
   "cell_type": "markdown",
   "metadata": {},
   "source": [
    "Forward propagation refers to the process of passing data through a neural network. In the context of a quantum neural network (QNN) with \n",
    "$N$ layers, denoted as $U_1 (\\theta^{(1)}), \\ldots, U_N (\\theta^{(N)})$ , and an initial state $| \\psi^{(0)} \\rangle$. Then the output state of the $l$-th layer is computed as:\n",
    "$$\n",
    "| \\psi^{(l)} \\rangle = U_l (\\theta^{(l)}) | \\psi^{(l - 1)} \\rangle\n",
    ", \\tag{1}$$\n",
    "where $| \\psi^{(l - 1)} \\rangle$ represents the output state of the $(l-1)$-th layer. The final output state $| \\psi^{(N)} \\rangle$ is obtained by applying a loss function $L$, yielding the network’s final result.\n",
    "\n",
    "Backpropagation is the process used to compute gradients of the parameters with respect to the loss function $L$. In particular, Continuing the previous example, the gradient for the parameter $\\theta_j^{(l)}$ in the $l$-th layer is mathematically computed as\n",
    "\n",
    "$$\n",
    "\\frac{\\partial L}{\\partial \\theta_j^{(l)}} \n",
    "= \\frac{\\partial L}{\\partial \\psi^{(N)}} \\cdot \\frac{d \\psi^{(N)}}{d \\psi^{(N - 1)}} \\cdot \\ldots \\cdot \\frac{d \\psi^{(l + 1)}}{d \\psi^{(l)}} \\cdot \\frac{d \\psi^{(l)}}{d \\theta_j^{(l)}}\n",
    ". \\tag{2}$$\n",
    "\n",
    "Once the gradients are determined, the parameters are updated using optimization methods such as gradient descent. The update rule for gradient descent is:\n",
    "$$\n",
    "\\theta_j^{(l)} \\leftarrow \\theta_j^{(l)} - \\eta \\frac{\\partial L}{\\partial \\theta_j^{(l)}}\n",
    ", \\tag{3}$$\n",
    "where $\\eta$ is the learning rate , a small value like $0.1$. ensuring steady convergence by controlling the step size in the direction of the negative gradient."
   ]
  },
  {
   "cell_type": "markdown",
   "metadata": {},
   "source": [
    "## Neural Networks in PyTorch\n",
    "\n",
    "- Managing Parameters in torch.nn.Module\n",
    "\n",
    "    In PyTorch, a neural network is implemented by creating a class that inherits from `torch.nn.Module`. Inside the  \\_\\_init\\_\\_ method, network parameters such as weights and biases are defined using `torch.nn.Parameter`. This setup ensures that PyTorch tracks and optimizes these parameters during training, simplifying the model definition and making it easy to integrate with PyTorch’s optimization and gradient computation tools.\n",
    "\n",
    "- Backpropagation\n",
    "\n",
    "    After the forward pass is executed in PyTorch, the model's loss is computed based on the predicted and actual outputs. Backpropagation is then performed by calling `.backward()` of the module. This function calculates the gradients of the loss with respect to all the learnable parameters of the model, preparing them for optimization in the next step.\n",
    "\n",
    "- Gradient\n",
    "\n",
    "    During backpropagation in PyTorch, the gradients of the loss with respect to each parameter are computed and stored in the  `grad` attribute of the respective parameters. These gradients are then used to update the model’s weights. If any data, such as `np.ndarray`, `float` or `torch.Tensor` is marked with `stop_gradient=True`, which means that it will be  treated as a constant and will not have gradients calculated, effectively excluding it from the optimization process.\n",
    "\n",
    "- Updating Parameters\n",
    "\n",
    "    After gradients are calculated, the parameters of the model are updated using an optimizer. The `step` method of the optimizer is called to apply these updates based on the calculated gradients. This step adjusts the parameters according to the specified optimization algorithm, moving the model closer to minimizing the loss function.\n",
    "\n",
    "- Schedulers\n",
    "\n",
    "    Schedulers in PyTorch are used to dynamically adjust the learning rate during training, helping to improve convergence and overall model performance. These schedulers modify the learning rate based on factors such as the number of epochs, the validation loss, or other predefined conditions. By gradually reducing the learning rate as training progresses, schedulers help smooth the optimization process, preventing overshooting and ensuring a more stable path towards the optimal solution.\n"
   ]
  },
  {
   "cell_type": "markdown",
   "metadata": {},
   "source": [
    "## Parameterized quantum circuits (PQCs)\n",
    "\n",
    "PQCs are critical components in variational quantum algorithms, where quantum gates depend on tunable parameters. These parameters are iteratively optimized through classical algorithms to minimize a specific cost function. PQCs play a pivotal role in exploring high-dimensional solution spaces, making them widely applicable in quantum machine learning, optimization, and quantum chemistry simulations. Their ability to leverage quantum superposition and entanglement allows for computationally efficient solutions to problems that are challenging for classical systems.\n",
    "\n",
    "- Structure of PQCs\n",
    "    - Rotation gates in PQCs are characterized by tunable angles, acting as adjustable weights, while fixed two-qubit gates are used to create entanglement within the circuit, enabling the interaction between qubits and enhancing the circuit's capability to represent complex quantum states.\n",
    "\n",
    "    - PQCs can be conceptualized as a neural network, where the input layer corresponds to an initial quantum state and the output layer yields either a final quantum state or the expectation value of an observable, such as a Hamiltonian. The hidden layers are composed of quantum gates, including rotation gates that serve as tunable parameters.\n",
    "\n",
    "    \n",
    "- Training PQCs\n",
    "    - PQCs are trained using classical optimization techniques aimed at minimizing a loss function. This loss is often associated with reaching a target quantum state or optimizing the expectation value of a quantum observable, such as a Hamiltonian. By iteratively adjusting the parameters of the quantum gates, these optimization methods guide the circuit toward improved performance, similar to how neural networks are trained in classical machine learning.\n",
    "        \n",
    "    - Backpropagation in the quantum circuit: parameter updates are performed using techniques such as parameter shift and gradient descent. These methods calculate the gradients of the loss function with respect to the parameters (angles) of the quantum gates."
   ]
  },
  {
   "cell_type": "markdown",
   "metadata": {},
   "source": [
    "## Variational quantum eigensolvers (VQEs)\n",
    "\n",
    "- Background\n",
    "\n",
    "    VQEs is a quantum algorithm designed to find the lowest eigenvalue of a Hamiltonian, which represents the total energy of a quantum system. This problem is crucial in quantum mechanics, as the eigenstates of a Hamiltonian reveal important system properties like energy levels and thermodynamic behavior. Although determining the exact ground state is computationally challenging, VQEs offers a practical approach by variationally approximating the ground state, making it valuable in fields such as quantum chemistry and materials science [1-5].\n",
    "\n",
    "- Theoretical Framework\n",
    "\n",
    "    According to the Rayleigh-Ritz variational principle [6-7], the expectation value of the Hamiltonian provides an lower bound for the true ground state energy. This principle underlies the VQEs approach by parameterizing a quantum state $\\vert \\psi(\\theta)\\rangle$ using a quantum circuit and iteratively optimizing the parameters to minimize the Hamiltonian's expectation value $\\langle \\psi(\\theta)\\vert H \\vert\\psi(\\theta)\\rangle$, VQEs seeks to approximate the system's true ground state,\n",
    "    $$ \\lambda_0 = \\min_{\\theta} \\langle \\psi(\\theta)\\vert H \\vert\\psi(\\theta)\\rangle,$$\n",
    "    where $\\lambda_0$ is approximately the ground state energy of the Hamiltonian $H$. \n",
    "\n",
    "- Application\n",
    "\n",
    "    VQEs can be used to find the ground state energy of the Ising model, a two-dimensional model of ferromagnetism where atomic magnetic moments align. Despite its simplicity, the Ising model exhibits complex behaviors such as spontaneous magnetization and critical phenomena, making it a fundamental tool for understanding collective behavior in physical systems. Exact solutions and numerical simulations of the Ising model also provide insights into more complex systems and phenomena in statistical physics and condensed matter theory.\n",
    "        \n",
    "    For the following example, we consider a specific the Ising model is given by\n",
    "    $$ H = - \\sum_{i=1}^{N-1} Z_{i} Z_{i+1} + \\sum_{i=1}^{N} X_{i}, \\tag{4}$$\n",
    "    where $X_{i}$ and $Z_{i}$ are the Pauli matrices, the external magnetic field strength is set to $1$, interaction strength on each pair of sites is uniform. \n",
    "   \n",
    "    VQEs algorithm is able to find the ground state of the Hamiltonian, which is the lowest eigenvalue of the Hamiltonian. Here are details for implementing VQEs in QuAIRKit."
   ]
  },
  {
   "cell_type": "markdown",
   "metadata": {},
   "source": [
    "Construct a parameters circuit with predefined circuit templates in QuAIRKit."
   ]
  },
  {
   "cell_type": "code",
   "execution_count": 3,
   "metadata": {},
   "outputs": [],
   "source": [
    "def construct_cir(num_qubits: int, depth: int) -> Circuit:\n",
    "    r\"\"\"Construct the quantum circuit for the variational quantum eigensolver.\n",
    "    \n",
    "    Args:\n",
    "        num_qubits: number of qubits in the quantum circuit.\n",
    "        depth: number of training layers in the circuit.\n",
    "    \n",
    "    Returns:\n",
    "        the target quantum circuit\n",
    "    \n",
    "    \"\"\"\n",
    "    circuit = Circuit(num_qubits)\n",
    "\n",
    "    # add qubit gates to the circuit\n",
    "    circuit.complex_entangled_layer(qubits_idx=list(range(num_qubits)), depth=depth)\n",
    "\n",
    "    return circuit"
   ]
  },
  {
   "cell_type": "markdown",
   "metadata": {},
   "source": [
    "Define the loss function as the expectation value of $H$. "
   ]
  },
  {
   "cell_type": "code",
   "execution_count": 4,
   "metadata": {},
   "outputs": [],
   "source": [
    "def loss_fcn(cir: Circuit, exp_val: Callable[[State], torch.Tensor]) -> torch.Tensor:\n",
    "    r\"\"\"Compute the loss function of the quantum neural network.\n",
    "    \n",
    "    Args:\n",
    "        cir: the input PQC\n",
    "        exp_val: the expectation value function\n",
    "    \n",
    "    Returns:\n",
    "        the loss value\n",
    "\n",
    "    \"\"\"\n",
    "    output = cir()  # input state is |0> state by default\n",
    "    return exp_val(output)  # calculate the expectation value of the output state"
   ]
  },
  {
   "cell_type": "markdown",
   "metadata": {},
   "source": [
    "Define the plot generation function to visualize the optimization process."
   ]
  },
  {
   "cell_type": "code",
   "execution_count": 5,
   "metadata": {},
   "outputs": [],
   "source": [
    "def display_results(loss_list: List[float], lambda_0: int, circuit: Circuit) -> None:\n",
    "    r\"\"\"Plot the training process and the final circuit.\n",
    "\n",
    "    Args:\n",
    "        loss_list: the list of loss values during the training process\n",
    "        lambda_0: the ground-state energy\n",
    "        circuit: the final circuit\n",
    "\n",
    "    \"\"\"\n",
    "\n",
    "    print(\"\\n\" + \"-\" * 100 + \"\\n\")  # a line of '-' for better readability\n",
    "    print(\"Circuit after training:\")\n",
    "\n",
    "    circuit.plot()  # plot the circuit\n",
    "\n",
    "    num_itr = len(loss_list)\n",
    "    base_line = lambda_0 * torch.ones(num_itr)\n",
    "    list_itr = list(range(num_itr))\n",
    "\n",
    "\n",
    "    print(\"\\n\" + \"-\" * 100 + \"\\n\")  # a line of '-' for better readability\n",
    "    print(\"Training process:\")\n",
    "\n",
    "    plt.plot(\n",
    "        list_itr,\n",
    "        loss_list,\n",
    "        alpha=0.7,\n",
    "        marker=\"\",\n",
    "        linestyle=\"-\",\n",
    "        color=\"r\",\n",
    "        label=r\"$\\left\\langle {\\psi \\left( {\\theta } \\right)} \\right|\"\n",
    "        + r\"H\\left| {\\psi \\left( {\\theta } \\right)} \\right\\rangle $\",\n",
    "    )\n",
    "    plt.plot(\n",
    "        list_itr,\n",
    "        base_line,\n",
    "        alpha=0.7,\n",
    "        marker=\"\",\n",
    "        linestyle=\":\",\n",
    "        color=\"b\",\n",
    "        label=\"Ground-state energy $\\lambda_0$\",\n",
    "    )\n",
    "    plt.xlabel(\"Number of iteration\")\n",
    "    plt.ylabel(r\"Energy $\\lambda_0$\")\n",
    "    plt.legend(loc=\"best\")\n",
    "    plt.show()"
   ]
  },
  {
   "cell_type": "markdown",
   "metadata": {},
   "source": [
    "Construct the Neural Network model."
   ]
  },
  {
   "cell_type": "code",
   "execution_count": 6,
   "metadata": {},
   "outputs": [],
   "source": [
    "def train_model(num_itr: int, LR: float, num_qubits: int, depth: int, H: Hamiltonian) -> None:\n",
    "\n",
    "    cir = construct_cir(num_qubits, depth)\n",
    "\n",
    "    # calculate the eigenvalues and eigenvectors of the Hamiltonian\n",
    "    eigenvalues = torch.linalg.eigvalsh(H.matrix)\n",
    "\n",
    "    # take the minimum eigenvalue as the ground state energy\n",
    "    lambda_0 = torch.min(torch.real(eigenvalues))\n",
    "\n",
    "    # the expectation value operator of the Hamiltonian H\n",
    "    exp_val = ExpecVal(H)\n",
    "\n",
    "    loss_list, time_list = [], []\n",
    "\n",
    "    # cir is a Circuit type\n",
    "    opt = torch.optim.Adam(lr=LR, params=cir.parameters())\n",
    "\n",
    "    # activate scheduler\n",
    "    scheduler = torch.optim.lr_scheduler.ReduceLROnPlateau(opt, \"min\", factor=0.5)\n",
    "\n",
    "    print(\"Training:\")\n",
    "    for itr in range(num_itr):\n",
    "        start_time = time.time()\n",
    "        opt.zero_grad()\n",
    "\n",
    "        loss = loss_fcn(cir, exp_val)  # compute loss\n",
    "\n",
    "        loss.backward()  # compute gradients\n",
    "        opt.step()  # update parameters\n",
    "        scheduler.step(loss)  # activate scheduler\n",
    "\n",
    "        loss = loss.item()\n",
    "        loss_list.append(loss)\n",
    "        time_list.append(time.time() - start_time)\n",
    "\n",
    "        if itr % 20 == 0 or itr == num_itr - 1:\n",
    "            print(\n",
    "                f\"iter: {itr}, loss: {loss:.8f}, lr: {scheduler.get_last_lr()[0]:.2E}, avg_time: {np.mean(time_list):.4f}s\"\n",
    "            )\n",
    "            time_list = []\n",
    "    \n",
    "    display_results(loss_list, lambda_0, cir)"
   ]
  },
  {
   "cell_type": "markdown",
   "metadata": {},
   "source": [
    "Train the parameterized quantum circuit."
   ]
  },
  {
   "cell_type": "code",
   "execution_count": 7,
   "metadata": {},
   "outputs": [
    {
     "name": "stdout",
     "output_type": "stream",
     "text": [
      "Training:\n",
      "iter: 0, loss: -1.03517652, lr: 5.00E-02, avg_time: 0.0361s\n",
      "iter: 20, loss: -2.40390968, lr: 5.00E-02, avg_time: 0.0113s\n",
      "iter: 40, loss: -2.79073524, lr: 5.00E-02, avg_time: 0.0122s\n",
      "iter: 60, loss: -3.16234064, lr: 5.00E-02, avg_time: 0.0111s\n",
      "iter: 80, loss: -3.45437813, lr: 5.00E-02, avg_time: 0.0147s\n",
      "iter: 100, loss: -3.48992562, lr: 5.00E-02, avg_time: 0.0105s\n",
      "iter: 120, loss: -3.49346781, lr: 5.00E-02, avg_time: 0.0103s\n",
      "iter: 140, loss: -3.49388337, lr: 5.00E-02, avg_time: 0.0119s\n",
      "iter: 160, loss: -3.49395490, lr: 5.00E-02, avg_time: 0.0103s\n",
      "iter: 180, loss: -3.49395800, lr: 5.00E-02, avg_time: 0.0130s\n",
      "iter: 199, loss: -3.49395871, lr: 5.00E-02, avg_time: 0.0122s\n",
      "\n",
      "----------------------------------------------------------------------------------------------------\n",
      "\n",
      "Circuit after training:\n"
     ]
    },
    {
     "data": {
      "image/png": "[encoded data removed]",
      "text/plain": [
       "<Figure size 474x165 with 1 Axes>"
      ]
     },
     "metadata": {},
     "output_type": "display_data"
    },
    {
     "name": "stdout",
     "output_type": "stream",
     "text": [
      "\n",
      "----------------------------------------------------------------------------------------------------\n",
      "\n",
      "Training process:\n"
     ]
    },
    {
     "data": {
      "image/png": "[encoded data removed]",
      "text/plain": [
       "<Figure size 640x480 with 1 Axes>"
      ]
     },
     "metadata": {},
     "output_type": "display_data"
    }
   ],
   "source": [
    "num_qubits = 3  # number of qubits in the system\n",
    "\n",
    "NUM_ITR = 200  # number of iterations for training\n",
    "LR = 0.05  # learning rate for training\n",
    "depth = 2  # depth of the circuit\n",
    "\n",
    "edges = -torch.tensor([[0, 1, 0], [1, 0, 1], [0, 1, 0]])\n",
    "vertices = torch.tensor([1, 1, 1])\n",
    "hamiltonian = ising_hamiltonian(edges, vertices)  # the Ising Hamiltonian\n",
    "\n",
    "train_model(NUM_ITR, LR, num_qubits, depth, hamiltonian)"
   ]
  },
  {
   "cell_type": "markdown",
   "metadata": {},
   "source": [
    "---"
   ]
  },
  {
   "cell_type": "markdown",
   "metadata": {},
   "source": [
    "## References\n",
    "\n",
    "[1] Cao, Yudong, et al. \"Quantum chemistry in the age of quantum computing.\" Chemical reviews 119.19 (2019): 10856-10915.\n",
    "\n",
    "[2] McArdle, Sam, et al. \"Quantum computational chemistry.\" Reviews of Modern Physics 92.1 (2020): 015003.\n",
    "\n",
    "[3] Peruzzo, Alberto, et al. \"A variational eigenvalue solver on a photonic quantum processor.\" Nature communications 5.1 (2014): 4213.\n",
    "\n",
    "[4] Moll, Nikolaj, et al. \"Quantum optimization using variational algorithms on near-term quantum devices.\" Quantum Science and Technology 3.3 (2018): 030503.\n",
    "\n",
    "[5] Tilly, Jules, et al. \"The variational quantum eigensolver: a review of methods and best practices.\" Physics Reports 986 (2022): 1-128.\n",
    "\n",
    "[6] Sakurai, J. J., and Jim Napolitano. Modern Quantum Mechanics. 3rd ed. Cambridge: Cambridge University Press, 2020. Print.\n",
    "\n",
    "[7] Griffiths, David J., and Darrell F. Schroeter. Introduction to Quantum Mechanics. 3rd ed. Cambridge: Cambridge University Press, 2018. Print."
   ]
  },
  {
   "cell_type": "markdown",
   "metadata": {},
   "source": [
    "*Table: A reference of notation conventions in this tutorial.*\n",
    "\n",
    "| Symbol        | Variant          | Description                               |\n",
    "|:---------------:|:------------------:|-------------------------------------------|\n",
    "|  $L$ |   |   loss function|\n",
    "|$\\eta$ | |  learning rate|\n",
    "| $\\operatorname{tr}$ |   |   trace of a matrix|\n",
    "|  $H$ |   |   matrix representation of the Hamiltonian|\n",
    "|  $\\lambda_0$ |   |   the minimum eigenvalue of the Hamiltonian|\n",
    "| $U$ | $U(\\theta)$ |  quantum gate/layer (parameterized by $\\theta$)|\n",
    "| $\\vert \\psi \\rangle$ | $\\vert \\psi(\\theta) \\rangle$ |  pure state (parameterized by $\\theta$)|\n",
    "|  $X$, $Z$ |  $X_i$,  $Z_i$ |  Pauli matrices (on the $i$-th qubit)|"
   ]
  },
  {
   "cell_type": "code",
   "execution_count": 8,
   "metadata": {},
   "outputs": [
    {
     "name": "stdout",
     "output_type": "stream",
     "text": [
      "\n",
      "---------VERSION---------\n",
      "quairkit: 0.3.0\n",
      "torch: 2.5.1+cpu\n",
      "numpy: 1.26.0\n",
      "scipy: 1.14.1\n",
      "matplotlib: 3.10.0\n",
      "---------SYSTEM---------\n",
      "Python version: 3.10.16\n",
      "OS: Windows\n",
      "OS version: 10.0.26100\n",
      "---------DEVICE---------\n",
      "CPU: ARMv8 (64-bit) Family 8 Model 1 Revision 201, Qualcomm Technologies Inc\n"
     ]
    }
   ],
   "source": [
    "qkit.print_info()"
   ]
  }
 ],
 "metadata": {
  "kernelspec": {
   "display_name": "quair_test",
   "language": "python",
   "name": "python3"
  },
  "language_info": {
   "codemirror_mode": {
    "name": "ipython",
    "version": 3
   },
   "file_extension": ".py",
   "mimetype": "text/x-python",
   "name": "python",
   "nbconvert_exporter": "python",
   "pygments_lexer": "ipython3",
   "version": "3.10.16"
  }
 },
 "nbformat": 4,
 "nbformat_minor": 2
}
