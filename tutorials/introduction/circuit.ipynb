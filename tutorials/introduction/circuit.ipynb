{
 "cells": [
  {
   "cell_type": "markdown",
   "metadata": {},
   "source": [
    "# Constructing Quantum Circuits in QuAIRKit\n",
    "\n",
    "A quantum circuit is a series of operations, including quantum gates, initializations of qubits to known values, measurements, that act on qubits to perform a quantum algorithm.\n",
    "Circuits are written such that the horizontal axis is time, starting at the left-hand side and ending at the right. Horizontal lines are qubits, and doubled lines represent classical bits. The items that are connected by these lines are operations performed on the qubits, such as measurements or gates. These lines define the sequence of events and are usually not physical cables\n",
    "QuAIRKit uses the `Circuit` class to represent quantum circuits. In this tutorial, we will learn how to manipulate quantum circuits in QuAIRKit.\n",
    "\n",
    "**Table of contents**\n",
    "\n",
    "- [Constructing quantum circuits](#Constructing-quantum-circuits)\n",
    "  - [Add gates](#Add-gates)\n",
    "  - [Add custom gates](#Add-custom-gates)\n",
    "  - [Add quantum channels](#Add-quantum-channels)\n",
    "  - [Add custom quantum channels](#Add-custom-quantum-channels)\n",
    "  - [Add circuit templates](#Add-circuit-templates)\n",
    "  - [Operator management](#Operator-management)\n",
    "  - [Execution](#Execution)\n",
    "- [Other properties](#Other-properties)"
   ]
  },
  {
   "cell_type": "code",
   "execution_count": 20,
   "metadata": {},
   "outputs": [],
   "source": [
    "import numpy as np\n",
    "import torch\n",
    "\n",
    "import quairkit as qkit\n",
    "from quairkit import Circuit\n",
    "from quairkit.database import *\n",
    "from quairkit.operator import RZ, ChoiRepr, KrausRepr, StinespringRepr, Oracle\n",
    "from quairkit.qinfo import *"
   ]
  },
  {
   "cell_type": "markdown",
   "metadata": {},
   "source": [
    "## Constructing quantum circuits\n",
    "\n",
    "In QuAIRKit, circuits can be generated with or without specifying the total number of qubits."
   ]
  },
  {
   "cell_type": "code",
   "execution_count": 21,
   "metadata": {},
   "outputs": [],
   "source": [
    "num_qubits = 3  # number of qubits\n",
    "cir_static = Circuit(num_qubits)  # construct a circuit with specifying the number of qubits\n",
    "\n",
    "cir = Circuit()  # Create a dynamic circuit (without specifying the number of qubits)"
   ]
  },
  {
   "cell_type": "markdown",
   "metadata": {},
   "source": [
    "### Add operations\n",
    "\n",
    "Fixed gates can be directly called from the attributes of the `Circuit` class. The semantic rule for specifying the locations added operations is as follows:\n",
    "\n",
    "- No inputs: The operations are added across all qubits.\n",
    "- `int`: The single-qubit operation is added to the specified qubit.\n",
    "- `List[int]`: The single-qubit operation is added across the specified qubits, or the multi-qubit operation is added across the specified qubits.\n",
    "- `List[List[int]]`: The multi-qubit operation is added across different groups of specified qubits."
   ]
  },
  {
   "cell_type": "code",
   "execution_count": 22,
   "metadata": {},
   "outputs": [
    {
     "name": "stdout",
     "output_type": "stream",
     "text": [
      "the diagram of a quantum circuit:\n"
     ]
    },
    {
     "data": {
      "image/png": "[encoded data removed]",
      "text/plain": [
       "<Figure size 124x110 with 1 Axes>"
      ]
     },
     "metadata": {},
     "output_type": "display_data"
    },
    {
     "name": "stdout",
     "output_type": "stream",
     "text": [
      "the total number of qubit of the circuit is 2\n"
     ]
    }
   ],
   "source": [
    "cir.h(0)  # Add Hadamard gate to qubit 0\n",
    "cir.x([0, 1])  # Add X gate to qubit 0 and 1\n",
    "cir.cx([0, 1])  # Add CNOT gate to qubit 0 and 1\n",
    "print(\"the diagram of a quantum circuit:\")\n",
    "cir.plot()\n",
    "print(f\"the total number of qubit of the circuit is {cir.num_qubits}\")"
   ]
  },
  {
   "cell_type": "markdown",
   "metadata": {},
   "source": [
    "As the quantum circuit (with the initialization and measurement stages omitted) just represents a unitary evolution, we can express the whole things a matrix. We must follows the following rules:\n",
    "- Composition across wires is achieved by the tensor product.\n",
    "- Composition along (sets of) wires is achieved by the normal matrix product, but **right to left**.\n",
    "\n",
    "For example, the circuit we just constructed is equal to\n",
    "$$\n",
    "U = \\text{CNOT} \\times (X\\otimes X) \\times (H \\otimes I_{2}) = \\frac{1}{\\sqrt{2}}\n",
    "\\begin{bmatrix}\n",
    "0&1&0&-1 \\\\\n",
    "1&0&-1&0 \\\\\n",
    "1&0&1&0 \\\\\n",
    "0&1&0&1\n",
    "\\end{bmatrix}, \\tag{1}\n",
    "$$\n",
    "where $I_{2}$ is the $2\\times 2$ identity.\n",
    "We can verify this equality by `Circuit.unitary_matrix`."
   ]
  },
  {
   "cell_type": "code",
   "execution_count": 23,
   "metadata": {},
   "outputs": [
    {
     "name": "stdout",
     "output_type": "stream",
     "text": [
      "the unitary matrix of the circuit:\n",
      "tensor([[ 0.0000+0.j,  0.7071+0.j,  0.0000+0.j, -0.7071+0.j],\n",
      "        [ 0.7071+0.j,  0.0000+0.j, -0.7071+0.j,  0.0000+0.j],\n",
      "        [ 0.7071+0.j,  0.0000+0.j,  0.7071+0.j,  0.0000+0.j],\n",
      "        [ 0.0000+0.j,  0.7071+0.j,  0.0000+0.j,  0.7071+0.j]])\n"
     ]
    }
   ],
   "source": [
    "print(f\"the unitary matrix of the circuit:\\n{cir.unitary_matrix()}\")"
   ]
  },
  {
   "cell_type": "markdown",
   "metadata": {},
   "source": [
    "We can add more different types of gates, and change the total number of qubits of the circuit."
   ]
  },
  {
   "cell_type": "code",
   "execution_count": 24,
   "metadata": {},
   "outputs": [
    {
     "name": "stdout",
     "output_type": "stream",
     "text": [
      "the diagram of the quantum circuit with more gates:\n"
     ]
    },
    {
     "data": {
      "image/png": "[encoded data removed]",
      "text/plain": [
       "<Figure size 324x165 with 1 Axes>"
      ]
     },
     "metadata": {},
     "output_type": "display_data"
    },
    {
     "name": "stdout",
     "output_type": "stream",
     "text": [
      "the total number of qubit of the circuit is 3\n"
     ]
    }
   ],
   "source": [
    "cir.swap([[1, 2], [0, 2]])  # Add SWAP gate to qubit 1 and 2, and qubit 0 and 2\n",
    "cir.z()  # Add Z gate to all qubits\n",
    "cir.cy()  # Add CY gate in cycle\n",
    "print(\"the diagram of the quantum circuit with more gates:\")\n",
    "cir.plot()\n",
    "print(f\"the total number of qubit of the circuit is {cir.num_qubits}\")"
   ]
  },
  {
   "cell_type": "markdown",
   "metadata": {},
   "source": [
    "When the number of qubits is not specified, the total number of qubits will be changed as operations are added to the circuit. However, please note that, in this case, one cannot add the first operation without specifying the location."
   ]
  },
  {
   "cell_type": "markdown",
   "metadata": {},
   "source": [
    "For parametrized gates, `Circuit` can add the gate with randomly generated parameters, or you can specify them as keyword arguments."
   ]
  },
  {
   "cell_type": "code",
   "execution_count": 25,
   "metadata": {},
   "outputs": [
    {
     "name": "stdout",
     "output_type": "stream",
     "text": [
      "the diagram of a quantum circuit with parametrized gates:\n"
     ]
    },
    {
     "data": {
      "image/png": "[encoded data removed]",
      "text/plain": [
       "<Figure size 829x165 with 1 Axes>"
      ]
     },
     "metadata": {},
     "output_type": "display_data"
    }
   ],
   "source": [
    "cir.rx() # Add Rx gate to all qubits with random parameters\n",
    "cir.rx([0, 1], param=np.arange(2)) # Add RX gate to the first two qubits with specified parameters\n",
    "\n",
    "cir.u3([0]) # Add universal single qubit gate\n",
    "cir.universal_two_qubits([0, 1]) # Add universal two qubits gate\n",
    "cir.universal_three_qubits([0, 1, 2]) # Add universal three qubits gate\n",
    "\n",
    "print(\"the diagram of a quantum circuit with parametrized gates:\")\n",
    "cir.plot()"
   ]
  },
  {
   "cell_type": "markdown",
   "metadata": {},
   "source": [
    "### Add custom gates\n",
    "\n",
    "We have shown how to insert a gate into a `Circuit`. Moreover, one can add custom gates by specifying the matrix representation of the gate. This can be done through `Circuit.oracle`.\n",
    "\n",
    "For instance, consider the $n$-qubit inverse quantum Fourier transformation (QFT). It is a unitary operation whose matrix is given by\n",
    "$$\n",
    "\\text{QFT}^{\\dagger}=\\frac{1}{\\sqrt{N}}\n",
    "\\begin{bmatrix}\n",
    "1&1&1&\\dots&1\\\\\n",
    "1&\\omega^{N-1}&\\omega^{N-2}&\\dots&\\omega\\\\\n",
    "1&\\omega^{2(N-1)}&\\omega^{2(N-2)}&\\dots&\\omega^{2}\\\\\n",
    "\\vdots&\\vdots&\\vdots&\\dots&\\vdots\\\\\n",
    "1&\\omega^{(N-1)(N-1)}&\\omega^{(N-1)(N-2)}&\\dots&\\omega^{N-1}\\\\\n",
    "\\end{bmatrix}, \\tag{2}\n",
    "$$\n",
    "where $N=2^{n}$ is the dimension of the Hilbert space and $\\omega=e^{2\\pi i/N}$."
   ]
  },
  {
   "cell_type": "code",
   "execution_count": 26,
   "metadata": {},
   "outputs": [
    {
     "name": "stdout",
     "output_type": "stream",
     "text": [
      "the diagram of a quantum circuit with a custom gate:\n"
     ]
    },
    {
     "data": {
      "image/png": "[encoded data removed]",
      "text/plain": [
       "<Figure size 889x165 with 1 Axes>"
      ]
     },
     "metadata": {},
     "output_type": "display_data"
    }
   ],
   "source": [
    "qft_mat = qft_matrix(num_qubits=2)  # construct a 2-qubit quantum Fourier transformation (QFT) operator\n",
    "qft_inverse = dagger(qft_mat)  # get the inverse QFT\n",
    "\n",
    "cir.oracle(qft_inverse, qubits_idx=[0, 1], latex_name=r'$\\text{QFT}_{2}^{\\dagger}$')  # add custom gate\n",
    "\n",
    "print(\"the diagram of a quantum circuit with a custom gate:\")\n",
    "cir.plot()"
   ]
  },
  {
   "cell_type": "markdown",
   "metadata": {},
   "source": [
    "Users can also implement custom gates using `Circuit.append`."
   ]
  },
  {
   "cell_type": "code",
   "execution_count": 27,
   "metadata": {},
   "outputs": [
    {
     "name": "stdout",
     "output_type": "stream",
     "text": [
      "the diagram of a quantum circuit with custom gates:\n"
     ]
    },
    {
     "data": {
      "image/png": "[encoded data removed]",
      "text/plain": [
       "<Figure size 979x165 with 1 Axes>"
      ]
     },
     "metadata": {},
     "output_type": "display_data"
    }
   ],
   "source": [
    "qft_mat = qft_matrix(num_qubits=3)  # construct a 3-qubit quantum Fourier transformation (QFT) operator\n",
    "qft_inverse = dagger(qft_mat)  # get the inverse QFT\n",
    "custom_unitary = Oracle(qft_inverse, gate_info={'texname': r'$QFT_{3}^{\\dagger}$'})\n",
    "\n",
    "cir.append(custom_unitary)\n",
    "\n",
    "print(\"the diagram of a quantum circuit with custom gates:\")\n",
    "cir.plot()"
   ]
  },
  {
   "cell_type": "markdown",
   "metadata": {},
   "source": [
    "Furthermore, in QuAIRKit, adding a controlled custom gate is supported."
   ]
  },
  {
   "cell_type": "code",
   "execution_count": 28,
   "metadata": {},
   "outputs": [
    {
     "name": "stdout",
     "output_type": "stream",
     "text": [
      "the diagram of a quantum circuit with a controlled custom gate:\n"
     ]
    },
    {
     "data": {
      "image/png": "[encoded data removed]",
      "text/plain": [
       "<Figure size 1039x165 with 1 Axes>"
      ]
     },
     "metadata": {},
     "output_type": "display_data"
    }
   ],
   "source": [
    "cir.control_oracle(random_unitary(num_qubits=2), qubits_idx=[0, 1, 2], gate_name=\"O\")\n",
    "\n",
    "print(\"the diagram of a quantum circuit with a controlled custom gate:\")\n",
    "cir.plot()"
   ]
  },
  {
   "cell_type": "markdown",
   "metadata": {},
   "source": [
    "### Add quantum channels\n",
    "\n",
    "Similar construction semantic applies to quantum channels such as depolarizing channel, bit-phase flip channel and so on. However, the related plot logic is not supported yet."
   ]
  },
  {
   "cell_type": "code",
   "execution_count": 29,
   "metadata": {},
   "outputs": [],
   "source": [
    "cir.depolarizing(prob=0.1, qubits_idx=[0])  # add a depolarizing channel (with probability 0.1) to qubit 0\n",
    "cir.bit_phase_flip(0.2)  # Add bit-phase flip channels (with probability 0.2) to all qubits"
   ]
  },
  {
   "cell_type": "markdown",
   "metadata": {},
   "source": [
    "### Add custom quantum channels \n",
    "\n",
    "One can also add a custom quantum channel to a `Circuit`, where the quantum channel can be in Choi, Kraus, or Stinespring representations. We show how to add a custom channel using these three different representations."
   ]
  },
  {
   "cell_type": "code",
   "execution_count": 30,
   "metadata": {},
   "outputs": [],
   "source": [
    "rho = random_state(num_qubits=3)\n",
    "replacement_choi_repr = replacement_choi(rho)  # replacement channel in Choi representation\n",
    "cir.choi_channel(replacement_choi_repr, system_idx=[0, 1, 2])  # add replacement channel in Choi representation\n",
    "\n",
    "reset_kraus_repr = reset_kraus([0.1, 0.2])  # reset channel in Kraus representation\n",
    "cir.kraus_channel(reset_kraus_repr, system_idx=2)  # add reset channel in Kraus representation\n",
    "\n",
    "random_stin_repr = random_channel(num_systems=1, target=\"stinespring\")  # random single-qubit channel in Stinespring representation\n",
    "cir.stinespring_channel(random_stin_repr, system_idx=1)  # add random channel in Stinespring representation"
   ]
  },
  {
   "cell_type": "markdown",
   "metadata": {},
   "source": [
    "Similarly, you can implement custom channels using `Circuit.append`."
   ]
  },
  {
   "cell_type": "code",
   "execution_count": 31,
   "metadata": {},
   "outputs": [
    {
     "data": {
      "text/plain": [
       "Circuit(\n",
       "  (0): H()\n",
       "  (1): X()\n",
       "  (2): CNOT()\n",
       "  (3): SWAP()\n",
       "  (4): Z()\n",
       "  (5): CY()\n",
       "  (6): RX()\n",
       "  (7): RX()\n",
       "  (8): U3()\n",
       "  (9): UniversalTwoQubits()\n",
       "  (10): UniversalThreeQubits()\n",
       "  (11): Oracle()\n",
       "  (12): Oracle()\n",
       "  (13): ControlOracle()\n",
       "  (14): Depolarizing()\n",
       "  (15): BitPhaseFlip()\n",
       "  (16): ChoiRepr()\n",
       "  (17): KrausRepr()\n",
       "  (18): StinespringRepr()\n",
       "  (19): ChoiRepr()\n",
       "  (20): KrausRepr()\n",
       "  (21): StinespringRepr()\n",
       ")"
      ]
     },
     "execution_count": 31,
     "metadata": {},
     "output_type": "execute_result"
    }
   ],
   "source": [
    "choi_op = random_channel(num_systems=2, target=\"choi\")\n",
    "choi_repr = ChoiRepr(choi_op, system_idx=[1, 2])\n",
    "cir.append(choi_repr)\n",
    "\n",
    "kraus_op = random_channel(num_systems=1, target=\"kraus\")\n",
    "kraus_repr = KrausRepr(kraus_op, system_idx=0)\n",
    "cir.append(kraus_repr)\n",
    "\n",
    "stine_op = random_channel(num_systems=3, target=\"stinespring\")\n",
    "stine_repr = StinespringRepr(stine_op, system_idx=[0, 1, 2])\n",
    "cir.append(stine_repr)"
   ]
  },
  {
   "cell_type": "markdown",
   "metadata": {},
   "source": [
    "More available operations can be found in the [API document](www.quairkit.com)."
   ]
  },
  {
   "cell_type": "markdown",
   "metadata": {},
   "source": [
    "### Add circuit templates\n",
    "\n",
    "QuAIRKit provides predefined circuit templates, or ansatz consisting of a sequence of gates applied to qubits. Note that the templates are only available for the circuits with a known number of qubits."
   ]
  },
  {
   "cell_type": "code",
   "execution_count": 32,
   "metadata": {},
   "outputs": [
    {
     "name": "stdout",
     "output_type": "stream",
     "text": [
      "the diagram of a quantum circuit with different kinds of layers:\n"
     ]
    },
    {
     "data": {
      "image/png": "[encoded data removed]",
      "text/plain": [
       "<Figure size 2159x165 with 1 Axes>"
      ]
     },
     "metadata": {},
     "output_type": "display_data"
    }
   ],
   "source": [
    "num_qubits = 3  # number of qubits\n",
    "cir = Circuit(num_qubits)\n",
    "\n",
    "cir.linear_entangled_layer(depth=1)  # add a linear entangled layer\n",
    "\n",
    "cir.real_block_layer(depth=2)  # add real block layers in depth 2\n",
    "cir.real_entangled_layer(depth=1)  # add a real entangled layer\n",
    "\n",
    "cir.complex_block_layer(depth=1)  # add a complex block layer \n",
    "cir.complex_entangled_layer(depth=1)  # add a complex entangled layer\n",
    "\n",
    "print(\"the diagram of a quantum circuit with different kinds of layers:\")\n",
    "cir.plot()"
   ]
  },
  {
   "cell_type": "markdown",
   "metadata": {},
   "source": [
    "### Operator management\n",
    "\n",
    "`Circuit` is essentially a list of `Operator` objects. Thus, one can access the operations by indexing the `Circuit` object."
   ]
  },
  {
   "cell_type": "code",
   "execution_count": 33,
   "metadata": {},
   "outputs": [
    {
     "name": "stdout",
     "output_type": "stream",
     "text": [
      "The matrix of the gate at the 5th position is\n",
      " tensor([[[ 0.7492+0.j, -0.6624+0.j],\n",
      "         [ 0.6624+0.j,  0.7492+0.j]],\n",
      "\n",
      "        [[ 0.8098+0.j, -0.5868+0.j],\n",
      "         [ 0.5868+0.j,  0.8098+0.j]]], grad_fn=<SqueezeBackward0>)\n"
     ]
    }
   ],
   "source": [
    "print(\"The matrix of the gate at the 5th position is\\n\", cir[4].matrix)"
   ]
  },
  {
   "cell_type": "markdown",
   "metadata": {},
   "source": [
    "Note that the order here is from left to right."
   ]
  },
  {
   "cell_type": "markdown",
   "metadata": {},
   "source": [
    "Users can also add or remove the operations for advanced setup."
   ]
  },
  {
   "cell_type": "code",
   "execution_count": 34,
   "metadata": {},
   "outputs": [
    {
     "name": "stdout",
     "output_type": "stream",
     "text": [
      "The quantum circuit after adding gates is: \n"
     ]
    },
    {
     "data": {
      "image/png": "[encoded data removed]",
      "text/plain": [
       "<Figure size 294x165 with 1 Axes>"
      ]
     },
     "metadata": {},
     "output_type": "display_data"
    },
    {
     "name": "stdout",
     "output_type": "stream",
     "text": [
      "The quantum circuit after removing gates is:\n"
     ]
    },
    {
     "data": {
      "image/png": "[encoded data removed]",
      "text/plain": [
       "<Figure size 204x165 with 1 Axes>"
      ]
     },
     "metadata": {},
     "output_type": "display_data"
    }
   ],
   "source": [
    "cir = Circuit(num_qubits=3)\n",
    "\n",
    "# Set parameters and customize quantum gates. Here we select Ry, Rx, Rz gates\n",
    "param = np.random.rand(2)\n",
    "\n",
    "# By default, randomly generates a set of parameters\n",
    "rz_gate = RZ(param=param, qubits_idx=[1, 2])\n",
    "\n",
    "# Add quantum gates\n",
    "cir.ry([0, 2])\n",
    "cir.rx([0, 1])\n",
    "cir.insert(index=2, module=rz_gate)  # index where to insert\n",
    "\n",
    "print(\"The quantum circuit after adding gates is: \")\n",
    "cir.plot()\n",
    "\n",
    "cir.pop(1)  # Remove Rx gate\n",
    "print(\"The quantum circuit after removing gates is:\")\n",
    "cir.plot()"
   ]
  },
  {
   "cell_type": "markdown",
   "metadata": {},
   "source": [
    "### Circuit execution\n",
    "\n",
    "The `Circuit` object can be executed by calling the object itself, and you can apply the circuit to a specific initial state."
   ]
  },
  {
   "cell_type": "code",
   "execution_count": 35,
   "metadata": {},
   "outputs": [
    {
     "name": "stdout",
     "output_type": "stream",
     "text": [
      "the output state for inputting zero state is: \n",
      "---------------------------------------------------\n",
      " Backend: state_vector\n",
      " System dimension: [2, 2, 2]\n",
      " System sequence: [2, 1, 0]\n",
      "[0.67-0.62j 0.13-0.12j 0.  +0.j   0.  +0.j   0.35-0.07j 0.07-0.01j\n",
      " 0.  +0.j   0.  +0.j  ]\n",
      "---------------------------------------------------\n",
      "\n",
      "the output state for inputting state rho is: \n",
      "---------------------------------------------------\n",
      " Backend: density_matrix\n",
      " System dimension: [2, 2, 2]\n",
      " System sequence: [2, 1, 0]\n",
      "[[ 0.13+0.j   -0.03-0.03j -0.02+0.06j  0.02-0.01j -0.01+0.05j  0.04+0.1j\n",
      "  -0.04-0.03j  0.06-0.03j]\n",
      " [-0.03+0.03j  0.18-0.j   -0.03-0.02j -0.13+0.01j -0.07+0.j    0.01-0.01j\n",
      "   0.  -0.02j -0.09-0.02j]\n",
      " [-0.02-0.06j -0.03+0.02j  0.1 +0.j    0.05+0.01j  0.  -0.02j  0.02-0.03j\n",
      "   0.04+0.03j -0.  -0.03j]\n",
      " [ 0.02+0.01j -0.13-0.01j  0.05-0.01j  0.15+0.j    0.03+0.01j -0.05+0.03j\n",
      "   0.02-0.02j  0.08+0.03j]\n",
      " [-0.01-0.05j -0.07-0.j    0.  +0.02j  0.03-0.01j  0.11+0.j    0.04-0.01j\n",
      "  -0.06+0.04j  0.03-0.j  ]\n",
      " [ 0.04-0.1j   0.01+0.01j  0.02+0.03j -0.05-0.03j  0.04+0.01j  0.12+0.j\n",
      "  -0.05+0.04j -0.03-0.07j]\n",
      " [-0.04+0.03j  0.  +0.02j  0.04-0.03j  0.02+0.02j -0.06-0.04j -0.05-0.04j\n",
      "   0.09+0.j   -0.01+0.02j]\n",
      " [ 0.06+0.03j -0.09+0.02j -0.  +0.03j  0.08-0.03j  0.03+0.j   -0.03+0.07j\n",
      "  -0.01-0.02j  0.13+0.j  ]]\n",
      "---------------------------------------------------\n",
      "\n"
     ]
    }
   ],
   "source": [
    "output_state = cir()  # Run the circuit with initial state |0>\n",
    "print(\"the output state for inputting zero state is:\", output_state)\n",
    "\n",
    "rho = random_state(num_qubits=3)\n",
    "output_state = cir(rho)  # Run the circuit with initial state sigma\n",
    "print(\"the output state for inputting state rho is:\", output_state)"
   ]
  },
  {
   "cell_type": "markdown",
   "metadata": {},
   "source": [
    "## Other properties\n",
    "\n",
    "`Circuit` Class has other properties for further information and manipulation. For example, it includes properties like `depth`, `gate_history`, `unitary_matrix` and so on."
   ]
  },
  {
   "cell_type": "code",
   "execution_count": 36,
   "metadata": {},
   "outputs": [
    {
     "name": "stdout",
     "output_type": "stream",
     "text": [
      "the circuit depth is 2 \n",
      "\n",
      "the gate history of the circuit is [{'gate': 'ry', 'which_system': [0], 'theta': tensor([[0.3819]], grad_fn=<SelectBackward0>)}, {'gate': 'ry', 'which_system': [2], 'theta': tensor([[0.7412]], grad_fn=<SelectBackward0>)}, {'gate': 'rz', 'which_system': [1], 'theta': tensor([[0.9501]])}, {'gate': 'rz', 'which_system': [2], 'theta': tensor([[0.5337]])}] \n",
      "\n",
      "the qubit history of the circuit is [[[{'gate': 'ry', 'which_system': [0], 'theta': tensor([[0.3819]], grad_fn=<SelectBackward0>)}, 0]], [[{'gate': 'rz', 'which_system': [1], 'theta': tensor([[0.9501]])}, 2]], [[{'gate': 'ry', 'which_system': [2], 'theta': tensor([[0.7412]], grad_fn=<SelectBackward0>)}, 1], [{'gate': 'rz', 'which_system': [2], 'theta': tensor([[0.5337]])}, 3]]]\n"
     ]
    }
   ],
   "source": [
    "print(\"the circuit depth is\", cir.depth, \"\\n\")\n",
    "\n",
    "print(\"the gate history of the circuit is\", cir.gate_history, \"\\n\")\n",
    "\n",
    "print(\"the qubit history of the circuit is\", cir.system_history)"
   ]
  },
  {
   "cell_type": "markdown",
   "metadata": {},
   "source": [
    "Additionally, one can update the parameters of parameterized gates (if they exist) using the `update_param` method."
   ]
  },
  {
   "cell_type": "code",
   "execution_count": 37,
   "metadata": {},
   "outputs": [
    {
     "name": "stdout",
     "output_type": "stream",
     "text": [
      "the trainable parameters of entire circuit are tensor([0.3819, 0.7412])\n",
      "the updated trainable parameters of entire circuit are tensor([1., 1.])\n"
     ]
    }
   ],
   "source": [
    "print(\"the trainable parameters of entire circuit are\", cir.param)\n",
    "\n",
    "cir.update_param(torch.ones_like(cir.param))  # update the parameters of the circuit\n",
    "print(\"the updated trainable parameters of entire circuit are\", cir.param)"
   ]
  },
  {
   "cell_type": "markdown",
   "metadata": {},
   "source": [
    "It is worth noting that `Circuit` is inherently a subclass of `torch.Module`, implying that variational quantum circuit can be used as a part of the neural network model in PyTorch."
   ]
  },
  {
   "cell_type": "markdown",
   "metadata": {},
   "source": [
    "---"
   ]
  },
  {
   "cell_type": "markdown",
   "metadata": {},
   "source": [
    "## References\n",
    "\n",
    "[1] Nielsen, Michael A., and Isaac L. Chuang. *Quantum computation and quantum information*. Cambridge university press, 2010."
   ]
  },
  {
   "cell_type": "markdown",
   "metadata": {},
   "source": [
    "*Table: A reference of notation conventions in this tutorial.*\n",
    "\n",
    "| Symbol        | Variant          | Description                               |\n",
    "|:---------------:|:------------------:|-------------------------------------------|\n",
    "|$U$| |unitary matrix|\n",
    "|$\\text{CNOT}$| |controlled-NOT gate|\n",
    "|$X$| |Pauli X gate|\n",
    "|$H$| |Hadamard gate|\n",
    "|$R_{x/y/z}$| $R_{x/y/z}(\\theta)$ | rotation wrt. the axis of $X$/$Y$/$Z$ (with angle $\\theta$)|\n",
    "|$I$| $I_{2}$ | ($2\\times 2$) identity matrix|\n",
    "|$\\text{QFT}$| $\\text{QFT}_n$ | ($n$-qubit) quantum Fourier transformation matrix|"
   ]
  },
  {
   "cell_type": "code",
   "execution_count": 38,
   "metadata": {},
   "outputs": [
    {
     "name": "stdout",
     "output_type": "stream",
     "text": [
      "\n",
      "---------VERSION---------\n",
      "quairkit: 0.2.0\n",
      "torch: 2.4.1+cpu\n",
      "numpy: 1.26.0\n",
      "scipy: 1.14.1\n",
      "matplotlib: 3.9.2\n",
      "---------SYSTEM---------\n",
      "Python version: 3.10.15\n",
      "OS: Windows\n",
      "OS version: 10.0.26100\n",
      "---------DEVICE---------\n",
      "CPU: ARMv8 (64-bit) Family 8 Model 1 Revision 201, Qualcomm Technologies Inc\n"
     ]
    }
   ],
   "source": [
    "qkit.print_info()"
   ]
  }
 ],
 "metadata": {
  "kernelspec": {
   "display_name": "quair_test",
   "language": "python",
   "name": "python3"
  },
  "language_info": {
   "codemirror_mode": {
    "name": "ipython",
    "version": 3
   },
   "file_extension": ".py",
   "mimetype": "text/x-python",
   "name": "python",
   "nbconvert_exporter": "python",
   "pygments_lexer": "ipython3",
   "version": "3.10.15"
  }
 },
 "nbformat": 4,
 "nbformat_minor": 2
}
