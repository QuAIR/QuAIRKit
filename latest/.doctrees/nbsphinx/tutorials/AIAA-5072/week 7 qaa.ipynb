{
 "cells": [
  {
   "cell_type": "code",
   "execution_count": 1,
   "id": "ef22cbb8",
   "metadata": {},
   "outputs": [],
   "source": [
    "%%bash\n",
    "if ! python -c \"import quairkit\" 2>/dev/null; then\n",
    "    pip install quairkit\n",
    "fi\n",
    "\n",
    "if ! command -v pdftotext &> /dev/null; then\n",
    "    conda install -c conda-forge poppler\n",
    "fi"
   ]
  },
  {
   "cell_type": "markdown",
   "id": "f3b9c9b6",
   "metadata": {},
   "source": [
    "# Quantum state amplitude amplification\n",
    "\n",
    "<em style=\"color:gray;\">Copyright (c) 2025 QuAIR team. All Rights Reserved.</em>\n",
    "\n",
    "This tutorial introduces amplitude amplification and its practical implementations in QuAIRKit. It covers the general amplitude amplification framework, the special case of unstructured search (Grover's algorithm), and the oblivious amplitude amplification (OAA). \n",
    "\n",
    "**Table of Contents**\n",
    "\n",
    "- [Problem statement](#problem-statement)\n",
    "  - [Assumptions](#assumptions) \n",
    "  - [Quantum amplitude amplification](#quantum-amplitude-amplification)\n",
    "- [Unstructured search problem](#unstructured-search-problem)\n",
    "- [Oblivious amplitude amplification](#oblivious-amplitude-amplification)\n",
    "- [Extension](#extension)"
   ]
  },
  {
   "cell_type": "code",
   "execution_count": 2,
   "id": "7bf2e8cb",
   "metadata": {},
   "outputs": [],
   "source": [
    "import torch\n",
    "import numpy as np\n",
    "from typing import List, Callable, Optional\n",
    "\n",
    "import quairkit as qkit\n",
    "from quairkit import Circuit, to_state\n",
    "from quairkit.ansatz import Layer\n",
    "from quairkit.operator import Oracle, ControlOracle, H\n",
    "from quairkit.database import *\n",
    "from quairkit.qinfo import *\n",
    "\n",
    "qkit.set_dtype('complex128')"
   ]
  },
  {
   "cell_type": "markdown",
   "id": "31daac40",
   "metadata": {},
   "source": [
    "## Problem statement\n",
    "\n",
    "Consider the problem of quantum amplitude amplification. We assume there exists a unitary operation $U$ such that:\n",
    "\n",
    "$$\n",
    "U |0^k\\rangle = |\\varphi\\rangle \\tag{1}\n",
    "$$\n",
    "\n",
    "where $k$ is the number of qubits, and the state $|\\varphi\\rangle$ can be expressed as:\n",
    "\n",
    "$$\n",
    "|\\varphi\\rangle = \\sin (\\theta) |\\psi\\rangle + \\cos (\\theta) |\\psi^{\\perp}\\rangle \\tag{2}\n",
    "$$\n",
    "\n",
    "Here, $|\\psi\\rangle$ is referred to as the \"good state,\" and is orthogonal to $|\\psi^{\\perp}\\rangle$, i.e., $\\langle\\psi | \\psi^{\\perp}\\rangle = 0$.\n",
    "\n",
    "In this decomposition the coefficients $\\sin(\\theta)$ and $\\cos(\\theta)$ are the quantum amplitudes of the corresponding components. More generally, an amplitude is a complex coefficient multiplying a basis component of a quantum state: its squared magnitude gives the measurement probability for that component (e.g. the probability of obtaining $|\\psi\\rangle$ here is $\\sin^2(\\theta)$). \n",
    "\n",
    "Our goal is to find a quantum circuit $Q$ such that for any integer $n$, the following holds:\n",
    "\n",
    "$$\n",
    "Q^n (U |0^k\\rangle) = \\sin((2n+1)\\theta) |\\psi\\rangle + \\cos((2n+1)\\theta) |\\psi^{\\perp}\\rangle  \\tag{4}\n",
    "$$\n",
    "\n",
    "This allows us to effectively amplify the amplitude of the state $|\\psi\\rangle$ using the circuit $Q$.\n"
   ]
  },
  {
   "cell_type": "markdown",
   "id": "ab289b4a",
   "metadata": {},
   "source": [
    "### Assumptions\n",
    "\n",
    "To realize amplitude amplification we assume access to the following oracles:\n",
    "- **State preparation oracle** $U$ and its inverse $U^{\\dagger}$. This prepares $|\\varphi\\rangle=U|0^k\\rangle$."
   ]
  },
  {
   "cell_type": "code",
   "execution_count": 3,
   "id": "2819ebc0",
   "metadata": {},
   "outputs": [],
   "source": [
    "num_qubits = 5\n",
    "U = random_unitary(num_qubits)\n",
    "phi = zero_state(num_qubits).evolve(U)"
   ]
  },
  {
   "cell_type": "markdown",
   "id": "b1757088",
   "metadata": {},
   "source": [
    "- **Reflection (phase) oracle about the good subspace**: a unitary $S = I - 2|\\psi\\rangle\\langle\\psi|$ that flips the sign of the good state(s).\n",
    "\n",
    "The \"good subspace\" refers to the subspace spanned by the target quantum state $|\\psi\\rangle$ whose amplitude we want to amplify in the quantum amplitude amplification algorithm."
   ]
  },
  {
   "cell_type": "code",
   "execution_count": 4,
   "id": "c7d9dca9",
   "metadata": {},
   "outputs": [],
   "source": [
    "psi = random_state(num_qubits, rank=1)\n",
    "\n",
    "amplitude_tensor = torch.abs(phi.bra @ psi.ket)\n",
    "amplitude = torch.clamp(amplitude_tensor, 0, 1).item()\n",
    "theta = torch.asin(torch.tensor(amplitude)).item()\n",
    "\n",
    "S = torch.eye(2**num_qubits) - 2 * (psi.ket @ psi.bra)"
   ]
  },
  {
   "cell_type": "markdown",
   "id": "ab720713",
   "metadata": {},
   "source": [
    "### Quantum Amplitude Amplification\n",
    "\n",
    "The quantum amplitude amplification algorithm increases the amplitude of the \"good state\" by iteratively applying a combination of operators that effects a rotation in the invariant two-dimensional plane spanned by $|\\psi\\rangle$ and $|\\psi^{\\perp}\\rangle$, thus amplifying the component along the target state $|\\psi\\rangle$.\n",
    "\n",
    "In the foundational work by Brassard et al. [1], the quantum operator $Q$ for solving the amplitude amplification problem is constructed as a composition of two fundamental operators. \n",
    "\n",
    "The first operator is a reflection (phase) oracle about the good subspace: $S = \\mathbb{I} - 2|\\psi\\rangle\\langle\\psi|$, which flips the sign of the good state. \n",
    "\n",
    "The second component is the diffusion operator: $D = \\mathbb{I} - 2|\\varphi\\rangle\\langle\\varphi|$, which implements a reflection about the initial state $|\\varphi\\rangle$. \n",
    "\n",
    "The composition of these two operators yields what has become known as the Grover operator (or amplitude amplification operator):\n",
    "$$Q = -DS$$\n",
    "\n",
    "The geometric interpretation of this operator reveals that each application of $Q$ corresponds to a rotation in the two-dimensional subspace $\\mathcal{H} = \\text{span}\\{|\\psi\\rangle, |\\psi^{\\perp}\\rangle\\}$, systematically increasing the amplitude of the target state. To prove this, we give the following theorem:"
   ]
  },
  {
   "cell_type": "markdown",
   "id": "4c4daa0e",
   "metadata": {},
   "source": [
    "**Theorem.** The operator $Q = -DS$ is a rotation by angle $-2\\theta$ in $\\mathcal{H}$.\n",
    "\n",
    "**Proof.** We proceed by computing the matrix representation of $Q$ in the orthonormal basis $\\mathbb{B} = \\{|\\psi\\rangle, |\\psi^{\\perp}\\rangle\\}$.\n",
    "\n",
    "The oracle reflection $S$ acts as the identity on all states orthogonal to $|\\psi\\rangle$ and reflects $|\\psi\\rangle$ to $-|\\psi\\rangle$. In our chosen basis:\n",
    "\n",
    "$$\n",
    "S = \\mathbb{I} - 2|\\psi\\rangle\\langle\\psi| = \\begin{pmatrix} -1 & 0 \\\\ 0 & 1 \\end{pmatrix}_\\mathbb{B}\n",
    "$$\n",
    "\n",
    "For the diffusion operator, we express the initial state as $|\\varphi\\rangle = \\sin\\theta\\,|\\psi\\rangle + \\cos\\theta\\,|\\psi^{\\perp}\\rangle$. The projection operator becomes:\n",
    "$$\n",
    "|\\varphi\\rangle\\langle\\varphi| = \\begin{pmatrix} \\sin^2\\theta & \\sin\\theta\\cos\\theta \\\\ \\sin\\theta\\cos\\theta & \\cos^2\\theta \\end{pmatrix}_\\mathbb{B}  $$\n",
    "\n",
    "Therefore, the diffusion operator is:\n",
    "$$\n",
    "\\begin{aligned}\n",
    "D &= \\mathbb{I} - 2|\\varphi\\rangle\\langle\\varphi| \\\\\n",
    "&= \\begin{pmatrix} 1 & 0 \\\\ 0 & 1 \\end{pmatrix} - 2\\begin{pmatrix} \\sin^2\\theta & \\sin\\theta\\cos\\theta \\\\ \\sin\\theta\\cos\\theta & \\cos^2\\theta \\end{pmatrix}_\\mathbb{B} \\\\\n",
    "&= \\begin{pmatrix} \\cos 2\\theta & -\\sin 2\\theta \\\\ -\\sin 2\\theta & -\\cos 2\\theta \\end{pmatrix}_\\mathbb{B}\n",
    "\\end{aligned}  \n",
    "$$\n",
    "\n",
    "Computing the product $DS$:\n",
    "$$\n",
    "\\begin{aligned}\n",
    "DS &= \\begin{pmatrix} \\cos 2\\theta & -\\sin 2\\theta \\\\ -\\sin 2\\theta & -\\cos 2\\theta \\end{pmatrix}_\\mathbb{B} \\begin{pmatrix} -1 & 0 \\\\ 0 & 1 \\end{pmatrix}_\\mathbb{B} \\\\\n",
    "&= \\begin{pmatrix} -\\cos 2\\theta & -\\sin 2\\theta \\\\ \\sin 2\\theta & -\\cos 2\\theta \\end{pmatrix}_\\mathbb{B}\n",
    "\\end{aligned}  \n",
    "$$\n",
    "\n",
    "Thus, the Grover operator is:\n",
    "$$\n",
    "Q = -DS = \\begin{pmatrix} \\cos 2\\theta & \\sin 2\\theta \\\\ -\\sin 2\\theta & \\cos 2\\theta \\end{pmatrix}_\\mathbb{B}\n",
    "$$\n",
    "\n",
    "This is precisely the rotation matrix $R_{-2\\theta}$ representing a rotation by angle $-2\\theta$.\n",
    "\n",
    "After $n$ iterations of $Q$ on the initial state $|\\varphi\\rangle = (\\sin\\theta, \\cos\\theta)^T$:\n",
    "$$\\begin{aligned}\n",
    "Q^n|\\varphi\\rangle &= \\begin{pmatrix} \\cos 2\\theta & \\sin 2\\theta \\\\ -\\sin 2\\theta & \\cos 2\\theta \\end{pmatrix}_\\mathbb{B}^n \\begin{pmatrix} \\sin\\theta \\\\ \\cos\\theta \\end{pmatrix}_\\mathbb{B} \\\\\n",
    "&= \\begin{pmatrix} \\cos(2n\\theta) & \\sin(2n\\theta) \\\\ -\\sin(2n\\theta) & \\cos(2n\\theta) \\end{pmatrix}_\\mathbb{B} \\begin{pmatrix} \\sin\\theta \\\\ \\cos\\theta \\end{pmatrix}_\\mathbb{B} \\\\\n",
    "&= \\begin{pmatrix} \\sin((2n+1)\\theta) \\\\ \\cos((2n+1)\\theta) \\end{pmatrix}_\\mathbb{B}\n",
    "\\end{aligned} \n",
    "$$\n",
    "\n",
    "Therefore:\n",
    "$$\n",
    "Q^n U|0^k\\rangle = \\sin((2n+1)\\theta)\\,|\\psi\\rangle + \\cos((2n+1)\\theta)\\,|\\psi^{\\perp}\\rangle \n",
    "\\tag{5}$$\n",
    "\n",
    "The success probability after $n$ iterations is $\\sin^2((2n+1)\\theta)$."
   ]
  },
  {
   "cell_type": "markdown",
   "id": "21cd774c",
   "metadata": {},
   "source": [
    "As for the implementation, note that $D = I - 2|\\varphi\\rangle\\langle\\varphi|$ can be realized using elementary gates. Since $|\\varphi\\rangle = U|0^k\\rangle$, we can express the diffusion operator as:\n",
    "$$\n",
    "D = U\\,(I-2|0^k\\rangle\\langle 0^k|)\\,U^{\\dagger}  \n",
    "\\tag{6}$$\n",
    "\n",
    "Thus the implementation reduces to realizing the phase-flip operator $I-2|0^k\\rangle\\langle 0^k|$, which multiplies the zero state $|0^k\\rangle$ by $-1$ and leaves all orthogonal states unchanged. A standard way to implement $I-2|0^k\\rangle\\langle 0^k|$ on $l$ qubits is:\n",
    "\n",
    "1. Apply $X$ gates to all qubits so that $|0^k\\rangle$ is mapped to $|1^k\\rangle$.\n",
    "2. Apply a multi-controlled $Z$ (phase) gate that flips the phase of $|1^k\\rangle$ (this can be built from Toffoli gates plus a single-qubit $Z$ or using ancilla qubits to reduce the multi-control cost).\n",
    "3. Apply the same $X$ gates again to restore the computational basis.\n",
    "\n",
    "Below is the code implementation of a Grover operator."
   ]
  },
  {
   "cell_type": "code",
   "execution_count": 5,
   "id": "07ef55c3",
   "metadata": {},
   "outputs": [],
   "source": [
    "class Grover(Layer):\n",
    "    r\"\"\"Circuit layer for Grover operator\n",
    "    \n",
    "    Args:\n",
    "        qubits_idx: Indices of the qubits in the circuit.\n",
    "        num: The number of Grover iterations to perform.\n",
    "        oracle: The state preparation oracle to use in the Grover operator. If None, then default to hadamard gates.\n",
    "        diffusion: The diffusion operator to use in the Grover operator.\n",
    "    \"\"\"\n",
    "    def __init__(self, qubits_idx: List[int], num: int, oracle: Optional[torch.Tensor], diffusion: torch.Tensor) -> None:\n",
    "        super().__init__(qubits_idx, num, 'Grover operator')\n",
    "        \n",
    "        self.oracle = oracle\n",
    "        self.diffusion = diffusion\n",
    "        \n",
    "        for _ in range(num):\n",
    "            self.__add_layer()\n",
    "        \n",
    "    def __add_layer(self) -> None:\n",
    "        qubits_idx, oracle, diffusion = self.system_idx, self.oracle, self.diffusion\n",
    "        \n",
    "        self.append(Oracle(diffusion, qubits_idx, gate_info={\"tex\": r'I - 2|\\psi\\rangle\\!\\langle\\psi|'}))\n",
    "        \n",
    "        if oracle is None:\n",
    "            self.append(H(qubits_idx))\n",
    "        else:\n",
    "            self.append(Oracle(dagger(oracle), qubits_idx, gate_info={\"tex\": r'U^\\dagger'}))\n",
    "        \n",
    "        control_idx, apply_idx = qubits_idx[:-1], qubits_idx[-1]\n",
    "        self.append(ControlOracle(-z(), [control_idx, apply_idx], index=0, \n",
    "                                  acted_system_dim=[2] * len(qubits_idx), gate_info={\"tex\": r'-Z'}))\n",
    "        \n",
    "        if oracle is None:\n",
    "            self.append(H(qubits_idx))\n",
    "        else:\n",
    "            self.append(Oracle(oracle, qubits_idx, gate_info={\"tex\": r'U'}))"
   ]
  },
  {
   "cell_type": "code",
   "execution_count": 6,
   "id": "71c541ba",
   "metadata": {},
   "outputs": [
    {
     "data": {
      "image/png": "[encoded data removed]",
      "text/plain": [
       "<IPython.core.display.Image object>"
      ]
     },
     "metadata": {},
     "output_type": "display_data"
    }
   ],
   "source": [
    "l = 3  \n",
    "\n",
    "cir = Circuit(num_qubits)\n",
    "cir.oracle(oracle=U, system_idx=list(range(num_qubits)), latex_name=r'U')\n",
    "\n",
    "cir.append(Grover(list(range(num_qubits)), l, U, S))\n",
    "\n",
    "cir.plot(style='compact')"
   ]
  },
  {
   "cell_type": "markdown",
   "id": "ecfa96e8",
   "metadata": {},
   "source": [
    "Below we show that the squared absolute value of the inner product between the output state and $\\ket{\\psi}$ is\n",
    "$\n",
    "\\sin^2\\!\\big((2n+1)\\theta\\big).\n",
    "$"
   ]
  },
  {
   "cell_type": "code",
   "execution_count": 7,
   "id": "aac591a1",
   "metadata": {},
   "outputs": [],
   "source": [
    "input_state = zero_state(num_qubits)\n",
    "\n",
    "sin_theta_complex = psi.bra @ U @ input_state.ket\n",
    "sin_theta = torch.abs(sin_theta_complex)\n",
    "theta = torch.asin(torch.clamp(sin_theta, -1, 1))"
   ]
  },
  {
   "cell_type": "code",
   "execution_count": 8,
   "id": "398e63a7",
   "metadata": {},
   "outputs": [
    {
     "name": "stdout",
     "output_type": "stream",
     "text": [
      "Number of iterations n: 3\n",
      "Initial angle θ: 0.1105\n",
      "Initial amplitude sin(θ): 0.1103\n",
      "Theoretical probability sin²((2n+1)θ): 0.488338\n",
      "Actual probability |<ψ|output>|²: 0.488338\n",
      "Absolute difference: 9.44e-16\n"
     ]
    }
   ],
   "source": [
    "output_state = cir(input_state)\n",
    "\n",
    "actual_amplitude = psi.bra @ output_state.ket\n",
    "actual_probability = torch.abs(actual_amplitude) ** 2\n",
    "\n",
    "theoretical_amplitude = torch.sin((2*l + 1) * theta).abs()\n",
    "theoretical_probability = theoretical_amplitude ** 2\n",
    "\n",
    "difference = torch.abs(actual_probability - theoretical_probability)\n",
    "\n",
    "print(f\"Number of iterations n: {l}\")\n",
    "print(f\"Initial angle θ: {theta.item():.4f}\")\n",
    "print(f\"Initial amplitude sin(θ): {sin_theta.item():.4f}\")\n",
    "print(f\"Theoretical probability sin²((2n+1)θ): {theoretical_probability.item():.6f}\")\n",
    "print(f\"Actual probability |<ψ|output>|²: {actual_probability.item():.6f}\")\n",
    "print(f\"Absolute difference: {difference.item():.2e}\")"
   ]
  },
  {
   "cell_type": "markdown",
   "id": "a5857c3d",
   "metadata": {},
   "source": [
    "## Unstructured search problem\n",
    "\n",
    "Unstructured search concerns finding an element that satisfies a Boolean predicate in a list with no ordering or structure, serving as a benchmark to compare classical and quantum query complexities.  \n",
    "\n",
    "Classically: given $\\{0,\\dots,N-1\\}$ and an oracle $f:\\{0,\\dots,N-1\\}\\to\\{0,1\\}$ with marked set $M=\\{x:f(x)=1\\}$ of size $m$, the task is to find an $x\\in M$. Any randomized classical algorithm requires $\\Theta(N/m)$ queries in expectation[3].\n",
    "\n",
    "The quantum unstructured search problem is defined as follows: given $n$ qubits representing a state space $\\{|0\\rangle, |1\\rangle, \\ldots, |N-1\\rangle\\}$ where $N = 2^n$, and access to a quantum oracle $O_f = I - 2\\sum_{x \\in M}|x\\rangle\\langle x|$ that flips the phase of marked states, where $M = \\{x : f(x) = 1\\}$ is the set of $m$ marked items, the task is to find an element $x \\in M$.\n",
    "\n",
    "The quantum approach prepares the uniform superposition $|\\varphi\\rangle = H^{\\otimes n}|0\\rangle = \\frac{1}{\\sqrt{N}}\\sum_{x=0}^{N-1}|x\\rangle$ and defines the good state $|\\psi\\rangle = \\frac{1}{\\sqrt{m}}\\sum_{x\\in M}|x\\rangle$. The initial amplitude is $\\sin\\theta = \\sqrt{m/N}$, where $\\theta$ characterizes the overlap between the uniform state and the good subspace."
   ]
  },
  {
   "cell_type": "code",
   "execution_count": 9,
   "id": "d738ff83",
   "metadata": {},
   "outputs": [
    {
     "name": "stdout",
     "output_type": "stream",
     "text": [
      "\n",
      "Search space size N = 32\n",
      "Number of marked elements m = 3\n",
      "Marked element indices: [ 3 27 31]\n"
     ]
    }
   ],
   "source": [
    "N = 2**num_qubits\n",
    "m = 3  \n",
    "\n",
    "marked_items = np.random.choice(N, m, replace=False)\n",
    "print(f\"\\nSearch space size N = {N}\")\n",
    "print(f\"Number of marked elements m = {m}\")\n",
    "print(f\"Marked element indices: {np.sort(marked_items)}\")"
   ]
  },
  {
   "cell_type": "markdown",
   "id": "2d19282c",
   "metadata": {},
   "source": [
    "\n",
    "As an example, we generate a random function $f$ and provide the corresponding oracle $O_f$, $\\ket{\\psi}$, and $S$."
   ]
  },
  {
   "cell_type": "code",
   "execution_count": 10,
   "id": "aceb4c53",
   "metadata": {},
   "outputs": [
    {
     "name": "stdout",
     "output_type": "stream",
     "text": [
      "\n",
      "Theoretical parameters:\n",
      "sin(θ) = √(m/N) = 0.3062\n",
      "θ = 0.3112\n"
     ]
    }
   ],
   "source": [
    "f: Callable[[int], int] = lambda x: 1 if x in marked_items else 0\n",
    "\n",
    "psi = torch.zeros(N)\n",
    "for i in marked_items:\n",
    "    psi[i] = 1\n",
    "psi = to_state(psi / torch.norm(psi))\n",
    "\n",
    "S = Of(f, num_qubits)\n",
    "\n",
    "print(f\"\\nTheoretical parameters:\")\n",
    "print(f\"sin(θ) = √(m/N) = {np.sqrt(m/N):.4f}\")\n",
    "theta_grover = np.arcsin(np.sqrt(m/N))\n",
    "print(f\"θ = {theta_grover:.4f}\")"
   ]
  },
  {
   "cell_type": "markdown",
   "id": "05e6e410",
   "metadata": {},
   "source": [
    "Grover's algorithm applies amplitude amplification to the unstructured search problem. Starting from the uniform state $|\\varphi\\rangle = H^{\\otimes n}|0\\rangle$, the Grover operator $Q$ rotates the state vector in the two-dimensional subspace spanned by $\\{|\\psi\\rangle,|\\psi^\\perp\\rangle\\}$, systematically increasing the good amplitude.\n",
    "\n",
    "If the initial \"good\" state amplitude is $\\sin\\theta$, then after $k$ iterations of standard amplitude amplification (the repeated application of the Grover operator $Q = -DS$), the \"good\" state amplitude becomes $\\sin\\big((2k+1)\\theta\\big)$, and the success probability is $\\sin^2\\big((2k+1)\\theta\\big)$.\n",
    "\n",
    "To maximize the success probability, choose $k$ such that $(2k+1)\\theta \\approx \\frac{\\pi}{2}$, which gives $k \\approx \\frac{\\pi}{4\\theta} - \\frac{1}{2}$. In practice, take $k = \\left\\lfloor \\frac{\\pi}{4\\theta} - \\frac{1}{2} \\right\\rfloor$.\n",
    "\n",
    "For the single-solution case ($m=1$), we have $\\sin\\theta = \\sqrt{m/N} = 1/\\sqrt{N}$. For large $N$, this gives $\\theta \\approx \\sin\\theta = 1/\\sqrt{N}$. Applying the optimization formula:\n",
    "$$\n",
    "k \\approx \\frac{\\pi}{4\\theta} - \\frac{1}{2} \\approx \\frac{\\pi}{4 \\cdot (1/\\sqrt{N})} - \\frac{1}{2} = \\frac{\\pi\\sqrt{N}}{4} - \\frac{1}{2}  \n",
    "\\tag{7}$$\n",
    "\n",
    "Therefore, Grover's algorithm finds a solution with high probability using $O(\\sqrt{N})$ queries to $O_f$, compared with the classical lower bound of $\\Theta(N)$ queries, demonstrating a quadratic quantum speedup.\n",
    "\n",
    "The following code computes the theoretical optimal number of Grover iterations:"
   ]
  },
  {
   "cell_type": "code",
   "execution_count": 11,
   "id": "9697dcaa",
   "metadata": {},
   "outputs": [
    {
     "name": "stdout",
     "output_type": "stream",
     "text": [
      "\n",
      "Theoretical optimal number of iterations: 2\n"
     ]
    }
   ],
   "source": [
    "optimal_iterations = int(np.floor(np.pi / (4 * theta_grover) - 0.5))\n",
    "print(f\"\\nTheoretical optimal number of iterations: {optimal_iterations}\")"
   ]
  },
  {
   "cell_type": "markdown",
   "id": "422c3252",
   "metadata": {},
   "source": [
    "The following code constructs and executes the Grover quantum circuit with the optimal iteration count, then analyzes the measurement probabilities to verify the theoretical predictions"
   ]
  },
  {
   "cell_type": "code",
   "execution_count": 12,
   "id": "68a335e6",
   "metadata": {},
   "outputs": [
    {
     "data": {
      "image/png": "[encoded data removed]",
      "text/plain": [
       "<IPython.core.display.Image object>"
      ]
     },
     "metadata": {},
     "output_type": "display_data"
    }
   ],
   "source": [
    "cir = Circuit(num_qubits)\n",
    "cir.h()\n",
    "cir.append(Grover(list(range(num_qubits)), optimal_iterations, None, S))\n",
    "cir.measure()\n",
    "\n",
    "cir.plot(style='compact')"
   ]
  },
  {
   "cell_type": "code",
   "execution_count": 13,
   "id": "d8ef4ccc",
   "metadata": {},
   "outputs": [
    {
     "name": "stdout",
     "output_type": "stream",
     "text": [
      "\n",
      "Measurement probabilities for each basis state (showing only states with probability > 0.01):\n",
      "  | 3⟩ = |00011⟩: 0.3333 ✓ (marked state)\n",
      "  |27⟩ = |11011⟩: 0.3333 ✓ (marked state)\n",
      "  |31⟩ = |11111⟩: 0.3333 ✓ (marked state)\n",
      "\n",
      "Total success probability: 0.999779\n",
      "Theoretical optimal probability: 0.999779\n"
     ]
    }
   ],
   "source": [
    "prob = cir().probability\n",
    "\n",
    "print(f\"\\nMeasurement probabilities for each basis state (showing only states with probability > 0.01):\")\n",
    "for i in range(N):\n",
    "    if prob[i] > 0.01:\n",
    "        is_marked = \"✓ (marked state)\" if i in marked_items else \"\"\n",
    "        binary_str = format(i, f'0{num_qubits}b')\n",
    "        print(f\"  |{i:2d}⟩ = |{binary_str}⟩: {prob[i].item():.4f} {is_marked}\")\n",
    "\n",
    "total_success_prob = sum(prob[x] for x in marked_items)\n",
    "print(f\"\\nTotal success probability: {total_success_prob.item():.6f}\")\n",
    "print(f\"Theoretical optimal probability: {np.sin((2*optimal_iterations + 1) * theta_grover)**2:.6f}\")"
   ]
  },
  {
   "cell_type": "markdown",
   "id": "faf173c3",
   "metadata": {},
   "source": [
    "## Oblivious amplitude amplification\n",
    "\n",
    "The QAA algorithm[1], while powerful, suffers from a fundamental limitation: it requires access to an oracle $S$ that selectively inverts the phase of marked states. However, implementing $S$ typically necessitates prior knowledge of the target state $\\ket{\\psi}$, creating a circular dependency. This requirement undermines the practical quantum advantage of algorithms like Grover's search, as one cannot employ QAA without already knowing $\\ket{\\psi}$.\n",
    "\n",
    "To fix this problem, we turn to study a variant of the amplitude amplification problem. The problem statement is as follows: consider a unitary $U$ acting on $\\mu$ ancilla qubits and $n$ system qubits, satisfying\n",
    "\n",
    "$$\n",
    "U | 0^\\mu \\rangle | \\psi \\rangle = \\sin(\\theta) | 0^\\mu \\rangle V | \\psi \\rangle + \\cos(\\theta) | \\Phi^\\perp \\rangle\n",
    "\\tag{8}$$\n",
    "\n",
    "where $V$ is an unknown unitary and $| \\Phi^\\perp \\rangle$ is an $(\\mu+n)$-qubit state with $\\Pi| \\Phi^\\perp \\rangle = 0$ for $\\Pi = \\ket{0^\\mu}\\bra{0^\\mu} \\otimes \\mathbb{I}$. The goal is to amplify the amplitude of the state $V|\\psi\\rangle$.\n",
    "\n",
    "The solution of this problem is known as oblivious amplitude amplification[2]. The key insight is that we can amplify desired amplitudes by only querying a unitary $U$ and its inverse $U^\\dagger$, without needing direct access to the target operation $V$ or knowledge of the input state $| \\psi \\rangle$. This makes the amplification process \"oblivious\" to the specific input state, requiring only reflections in the ancilla space rather than reflections about unknown quantum states."
   ]
  },
  {
   "cell_type": "markdown",
   "id": "28d94737",
   "metadata": {},
   "source": [
    "One common example for such unitary $U$ is for the technique of linear combination of unitaries (LCU) [4], where $U$ is constructed as a controlled operation over a set of unitaries $\\{U_j\\}_j$ with control states in the ancilla register."
   ]
  },
  {
   "cell_type": "code",
   "execution_count": 14,
   "id": "cc5e030d",
   "metadata": {},
   "outputs": [],
   "source": [
    "num_ancilla_qubit = 3\n",
    "num_main_qubit = 5\n",
    "\n",
    "U = random_lcu(num_main_qubit, num_ancilla_qubit)"
   ]
  },
  {
   "cell_type": "markdown",
   "id": "5aa5e7be",
   "metadata": {},
   "source": [
    "In the code, we simplify the main register by treating it as a large qudit system."
   ]
  },
  {
   "cell_type": "code",
   "execution_count": 15,
   "id": "0a95e720",
   "metadata": {},
   "outputs": [],
   "source": [
    "dim_main = 2 ** num_main_qubit\n",
    "system_dim = [2] * num_ancilla_qubit + [dim_main]\n",
    "\n",
    "psi = random_state(1, rank=1, system_dim=dim_main)"
   ]
  },
  {
   "cell_type": "markdown",
   "id": "5a65f462",
   "metadata": {},
   "source": [
    "Initial state amplitude can be computed as $|\\sin(\\theta)| = || \\Pi (U | 0^\\mu \\rangle | \\psi \\rangle) ||$."
   ]
  },
  {
   "cell_type": "code",
   "execution_count": 16,
   "id": "6df543a5",
   "metadata": {},
   "outputs": [],
   "source": [
    "zero = zero_state(num_ancilla_qubit)\n",
    "input_state = nkron(zero, psi)\n",
    "projector = nkron(zero.density_matrix, torch.eye(dim_main))\n",
    "\n",
    "initial_amplitude = torch.norm(projector @ U @ input_state.ket)\n",
    "theta = torch.asin(initial_amplitude)"
   ]
  },
  {
   "cell_type": "markdown",
   "id": "c4bf990a",
   "metadata": {},
   "source": [
    "## Implementation of Oblivious Amplitude Amplification\n",
    "\n",
    "Define the following two operators:\n",
    "- $R = 2\\Pi - \\mathbb{I}$: reflection about the subspace with ancilla in $|0^\\mu\\rangle$\n",
    "- $Q = -URU^\\dagger R$: the amplification operator\n",
    "\n",
    "The operator $Q$ acts as a generalized rotation in a two-dimensional subspace, analogous to standard amplitude amplification but without requiring reflection about the unknown input state.\n",
    "\n",
    "**Theorem.** For any integer $l$ and any $n$-qudit state $|\\psi\\rangle$:\n",
    "$$\n",
    "Q^l U|0^\\mu\\rangle|\\psi\\rangle = \\sin((2l+1)\\theta)|0^\\mu\\rangle V|\\psi\\rangle + \\cos((2l+1)\\theta)|\\Phi^\\perp\\rangle  \n",
    "\\tag{9}$$\n",
    "\n",
    "**Proof.** We proceed by establishing that the evolution remains within a two-dimensional subspace.\n",
    "\n",
    "Define the states:\n",
    "- $|\\psi_g\\rangle = |0^\\mu\\rangle V|\\psi\\rangle$ \n",
    "- $|\\psi_b\\rangle = |\\Phi^\\perp\\rangle$ \n",
    "\n",
    "These states form an orthonormal basis for the relevant subspace, since $\\Pi|\\psi_b\\rangle = 0$ implies $\\langle \\psi_g|\\psi_b\\rangle = 0$, and both states are normalized (the normalization of $|\\psi_b\\rangle$ follows from the unitarity of $U$).\n",
    "\n",
    "The initial state after applying $U$ can be written as:\n",
    "$$U|0^\\mu\\rangle|\\psi\\rangle = \\sin(\\theta)|\\psi_g\\rangle + \\cos(\\theta)|\\psi_b\\rangle  \n",
    "\\tag{10}$$\n",
    "\n",
    "The reflection $R$ acts as:\n",
    "- $R|\\psi_g\\rangle = |\\psi_g\\rangle$ (since $\\Pi|\\psi_g\\rangle = |\\psi_g\\rangle$)\n",
    "- $R|\\psi_b\\rangle = -|\\psi_b\\rangle$ (since $\\Pi|\\psi_b\\rangle = 0$)\n",
    "\n",
    "To compute the action of $Q = -URU^\\dagger R$ in the subspace spanned by $\\{|\\psi_g\\rangle, |\\psi_b\\rangle\\}$, we introduce auxiliary states:\n",
    "- $|\\alpha\\rangle = \\sin(\\theta)|\\psi_g\\rangle + \\cos(\\theta)|\\psi_b\\rangle = U|0^\\mu\\rangle|\\psi\\rangle$ \n",
    "- $|\\beta\\rangle = \\cos(\\theta)|\\psi_g\\rangle - \\sin(\\theta)|\\psi_b\\rangle$ (orthogonal to $|\\alpha\\rangle$)\n",
    "\n",
    "The operator $URU^\\dagger$ reflects about $|\\alpha\\rangle$:\n",
    "- $URU^\\dagger|\\alpha\\rangle = |\\alpha\\rangle$\n",
    "- $URU^\\dagger|\\beta\\rangle = -|\\beta\\rangle$\n",
    "\n",
    "Expressing the basis states in terms of $\\{|\\alpha\\rangle, |\\beta\\rangle\\}$:\n",
    "- $|\\psi_g\\rangle = \\sin(\\theta)|\\alpha\\rangle + \\cos(\\theta)|\\beta\\rangle$\n",
    "- $|\\psi_b\\rangle = \\cos(\\theta)|\\alpha\\rangle - \\sin(\\theta)|\\beta\\rangle$\n",
    "\n",
    "Computing $Q|\\psi_g\\rangle$:\n",
    "$$\n",
    "\\begin{aligned}\n",
    "URU^\\dagger|\\psi_g\\rangle & = \\sin(\\theta)|\\alpha\\rangle - \\cos(\\theta)|\\beta\\rangle = -\\cos(2\\theta)|\\psi_g\\rangle + \\sin(2\\theta)|\\psi_b\\rangle \\\\\n",
    "Q|\\psi_g\\rangle           & = -URU^\\dagger R|\\psi_g\\rangle = \\cos(2\\theta)|\\psi_g\\rangle - \\sin(2\\theta)|\\psi_b\\rangle\n",
    "\\end{aligned}\n",
    "$$\n",
    "\n",
    "Computing $Q|\\psi_b\\rangle$:\n",
    "$$\n",
    "\\begin{aligned}\n",
    "URU^\\dagger|\\psi_b\\rangle & = \\cos(\\theta)|\\alpha\\rangle + \\sin(\\theta)|\\beta\\rangle = \\sin(2\\theta)|\\psi_g\\rangle + \\cos(2\\theta)|\\psi_b\\rangle \\\\\n",
    "Q|\\psi_b\\rangle           & = -URU^\\dagger R|\\psi_b\\rangle = URU^\\dagger|\\psi_b\\rangle = \\sin(2\\theta)|\\psi_g\\rangle + \\cos(2\\theta)|\\psi_b\\rangle\n",
    "\\end{aligned}\n",
    "$$\n",
    "\n",
    "In the basis $\\mathbb{B} = \\{|\\psi_g\\rangle, |\\psi_b\\rangle\\}$:\n",
    "$$Q = \\begin{pmatrix} \\cos(2\\theta) & \\sin(2\\theta) \\\\ -\\sin(2\\theta) & \\cos(2\\theta) \\end{pmatrix}_\\mathbb{B}  \n",
    "$$\n",
    "\n",
    "This is a rotation matrix by angle $-2\\theta$. Therefore:\n",
    "$$Q^l = \\begin{pmatrix} \\cos(2l\\theta) & \\sin(2l\\theta) \\\\ -\\sin(2l\\theta) & \\cos(2l\\theta) \\end{pmatrix}_\\mathbb{B}  \n",
    "$$\n",
    "\n",
    "Applying $Q^l$ to the initial state:\n",
    "\n",
    "$$\\begin{aligned}\n",
    "Q^l U|0^\\mu\\rangle|\\psi\\rangle &= Q^l(\\sin(\\theta)|\\psi_g\\rangle + \\cos(\\theta)|\\psi_b\\rangle) \\\\\n",
    "&= \\begin{pmatrix} \\cos(2l\\theta) & \\sin(2l\\theta) \\\\ -\\sin(2l\\theta) & \\cos(2l\\theta) \\end{pmatrix}_\\mathbb{B} \\begin{pmatrix} \\sin(\\theta) \\\\ \\cos(\\theta) \\end{pmatrix}_\\mathbb{B} \\\\\n",
    "&= \\begin{pmatrix} \\sin((2l+1)\\theta) \\\\ \\cos((2l+1)\\theta) \\end{pmatrix}_\\mathbb{B} \\\\\n",
    "&= \\sin((2l+1)\\theta)|\\psi_g\\rangle + \\cos((2l+1)\\theta)|\\psi_b\\rangle \\\\\n",
    "&= \\sin((2l+1)\\theta)|0^\\mu\\rangle V|\\psi\\rangle + \\cos((2l+1)\\theta)|\\Phi^\\perp\\rangle\n",
    "\\end{aligned}$$\n",
    "\n",
    "<figure style=\"text-align: center;\">\n",
    "  <img src=\"figures/qaa_grover.png\" alt=\"alt text\"/>\n",
    "  <figcaption>The Q operator performs a 2θ rotation, amplifying the good component. </figcaption>\n",
    "</figure>\n",
    "\n",
    "This completes the proof. The amplification proceeds without knowledge of $|\\psi\\rangle$, requiring only the ability to implement $U$ and the reflection $R$ about the ancilla subspace. The following is the OAA layer implements the amplification operator $Q$ up to a global phase."
   ]
  },
  {
   "cell_type": "code",
   "execution_count": 17,
   "id": "2061d840",
   "metadata": {},
   "outputs": [],
   "source": [
    "class OAA(Layer):\n",
    "    r\"\"\"Circuit layer for oblivious amplitude amplification operator\n",
    "    \n",
    "    Args:\n",
    "        system_idx: Indices of the systems in the circuit.\n",
    "        num: The number of OAA iterations to perform.\n",
    "        U_op: The state preparation unitary operator.\n",
    "        dims: List of dimensions for each subsystem [ancilla_dim, main_dim].\n",
    "    \"\"\"\n",
    "    def __init__(self, system_idx: List[int], num: int, oracle: torch.Tensor) -> None:\n",
    "        super().__init__(system_idx, num, 'Amplification operator', system_dim=system_dim)\n",
    "        \n",
    "        self.oracle = oracle\n",
    "        \n",
    "        for _ in range(num):\n",
    "            self.__add_layer()\n",
    "        \n",
    "    def __add_layer(self) -> None:\n",
    "        system_idx = self.system_idx\n",
    "        ancilla_dim = system_dim[:-1]\n",
    "        \n",
    "        control_idx, apply_idx = list(range(num_ancilla_qubit - 1)), num_ancilla_qubit - 1\n",
    "        self.append(ControlOracle(-z(), [control_idx, apply_idx], index=0, \n",
    "                                  acted_system_dim=ancilla_dim, gate_info={\"tex\": r'-Z'}))\n",
    "        \n",
    "        self.append(Oracle(dagger(self.oracle), system_idx, acted_system_dim=system_dim, \n",
    "                          gate_info={\"tex\": r'U^\\dagger'}))\n",
    "        \n",
    "        self.append(ControlOracle(-z(), [control_idx, apply_idx], index=0, \n",
    "                                  acted_system_dim=ancilla_dim, gate_info={\"tex\": r'-Z'}))\n",
    "        \n",
    "        self.append(Oracle(self.oracle, system_idx, acted_system_dim=system_dim, \n",
    "                          gate_info={\"tex\": r'U'}))\n"
   ]
  },
  {
   "cell_type": "markdown",
   "id": "f97459e7",
   "metadata": {},
   "source": [
    "As an experiment, we can show that OAA would do the same thing as the conventional one. For simplicity, consider a iteration number $l = \\lfloor \\frac{3\\pi}{4\\theta} - \\frac{1}{2} \\rfloor$ such that $|\\sin((2l + 1)\\theta)| \\to 1$."
   ]
  },
  {
   "cell_type": "code",
   "execution_count": 18,
   "id": "09ce2d47",
   "metadata": {},
   "outputs": [],
   "source": [
    "l = int(torch.floor(3 * torch.pi / (4 * theta) - 0.5))\n",
    "theoretical_amplitude = torch.abs(torch.sin((2*l + 1) * theta))"
   ]
  },
  {
   "cell_type": "markdown",
   "id": "50304637",
   "metadata": {},
   "source": [
    "The overall circuit is constructed as follows:"
   ]
  },
  {
   "cell_type": "code",
   "execution_count": 19,
   "id": "0f8873f6",
   "metadata": {},
   "outputs": [
    {
     "data": {
      "image/png": "[encoded data removed]",
      "text/plain": [
       "<IPython.core.display.Image object>"
      ]
     },
     "metadata": {},
     "output_type": "display_data"
    }
   ],
   "source": [
    "cir = Circuit(num_systems=num_ancilla_qubit + 1, system_dim=system_dim)\n",
    "\n",
    "cir.oracle(U, system_idx=list(range(num_ancilla_qubit + 1)), latex_name=r'U')\n",
    "cir.append(OAA(list(range(num_ancilla_qubit + 1)), l, U))\n",
    "\n",
    "cir.plot('compact')"
   ]
  },
  {
   "cell_type": "markdown",
   "id": "1de06a55",
   "metadata": {},
   "source": [
    "As shown below, the circuit enhances the amplitude from $|\\sin(\\theta)|$ to $|\\sin((2l+1)\\theta)|$. By choosing $l$ such that $(2l+1)\\theta \\approx \\pi/2$, we can implement $V$ with near-certainty without ever needing to know the specific form of $\\ket{\\psi}$.\n",
    "\n",
    "This construction is particularly useful when $U$ can be efficiently implemented but $V$ itself is difficult to realize directly. The amplification process effectively \"extracts\" the $V$ operation from $U$ through repeated applications of $Q = -URU^\\dagger R$."
   ]
  },
  {
   "cell_type": "code",
   "execution_count": 20,
   "id": "e047fde4",
   "metadata": {},
   "outputs": [
    {
     "name": "stdout",
     "output_type": "stream",
     "text": [
      "Expect amplitude = 0.956992\n",
      "Actual amplitude = 0.956992\n",
      "Absolute difference: 1.11e-15\n"
     ]
    }
   ],
   "source": [
    "output_state = cir(input_state)\n",
    "actual_amplitude = torch.norm(projector @ output_state.ket)\n",
    "difference = torch.abs(actual_amplitude - theoretical_amplitude)\n",
    "\n",
    "print(f\"Expect amplitude = {theoretical_amplitude.item():.6f}\")\n",
    "print(f\"Actual amplitude = {actual_amplitude.item():.6f}\")\n",
    "print(f\"Absolute difference: {difference.item():.2e}\")"
   ]
  },
  {
   "cell_type": "markdown",
   "id": "54683144",
   "metadata": {},
   "source": [
    "## Extension\n",
    "\n",
    "### Quantum Singular Value Transformation Framework\n",
    "\n",
    "Oblivious amplitude amplification is a special case of the more general quantum singular value transformation (QSVT)[5] framework. QSVT provides a systematic method for implementing polynomial transformations on the singular values of a block-encoded matrix. In the context of OAA, the unitary $U$ block-encodes the operator $V$ with singular value $\\sin(\\theta)$. The amplification process corresponds to applying a polynomial transformation to this singular value.\n",
    "\n",
    "Specifically, QSVT operates on the two-dimensional subspace spanned by $\\{\\ket{0}V\\ket{\\psi}, \\ket{\\Phi^\\perp}\\}$ and implements polynomial functions of the block-encoding parameter. The OAA operator $S^l U$ realizes the Chebyshev polynomial of the first kind: $f(\\sin(\\theta)) = \\sin((2l+1)\\theta)$, which corresponds to the linear transformation $f(x) = T_{2l+1}(x)$ where $T_n$ is the $n$-th Chebyshev polynomial. This perspective reveals that OAA performs a specific polynomial transformation that amplifies the desired component while preserving unitarity.\n",
    "\n",
    "### Eliminating the Requirement for $U^\\dagger$\n",
    "\n",
    "While the standard formulation of OAA requires both $U$ and $U^\\dagger$, the inverse operation can be eliminated since for any $d$-dimensional unitary $U$, the inverse $U^\\dagger$ can be implemented using $O(d^2)$ controlled applications of $U$[6].\n",
    "\n",
    "The construction works by decomposing $U^\\dagger$ as a linear combination of powers of $U$: since $U$ is unitary with eigenvalues on the unit circle, we can write $U^\\dagger = \\sum_{k=0}^{d-1} c_k U^k$ for appropriate coefficients $c_k$. Using the Linear Combination of Unitaries (LCU) technique, this decomposition can be implemented with $O(d^2)$ queries to controlled-$U$ operations. Therefore, OAA requires only the ability to implement $U$, making it truly \"oblivious\" in the sense that neither $V$ nor $U^\\dagger$ needs to be explicitly known or implemented."
   ]
  },
  {
   "cell_type": "markdown",
   "id": "6bddaaac",
   "metadata": {},
   "source": [
    "---"
   ]
  },
  {
   "cell_type": "markdown",
   "id": "f96d1e32",
   "metadata": {},
   "source": [
    "## References\n",
    "\n",
    "[1] Brassard, Gilles, et al. \"Quantum amplitude amplification and estimation.\" arXiv preprint quant-ph/0005055 (2000).\n",
    "\n",
    "[2] Berry, Dominic W., et al. \"Exponential improvement in precision for simulating sparse Hamiltonians.\" Proceedings of the forty-sixth annual ACM symposium on Theory of computing. 2014.\n",
    "\n",
    "[3] Santha, Miklos. \"Quantum walk based search algorithms.\" International Conference on Theory and Applications of Models of Computation. Berlin, Heidelberg: Springer Berlin Heidelberg, 2008.\n",
    "\n",
    "[4] Childs, Andrew M., and Nathan Wiebe. \"Hamiltonian simulation using linear combinations of unitary operations.\" arXiv preprint arXiv:1202.5822 (2012).\n",
    "\n",
    "[5] Gilyén, András, et al. \"Quantum singular value transformation and beyond: exponential improvements for quantum matrix arithmetics.\" Proceedings of the 51st annual ACM SIGACT symposium on theory of computing. 2019.\n",
    "\n",
    "[6] Chen, Yu-Ao, et al. \"Quantum Algorithm for Reversing Unknown Unitary Evolutions.\" arXiv preprint arXiv:2403.04704 (2024).\n"
   ]
  },
  {
   "cell_type": "markdown",
   "id": "1bb4dbe6",
   "metadata": {},
   "source": [
    "*Table: A reference of notation conventions in this tutorial.*\n",
    "\n",
    "| Symbol | Variant | Description |\n",
    "|:------:|:-------:|-------------|\n",
    "| $\\ket{\\psi}$ | $\\ket{\\psi_{\\text{good}}}$ | Target/good state to be amplified |\n",
    "| $\\ket{\\psi^{\\perp}}$ | $\\ket{\\psi_{\\text{bad}}}$ | Orthogonal complement to good state |\n",
    "| $U$ | $\\mathcal{A}$ | State preparation unitary/oracle |\n",
    "| $S$ | $O_f$, $S_{\\psi}$ | Phase oracle/reflection operator |\n",
    "| $Q$ |  | Grover/amplification operator |\n",
    "| $\\theta$ | | Initial amplitude angle |\n",
    "| $\\mathbb{B}$ | | Basis of 2-dimensional rotation subspace |\n",
    "| $\\Pi$ | | Projector onto ancilla subspace |\n",
    "| $R$ | | Reflection operator |\n",
    "| $m$ |  | Number of marked items |\n",
    "| $N$ | | Size of search space |"
   ]
  },
  {
   "cell_type": "code",
   "execution_count": 21,
   "id": "b399ea3b",
   "metadata": {},
   "outputs": [
    {
     "name": "stdout",
     "output_type": "stream",
     "text": [
      "\n",
      "---------VERSION---------\n",
      "quairkit: 0.4.2\n",
      "torch: 2.8.0+cu128\n",
      "torch cuda: 12.8\n",
      "numpy: 2.2.6\n",
      "scipy: 1.15.3\n",
      "matplotlib: 3.10.6\n",
      "---------SYSTEM---------\n",
      "Python version: 3.10.18\n",
      "OS: Linux\n",
      "OS version: #1 SMP Tue Nov 5 00:21:55 UTC 2024\n",
      "---------DEVICE---------\n",
      "CPU:  13th Gen Intel(R) Core(TM) i9-13980HX\n",
      "GPU: (0) NVIDIA GeForce RTX 4090 Laptop GPU\n"
     ]
    }
   ],
   "source": [
    "qkit.print_info()"
   ]
  }
 ],
 "metadata": {
  "kernelspec": {
   "display_name": "api",
   "language": "python",
   "name": "python3"
  },
  "language_info": {
   "codemirror_mode": {
    "name": "ipython",
    "version": 3
   },
   "file_extension": ".py",
   "mimetype": "text/x-python",
   "name": "python",
   "nbconvert_exporter": "python",
   "pygments_lexer": "ipython3",
   "version": "3.10.18"
  }
 },
 "nbformat": 4,
 "nbformat_minor": 5
}
