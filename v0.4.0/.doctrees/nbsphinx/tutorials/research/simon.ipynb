{
 "cells": [
  {
   "cell_type": "markdown",
   "metadata": {
    "collapsed": false
   },
   "source": [
    "# Rediscovering Simon's algorithm with PQC\n",
    "**Table of contents**\n",
    "\n",
    "- [Introduction](#Introduction)\n",
    "  - [Simon's problem (classical version)](#Simon's-problem-(classical-version))\n",
    "  - [Simon's problem (quantum version)](#Simon's-problem-(quantum-version))\n",
    "- [Simon's algorithm](#Simon's-algorithm)\n",
    "  - [Implement Simon's algorithm with QuAIRKit](#Implement-Simon's-algorithm-with-QuAIRKit)\n",
    "  - [Begin experiment](#Begin-experiment)\n",
    "- [References](#References)"
   ]
  },
  {
   "cell_type": "code",
   "execution_count": 1,
   "metadata": {
    "ExecuteTime": {
     "end_time": "2025-05-08T02:07:45.937517Z",
     "start_time": "2025-05-08T02:07:43.399110100Z"
    }
   },
   "outputs": [],
   "source": [
    "from typing import Callable\n",
    "import numpy as np\n",
    "\n",
    "import torch\n",
    "import quairkit as qkit\n",
    "from quairkit import Circuit\n",
    "from quairkit.database import *\n",
    "from quairkit.loss import *\n",
    "from quairkit.qinfo import *\n",
    "\n",
    "import time"
   ]
  },
  {
   "attachments": {},
   "cell_type": "markdown",
   "metadata": {},
   "source": [
    "## Introduction\n",
    "Simon's algorithm is a quantum algorithm for obtaining the period of a vectorial Boolean function with polynomial time complexity, achieving exponential speedup over classical algorithms [1]. \n",
    "\n",
    "\n",
    "Although Simon's algorithm has few general applications, it inspired the discovery of Shor's algorithm. In fact, the two problems solved by these two algorithms are both special cases of the abelian hidden subgroup problem.\n",
    "Before presenting Simon's algorithm, let's first review Simon's problem."
   ]
  },
  {
   "attachments": {},
   "cell_type": "markdown",
   "metadata": {},
   "source": [
    "### Simon's problem (classical version)\n",
    "\n",
    "Input: a function $f: \\{0, 1\\}^n \\to \\{0, 1\\}^n$ that satisfies for all $n$-bit string $x$ and $y$: $f(x) = f(y)$ if and only if $x = y$ or $x = y \\oplus s$ for some $n$-bit string $s$.\n",
    "\n",
    "Output: determine $s \\in \\{0, 1\\}^n$."
   ]
  },
  {
   "attachments": {},
   "cell_type": "markdown",
   "metadata": {},
   "source": [
    "Any classical algorithm solving this should require $\\Omega(2^{n/2})$ queries, while Simon's algorithm solves it in $\\mathcal{O}(n) $ quantum queries [2].\n",
    "\n",
    "Such function $f$ can be randomly generated via the following function."
   ]
  },
  {
   "cell_type": "code",
   "execution_count": 2,
   "metadata": {
    "ExecuteTime": {
     "end_time": "2025-05-08T02:07:45.951728500Z",
     "start_time": "2025-05-08T02:07:45.937517Z"
    }
   },
   "outputs": [],
   "source": [
    "def simon_function(n: int, s: int) -> Callable[[int], int]:\n",
    "    r\"\"\"Generates a function f such that :math:`f(x) = f(y)` if and only if :math:`y = x` or :math:`y = x \\oplus s`.\n",
    "\n",
    "    Args:\n",
    "        n: the number of bits in the input and output strings.\n",
    "        s: an integer represented by an n-bit string representing the secret string in Simon's problem.\n",
    "\n",
    "    Returns:\n",
    "        A matrix f mapping integers to integers satisfying Simon's problem properties.\n",
    "    \"\"\"\n",
    "    # generate a random permutation of 0, 1, ..., 2^n-1\n",
    "    all_x = np.arange(2 ** n)\n",
    "    np.random.shuffle(all_x)\n",
    "    \n",
    "    mapping = {}\n",
    "    outputs_used = set()\n",
    "    \n",
    "    # generate a mapping, which implements function f\n",
    "    for x in all_x:\n",
    "        if x in mapping:\n",
    "            continue\n",
    "        \n",
    "        # Generate a random output not used before\n",
    "        while True:\n",
    "            fx = np.random.randint(2 ** n)\n",
    "            if fx not in outputs_used:\n",
    "                outputs_used.add(fx)\n",
    "                break\n",
    "        \n",
    "        # since f(x) = f(x \\oplus s)\n",
    "        mapping[x] = fx\n",
    "        mapping[x ^ s] = fx\n",
    "\n",
    "    # Define the function f using the mapping\n",
    "    def f(input_int: int) -> int:\n",
    "        return mapping[input_int]\n",
    "\n",
    "    return f"
   ]
  },
  {
   "cell_type": "markdown",
   "metadata": {},
   "source": [
    "Below is an example of a function $f$ for $n = 2$ and $s = 11$."
   ]
  },
  {
   "cell_type": "code",
   "execution_count": 3,
   "metadata": {
    "ExecuteTime": {
     "end_time": "2025-05-08T02:07:45.995837300Z",
     "start_time": "2025-05-08T02:07:45.951728500Z"
    }
   },
   "outputs": [
    {
     "name": "stdout",
     "output_type": "stream",
     "text": [
      " x | f(x)\n",
      "00 | 11\n",
      "01 | 10\n",
      "10 | 10\n",
      "11 | 11\n"
     ]
    }
   ],
   "source": [
    "n = 2\n",
    "s_str = '11'\n",
    "# get function f with n and s_str\n",
    "example_f = simon_function(n, int(s_str, 2))\n",
    "# print the value of f(x) for every x\n",
    "print(\" x | f(x)\")\n",
    "for x in range(2 ** n): \n",
    "    result = bin(example_f(x))[2:].zfill(n)\n",
    "    x = bin(x)[2:].zfill(n)\n",
    "    print(f\"{x} | {result}\")"
   ]
  },
  {
   "attachments": {},
   "cell_type": "markdown",
   "metadata": {},
   "source": [
    "We can find that $f(00) =  f(00 \\oplus 11)$, $f(01)=f(01\\oplus 11)$, etc."
   ]
  },
  {
   "attachments": {},
   "cell_type": "markdown",
   "metadata": {},
   "source": [
    "Now, let's go over the quantum version of Simon's problem."
   ]
  },
  {
   "attachments": {},
   "cell_type": "markdown",
   "metadata": {},
   "source": [
    "### Simon's problem (quantum version)\n",
    "\n",
    "Input: an access to unitary $U_f$ that implements the function $f$.\n",
    "\n",
    "Output: an $n$-bit string $y$ such that $y \\cdot s = 0$, where $\\cdot$ is the inner product over $\\mathbb{Z}_2$, i.e. the bitwise inner product of $y$ and $s$."
   ]
  },
  {
   "attachments": {},
   "cell_type": "markdown",
   "metadata": {},
   "source": [
    "Now it's time to present the steps of Simon's algorithm."
   ]
  },
  {
   "attachments": {},
   "cell_type": "markdown",
   "metadata": {},
   "source": [
    "## Simon's algorithm\n",
    "We begin to show how to find this hidden integer $s$.\n",
    "1. Initialize $2n$ qubits as two quantum registers of length $n$, simplified as $\\ket{0}^{\\otimes n}\\ket{0}^{\\otimes n}=\\ket{0}\\ket{0}$.\n",
    "\n",
    "2. Apply Hadamard gates to first register to get \n",
    "$$\n",
    "(H^{\\otimes n} \\otimes I) \\ket{0}\\ket{0} = \\frac{1}{2^{n/2}} \\sum_{x=0}^{2^n-1}\\ket{x}\\ket{0}.\\tag{1}\n",
    "$$\n",
    "\n",
    "3. Query the blackbox unitary $U_f$ to get\n",
    "$$\n",
    "U_f\\,\\frac{1}{2^{n/2}} \\sum_{x=0}^{2^n-1}\\ket{x}\\ket{0} = \\frac{1}{2^{n/2}} \\sum_{x=0}^{2^n-1}\\ket{x}\\ket{f(x)}.\\tag{2}\n",
    "$$\n",
    "\n",
    "4. Apply Hadamard gates to first register again, and the state becomes\n",
    "$$\n",
    "(H^{\\otimes n} \\otimes I)\\, \\frac{1}{2^{n/2}} \\sum_{x=0}^{2^n-1}\\ket{x}\\ket{f(x)}\n",
    "=\\frac{1}{2^n} \\sum_{y=0}^{2^n-1}\\sum_{x=0}^{2^n-1} (-1)^{x \\cdot y}\\ket{y} \\ket{f(x)}.\\tag{3}\n",
    "$$\n",
    "Here we consider the amplitude of $\\ket{y} \\ket{f(x)}$. Due to $f(x)=f(x\\oplus s)$, sum the only two terms that attribute to the amplitude of $\\ket{y} \\ket{f(x)}$ as \n",
    "$$\n",
    "\\frac{1}{2^n}\\Bigl( (-1)^{x\\cdot y} +(-1)^{(x\\oplus s)\\cdot y}\\Bigr).\\tag{4}\n",
    "$$\n",
    "With the distributive law as $(x\\oplus s)\\cdot y=x\\cdot y \\oplus s\\cdot y$, we get \n",
    "$$\n",
    "\\begin{aligned}\n",
    "\\frac{1}{2^n}\\Bigl( (-1)^{x\\cdot y} +(-1)^{(x\\oplus s)\\cdot y}\\Bigr)\n",
    "& = \\frac{1}{2^n}\\bigl( (-1)^{x\\cdot y} +(-1)^{x\\cdot y \\oplus s\\cdot y}\\bigr)\\\\\n",
    "& = \\frac{1}{2^n}\\bigl( (-1)^{x\\cdot y} +(-1)^{x\\cdot y} (-1)^{s\\cdot y}\\bigr)\\\\\n",
    "& = \\frac{1}{2^n}(-1)^{x\\cdot y} \\bigl( 1 + (-1)^{s\\cdot y} \\bigr).\n",
    "\\end{aligned}\n",
    "$$\n",
    "This shows that no outcome $y$ with $s\\cdot y=1$ is observable, whereas outcomes satisfying $s\\cdot y=0$ occur with probability $2^{2-2n}$.\n",
    "\n",
    "5. Repeat Step 1 to 4 to obtain a list of $y$ satisfying $s\\cdot y=0$, which can be used to get $s$ by solving a system of linear equations."
   ]
  },
  {
   "attachments": {},
   "cell_type": "markdown",
   "metadata": {},
   "source": [
    "### Implement Simon's algorithm with QuAIRKit\n",
    "First, we should construct a $U_f$ for later usage. Here is an example that implements the oracle for this $f$:\n",
    "| $x$ | $f(x)$ |\n",
    "|------|---------|\n",
    "| $00$ | $00$|\n",
    "| $01$ | $01$|\n",
    "| $10$ | $00$|\n",
    "| $11$ | $01$|\n",
    "\n",
    "We can find $f(x)=f(x\\oplus 10)$.\n"
   ]
  },
  {
   "cell_type": "code",
   "execution_count": 4,
   "metadata": {
    "ExecuteTime": {
     "end_time": "2025-05-08T02:07:45.996844400Z",
     "start_time": "2025-05-08T02:07:45.968389900Z"
    }
   },
   "outputs": [],
   "source": [
    "def oracle_example() -> Circuit:\n",
    "    r\"\"\"generate this oracle with n = 2 and s = '10'.\n",
    "    \n",
    "    Returns:\n",
    "        the circuit for Simon's problem with n = 2 and s = '10'.\n",
    "    \n",
    "    \"\"\"\n",
    "    n = 2\n",
    "    qc = Circuit(2 * n)\n",
    "    qc.cx([0, 1])  # the effect of this oracle is exactly only a cnot gate.\n",
    "    return qc"
   ]
  },
  {
   "attachments": {},
   "cell_type": "markdown",
   "metadata": {},
   "source": [
    "Then, we construct the Simon's circuit in Step 1 to Step 4."
   ]
  },
  {
   "cell_type": "code",
   "execution_count": 5,
   "metadata": {
    "ExecuteTime": {
     "end_time": "2025-05-08T02:07:46.005917Z",
     "start_time": "2025-05-08T02:07:45.983826200Z"
    }
   },
   "outputs": [],
   "source": [
    "def simon_circuit(n: int, oracle: Circuit) -> Circuit:\n",
    "    r\"\"\" Simon's circuit for corresponding oracle.\n",
    "    \n",
    "    Args:\n",
    "        n: the number of qubits in the Simon's problem.\n",
    "        oracle: the oracle circuit implementing the Simon's problem.\n",
    "    \n",
    "    Returns:\n",
    "        A circuit implementing Simon's algorithm.\n",
    "    \n",
    "    \"\"\"\n",
    "    simon_cir = Circuit(2 * n)  # Step 1\n",
    "    simon_cir.h(list(range(n)))  # Step 2\n",
    "    simon_cir.extend(oracle)  # Step 3\n",
    "    simon_cir.h(list(range(n)))  # Step 4\n",
    "    return simon_cir"
   ]
  },
  {
   "attachments": {},
   "cell_type": "markdown",
   "metadata": {},
   "source": [
    "We can plot the circuit like this."
   ]
  },
  {
   "cell_type": "code",
   "execution_count": 6,
   "metadata": {
    "ExecuteTime": {
     "end_time": "2025-05-08T02:07:50.946843300Z",
     "start_time": "2025-05-08T02:07:45.998916100Z"
    }
   },
   "outputs": [
    {
     "name": "stdout",
     "output_type": "stream",
     "text": [
      "the diagram of the quantum circuit in this case:\n"
     ]
    },
    {
     "data": {
      "image/png": "[encoded data removed]",
      "text/plain": [
       "<IPython.core.display.Image object>"
      ]
     },
     "metadata": {},
     "output_type": "display_data"
    }
   ],
   "source": [
    "# plot this circuit\n",
    "print(\"the diagram of the quantum circuit in this case:\")\n",
    "cir = simon_circuit(2, oracle_example())\n",
    "cir.plot()"
   ]
  },
  {
   "attachments": {},
   "cell_type": "markdown",
   "metadata": {},
   "source": [
    "## Using PQC to rediscover Simon's algorithm\n",
    "Parameterized quantum circuits (PQC) are circuits with tunable parameters, like rotation angles. They are central to hybrid algorithms like QAOA.\n",
    "\n",
    "We begin by using PQC to rediscover Simon’s problem.\n",
    "\n",
    "Define $P^\\perp(s) = \\sum_{y: y \\cdot s = 0} \\ket{y}\\bra{y}$. We expect the measurement outcome of this circuit to be orthogonal to $s$. That is, applying the projector $I - P^\\perp(s)$ to the output state should output 0.\n",
    "Then the loss function is defined as\n",
    "$$\n",
    "\\begin{aligned}\n",
    "\\mathcal{L}(\\theta) &= \\textrm{Average probability of measurement outcome } \\in \\{y: y \\cdot s \\neq 0 \\} \\\\\n",
    "&= \\frac{1}{N} \\sum_{i=0}^{N - 1} \\left| \\left(I - P^\\perp(s_i)\\right) \\cdot C_\\theta(f_i) \\ket{0} \\right|^2\n",
    ", \n",
    "\\end{aligned}\n",
    "$$\n",
    "where $C_\\theta(f_i)$ is the output unitary of the parameterized comb $C_\\theta$ with input unitary $U_{f_i}$."
   ]
  },
  {
   "attachments": {},
   "cell_type": "markdown",
   "metadata": {},
   "source": [
    "We first randomly generate `list_f`."
   ]
  },
  {
   "cell_type": "code",
   "execution_count": 7,
   "metadata": {
    "ExecuteTime": {
     "end_time": "2025-05-08T02:07:50.961843100Z",
     "start_time": "2025-05-08T02:07:50.946843300Z"
    }
   },
   "outputs": [],
   "source": [
    "num_data = 1000  # number of data\n",
    "\n",
    "# Generate a batch of random secret strings and corresponding functions.\n",
    "dim = 2 ** n\n",
    "list_s = np.random.randint(dim, size=num_data)\n",
    "list_f = [simon_function(n, s) for s in list_s]"
   ]
  },
  {
   "attachments": {},
   "cell_type": "markdown",
   "metadata": {},
   "source": [
    "Prepare the corresponding batch of unitaries, `list_Uf`, using the previously generated functions. Note that `Uf` can implement the unitary of a given function $f$."
   ]
  },
  {
   "cell_type": "code",
   "execution_count": 8,
   "metadata": {
    "ExecuteTime": {
     "end_time": "2025-05-08T02:07:51.056478Z",
     "start_time": "2025-05-08T02:07:50.961843100Z"
    }
   },
   "outputs": [],
   "source": [
    "list_Uf = torch.stack([Uf(f, n) for f in list_f])"
   ]
  },
  {
   "attachments": {},
   "cell_type": "markdown",
   "metadata": {},
   "source": [
    "The corresponding Simon’s circuit is constructed as follows. Note that a batch of unitaries is taken as input for training."
   ]
  },
  {
   "cell_type": "code",
   "execution_count": 9,
   "metadata": {
    "ExecuteTime": {
     "end_time": "2025-05-08T02:07:51.090441100Z",
     "start_time": "2025-05-08T02:07:51.058443900Z"
    }
   },
   "outputs": [],
   "source": [
    "simon_cir = Circuit(2 * n)  # Step 1\n",
    "simon_cir.h(list(range(n)))  # Step 2\n",
    "simon_cir.oracle(list_Uf, list(range(2 * n)), latex_name=r'$U_f$')  # Step 3\n",
    "simon_cir.h(list(range(n)))  # Step 4"
   ]
  },
  {
   "attachments": {},
   "cell_type": "markdown",
   "metadata": {},
   "source": [
    "To save memory for large $n$, rather than perform direct matrix multiplication, we use batched projection-valued measurement to compute the loss function. See the measurement tutorial in QuAIRKit for more usage details.\n",
    "\n",
    "In the following, these PVMs are constructed as measuring '0' gives $P^\\perp(s_i)$ and '1' for the others. Then the loss function is computed by the average probability of getting '1'.\n",
    "\n",
    "First, we construct the projector $P^\\perp_s$ for a given s."
   ]
  },
  {
   "cell_type": "code",
   "execution_count": 10,
   "metadata": {
    "ExecuteTime": {
     "end_time": "2025-05-08T02:07:51.111442Z",
     "start_time": "2025-05-08T02:07:51.088441800Z"
    }
   },
   "outputs": [],
   "source": [
    "def prep_proj(s: int) -> torch.Tensor:\n",
    "    r\"\"\"Generate P^\\perp_s for a given s.\n",
    "    \n",
    "    Args:\n",
    "        s: an integer representing an $n$-bit string.\n",
    "    \n",
    "    Returns:\n",
    "        torch.Tensor: the projection matrix P^\\perp_s.\n",
    "    \"\"\"\n",
    "    assert 0 <= s < dim\n",
    "    \n",
    "    D = torch.zeros(dim)  # initialize D as a zero vector\n",
    "    # iterate over all y in the range of dim\n",
    "    for y in range(dim):\n",
    "        dot_product = (y & s).bit_count() % 2\n",
    "        # if the product is 0, then the item in D is 1\n",
    "        if dot_product == 0:\n",
    "            D[y] = 1\n",
    "    return torch.diag(D)"
   ]
  },
  {
   "attachments": {},
   "cell_type": "markdown",
   "metadata": {},
   "source": [
    "Then we generate the corresponding POVM."
   ]
  },
  {
   "cell_type": "code",
   "execution_count": 11,
   "metadata": {
    "ExecuteTime": {
     "end_time": "2025-05-08T02:07:51.138450800Z",
     "start_time": "2025-05-08T02:07:51.106441900Z"
    }
   },
   "outputs": [],
   "source": [
    "prep = torch.stack([prep_proj(s) for s in list_s])\n",
    "# Generate a batch of POVMs.\n",
    "pvm = torch.stack([prep, torch.eye(dim) - prep]).permute([1, 0, 2, 3])"
   ]
  },
  {
   "attachments": {},
   "cell_type": "markdown",
   "metadata": {},
   "source": [
    "Now, we define the loss function with this POVM."
   ]
  },
  {
   "cell_type": "code",
   "execution_count": 12,
   "metadata": {
    "ExecuteTime": {
     "end_time": "2025-05-08T02:07:51.171442500Z",
     "start_time": "2025-05-08T02:07:51.137440700Z"
    }
   },
   "outputs": [],
   "source": [
    "M = Measure(pvm)\n",
    "\n",
    "def loss_fcn(circuit: Circuit) -> torch.Tensor:\n",
    "    r\"\"\"Compute the loss function for the given circuit.\n",
    "\n",
    "    Args:\n",
    "        circuit: the quantum circuit to be evaluated.\n",
    "    \n",
    "    Returns:\n",
    "        the loss value for the given circuit.\n",
    "    \n",
    "    \"\"\"\n",
    "    output_state = circuit()\n",
    "    prob = M(output_state, system_idx=list(range(n)), desired_result='0')\n",
    "    # The loss is the probability of measuring |0> in the first n qubits.\n",
    "    return 1 - prob.mean()"
   ]
  },
  {
   "cell_type": "markdown",
   "metadata": {},
   "source": [
    "We first verify that the loss function for the original circuit in Simon's algorithm is 0"
   ]
  },
  {
   "cell_type": "code",
   "execution_count": 13,
   "metadata": {
    "ExecuteTime": {
     "end_time": "2025-05-08T02:07:51.245923200Z",
     "start_time": "2025-05-08T02:07:51.169441800Z"
    }
   },
   "outputs": [
    {
     "name": "stdout",
     "output_type": "stream",
     "text": [
      "The loss of simon's circuit is tensor(5.9605e-08).\n"
     ]
    }
   ],
   "source": [
    "print(\"The loss of simon's circuit is \"+str(loss_fcn(simon_cir))+\".\")  # loss of simon's circuit"
   ]
  },
  {
   "attachments": {},
   "cell_type": "markdown",
   "metadata": {},
   "source": [
    "### Begin experiment"
   ]
  },
  {
   "cell_type": "code",
   "execution_count": 14,
   "metadata": {
    "ExecuteTime": {
     "end_time": "2025-05-08T02:07:51.250924500Z",
     "start_time": "2025-05-08T02:07:51.202441200Z"
    }
   },
   "outputs": [],
   "source": [
    "LR = 0.1  # learning rate\n",
    "NUM_ITR = 100  # number of iterations"
   ]
  },
  {
   "cell_type": "markdown",
   "metadata": {},
   "source": [
    "The ansatz of PQC is selected as the universal two-qubit gate. We will show that these gates will be trained to be the Hadamard gates."
   ]
  },
  {
   "cell_type": "code",
   "execution_count": 15,
   "metadata": {
    "ExecuteTime": {
     "end_time": "2025-05-08T02:07:51.251926900Z",
     "start_time": "2025-05-08T02:07:51.217442700Z"
    }
   },
   "outputs": [],
   "source": [
    "# construct the circuit\n",
    "cir = Circuit(2 * n)  # Step 1\n",
    "cir.universal_two_qubits(list(range(n)))  # the ansatz, or to say Step 2\n",
    "cir.oracle(list_Uf, list(range(2 * n)), latex_name=r'U_f')  # oracle, or to say Step 3\n",
    "cir.universal_two_qubits(list(range(n)))  # the ansatz, or to say Step 4"
   ]
  },
  {
   "cell_type": "code",
   "execution_count": 16,
   "metadata": {
    "ExecuteTime": {
     "end_time": "2025-05-08T02:07:53.233680100Z",
     "start_time": "2025-05-08T02:07:51.251926900Z"
    }
   },
   "outputs": [
    {
     "name": "stdout",
     "output_type": "stream",
     "text": [
      "iter: 0, loss: 0.53780347, lr: 1.00E-01, avg_time: 0.0305s\n",
      "iter: 20, loss: 0.02629673, lr: 1.00E-01, avg_time: 0.0221s\n",
      "iter: 40, loss: 0.00260812, lr: 1.00E-01, avg_time: 0.0226s\n",
      "iter: 60, loss: 0.00031328, lr: 1.00E-01, avg_time: 0.0207s\n",
      "iter: 80, loss: 0.00003481, lr: 5.00E-02, avg_time: 0.0201s\n",
      "iter: 99, loss: 0.00000507, lr: 5.00E-02, avg_time: 0.0212s\n"
     ]
    }
   ],
   "source": [
    "loss_list, time_list = [], []  # record loss\n",
    "\n",
    "opt = torch.optim.Adam(lr=LR, params=cir.parameters()) # cir is a Circuit type\n",
    "scheduler = torch.optim.lr_scheduler.ReduceLROnPlateau(opt, 'min', factor=0.5) # activate scheduler\n",
    "\n",
    "# training\n",
    "for itr in range(NUM_ITR):\n",
    "    start_time = time.time()\n",
    "    opt.zero_grad()\n",
    "\n",
    "    loss = loss_fcn(cir) # compute loss\n",
    "\n",
    "    loss.backward()  # backward propagation\n",
    "    opt.step()\n",
    "    scheduler.step(loss) # activate scheduler\n",
    "\n",
    "    # get loss\n",
    "    loss = loss.item() \n",
    "    loss_list.append(loss)\n",
    "    time_list.append(time.time() - start_time)\n",
    "\n",
    "    # print loss\n",
    "    if itr % 20 == 0 or itr == NUM_ITR - 1:\n",
    "        print(f\"iter: {itr}, loss: {loss:.8f}, lr: {scheduler.get_last_lr()[0]:.2E}, avg_time: {np.mean(time_list):.4f}s\")\n",
    "        time_list = []"
   ]
  },
  {
   "attachments": {},
   "cell_type": "markdown",
   "metadata": {},
   "source": [
    "And we can see the circuit like this:"
   ]
  },
  {
   "cell_type": "code",
   "execution_count": 17,
   "metadata": {
    "ExecuteTime": {
     "end_time": "2025-05-08T02:07:54.598503Z",
     "start_time": "2025-05-08T02:07:53.234727Z"
    }
   },
   "outputs": [
    {
     "name": "stdout",
     "output_type": "stream",
     "text": [
      "the diagram of the quantum circuit after trained:\n"
     ]
    },
    {
     "data": {
      "image/png": "[encoded data removed]",
      "text/plain": [
       "<IPython.core.display.Image object>"
      ]
     },
     "metadata": {},
     "output_type": "display_data"
    }
   ],
   "source": [
    "print(\"the diagram of the quantum circuit after trained:\")\n",
    "cir.plot()"
   ]
  },
  {
   "cell_type": "markdown",
   "metadata": {},
   "source": [
    "---"
   ]
  },
  {
   "attachments": {},
   "cell_type": "markdown",
   "metadata": {},
   "source": [
    "## References\n",
    "\n",
    "[1] M. A. Shafique, A. Munir and I. Latif, \"Quantum Computing: Circuits, Algorithms, and Applications,\" in IEEE Access, vol. 12, pp. 22296-22314, 2024, doi: 10.1109/ACCESS.2024.3362955.\n",
    "\n",
    "[2] J. Eisert, M.M. Wolf. \"Quantum computing.\" arXiv preprint arXiv:quant-ph/0401019 (2004).\n",
    "\n",
    "[3] Peter Shor, [Lecture Note 18](https://math.mit.edu/~shor/435-LN/Lecture_18.pdf), 2022"
   ]
  },
  {
   "cell_type": "markdown",
   "metadata": {},
   "source": [
    "*Table: A reference of notation conventions in this tutorial.*\n",
    "\n",
    "| Symbol        | Variant          | Description                               |\n",
    "|:---------------:|:------------------:|-------------------------------------------|\n",
    "|$f$| |boolean function|\n",
    "|$n$| |number of bits|\n",
    "|$s$|$x$, $y$|$n$-bit string|\n",
    "|$H$| |Hadamard gate|\n",
    "|$U$|$U_f$|unitary matrix|\n",
    "|$P^\\perp(s)$| |projector onto space orthogonal to $s$|\n",
    "|$\\theta$| |parameters of circuit|\n",
    "|$\\mathcal{L}(\\theta)$| |loss function w.r.t. $\\theta$|\n",
    "|$C_\\theta(f_i)$ | |output unitary of the parameterized comb $C_\\theta$ with input unitary $U_{f_i}$|\n",
    "|$I$| | identity matrix|"
   ]
  },
  {
   "cell_type": "code",
   "execution_count": 18,
   "metadata": {
    "ExecuteTime": {
     "end_time": "2025-05-08T02:07:54.656762400Z",
     "start_time": "2025-05-08T02:07:54.598503Z"
    }
   },
   "outputs": [
    {
     "name": "stdout",
     "output_type": "stream",
     "text": [
      "\n",
      "---------VERSION---------\n",
      "quairkit: 0.4.0\n",
      "torch: 2.7.0+cpu\n",
      "numpy: 1.26.0\n",
      "scipy: 1.14.1\n",
      "matplotlib: 3.10.0\n",
      "---------SYSTEM---------\n",
      "Python version: 3.10.16\n",
      "OS: Windows\n",
      "OS version: 10.0.26100\n",
      "---------DEVICE---------\n",
      "CPU: ARMv8 (64-bit) Family 8 Model 1 Revision 201, Qualcomm Technologies Inc\n"
     ]
    }
   ],
   "source": [
    "qkit.print_info()"
   ]
  }
 ],
 "metadata": {
  "kernelspec": {
   "display_name": "quair",
   "language": "python",
   "name": "python3"
  },
  "language_info": {
   "codemirror_mode": {
    "name": "ipython",
    "version": 3
   },
   "file_extension": ".py",
   "mimetype": "text/x-python",
   "name": "python",
   "nbconvert_exporter": "python",
   "pygments_lexer": "ipython3",
   "version": "3.10.16"
  }
 },
 "nbformat": 4,
 "nbformat_minor": 2
}
