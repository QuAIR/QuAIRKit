{
 "cells": [
  {
   "cell_type": "markdown",
   "metadata": {},
   "source": [
    "# Quantum information tools\n",
    "\n",
    "This tutorial introduces the `qinfo` module in QuAIRKit. The functions in `quairkit.qinfo` can be categorized into several application areas relevant to quantum computation and quantum information. For quantum computation, there are functions mainly to compute the Kronecker product, conjugate transpose, and trace of matrices. There are also functions associated with quantum gates, such as decomposing a single-qubit unitary operation into rotation angles around the Z and Y axes. For functions related to quantum information theory, this module includes partial trace, quantum entropies, the fidelity of quantum states, various kinds of norms, and so on. Additionally, this module provides data format validation such as verifying whether a matrix is a unitary, density matrix, or a projector. \n",
    "\n",
    "**Table of Contents**\n",
    "- [Functions in quantum computation](#Functions-in-quantum-computation)\n",
    "- [Functions in quantum information](#Functions-in-quantum-information)\n",
    "- [Validation functions](#Validation-functions)\n",
    "- [Compatibility with different data formats](#Compatibility-with-different-data-formats)\n"
   ]
  },
  {
   "cell_type": "code",
   "execution_count": 1,
   "metadata": {},
   "outputs": [],
   "source": [
    "import quairkit as qkit\n",
    "from quairkit import to_state\n",
    "from quairkit.database import *\n",
    "from quairkit.qinfo import *\n",
    "\n",
    "qkit.set_dtype(\"complex128\")"
   ]
  },
  {
   "cell_type": "markdown",
   "metadata": {},
   "source": [
    "## Functions in quantum computation\n",
    "First, initialize two random unitary matrices through a built-in function of QuAIRKit. The matrix A and B are both in *torch.tensor* format."
   ]
  },
  {
   "cell_type": "code",
   "execution_count": 2,
   "metadata": {},
   "outputs": [
    {
     "name": "stdout",
     "output_type": "stream",
     "text": [
      "Matrix A is:\n",
      "tensor([[-0.1954+0.2146j,  0.1822+0.9394j],\n",
      "        [-0.1701-0.9417j,  0.2599+0.1293j]])\n",
      "\n",
      "Matrix B is:\n",
      "tensor([[ 0.1297-0.5157j, -0.4703-0.7043j],\n",
      "        [ 0.4578+0.7125j, -0.5246-0.0871j]])\n"
     ]
    }
   ],
   "source": [
    "A = random_unitary(num_qubits=1)\n",
    "B = random_unitary(num_qubits=1)\n",
    "print(f\"Matrix A is:\\n{A}\\n\")\n",
    "print(f\"Matrix B is:\\n{B}\")"
   ]
  },
  {
   "cell_type": "markdown",
   "metadata": {},
   "source": [
    "Users can use functions in `qinfo` to implement specific operations on these two matrices.\n",
    "- Calculate the trace of a matrix by `trace`.\n",
    "- Calculate the direct sum of matrix A and B with `direct_sum`. Direct sum is an operation that combines two matrices into a larger matrix where \n",
    "A and B occupy diagonal blocks of the resulting matrix, and the remaining entries are zero.\n",
    "- Calculate the Kronecker products of at least two matrices by `NKron`.\n",
    "- Implement conjugate transpose of a matrix by `dagger`.\n",
    "- Decompose a single-qubit unitary operator into Z-Y-Z rotation angles by `decomp_1qubit`.\n",
    "- ..."
   ]
  },
  {
   "cell_type": "code",
   "execution_count": 3,
   "metadata": {},
   "outputs": [
    {
     "name": "stdout",
     "output_type": "stream",
     "text": [
      "The trace of matrix A is (0.06443467586598006+0.343978055135579j)\n",
      "The direct sum of matrix A and B is: \n",
      "tensor([[-0.1954+0.2146j,  0.1822+0.9394j,  0.0000+0.0000j,  0.0000+0.0000j],\n",
      "        [-0.1701-0.9417j,  0.2599+0.1293j,  0.0000+0.0000j,  0.0000+0.0000j],\n",
      "        [ 0.0000+0.0000j,  0.0000+0.0000j,  0.1297-0.5157j, -0.4703-0.7043j],\n",
      "        [ 0.0000+0.0000j,  0.0000+0.0000j,  0.4578+0.7125j, -0.5246-0.0871j]])\n",
      "\n",
      "The tensor product of matrix A and B is: \n",
      "tensor([[ 0.0853+0.1286j,  0.2431+0.0367j,  0.5081+0.0279j,  0.5760-0.5702j],\n",
      "        [-0.2424-0.0410j,  0.1212-0.0956j, -0.5859+0.5599j, -0.0138-0.5087j],\n",
      "        [-0.5077-0.0344j, -0.5832+0.5627j,  0.1004-0.1172j, -0.0311-0.2439j],\n",
      "        [ 0.5930-0.5524j,  0.0073+0.5088j,  0.0268+0.2444j, -0.1251-0.0905j]])\n",
      "\n",
      "The conjugate transpose of matrix A is: \n",
      "tensor([[-0.1954-0.2146j, -0.1701+0.9417j],\n",
      "        [ 0.1822-0.9394j,  0.2599-0.1293j]])\n",
      "\n",
      "The decomposition of single-qubit unitary operator A to Z-Y-Z rotation angles is (tensor(-4.0590), tensor(2.5525), tensor(2.2114))\n"
     ]
    }
   ],
   "source": [
    "\n",
    "print(f\"The trace of matrix A is {trace(A)}\")\n",
    "\n",
    "print(f\"The direct sum of matrix A and B is: \\n{direct_sum(A,B)}\\n\")\n",
    "\n",
    "print(f\"The tensor product of matrix A and B is: \\n{NKron(A,B)}\\n\")\n",
    "\n",
    "print(f\"The conjugate transpose of matrix A is: \\n{dagger(A)}\\n\")\n",
    "\n",
    "print(f\"The decomposition of single-qubit unitary operator A to Z-Y-Z rotation angles is {decomp_1qubit(A)}\")"
   ]
  },
  {
   "cell_type": "markdown",
   "metadata": {},
   "source": [
    "## Functions in quantum information\n",
    "Users can use functions in `qinfo` to quantify information-theoretic properties of quantum states.\n",
    "- Calculate the von-Neumann entropy of a quantum state by `von_neumann_entropy`.\n",
    "- Calculate the trace distance of two quantum states by `trace_distance`.\n",
    "- Calculate the fidelity of two quantum states by `state_fidelity`.\n",
    "- Calculate the purity of a quantum state by `purity`.\n",
    "- Calculate the relative entropy of two quantum states by `relative_entropy`.\n",
    "- Calculate of Schatten p-norm by `p_norm`.\n",
    "- ..."
   ]
  },
  {
   "cell_type": "code",
   "execution_count": 4,
   "metadata": {},
   "outputs": [
    {
     "name": "stdout",
     "output_type": "stream",
     "text": [
      "The first quantum state is:\n",
      " tensor([[ 0.7755+0.0000j,  0.0727-0.0237j, -0.1560-0.2811j, -0.2145-0.1373j],\n",
      "        [ 0.0727+0.0237j,  0.0075+0.0000j, -0.0060-0.0311j, -0.0159-0.0194j],\n",
      "        [-0.1560+0.2811j, -0.0060+0.0311j,  0.1333+0.0000j,  0.0929-0.0501j],\n",
      "        [-0.2145+0.1373j, -0.0159+0.0194j,  0.0929+0.0501j,  0.0836+0.0000j]])\n",
      "\n",
      "The second quantum state is:\n",
      " tensor([[0.3182-0.1243j],\n",
      "        [0.0199-0.5031j],\n",
      "        [0.1631-0.3059j],\n",
      "        [0.3035-0.6461j]])\n"
     ]
    }
   ],
   "source": [
    "state1 =  random_state(2).density_matrix\n",
    "print(f\"The first quantum state is:\\n {state1}\\n\")\n",
    "state2 = random_state(2, rank=1).ket\n",
    "print(f\"The second quantum state is:\\n {state2}\")"
   ]
  },
  {
   "cell_type": "code",
   "execution_count": 5,
   "metadata": {},
   "outputs": [
    {
     "name": "stdout",
     "output_type": "stream",
     "text": [
      "The von Neumann entropy between state 1 is:\n",
      "1.3013920171748103e-15\n",
      "torch.float64\n",
      "The trace distance between state 1 and state 2  is:\n",
      "0.9986828156358498\n",
      "The state fidelity between state 1 and state 2 is:\n",
      "0.05130919865131176\n",
      "The purity of state 1 is:\n",
      "0.9999999999999994\n",
      "The relative entropy of state 1 and state 2 is:\n",
      "55.26619734246961\n",
      "The Schatten 2-norm of state 1 is:\n",
      "0.9999999999999998\n"
     ]
    }
   ],
   "source": [
    "entropy = von_neumann_entropy(state1)\n",
    "print(f\"The von Neumann entropy between state 1 is:\\n{entropy}\")\n",
    "\n",
    "traceDistance = trace_distance(state1, state2)\n",
    "print(traceDistance.dtype)\n",
    "print(f\"The trace distance between state 1 and state 2  is:\\n{traceDistance}\")\n",
    "\n",
    "fidelity = state_fidelity(state1, state2)\n",
    "print(f\"The state fidelity between state 1 and state 2 is:\\n{fidelity}\")\n",
    "\n",
    "purity_state = purity(state1)\n",
    "print(f\"The purity of state 1 is:\\n{purity_state}\")\n",
    "\n",
    "r_entropy = relative_entropy(state1, state2)\n",
    "print(f\"The relative entropy of state 1 and state 2 is:\\n{r_entropy}\")\n",
    "\n",
    "p = 2\n",
    "pnorm = p_norm(state1, p)\n",
    "print(f\"The Schatten {p}-norm of state 1 is:\\n{pnorm}\")"
   ]
  },
  {
   "cell_type": "markdown",
   "metadata": {},
   "source": [
    "## Validation functions\n",
    "Users can use validation functions in `qinfo` to check if the matrix satisfies certain conditions.\n",
    "- Check if the input matrix is a positive semi-definite matrix by `is_positive`.\n",
    "- Check if the input quantum state is PPT by `is_ppt`.\n",
    "- Check if the input matrix is unitary by `is_unitary`."
   ]
  },
  {
   "cell_type": "code",
   "execution_count": 6,
   "metadata": {},
   "outputs": [
    {
     "name": "stdout",
     "output_type": "stream",
     "text": [
      "The matrix is a positive matrix: False\n",
      "The matrix is a unitary matrix: True\n",
      "The state 1 is a PPT state: False\n"
     ]
    }
   ],
   "source": [
    "is_positive(A)\n",
    "print(f\"The matrix is a positive matrix: {is_positive(A)}\")\n",
    "\n",
    "is_unitary(A)\n",
    "print(f\"The matrix is a unitary matrix: {is_unitary(A)}\")\n",
    "\n",
    "is_ppt(state1)\n",
    "print(f\"The state 1 is a PPT state: {is_ppt(state1)}\")"
   ]
  },
  {
   "cell_type": "markdown",
   "metadata": {},
   "source": [
    "## Compatibility with different data formats\n",
    "Functions in `qinfo` support different formats of input, including *torch.Tensor*, *numpy.ndarray*, and *State*. The input data format is transformed through `_type_transform`. At the same time, the output format is consistent with the input format in the most situations. For example, the output will be *numpy.ndarray* format if the input is also *numpy.ndarray* format."
   ]
  },
  {
   "cell_type": "code",
   "execution_count": 7,
   "metadata": {},
   "outputs": [
    {
     "name": "stdout",
     "output_type": "stream",
     "text": [
      "State fidelity dtype (torch.tensor): <class 'torch.Tensor'>\n",
      "State fidelity dtype (numpy.ndarray): <class 'numpy.ndarray'>\n",
      "State fidelity dtype (State): <class 'torch.Tensor'>\n"
     ]
    }
   ],
   "source": [
    "# Input with torch.tensor format\n",
    "print(f\"State fidelity dtype (torch.tensor): {type(state_fidelity(state1, state2))}\")\n",
    "\n",
    "# Input with numpy.ndarray format\n",
    "state1_num = state1.numpy()\n",
    "state2_num = state2.numpy()\n",
    "print(f\"State fidelity dtype (numpy.ndarray): {type(state_fidelity(state1_num, state2_num))}\")\n",
    "\n",
    "# Input with State format\n",
    "state1_sta = to_state(state1)\n",
    "state2_sta = to_state(state2)\n",
    "print(f\"State fidelity dtype (State): {type(state_fidelity(state1_sta, state2_sta))}\")\n"
   ]
  },
  {
   "cell_type": "markdown",
   "metadata": {},
   "source": [
    "---"
   ]
  },
  {
   "cell_type": "code",
   "execution_count": 8,
   "metadata": {},
   "outputs": [
    {
     "name": "stdout",
     "output_type": "stream",
     "text": [
      "\n",
      "---------VERSION---------\n",
      "quairkit: 0.2.0\n",
      "torch: 2.4.1+cpu\n",
      "numpy: 1.26.0\n",
      "scipy: 1.14.1\n",
      "matplotlib: 3.9.2\n",
      "---------SYSTEM---------\n",
      "Python version: 3.10.15\n",
      "OS: Windows\n",
      "OS version: 10.0.26100\n",
      "---------DEVICE---------\n",
      "CPU: ARMv8 (64-bit) Family 8 Model 1 Revision 201, Qualcomm Technologies Inc\n"
     ]
    }
   ],
   "source": [
    "qkit.print_info()"
   ]
  }
 ],
 "metadata": {
  "kernelspec": {
   "display_name": "quair_test",
   "language": "python",
   "name": "python3"
  },
  "language_info": {
   "codemirror_mode": {
    "name": "ipython",
    "version": 3
   },
   "file_extension": ".py",
   "mimetype": "text/x-python",
   "name": "python",
   "nbconvert_exporter": "python",
   "pygments_lexer": "ipython3",
   "version": "3.10.15"
  }
 },
 "nbformat": 4,
 "nbformat_minor": 2
}
