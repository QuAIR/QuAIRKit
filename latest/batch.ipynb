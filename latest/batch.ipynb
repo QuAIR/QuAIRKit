{
 "cells": [
  {
   "cell_type": "markdown",
   "metadata": {},
   "source": [
    "# Batch Computation in QuAIRKit\n",
    "\n",
    "This tutorial will show you how to use the batch computation feature in QuAIRKit.\n",
    "\n",
    "**Table of Contents**\n",
    "\n",
    "- [Quantum Circuit](#Quantum-circuit)\n",
    "  - [Example](#Example) \n",
    "- [Measurement](#Measurement)"
   ]
  },
  {
   "cell_type": "code",
   "execution_count": 1,
   "metadata": {},
   "outputs": [],
   "source": [
    "import torch\n",
    "import quairkit as qkit\n",
    "from quairkit import Circuit\n",
    "from quairkit.database import *\n",
    "from quairkit.loss import ExpecVal, Measure\n",
    "\n",
    "qkit.set_dtype('complex128')"
   ]
  },
  {
   "cell_type": "code",
   "execution_count": 2,
   "metadata": {},
   "outputs": [],
   "source": [
    "num_qubits = 2\n",
    "batch_size = 3"
   ]
  },
  {
   "cell_type": "markdown",
   "metadata": {},
   "source": [
    "## Quantum circuit\n",
    "\n",
    "`Circuit` class in QuAIRKit now support add batched parameters and gates to the circuit.\n",
    "\n",
    "For parameterized gates like Rx, Ry, Rz, you can add batched parameters to the circuit by passing a 3D tensor to gate function. The size of parameter tensor should be `len(qubits_idx) x batch_size x num_acted_param`, where\n",
    "\n",
    "- *len(qubits_idx)* is the number of qubits acted by the gates;\n",
    "- *batch_size* is the number of batched parameters;\n",
    "- *num_acted_param* is the number of parameters that characterize the gate. For example, *num_acted_param* for Ry gate is 1 and that for universal three qubit gate is 15."
   ]
  },
  {
   "cell_type": "code",
   "execution_count": 3,
   "metadata": {},
   "outputs": [
    {
     "name": "stdout",
     "output_type": "stream",
     "text": [
      "\n",
      "---------------------------------------------------\n",
      " Backend: state_vector\n",
      " System dimension: [2, 2]\n",
      " System sequence: [0, 1]\n",
      " Batch size: [3]\n",
      "\n",
      " # 0:\n",
      "[ 0.81-0.38j  0.04+0.11j -0.02+0.28j -0.25+0.21j]\n",
      " # 1:\n",
      "[ 0.33-0.58j  0.  -0.04j -0.14+0.18j -0.58+0.4j ]\n",
      " # 2:\n",
      "[ 0.63-0.27j  0.13+0.47j  0.11+0.14j -0.23+0.46j]\n",
      "---------------------------------------------------\n",
      "\n"
     ]
    }
   ],
   "source": [
    "cir = Circuit(num_qubits)\n",
    "cir.ry(param=torch.rand(num_qubits * batch_size * 1))\n",
    "cir.universal_two_qubits([0, 1], param=torch.rand(1 * batch_size * 15))\n",
    "print(cir())"
   ]
  },
  {
   "cell_type": "markdown",
   "metadata": {},
   "source": [
    "For oracle unitaries stored as torch.Tensor, one can add batched matrices to the circuit by `oracle` or `control_oracle`"
   ]
  },
  {
   "cell_type": "code",
   "execution_count": 4,
   "metadata": {},
   "outputs": [
    {
     "name": "stdout",
     "output_type": "stream",
     "text": [
      "torch.Size([3, 2, 2])\n",
      "\n",
      "---------------------------------------------------\n",
      " Backend: state_vector\n",
      " System dimension: [2, 2]\n",
      " System sequence: [1, 0]\n",
      " Batch size: [3]\n",
      "\n",
      " # 0:\n",
      "[ 0.72+0.01j  0.03+0.36j -0.31+0.35j -0.35+0.09j]\n",
      " # 1:\n",
      "[-0.08-0.16j  0.35+0.65j  0.01-0.07j  0.62+0.18j]\n",
      " # 2:\n",
      "[-0.58-0.39j -0.19-0.26j  0.46-0.16j -0.09-0.4j ]\n",
      "---------------------------------------------------\n",
      "\n"
     ]
    }
   ],
   "source": [
    "oracle = random_unitary(1, size=batch_size)\n",
    "print(oracle.shape)\n",
    "\n",
    "cir.oracle(oracle, [1])\n",
    "cir.control_oracle(oracle, [1, 0])\n",
    "print(cir())"
   ]
  },
  {
   "cell_type": "markdown",
   "metadata": {},
   "source": [
    "QuAIRKit also supports batched channel. For channels stored by their Kraus representation or Choi representation, one can add batched matrices to the circuit by `kraus_channel` or `choi_channel`. In usual cases we recommend using Kraus representation."
   ]
  },
  {
   "cell_type": "code",
   "execution_count": 5,
   "metadata": {},
   "outputs": [
    {
     "name": "stdout",
     "output_type": "stream",
     "text": [
      "\n",
      "---------------------------------------------------\n",
      " Backend: density_matrix\n",
      " System dimension: [2, 2]\n",
      " System sequence: [0, 1]\n",
      " Batch size: [3]\n",
      "\n",
      " # 0:\n",
      "[[ 0.23+0.j   -0.02-0.12j -0.3 +0.04j  0.16+0.2j ]\n",
      " [-0.02+0.12j  0.07-0.j    0.02-0.16j -0.12+0.08j]\n",
      " [-0.3 -0.04j  0.02+0.16j  0.41-0.j   -0.18-0.27j]\n",
      " [ 0.16-0.2j  -0.12-0.08j -0.18+0.27j  0.28-0.j  ]]\n",
      " # 1:\n",
      "[[0.09-0.j   0.07+0.04j 0.2 -0.03j 0.12+0.11j]\n",
      " [0.07-0.04j 0.08-0.j   0.14-0.11j 0.14+0.03j]\n",
      " [0.2 +0.03j 0.14+0.11j 0.49-0.j   0.27+0.29j]\n",
      " [0.12-0.11j 0.14-0.03j 0.27-0.29j 0.35+0.j  ]]\n",
      " # 2:\n",
      "[[ 0.2 -0.j   -0.  -0.12j  0.23-0.13j -0.15-0.14j]\n",
      " [-0.  +0.12j  0.14-0.j    0.12+0.18j  0.03-0.05j]\n",
      " [ 0.23+0.13j  0.12-0.18j  0.39+0.j   -0.08-0.21j]\n",
      " [-0.15+0.14j  0.03+0.05j -0.08+0.21j  0.27-0.j  ]]\n",
      "---------------------------------------------------\n",
      "\n"
     ]
    }
   ],
   "source": [
    "kraus = random_channel(num_qubits=1, size=batch_size)\n",
    "choi = random_channel(num_qubits=1, target='choi', size=batch_size)\n",
    "\n",
    "cir.kraus_channel(kraus, [0])\n",
    "# cir.choi_channel(choi, [1])\n",
    "output_state = cir()\n",
    "print(output_state)"
   ]
  },
  {
   "cell_type": "code",
   "execution_count": 6,
   "metadata": {},
   "outputs": [
    {
     "data": {
      "text/plain": [
       "tensor([[[ 1.0000e+00+0.0000e+00j,  5.5511e-17+0.0000e+00j],\n",
       "         [ 5.5511e-17+0.0000e+00j,  1.0000e+00+0.0000e+00j]],\n",
       "\n",
       "        [[ 1.0000e+00+0.0000e+00j,  0.0000e+00-1.1102e-16j],\n",
       "         [ 0.0000e+00+1.1102e-16j,  1.0000e+00+0.0000e+00j]],\n",
       "\n",
       "        [[ 1.0000e+00+0.0000e+00j, -1.2490e-16+5.5511e-17j],\n",
       "         [-1.2490e-16-5.5511e-17j,  1.0000e+00+0.0000e+00j]]])"
      ]
     },
     "execution_count": 6,
     "metadata": {},
     "output_type": "execute_result"
    }
   ],
   "source": [
    "(kraus.mH @ kraus).sum(dim=-3)"
   ]
  },
  {
   "cell_type": "markdown",
   "metadata": {},
   "source": [
    "One can check this circuit preserves the trace."
   ]
  },
  {
   "cell_type": "code",
   "execution_count": 7,
   "metadata": {},
   "outputs": [
    {
     "data": {
      "text/plain": [
       "True"
      ]
     },
     "execution_count": 7,
     "metadata": {},
     "output_type": "execute_result"
    }
   ],
   "source": [
    "tr = output_state.trace()\n",
    "torch.allclose(tr, torch.ones_like(tr))"
   ]
  },
  {
   "cell_type": "markdown",
   "metadata": {},
   "source": [
    "### Example\n",
    "\n",
    "For clarity, below figure illustrates how the batched computation works in quantum circuit.\n",
    "\n",
    "![alt text](batch.jpg)\n",
    "\n",
    "The code of this circuit is given as follows "
   ]
  },
  {
   "cell_type": "code",
   "execution_count": 8,
   "metadata": {},
   "outputs": [
    {
     "name": "stdout",
     "output_type": "stream",
     "text": [
      "\n",
      "---------------------------------------------------\n",
      " Backend: density_matrix\n",
      " System dimension: [2]\n",
      " System sequence: [0]\n",
      " Batch size: [3]\n",
      "\n",
      " # 0:\n",
      "[[ 0.56+0.j   -0.11+0.04j]\n",
      " [-0.11-0.04j  0.44+0.j  ]]\n",
      " # 1:\n",
      "[[ 0.66+0.j   -0.26+0.18j]\n",
      " [-0.26-0.18j  0.34+0.j  ]]\n",
      " # 2:\n",
      "[[ 0.55-0.j   -0.03+0.08j]\n",
      " [-0.03-0.08j  0.45+0.j  ]]\n",
      "---------------------------------------------------\n",
      "\n"
     ]
    }
   ],
   "source": [
    "rho = random_state(1)\n",
    "list_x = torch.rand(batch_size)\n",
    "list_depo = torch.stack([depolarizing_kraus(torch.rand(1)) \n",
    "                         for _ in list(range(batch_size))])\n",
    "\n",
    "batch_cir = Circuit(1)\n",
    "batch_cir.ry()\n",
    "batch_cir.rz(param=list_x)\n",
    "batch_cir.kraus_channel(list_depo, 0)\n",
    "batch_cir.ry()\n",
    "batch_cir.rz(param=list_x)\n",
    "print(batch_cir(rho))"
   ]
  },
  {
   "cell_type": "markdown",
   "metadata": {},
   "source": [
    "## Measurement\n",
    "\n",
    "The expectation value and measurement in QuAIRKit also supports batch computation.\n",
    "\n",
    "We start with an observable represented by `Hamiltonian` and a projection valued measure (PVM) represented by torch.Tensor."
   ]
  },
  {
   "cell_type": "code",
   "execution_count": 9,
   "metadata": {},
   "outputs": [
    {
     "name": "stdout",
     "output_type": "stream",
     "text": [
      "[[0.5952776079171331, 'X1'], [-0.9670744798724846, 'Z1'], [0.08143908571771741, 'Y1']]\n",
      "torch.Size([2, 2, 2])\n"
     ]
    }
   ],
   "source": [
    "H = random_hamiltonian_generator(num_qubits)\n",
    "print(H.pauli_str)\n",
    "\n",
    "basis = random_unitary(1).unsqueeze(-1)\n",
    "pvm = basis @ basis.mH\n",
    "print(pvm.shape)"
   ]
  },
  {
   "cell_type": "markdown",
   "metadata": {},
   "source": [
    "One can call the `expec_val` of the State class, or initialize the neural network module `ExpecVal` that input states."
   ]
  },
  {
   "cell_type": "code",
   "execution_count": 10,
   "metadata": {},
   "outputs": [
    {
     "name": "stdout",
     "output_type": "stream",
     "text": [
      "tensor([-0.4521,  0.2084, -0.2243])\n",
      "tensor([-0.4521,  0.2084, -0.2243])\n",
      "tensor([[-0.2336,  0.4081, -0.1017],\n",
      "        [-0.2814, -0.1450, -0.1751],\n",
      "        [ 0.0629, -0.0547,  0.0526]])\n"
     ]
    }
   ],
   "source": [
    "op = ExpecVal(H)\n",
    "print(op(output_state))\n",
    "\n",
    "print(output_state.expec_val(H))\n",
    "print(output_state.expec_val(H, decompose=True)) # return the expectation value of each Pauli term"
   ]
  },
  {
   "cell_type": "markdown",
   "metadata": {},
   "source": [
    "Similarly, to measure the output state, one can call the `measure` of the State class, or initialize the neural network module `Measure` that input states. Below codes measure the second qubits of output state."
   ]
  },
  {
   "cell_type": "code",
   "execution_count": 11,
   "metadata": {},
   "outputs": [
    {
     "name": "stdout",
     "output_type": "stream",
     "text": [
      "tensor([[0.7380, 0.2620],\n",
      "        [0.3431, 0.6569],\n",
      "        [0.7376, 0.2624]])\n",
      "tensor([[0.7380, 0.2620],\n",
      "        [0.3431, 0.6569],\n",
      "        [0.7376, 0.2624]])\n"
     ]
    }
   ],
   "source": [
    "op = Measure(pvm)\n",
    "print(op(output_state, [1]))\n",
    "\n",
    "print(output_state.measure(pvm, [1])) "
   ]
  },
  {
   "cell_type": "markdown",
   "metadata": {},
   "source": [
    "One can also keep the collapsed state of the measurement by setting `keep_state` to True, or select the desired output state."
   ]
  },
  {
   "cell_type": "code",
   "execution_count": 12,
   "metadata": {},
   "outputs": [
    {
     "name": "stdout",
     "output_type": "stream",
     "text": [
      "\n",
      "---------------------------------------------------\n",
      " Backend: density_matrix\n",
      " System dimension: [2, 2]\n",
      " System sequence: [0, 1]\n",
      " Batch size: [3, 1]\n",
      "\n",
      " # 0:\n",
      "[[ 0.14-0.j    0.07-0.14j -0.18+0.08j -0.01+0.23j]\n",
      " [ 0.07+0.14j  0.18+0.j   -0.17-0.15j -0.24+0.1j ]\n",
      " [-0.18-0.08j -0.17+0.15j  0.29+0.j    0.15-0.3j ]\n",
      " [-0.01-0.23j -0.24-0.1j   0.15+0.3j   0.38-0.j  ]]\n",
      " # 1:\n",
      "[[0.09+0.j   0.05-0.09j 0.16+0.j   0.08-0.16j]\n",
      " [0.05+0.09j 0.12+0.j   0.08+0.16j 0.21+0.j  ]\n",
      " [0.16-0.j   0.08-0.16j 0.34+0.j   0.17-0.35j]\n",
      " [0.08+0.16j 0.21-0.j   0.17+0.35j 0.44+0.j  ]]\n",
      " # 2:\n",
      "[[ 0.16-0.j    0.08-0.16j  0.15-0.12j -0.04-0.21j]\n",
      " [ 0.08+0.16j  0.21-0.j    0.19+0.09j  0.19-0.15j]\n",
      " [ 0.15+0.12j  0.19-0.09j  0.28+0.j    0.14-0.28j]\n",
      " [-0.04+0.21j  0.19+0.15j  0.14+0.28j  0.36+0.j  ]]\n",
      "---------------------------------------------------\n",
      "\n"
     ]
    }
   ],
   "source": [
    "prob, collapsed_state = op(output_state, [1], desired_result='0', keep_state=True)\n",
    "print(collapsed_state)"
   ]
  }
 ],
 "metadata": {
  "kernelspec": {
   "display_name": "quair",
   "language": "python",
   "name": "python3"
  },
  "language_info": {
   "codemirror_mode": {
    "name": "ipython",
    "version": 3
   },
   "file_extension": ".py",
   "mimetype": "text/x-python",
   "name": "python",
   "nbconvert_exporter": "python",
   "pygments_lexer": "ipython3",
   "version": "3.9.18"
  }
 },
 "nbformat": 4,
 "nbformat_minor": 2
}
