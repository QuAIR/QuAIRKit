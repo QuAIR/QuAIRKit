{
 "cells": [
  {
   "cell_type": "markdown",
   "metadata": {},
   "source": [
    "# Manipulation of Quantum States in QuAIRKit\n",
    "\n",
    "QuAIRKit uses the `State` class to represent quantum states. In this tutorial, we will learn how to manipulate quantum states in QuAIRKit.\n",
    "\n",
    "**Table of Contents**\n",
    "\n",
    "- [Creating of states](#Creation-of-states)\n",
    "- [Information extraction](#Information-extraction)\n",
    "- [Manipulation of states](#Manipulation-of-states)\n",
    "- [Interaction with environments](#Interaction-with-environments)"
   ]
  },
  {
   "cell_type": "code",
   "execution_count": 1,
   "metadata": {},
   "outputs": [],
   "source": [
    "import torch\n",
    "import traceback\n",
    "from quairkit import to_state\n",
    "from quairkit.database import *"
   ]
  },
  {
   "cell_type": "markdown",
   "metadata": {},
   "source": [
    "## Creation of states\n",
    "\n",
    "In QuAIRKit, states can be generated in two ways. \n",
    "\n",
    "One common method is to call a state generation function form the QuAIRKit database."
   ]
  },
  {
   "cell_type": "code",
   "execution_count": 2,
   "metadata": {},
   "outputs": [],
   "source": [
    "num_qubits = 2\n",
    "\n",
    "state = zero_state(num_qubits) # |00>\n",
    "state = bell_state(num_qubits) # (|00> + |11>) / sqrt(2)\n",
    "state = isotropic_state(num_qubits, prob=0.1) # isotropic state\n",
    "\n",
    "state = random_state(num_qubits, rank=1) # random 2-qubit pure state\n",
    "state = random_state(num_qubits, is_real=True) # random 2-qubit real state\n",
    "state = random_state(num_qubits, size=1000) # 1000 random 2-qubit states"
   ]
  },
  {
   "cell_type": "markdown",
   "metadata": {},
   "source": [
    "Or, one can use the function `to_state` to create a quantum state. The function `to_state` can convert a *torch.Tensor* or a *numpy.ndarray* instance to a State instance. The accepted shape of the input tensor is listed in the following table.\n",
    "\n",
    "|                | single  state       | batch  states       |\n",
    "|----------------|:---------------------:|:---------------------:|\n",
    "| state vector   | [d], [1, d], [d, 1] | [d1, ..., dn, d, 1] |\n",
    "| density matrix | [d, d]              | [d1, ..., dn, d, d] |\n"
   ]
  },
  {
   "cell_type": "code",
   "execution_count": 3,
   "metadata": {},
   "outputs": [
    {
     "name": "stdout",
     "output_type": "stream",
     "text": [
      "state_vector 1\n",
      "density_matrix 1\n"
     ]
    }
   ],
   "source": [
    "data = haar_state_vector(num_qubits) # random 3-qubit state vector\n",
    "state = to_state(data)\n",
    "print(state.backend, state.numel())\n",
    "\n",
    "data = random_density_matrix(num_qubits) # random 3-qubit density matrix\n",
    "state = to_state(data)\n",
    "print(state.backend, state.numel())"
   ]
  },
  {
   "cell_type": "code",
   "execution_count": 4,
   "metadata": {},
   "outputs": [
    {
     "name": "stdout",
     "output_type": "stream",
     "text": [
      "state_vector 1000\n",
      "density_matrix 1000\n"
     ]
    }
   ],
   "source": [
    "data = torch.stack([haar_state_vector(num_qubits) for _ in range(1000)]) # 1000 3-qubit state vector\n",
    "state = to_state(data)\n",
    "print(state.backend, state.numel())\n",
    "\n",
    "data = torch.stack([random_density_matrix(num_qubits) for _ in range(1000)]) # 1000 3-qubit density matrix\n",
    "state = to_state(data)\n",
    "print(state.backend, state.numel())"
   ]
  },
  {
   "cell_type": "markdown",
   "metadata": {},
   "source": [
    "## Information extraction\n",
    "\n",
    "A State object has several methods to retrieve its quantum information. \n",
    "\n",
    "We start with a batch of 3 random generated states $\\{ |\\psi_j\\rangle \\}_{j=1}^3$."
   ]
  },
  {
   "cell_type": "code",
   "execution_count": 5,
   "metadata": {},
   "outputs": [
    {
     "name": "stdout",
     "output_type": "stream",
     "text": [
      "\n",
      "---------------------------------------------------\n",
      " Backend: state_vector\n",
      " System dimension: [2, 2]\n",
      " System sequence: [0, 1]\n",
      " Batch size: [3]\n",
      "\n",
      " # 0:\n",
      "[ 0.3 +0.33j  0.61-0.49j -0.32+0.15j  0.18+0.19j]\n",
      " # 1:\n",
      "[-0.29+0.37j -0.6 -0.15j  0.02+0.52j -0.29-0.19j]\n",
      " # 2:\n",
      "[-0.44+0.1j  -0.14-0.14j -0.51+0.44j  0.23+0.51j]\n",
      "---------------------------------------------------\n",
      "\n"
     ]
    }
   ],
   "source": [
    "state = random_state(num_qubits, rank=1, size=3) # 3 random 2-qubit pure states\n",
    "print(state)"
   ]
  },
  {
   "cell_type": "markdown",
   "metadata": {},
   "source": [
    "One can retrieve the ket $\\{ |\\psi_j\\rangle \\}_{j=1}^3$, bra $\\{ \\langle\\psi_j| \\}_{j=1}^3$ and density matrix $\\{ |\\psi_j\\rangle\\langle\\psi_j| \\}_{j=1}^3$ of these states. Note that ket and bra properties are only available for pure states."
   ]
  },
  {
   "cell_type": "code",
   "execution_count": 6,
   "metadata": {},
   "outputs": [
    {
     "name": "stdout",
     "output_type": "stream",
     "text": [
      "torch.Size([3, 4, 1])\n",
      "torch.Size([3, 1, 4])\n",
      "torch.Size([3, 4, 4])\n"
     ]
    }
   ],
   "source": [
    "print(state.ket.shape)\n",
    "print(state.bra.shape)\n",
    "print(state.density_matrix.shape)"
   ]
  },
  {
   "cell_type": "markdown",
   "metadata": {},
   "source": [
    "Useful information can be retrieved by the functions of State instances."
   ]
  },
  {
   "cell_type": "code",
   "execution_count": 7,
   "metadata": {},
   "outputs": [
    {
     "name": "stdout",
     "output_type": "stream",
     "text": [
      "The trace of these states are tensor([1.0000+0.j, 1.0000+0.j, 1.0000+0.j])\n",
      "The rank of these states are 1\n",
      "The size of these states are 4\n",
      "The shape of vectorization of these states are torch.Size([3, 16, 1])\n"
     ]
    }
   ],
   "source": [
    "print(\"The trace of these states are\", state.trace())\n",
    "print(\"The rank of these states are\", state.rank)\n",
    "print(\"The size of these states are\", state.dim)\n",
    "print(\"The shape of vectorization of these states are\", state.vec.shape)"
   ]
  },
  {
   "cell_type": "code",
   "execution_count": 8,
   "metadata": {},
   "outputs": [
    {
     "name": "stdout",
     "output_type": "stream",
     "text": [
      "The number of systems in these states are 2\n",
      "Are these states qubits? True\n",
      "Are these states qutrits? False\n"
     ]
    }
   ],
   "source": [
    "print(\"The number of systems in these states are\", state.num_systems)\n",
    "print(\"Are these states qubits?\", state.are_qubits())\n",
    "print(\"Are these states qutrits?\", state.are_qutrits())"
   ]
  },
  {
   "cell_type": "markdown",
   "metadata": {},
   "source": [
    "## Manipulation of states"
   ]
  },
  {
   "cell_type": "markdown",
   "metadata": {},
   "source": [
    "State instances can easily permute subsystems by changing the value of `system_seq`. However, such behavior does not affect its output on ket, bra and density matrix, in which case `system_seq` would be reset to default sequence."
   ]
  },
  {
   "cell_type": "code",
   "execution_count": 9,
   "metadata": {},
   "outputs": [
    {
     "name": "stdout",
     "output_type": "stream",
     "text": [
      "\n",
      "---------------------------------------------------\n",
      " Backend: state_vector\n",
      " System dimension: [2, 2]\n",
      " System sequence: [1, 0]\n",
      " Batch size: [3]\n",
      "\n",
      " # 0:\n",
      "[ 0.3 +0.33j -0.32+0.15j  0.61-0.49j  0.18+0.19j]\n",
      " # 1:\n",
      "[-0.29+0.37j  0.02+0.52j -0.6 -0.15j -0.29-0.19j]\n",
      " # 2:\n",
      "[-0.44+0.1j  -0.51+0.44j -0.14-0.14j  0.23+0.51j]\n",
      "---------------------------------------------------\n",
      "\n"
     ]
    }
   ],
   "source": [
    "state.system_seq = [1, 0]\n",
    "print(state)"
   ]
  },
  {
   "cell_type": "markdown",
   "metadata": {},
   "source": [
    "Clone a state, or change dtype, device"
   ]
  },
  {
   "cell_type": "code",
   "execution_count": 10,
   "metadata": {},
   "outputs": [
    {
     "name": "stdout",
     "output_type": "stream",
     "text": [
      "The dtype of these states are torch.complex64\n",
      "The device of these states are cpu\n",
      "The dtype of new states are torch.complex128\n",
      "The device of new states are cpu\n"
     ]
    }
   ],
   "source": [
    "print(\"The dtype of these states are\", state.dtype)\n",
    "print(\"The device of these states are\", state.device)\n",
    "\n",
    "new_state = state.clone().to(dtype=torch.complex128, device=\"cpu\") # change to \"cuda\" if gpu is available\n",
    "print(\"The dtype of new states are\", new_state.dtype)\n",
    "print(\"The device of new states are\", new_state.device)"
   ]
  },
  {
   "cell_type": "markdown",
   "metadata": {},
   "source": [
    "State instances support direct indexing, for example retrieve the second and third state in the batch."
   ]
  },
  {
   "cell_type": "code",
   "execution_count": 11,
   "metadata": {},
   "outputs": [
    {
     "name": "stdout",
     "output_type": "stream",
     "text": [
      "\n",
      "---------------------------------------------------\n",
      " Backend: state_vector\n",
      " System dimension: [2, 2]\n",
      " System sequence: [0, 1]\n",
      " Batch size: [2]\n",
      "\n",
      " # 0:\n",
      "[-0.29+0.37j -0.6 -0.15j  0.02+0.52j -0.29-0.19j]\n",
      " # 1:\n",
      "[-0.44+0.1j  -0.14-0.14j -0.51+0.44j  0.23+0.51j]\n",
      "---------------------------------------------------\n",
      "\n"
     ]
    }
   ],
   "source": [
    "print(state[1:])"
   ]
  },
  {
   "cell_type": "markdown",
   "metadata": {},
   "source": [
    "Or if the length of batch dimension is larger than 1, one can index elements in a batch dimension. See [torch.index_select](https://pytorch.org/docs/stable/generated/torch.index_select.html) for more understanding."
   ]
  },
  {
   "cell_type": "code",
   "execution_count": 12,
   "metadata": {},
   "outputs": [
    {
     "name": "stdout",
     "output_type": "stream",
     "text": [
      "\n",
      "---------------------------------------------------\n",
      " Backend: state_vector\n",
      " System dimension: [2, 2]\n",
      " System sequence: [0, 1]\n",
      " Batch size: [2]\n",
      "\n",
      " # 0:\n",
      "[-0.29+0.37j -0.6 -0.15j  0.02+0.52j -0.29-0.19j]\n",
      " # 1:\n",
      "[-0.44+0.1j  -0.14-0.14j -0.51+0.44j  0.23+0.51j]\n",
      "---------------------------------------------------\n",
      "\n"
     ]
    }
   ],
   "source": [
    "print(state.index_select(0, torch.tensor([1, 2])))"
   ]
  },
  {
   "cell_type": "markdown",
   "metadata": {},
   "source": [
    "## Interaction with environments\n",
    "\n",
    "State instances can be sent to a quantum environment for further processing."
   ]
  },
  {
   "cell_type": "code",
   "execution_count": 13,
   "metadata": {},
   "outputs": [],
   "source": [
    "unitary = random_unitary(num_qubits=1)\n",
    "kraus = random_channel(num_qubits=1)\n",
    "choi = random_channel(num_qubits=1, target='choi')"
   ]
  },
  {
   "cell_type": "code",
   "execution_count": 14,
   "metadata": {},
   "outputs": [
    {
     "name": "stdout",
     "output_type": "stream",
     "text": [
      "\n",
      "---------------------------------------------------\n",
      " Backend: state_vector\n",
      " System dimension: [2, 2]\n",
      " System sequence: [1, 0]\n",
      " Batch size: [3]\n",
      "\n",
      " # 0:\n",
      "[ 0.73-0.34j  0.04+0.32j -0.3 +0.27j -0.28-0.11j]\n",
      " # 1:\n",
      "[-0.53+0.17j -0.08+0.11j -0.13+0.53j -0.07+0.61j]\n",
      " # 2:\n",
      "[-0.31+0.07j  0.07+0.78j -0.36+0.09j -0.38-0.08j]\n",
      "---------------------------------------------------\n",
      "\n"
     ]
    }
   ],
   "source": [
    "state = state.evolve(unitary, sys_idx=[1])\n",
    "print(state)"
   ]
  },
  {
   "cell_type": "markdown",
   "metadata": {},
   "source": [
    "Note that when pure states are sent to noisy environments, they will be automatically converted to mixed states, in which case their ket and bra properties will be lost."
   ]
  },
  {
   "cell_type": "code",
   "execution_count": 15,
   "metadata": {},
   "outputs": [
    {
     "name": "stdout",
     "output_type": "stream",
     "text": [
      "\n",
      "---------------------------------------------------\n",
      " Backend: density_matrix\n",
      " System dimension: [2, 2]\n",
      " System sequence: [0, 1]\n",
      " Batch size: [3]\n",
      "\n",
      " # 0:\n",
      "[[ 0.49+0.j   -0.1 +0.14j  0.32+0.24j -0.17+0.09j]\n",
      " [-0.1 -0.14j  0.07+0.j    0.  -0.15j  0.07+0.03j]\n",
      " [ 0.32-0.24j  0.  +0.15j  0.36-0.j   -0.06+0.16j]\n",
      " [-0.17-0.09j  0.07-0.03j -0.06-0.16j  0.08-0.j  ]]\n",
      " # 1:\n",
      "[[ 0.67+0.j    0.22+0.01j -0.02-0.08j -0.02-0.06j]\n",
      " [ 0.22-0.01j  0.22+0.j   -0.08-0.1j   0.03-0.06j]\n",
      " [-0.02+0.08j -0.08+0.1j   0.08+0.j    0.01+0.04j]\n",
      " [-0.02+0.06j  0.03+0.06j  0.01-0.04j  0.03-0.j  ]]\n",
      " # 2:\n",
      "[[ 0.49-0.j    0.11+0.17j -0.26-0.05j  0.09-0.19j]\n",
      " [ 0.11-0.17j  0.11+0.j   -0.02+0.1j  -0.06-0.07j]\n",
      " [-0.26+0.05j -0.02-0.1j   0.3 +0.j   -0.06+0.13j]\n",
      " [ 0.09+0.19j -0.06+0.07j -0.06-0.13j  0.1 +0.j  ]]\n",
      "---------------------------------------------------\n",
      "\n"
     ]
    }
   ],
   "source": [
    "state = state.transform(kraus, sys_idx=[0])\n",
    "state = state.transform(choi, sys_idx=[1], repr_type='choi')\n",
    "print(state)"
   ]
  },
  {
   "cell_type": "code",
   "execution_count": 17,
   "metadata": {},
   "outputs": [
    {
     "name": "stderr",
     "output_type": "stream",
     "text": [
      "Traceback (most recent call last):\n",
      "  File \"C:\\Users\\Cloud\\AppData\\Local\\Temp\\ipykernel_8428\\2901163604.py\", line 4, in <module>\n",
      "    state.ket\n",
      "  File \"c:\\users\\cloud\\quair-platform\\quairkit\\core\\state\\backend\\density_matrix.py\", line 99, in ket\n",
      "    raise NotImplementedError(\n",
      "NotImplementedError: Mixed state does not support state vector representation.If you are looking for the vectorization of the mixed state, please call the 'vec' property.\n"
     ]
    }
   ],
   "source": [
    "try:\n",
    "    state.ket\n",
    "except NotImplementedError:\n",
    "    traceback.print_exc()"
   ]
  }
 ],
 "metadata": {
  "kernelspec": {
   "display_name": "quairkit",
   "language": "python",
   "name": "python3"
  },
  "language_info": {
   "codemirror_mode": {
    "name": "ipython",
    "version": 3
   },
   "file_extension": ".py",
   "mimetype": "text/x-python",
   "name": "python",
   "nbconvert_exporter": "python",
   "pygments_lexer": "ipython3",
   "version": "3.10.14"
  }
 },
 "nbformat": 4,
 "nbformat_minor": 2
}
