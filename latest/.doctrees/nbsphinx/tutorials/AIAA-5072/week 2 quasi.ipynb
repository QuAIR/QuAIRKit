{
 "cells": [
  {
   "cell_type": "code",
   "execution_count": null,
   "id": "de6a1177",
   "metadata": {},
   "outputs": [],
   "source": [
    "%%bash\n",
    "if ! python -c \"import quairkit\" 2>/dev/null; then\n",
    "    pip install quairkit\n",
    "fi\n",
    "\n",
    "if ! command -v pdftotext &> /dev/null; then\n",
    "    conda install -y -c conda-forge poppler\n",
    "fi"
   ]
  },
  {
   "cell_type": "markdown",
   "id": "f3b9c9b6",
   "metadata": {},
   "source": [
    "# Quantum error mitigation\n",
    "\n",
    "<em style=\"color:gray;\">Copyright (c) 2025 QuAIR team. All Rights Reserved.</em>"
   ]
  },
  {
   "cell_type": "markdown",
   "id": "b23ac75d",
   "metadata": {},
   "source": [
    "In this tutorial, we mainly introduce quantum error mitigation, including its background and significance. We specifically focus on the probabilistic error cancellation (PEC) method and provide a detailed implementation of the PEC process for depolarizing channels on the QuAIRKit platform."
   ]
  },
  {
   "cell_type": "markdown",
   "id": "7eac52b9",
   "metadata": {},
   "source": [
    "**Table of Contents**\n",
    "\n",
    "- [Introduction](#Introduction)\n",
    "  - [Background](#Background) \n",
    "  - [Motivation](#Motivation)\n",
    "- [Probablistic error cancellation](#Probablistic-error-cancellation)\n",
    "- [QuAIRKit implementation](#QuAIRKit-implementation)"
   ]
  },
  {
   "cell_type": "code",
   "execution_count": 2,
   "id": "42b4119d",
   "metadata": {},
   "outputs": [],
   "source": [
    "import torch\n",
    "import numpy as np\n",
    "\n",
    "import quairkit as qkit\n",
    "from quairkit import Circuit\n",
    "from quairkit.database import *\n",
    "from quairkit.qinfo import *\n",
    "\n",
    "qkit.set_dtype('complex128')"
   ]
  },
  {
   "cell_type": "markdown",
   "id": "d8c0cebd",
   "metadata": {},
   "source": [
    "## Introduction\n"
   ]
  },
  {
   "cell_type": "markdown",
   "id": "4883a145",
   "metadata": {},
   "source": [
    "### Background\n",
    "\n",
    "Currently, quantum computers remain in the Noisy Intermediate-Scale Quantum (NISQ) era. Limited qubits and imperfect gates introduce noise, reducing the accuracy of quantum algorithms. To address this, researchers proposed Quantum Error Mitigation (QEM). Unlike Quantum Error Correction (QEC), QEM avoids real-time error correction and instead uses post-processing or tailored execution strategies to suppress noise at low hardware cost, making it suitable for NISQ devices [1].\n",
    "\n",
    "QEM originated in the early 2010s, with early methods including Zero-Noise Extrapolation (ZNE) and Clifford Data Regression (CDR). A core technique, Probabilistic Error Cancellation (PEC), was introduced by Temme et al. in 2017 [2].\n",
    " and is based on quasi-probability decomposition, where any quantum channel can be written as a linear combination of physically implementable operations [3].\n",
    "\n",
    "PEC characterizes the noisy channel, represents its inverse as a weighted sum of implementable operations (possibly with negative weights), and samples them proportionally, canceling noise in expectation while introducing sampling variance.\n"
   ]
  },
  {
   "cell_type": "markdown",
   "id": "041dc19b",
   "metadata": {},
   "source": [
    "### Motivation\n",
    "\n",
    "PEC is used to improve the accuracy of quantum computations on NISQ devices, offering a practical alternative to full error correction. Instead of correcting errors directly, it simulates the inverse of the noise process by probabilistically combining noisy gates, so averaged results approach the ideal outcome. This makes PEC especially useful for algorithms requiring precise expectation values, such as variational algorithms and quantum simulations, without needing fault-tolerant hardware.\n"
   ]
  },
  {
   "cell_type": "markdown",
   "id": "35e36607",
   "metadata": {},
   "source": [
    "## Probablistic error cancellation \n",
    "\n"
   ]
  },
  {
   "cell_type": "markdown",
   "id": "35631f3f",
   "metadata": {},
   "source": [
    "To introduce the procedure of PEC, we first define the problem.\n",
    "\n",
    "In quantum computation---particularly in the NISQ era---a common computational task is as follows: given an observable $A$ and a quantum state $\\rho$, estimate its expectation value $\\mathrm{Tr}[\\rho A]$.\n",
    "\n",
    "Without loss of generality, we can assume that $A$ is diagonal in the computational basis; otherwise, we can first apply a unitary transformation to $\\rho$ and then perform measurement in the computational basis. That is, we consider measurements of the form\n",
    "\\begin{equation}\n",
    "A = \\sum_{x \\in \\{0,1\\}^n} A(x) \\, |x\\rangle \\langle x|, \\quad A(x) \\in [-1,1]. \n",
    "\\end{equation}\n",
    "\n",
    "If $\\rho$ can be perfectly prepared, $\\mathrm{Tr}(\\rho A)$ can be obtained directly through repeated measurements. However, the preparation of $\\rho$ is inevitably subject to noise, which can be modeled by a completely positive trace-preserving (**CPTP**) map $\\mathcal{O} \\in \\mathcal{L}(\\mathcal{H})$. As a result, the measured value is actually $\\mathrm{Tr}[\\mathcal{O}(\\rho) A]$.\n",
    "\n",
    "How can we deal with the noise and recover the true expectation value? We can choose QEM to address this problem.\n",
    "\n",
    "Since the preparation process is known \\textit{a priori}, a feasible approach is to apply its inverse map $O^{-1}$ (assuming it exists), so that\n",
    "\\begin{equation}\n",
    "\\mathrm{Tr}[\\mathcal{O}^{-1} \\circ \\mathcal{O}(\\rho) A] = \\mathrm{Tr}[\\rho A]. \\tag{2}\n",
    "\\end{equation}\n",
    "This would successfully eliminate the noise.\n",
    "\n",
    "At first glance, this is very similar to the task of quantum channel correction, as $\\mathcal{O}^{-1}$ can be regarded as a correction process.\n",
    "\n",
    "However, the main difficulty is that the inverse map $\\mathcal{N} \\equiv \\mathcal{O}^{-1}$ in (2) may not be physically implementable, i.e., it may not be a CPTP map. According to  Property 1 in [\\[4\\]](https://doi.org/10.48550/arXiv.2012.10959), $\\mathcal{O}$ is both Hermitian-preserving and trace-preserving (**HPTP**), it may still not be directly realizable in practice.\n",
    "\n",
    "Therefore, the problem we face is: How can we physically approximate the action of an HPTP map?\n",
    "\n",
    "Such an approximation inevitably incurs additional computational cost. We employ PEC to address this issue.\n"
   ]
  },
  {
   "cell_type": "markdown",
   "id": "569655f9",
   "metadata": {},
   "source": [
    "<figure style=\"text-align: center;\">\n",
    "  <img src=\"figures/pec_flowchart.jpg\" alt=\"alt text\" width=\"1000\"/>\n",
    "  <figcaption>Fig.1: PEC procedure.</figcaption>\n",
    "</figure>\n",
    "\n",
    "\n",
    "The diagram illustrates the main steps of the PEC procedure.  First, an initial quantum state $\\mathcal{O}(\\rho)$ is prepared where $\\mathcal{O}$ is a noisy channel.  The inverse channel $\\mathcal{O}^{-1}$ is then decomposed into a quasi-probability distribution over physically implementable unitaries $\\{\\mathcal{O}_\\alpha\\}$.  Each unitary $\\mathcal{O}_\\alpha$ is sampled according to the normalized absolute value of its coefficient, applied to the noisy state, and the observable $A$ is measured.  The measurement outcome is multiplied by the sign of the corresponding coefficient, and the process is repeated $M$ times.  Averaging all outcomes yields the PEC estimate $\\xi$, which approximates the ideal expectation value in the presence of noise.\n"
   ]
  },
  {
   "cell_type": "markdown",
   "id": "5f4a29f7",
   "metadata": {},
   "source": [
    "Next, we present the main procedure of **PEC**:\n",
    "\n",
    "**1. Quasi-probability decomposition:**  \n",
    "Decompose the inverse map $\\mathcal{N} \\equiv \\mathcal{O}^{-1}$ into a linear combination of completely positive trace-preserving (CPTP) maps $\\{\\mathcal{O}_\\alpha\\}_\\alpha$:\n",
    "\n",
    "$$\n",
    "\\mathcal{N} = \\sum_{\\alpha} \\eta_\\alpha \\mathcal{O}_\\alpha,\n",
    "$$\n",
    "\n",
    "such that\n",
    "\n",
    "$$\n",
    "2^{\\nu(\\mathcal{N})} = \\sum_{\\alpha} |\\eta_\\alpha|,\n",
    "$$\n",
    "\n",
    "where\n",
    "\n",
    "$$\n",
    "\\nu(\\mathcal{N}) := \\log \\min \\left( \\sum_{\\alpha} |\\eta_\\alpha| \\ \\middle|\\ \n",
    "\\mathcal{N} = \\sum_{\\alpha} \\eta_\\alpha \\mathcal{O}_\\alpha,\\ \\ \\mathcal{O}_\\alpha \\text{ is CPTP},\\ \\ \\eta_\\alpha \\in \\mathbb{R} \\right).\n",
    "$$\n",
    "\n",
    "Note: According to Theorem 13 [4], this set of CPTP maps is chosen from a group of mutually orthogonal unitary operators."
   ]
  },
  {
   "cell_type": "markdown",
   "id": "e4327968",
   "metadata": {},
   "source": [
    "**2. Sampling and measurement:**  \n",
    "Repeat the following steps for $m = 1, \\dots, M$:\n",
    "\n",
    "- **(2.1)** Sample a CPTP map $\\mathcal{O}^{(m)}$ from the set $\\{\\mathcal{O}_\\alpha\\}_\\alpha$ with probability\n",
    "\n",
    "$$\n",
    "p_\\alpha = \\frac{|\\eta_\\alpha|}{\\sum_\\beta |\\eta_\\beta|},\n",
    "$$\n",
    "\n",
    "and record its corresponding coefficient $\\eta^{(m)}$.\n",
    "\n",
    "- **(2.2)** Apply $\\mathcal{O}^{(m)}$ to the noisy state $\\mathcal{O}(\\rho)$, then perform measurement in the computational basis.  Denote the measurement outcome as a bitstring $s^{(m)} \\in \\{0,1\\}^n$."
   ]
  },
  {
   "cell_type": "markdown",
   "id": "2ad2ea57",
   "metadata": {},
   "source": [
    "**3. Definition of the random variable:**\n",
    "\n",
    "$$\n",
    "X^{(m)} = 2^{\\nu(\\mathcal{N})} \\; \\mathrm{sgn}(\\eta^{(m)}) \\; A(s^{(m)}),\n",
    "$$\n",
    "\n",
    "where the sign function is defined as\n",
    "\n",
    "$$\n",
    "\\mathrm{sgn}(x) =\n",
    "\\begin{cases}\n",
    "-1, & x < 0\\\\\n",
    "1, & x \\ge 0\n",
    "\\end{cases},\n",
    "$$\n",
    "\n",
    "and $A(s^{(m)}) \\in [-1,1]$ is the observable value corresponding to the measurement outcome."
   ]
  },
  {
   "cell_type": "markdown",
   "id": "01870eb5",
   "metadata": {},
   "source": [
    "**4. Computation of the estimator:**\n",
    "\n",
    "$$\n",
    "\\xi = \\frac{1}{M} \\sum_{m=1}^M X^{(m)} \n",
    "= \\frac{2^{\\nu(\\mathcal{N})}}{M} \\sum_{m=1}^M \\mathrm{sgn}(\\eta^{(m)}) \\; A(s^{(m)}).\n",
    "$$\n",
    "\n",
    "Output $\\xi$ as the estimator of the target expectation value $\\mathrm{Tr}[\\rho A]$."
   ]
  },
  {
   "cell_type": "markdown",
   "id": "b12c5aab",
   "metadata": {},
   "source": [
    "From the following lemma, we know that $\\xi$ is an unbiased estimator of the target value:\n",
    "\n",
    "**Lemma 16** in [4] The random variable\n",
    "$$\n",
    "\\xi = \\frac{1}{M} \\sum_{m=1}^M X^{(m)} \n",
    "= \\frac{2^{\\nu(\\mathcal{N})}}{M} \\sum_{m=1}^M \\mathrm{sgn}(\\eta^{(m)}) A(s^{(m)})\n",
    "$$\n",
    "is an unbiased estimator of $\\mathrm{Tr}[\\rho A]$.\n",
    "\n",
    "**Proof:** Denote by $E(X)$ the expectation of a random variable $X$. We have\n",
    "\n",
    "$$\n",
    "\\begin{aligned}\n",
    "E(\\xi) &= 2^{\\nu(\\mathcal{N})} \\frac{1}{M} \\sum_{m=1}^M E \\big( \\mathrm{sgn}(\\eta^{(m)}) A(s^{(m)}) \\big) \\\\[2mm]\n",
    "&= 2^{\\nu(\\mathcal{N})} \\frac{1}{M} \\sum_{m=1}^M \\sum_\\alpha \\frac{|\\eta_\\alpha|}{2^{\\nu(\\mathcal{N})}} \\mathrm{sgn}(\\eta_\\alpha) \\sum_{s \\in \\{0,1\\}^n} \\mathrm{Tr} \\big[ \\mathcal{O}_\\alpha \\circ \\mathcal{O}(\\rho) |s\\rangle \\langle s| \\big] A(s) \\\\[1mm]\n",
    "&= 2^{\\nu(\\mathcal{N})} \\frac{1}{M} \\sum_{m=1}^M \\sum_\\alpha \\frac{\\eta_\\alpha}{2^{\\nu(\\mathcal{N})}} \\mathrm{Tr} \\big[ \\mathcal{O}_\\alpha \\circ \\mathcal{O}(\\rho) A \\big] \\\\[1mm]\n",
    "&= 2^{\\nu(\\mathcal{N})} \\frac{1}{M} \\sum_{m=1}^M 2^{-\\nu(\\mathcal{N})} \\mathrm{Tr} \\big[ \\mathcal{N} \\circ \\mathcal{O}(\\rho) A \\big] \\\\[1mm]\n",
    "&= \\mathrm{Tr}[\\rho A].\n",
    "\\end{aligned}\n",
    "$$\n",
    "\n",
    "Therefore, as long as $M$ is sufficiently large, by the weak law of large numbers, $\\xi$ converges to the true value.\n"
   ]
  },
  {
   "cell_type": "markdown",
   "id": "d65c7b14",
   "metadata": {},
   "source": [
    "## QuAIRKit implementation \n",
    "\n",
    "In this section, we will use **QuAIRKit** to demonstrate how the **PEC** method can mitigate **depolarizing noise**. The depolarizing channel for a single qubit is defined as\n",
    "\n",
    "$$\n",
    "\\mathcal{D}_{2,\\epsilon}(\\rho) = \\left(1 - \\frac{3}{4}\\epsilon \\right)\\rho \n",
    "+ \\frac{\\epsilon}{4} \\big( X\\rho X + Y\\rho Y + Z\\rho Z \\big),\n",
    "$$\n",
    "\n",
    "and its inverse is given by\n",
    "\n",
    "\\begin{equation}\n",
    "\\mathcal{D}_{2,\\epsilon}^{-1}(\\rho) \n",
    "= \\frac{4 - \\epsilon}{4(1 - \\epsilon)}\\, \\rho \n",
    "- \\frac{\\epsilon}{4(1 - \\epsilon)} \\big( X\\rho X + Y\\rho Y + Z\\rho Z \\big).\\tag{3}\n",
    "\\end{equation}\n",
    "\n",
    "Here, $X, Y, Z$ are the standard Pauli operators, and $\\epsilon$ denotes the depolarizing strength.\n"
   ]
  },
  {
   "cell_type": "markdown",
   "id": "30fe33d2",
   "metadata": {},
   "source": [
    "Based on the form of its inverse (3), we know that we should sample the unitaries\n",
    "𝐼\n",
    ",\n",
    "𝑋\n",
    ",\n",
    "𝑌\n",
    ",\n",
    "𝑍, we first prepare the circuit required for the PEC procedure."
   ]
  },
  {
   "cell_type": "code",
   "execution_count": 3,
   "id": "ab341975",
   "metadata": {},
   "outputs": [],
   "source": [
    "# --- Define single-qubit Pauli operators ---\n",
    "I = eye(2)  # Identity operator\n",
    "X = x()     # Pauli-X operator\n",
    "Y = y()     # Pauli-Y operator\n",
    "Z = z()     # Pauli-Z operator\n",
    "\n",
    "# Stack the unitaries into a single tensor for quasi-probability decomposition\n",
    "V = torch.stack([I, X, Y, Z], dim=0)  \n",
    "epsilon = 0.2  # Depolarizing noise strength\n",
    "\n",
    "# Coefficients for the inverse depolarizing channel (quasi-probabilities)\n",
    "eta_I = (4 - epsilon) / (4 * (1 - epsilon))      \n",
    "eta_X = eta_Y = eta_Z = -epsilon / (4 * (1 - epsilon))  \n",
    "quasi_prob = torch.tensor([eta_I, eta_X, eta_Y, eta_Z])"
   ]
  },
  {
   "cell_type": "markdown",
   "id": "be527cf8",
   "metadata": {},
   "source": [
    "In this experiment, we prepare an initial single-qubit quantum state and define an observable $A$ to measure. \n",
    "The state is then subjected to depolarizing noise, modeled by a single-qubit depolarizing channel. \n"
   ]
  },
  {
   "cell_type": "code",
   "execution_count": 4,
   "id": "afe7ab17",
   "metadata": {},
   "outputs": [],
   "source": [
    "# --- Create a single-qubit circuit and apply depolarizing noise ---\n",
    "cir = Circuit(1)\n",
    "cir.depolarizing(epsilon)\n",
    "\n",
    "# --- Prepare a random initial state and a random Hermitian observable A---\n",
    "rho = random_state(1)\n",
    "A = random_hermitian(1)"
   ]
  },
  {
   "cell_type": "markdown",
   "id": "8a826555",
   "metadata": {},
   "source": [
    "To mitigate the noise, we apply the PEC method: \n",
    "we decompose the inverse of the depolarizing channel into a quasi-probability distribution over the Pauli operators $I, X, Y, Z$, \n",
    "sample these unitaries according to their normalized absolute weights, \n",
    "and compute the expectation value of $A$ using the weighted outcomes. "
   ]
  },
  {
   "cell_type": "code",
   "execution_count": 5,
   "id": "423f7989",
   "metadata": {},
   "outputs": [
    {
     "data": {
      "image/png": "[encoded data removed]",
      "text/plain": [
       "<IPython.core.display.Image object>"
      ]
     },
     "metadata": {},
     "output_type": "display_data"
    }
   ],
   "source": [
    "cir.quasi(V, quasi_prob, 0, r'\\mathcal{N}_{\\text{PEC}}')  # Add quasi-probability decomposition to the circuit\n",
    "cir.plot()"
   ]
  },
  {
   "cell_type": "markdown",
   "id": "6f09f32c",
   "metadata": {},
   "source": [
    "This procedure allows us to estimate the ideal expectation value in the presence of noise."
   ]
  },
  {
   "cell_type": "code",
   "execution_count": 6,
   "id": "d4fa7001",
   "metadata": {},
   "outputs": [],
   "source": [
    "output_state = cir(rho)  # a batched state corresponding to each quasi-probability operator\n",
    "expect_rho = output_state.expec_state()\n",
    "\n",
    "# --- Compute the PEC expectation value ---\n",
    "expectation = trace(expect_rho.density_matrix @ A).real.item()"
   ]
  },
  {
   "cell_type": "markdown",
   "id": "9126efba",
   "metadata": {},
   "source": [
    "Compare the experimental results with the theoretical values:"
   ]
  },
  {
   "cell_type": "code",
   "execution_count": 7,
   "id": "23454704",
   "metadata": {},
   "outputs": [
    {
     "name": "stdout",
     "output_type": "stream",
     "text": [
      "PEC estimate = 0.32598459765794263\n",
      "Exact value = 0.32598459765794274\n",
      "Absolute error = 1.1102230246251565e-16\n"
     ]
    }
   ],
   "source": [
    "# --- Print the results ---\n",
    "print(\"PEC estimate =\", expectation)\n",
    "\n",
    "# --- Compute the exact expectation value without noise for comparison ---\n",
    "expectation_exact = trace(rho.density_matrix @ A).real.item()\n",
    "print(\"Exact value =\", expectation_exact)\n",
    "\n",
    "# --- Print the absolute error ---\n",
    "print(\"Absolute error =\", abs(expectation - expectation_exact))\n"
   ]
  },
  {
   "cell_type": "markdown",
   "id": "6bddaaac",
   "metadata": {},
   "source": [
    "---"
   ]
  },
  {
   "cell_type": "markdown",
   "id": "f96d1e32",
   "metadata": {},
   "source": [
    "## References\n",
    "\n",
    "\n",
    "[1] Temme, Kristan, Sergey Bravyi, and Jay M. Gambetta. \"Error mitigation for short-depth quantum circuits.\" Physical Review Letters 119.18 (2017): 180509.\n",
    "\n",
    "[2] Endo, Suguru, Simon C. Benjamin, and Ying Li. \"Practical quantum error mitigation for near-future applications.\" Physical Review X 8.3 (2018): 031027.\n",
    "\n",
    "[3] Cai, Zhenyu, Xiaosi Xu, and Simon C. Benjamin. \"Mitigating coherent noise using Pauli conjugation.\" npj Quantum Information 6.1 (2020): 17.\n",
    "\n",
    "[4] Jiang, Jiaqing, Kun Wang, and **n Wang. \"Physical implementability of linear maps and its application in error mitigation.\" Quantum 5 (2021): 600."
   ]
  },
  {
   "cell_type": "markdown",
   "id": "1bb4dbe6",
   "metadata": {},
   "source": [
    "*Table: A reference of notation conventions in this tutorial.*\n",
    "\n",
    "| Symbol        | Variant          | Description                               |\n",
    "|:---------------:|:------------------:|-------------------------------------------|\n",
    "|  $X$ | $\\sigma_x$ | Pauli X operator |\n",
    "|  $Y$ | $\\sigma_y$ | Pauli Y operator |\n",
    "|  $Z$ | $\\sigma_z$ | Pauli Z operator |\n",
    "|  $I$ |  | Identity operator |\n",
    "|  $\\mathcal{N}$ | $\\mathcal{O^{-1}}$ | The inverse of the noise channel $\\mathcal{O}$. |\n",
    "|  $A$ |  | Observerble |\n",
    "|  $E(X)$  |  | The expectation of a random variable $X$ |\n",
    "|  $\\mathcal{L}(\\mathcal{H})$  |  | linear operator on the linear space $\\mathcal{H}$ |\n",
    "\n",
    "\n",
    "\n"
   ]
  },
  {
   "cell_type": "code",
   "execution_count": 8,
   "id": "21c33e0a",
   "metadata": {},
   "outputs": [
    {
     "name": "stdout",
     "output_type": "stream",
     "text": [
      "\n",
      "---------VERSION---------\n",
      "quairkit: 0.4.2\n",
      "torch: 2.8.0+cu128\n",
      "torch cuda: 12.8\n",
      "numpy: 2.2.6\n",
      "scipy: 1.15.3\n",
      "matplotlib: 3.10.6\n",
      "---------SYSTEM---------\n",
      "Python version: 3.10.18\n",
      "OS: Linux\n",
      "OS version: #1 SMP Tue Nov 5 00:21:55 UTC 2024\n",
      "---------DEVICE---------\n",
      "CPU:  13th Gen Intel(R) Core(TM) i9-13980HX\n",
      "GPU: (0) NVIDIA GeForce RTX 4090 Laptop GPU\n"
     ]
    }
   ],
   "source": [
    "qkit.print_info()"
   ]
  }
 ],
 "metadata": {
  "kernelspec": {
   "display_name": "api",
   "language": "python",
   "name": "python3"
  },
  "language_info": {
   "codemirror_mode": {
    "name": "ipython",
    "version": 3
   },
   "file_extension": ".py",
   "mimetype": "text/x-python",
   "name": "python",
   "nbconvert_exporter": "python",
   "pygments_lexer": "ipython3",
   "version": "3.10.18"
  }
 },
 "nbformat": 4,
 "nbformat_minor": 5
}
