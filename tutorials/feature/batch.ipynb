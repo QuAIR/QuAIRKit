{
 "cells": [
  {
   "cell_type": "markdown",
   "metadata": {},
   "source": [
    "# Batch Computation\n",
    "\n",
    "This tutorial involves how to use batch computation to simplify a series of inputs in QuAIRKit.\n",
    "\n",
    "**Table of Contents**\n",
    "- [Batch computation in quantum circuit](#Batch-computation-in-quantum-circuit)\n",
    "- [Batch computation in measurement](#Batch-computation-in-measurement)"
   ]
  },
  {
   "cell_type": "code",
   "execution_count": 1,
   "metadata": {},
   "outputs": [],
   "source": [
    "import torch\n",
    "\n",
    "import quairkit as qkit\n",
    "from quairkit import Circuit\n",
    "from quairkit.database import *\n",
    "from quairkit.loss import ExpecVal, Measure\n",
    "\n",
    "qkit.set_dtype(\"complex128\")"
   ]
  },
  {
   "cell_type": "markdown",
   "metadata": {},
   "source": [
    "## Batch computation in quantum circuit\n",
    "\n",
    "`Circuit` class in QuAIRKit supports add batched parameters and gates to the circuit. \n",
    "\n",
    "For parameterized gates like $R_x(\\theta)$, $R_y(\\theta)$, $R_z(\\theta)$, one can add batched parameters to the circuit by passing a 3-dimensional tensor to gate function, where the 3 dimensions are:\n",
    "\n",
    "- *len(qubits_idx)* : the number of qubits acted by the gates;\n",
    "- *batch_size* : the number of batched parameters;\n",
    "- *num_acted_param* : the number of parameters that characterize the gate. For example, *num_acted_param* for Ry gate is 1 and that for universal three qubit gate is 15.\n",
    "\n",
    "Here is an example of batched parameters as an input onto a parameterized quantum circuit."
   ]
  },
  {
   "cell_type": "code",
   "execution_count": 2,
   "metadata": {},
   "outputs": [
    {
     "name": "stdout",
     "output_type": "stream",
     "text": [
      "Quantum circuit output: \n",
      "---------------------------------------------------\n",
      " Backend: state_vector\n",
      " System dimension: [2, 2]\n",
      " System sequence: [1, 0]\n",
      " Batch size: [3]\n",
      "\n",
      " # 0:\n",
      "[ 0.95+0.j    0.  -0.12j  0.  -0.28j -0.03+0.j  ]\n",
      " # 1:\n",
      "[ 0.97+0.j    0.  -0.23j  0.  -0.08j -0.02+0.j  ]\n",
      " # 2:\n",
      "[ 0.98+0.j    0.  -0.14j  0.  -0.16j -0.02+0.j  ]\n",
      "---------------------------------------------------\n",
      "\n"
     ]
    }
   ],
   "source": [
    "num_qubits = 2\n",
    "batch_size = 3\n",
    "\n",
    "list_x = torch.rand(num_qubits * batch_size * 1)  # num_acted_param=1\n",
    "cir = Circuit(num_qubits)\n",
    "cir.rx(param=list_x)  # set Rx gate\n",
    "print(f\"Quantum circuit output: {cir()}\")\n",
    "\n",
    "# this is equivalent to below code\n",
    "# for x in list_x:\n",
    "#     cir_1 = Circuit(1)\n",
    "#     cir_1.rx(param=x)\n",
    "#     print(f\"Quantum circuit output for adding one Rx gate: {cir()}\")"
   ]
  },
  {
   "cell_type": "markdown",
   "metadata": {},
   "source": [
    "For oracles stored as torch.Tensor, one can add batched matrices to the circuit by `oracle` or `control_oracle`."
   ]
  },
  {
   "cell_type": "code",
   "execution_count": 3,
   "metadata": {},
   "outputs": [
    {
     "name": "stdout",
     "output_type": "stream",
     "text": [
      "The shape of oracle unitary: torch.Size([3, 2, 2])\n",
      "Quantum circuit output: \n",
      "---------------------------------------------------\n",
      " Backend: state_vector\n",
      " System dimension: [2, 2]\n",
      " System sequence: [1, 0]\n",
      " Batch size: [3]\n",
      "\n",
      " # 0:\n",
      "[0.61-0.4j  0.  +0.j   0.54-0.42j 0.  +0.j  ]\n",
      " # 1:\n",
      "[ 0.08+0.06j  0.  +0.j   -0.99+0.03j  0.  +0.j  ]\n",
      " # 2:\n",
      "[ 0.03-0.74j  0.  +0.j   -0.61+0.29j  0.  +0.j  ]\n",
      "---------------------------------------------------\n",
      "\n"
     ]
    }
   ],
   "source": [
    "cir_ora = Circuit(2)\n",
    "list_unitary = random_unitary(1, size=batch_size)\n",
    "print(f\"The shape of oracle unitary: {list_unitary.shape}\")\n",
    "\n",
    "cir_ora.oracle(list_unitary, [1])\n",
    "print(f\"Quantum circuit output: {cir_ora()}\")\n",
    "\n",
    "# this is equivalent to below code\n",
    "# for idx, unitary in enumerate(list_unitary):\n",
    "#     cir_ora2 = Circuit(2)\n",
    "#     cir_ora2.oracle(unitary, [1])\n",
    "#     print(f\"Quantum circuit {idx}: {cir_ora2()}\")"
   ]
  },
  {
   "cell_type": "markdown",
   "metadata": {},
   "source": [
    "QuAIRKit also supports batched channels through batching their Kraus or Choi operators. One can add batched channels to the circuit via `kraus_channel` or `choi_channel`.  Notice that Kraus representation is recommended in batch computation."
   ]
  },
  {
   "cell_type": "code",
   "execution_count": 4,
   "metadata": {},
   "outputs": [
    {
     "name": "stdout",
     "output_type": "stream",
     "text": [
      "Kraus channel: \n",
      "---------------------------------------------------\n",
      " Backend: density_matrix\n",
      " System dimension: [2, 2]\n",
      " System sequence: [0, 1]\n",
      " Batch size: [3]\n",
      "\n",
      " # 0:\n",
      "[[0.45+0.j   0.  +0.j   0.25+0.43j 0.  +0.j  ]\n",
      " [0.  +0.j   0.  +0.j   0.  +0.j   0.  +0.j  ]\n",
      " [0.25-0.43j 0.  +0.j   0.55+0.j   0.  +0.j  ]\n",
      " [0.  +0.j   0.  +0.j   0.  +0.j   0.  +0.j  ]]\n",
      " # 1:\n",
      "[[ 0.23+0.j    0.  +0.j   -0.21-0.37j  0.  +0.j  ]\n",
      " [ 0.  +0.j    0.  +0.j    0.  +0.j    0.  +0.j  ]\n",
      " [-0.21+0.37j  0.  +0.j    0.77+0.j    0.  +0.j  ]\n",
      " [ 0.  +0.j    0.  +0.j    0.  +0.j    0.  +0.j  ]]\n",
      " # 2:\n",
      "[[0.06+0.j   0.  +0.j   0.09+0.21j 0.  +0.j  ]\n",
      " [0.  +0.j   0.  +0.j   0.  +0.j   0.  +0.j  ]\n",
      " [0.09-0.21j 0.  +0.j   0.94+0.j   0.  +0.j  ]\n",
      " [0.  +0.j   0.  +0.j   0.  +0.j   0.  +0.j  ]]\n",
      "---------------------------------------------------\n",
      "\n"
     ]
    }
   ],
   "source": [
    "cir_kra = Circuit(2)\n",
    "list_kraus = random_channel(num_qubits=1, size=batch_size)\n",
    "cir_kra.kraus_channel(list_kraus, [0])\n",
    "print(f\"Kraus channel: {cir_kra()}\")\n",
    "output_state = cir_kra()\n",
    "\n",
    "# this is equivalent to below code\n",
    "# for idx, kraus in enumerate(list_kraus):\n",
    "#     cir_kra2 = Circuit(2)\n",
    "#     cir_kra2.kraus_channel(kraus, [0])\n",
    "#     print(f\"Kraus channel {idx}: {cir_kra2()}\")"
   ]
  },
  {
   "cell_type": "code",
   "execution_count": 5,
   "metadata": {},
   "outputs": [
    {
     "name": "stdout",
     "output_type": "stream",
     "text": [
      "Choi channel: \n",
      "---------------------------------------------------\n",
      " Backend: density_matrix\n",
      " System dimension: [2, 2]\n",
      " System sequence: [0, 1]\n",
      " Batch size: [3]\n",
      "\n",
      " # 0:\n",
      "[[0.4 +0.j   0.06+0.35j 0.  +0.j   0.  +0.j  ]\n",
      " [0.06-0.35j 0.6 +0.j   0.  +0.j   0.  +0.j  ]\n",
      " [0.  +0.j   0.  +0.j   0.  +0.j   0.  +0.j  ]\n",
      " [0.  +0.j   0.  +0.j   0.  +0.j   0.  +0.j  ]]\n",
      " # 1:\n",
      "[[0.45+0.j   0.08-0.05j 0.  +0.j   0.  +0.j  ]\n",
      " [0.08+0.05j 0.55+0.j   0.  +0.j   0.  +0.j  ]\n",
      " [0.  +0.j   0.  +0.j   0.  +0.j   0.  +0.j  ]\n",
      " [0.  +0.j   0.  +0.j   0.  +0.j   0.  +0.j  ]]\n",
      " # 2:\n",
      "[[ 0.22+0.j  -0.21+0.3j  0.  +0.j   0.  +0.j ]\n",
      " [-0.21-0.3j  0.78+0.j   0.  +0.j   0.  +0.j ]\n",
      " [ 0.  +0.j   0.  +0.j   0.  +0.j   0.  +0.j ]\n",
      " [ 0.  +0.j   0.  +0.j   0.  +0.j   0.  +0.j ]]\n",
      "---------------------------------------------------\n",
      "\n"
     ]
    }
   ],
   "source": [
    "cir_cho = Circuit(2)\n",
    "list_choi = random_channel(num_qubits=1, target=\"choi\", size=batch_size)\n",
    "cir_cho.choi_channel(list_choi, [1])\n",
    "print(f\"Choi channel: {cir_cho()}\")\n",
    "\n",
    "# this is equivalent to below code\n",
    "# for idx, choi in enumerate(list_choi):\n",
    "#     cir_cho2 = Circuit(2)\n",
    "#     cir_cho2.choi_channel(choi, [0])\n",
    "#     print(f\"Choi channel {idx}: {cir_cho2()}\")"
   ]
  },
  {
   "cell_type": "markdown",
   "metadata": {},
   "source": [
    "Mathematical property of Kraus operators is checked."
   ]
  },
  {
   "cell_type": "markdown",
   "metadata": {},
   "source": [
    "One can then check that this circuit preserves the trace."
   ]
  },
  {
   "cell_type": "code",
   "execution_count": 6,
   "metadata": {},
   "outputs": [
    {
     "data": {
      "text/plain": [
       "True"
      ]
     },
     "execution_count": 6,
     "metadata": {},
     "output_type": "execute_result"
    }
   ],
   "source": [
    "tr = output_state.trace()\n",
    "torch.allclose(tr, torch.ones_like(tr))"
   ]
  },
  {
   "cell_type": "markdown",
   "metadata": {},
   "source": [
    "For clarity, the following figure illustrates how batch computation works in quantum circuits.\n",
    "\n",
    "<figure style=\"text-align: center;\">\n",
    "  <img src=\"./figures/batch.jpg\" alt=\"alt text\" width=\"700\"/>\n",
    "  <figcaption>Fig.1: Depiction of batched quantum circuits on single input state.</figcaption>\n",
    "</figure>\n",
    "\n",
    "\n",
    "The code of these circuits is given as follows "
   ]
  },
  {
   "cell_type": "code",
   "execution_count": 7,
   "metadata": {},
   "outputs": [
    {
     "name": "stdout",
     "output_type": "stream",
     "text": [
      "Output state: \n",
      "---------------------------------------------------\n",
      " Backend: density_matrix\n",
      " System dimension: [2]\n",
      " System sequence: [0]\n",
      " Batch size: [3]\n",
      "\n",
      " # 0:\n",
      "[[0.72+0.j   0.07-0.33j]\n",
      " [0.07+0.33j 0.28+0.j  ]]\n",
      " # 1:\n",
      "[[ 0.63+0.j   -0.05-0.23j]\n",
      " [-0.05+0.23j  0.37+0.j  ]]\n",
      " # 2:\n",
      "[[ 0.6 -0.j   -0.04-0.17j]\n",
      " [-0.04+0.17j  0.4 +0.j  ]]\n",
      "---------------------------------------------------\n",
      "\n"
     ]
    }
   ],
   "source": [
    "rho = random_state(1)\n",
    "list_x = torch.rand(batch_size)\n",
    "list_depo = torch.stack(\n",
    "    [depolarizing_kraus(torch.rand(1)) for _ in list(range(batch_size))]\n",
    ")\n",
    "\n",
    "batch_cir = Circuit(1)\n",
    "batch_cir.ry()\n",
    "batch_cir.rz(param=list_x)\n",
    "batch_cir.kraus_channel(list_depo, 0)\n",
    "batch_cir.ry()\n",
    "batch_cir.rz(param=list_x)\n",
    "print(f\"Output state: {batch_cir(rho)}\")"
   ]
  },
  {
   "cell_type": "markdown",
   "metadata": {},
   "source": [
    "## Batch computation in measurement\n",
    "\n",
    "Measurement in QuAIRKit also support batch computation. We start with an observable represented by `Hamiltonian` and a projection valued measure (PVM)."
   ]
  },
  {
   "cell_type": "code",
   "execution_count": 8,
   "metadata": {},
   "outputs": [
    {
     "name": "stdout",
     "output_type": "stream",
     "text": [
      "Hamiltonian: [[0.158452521275237, 'X1'], [-0.06368870737400667, 'X0'], [0.6403721911006688, 'Z0']]\n"
     ]
    }
   ],
   "source": [
    "H = random_hamiltonian_generator(num_qubits)\n",
    "print(f\"Hamiltonian: {H.pauli_str}\")"
   ]
  },
  {
   "cell_type": "markdown",
   "metadata": {},
   "source": [
    "One can call the `expec_val` of `State` class, or implement the neural network module `ExpecVal` on batched states."
   ]
  },
  {
   "cell_type": "code",
   "execution_count": 9,
   "metadata": {},
   "outputs": [
    {
     "name": "stdout",
     "output_type": "stream",
     "text": [
      "Output state: \n",
      "---------------------------------------------------\n",
      " Backend: density_matrix\n",
      " System dimension: [2, 2]\n",
      " System sequence: [0, 1]\n",
      " Batch size: [3]\n",
      "\n",
      " # 0:\n",
      "[[0.45+0.j   0.  +0.j   0.25+0.43j 0.  +0.j  ]\n",
      " [0.  +0.j   0.  +0.j   0.  +0.j   0.  +0.j  ]\n",
      " [0.25-0.43j 0.  +0.j   0.55+0.j   0.  +0.j  ]\n",
      " [0.  +0.j   0.  +0.j   0.  +0.j   0.  +0.j  ]]\n",
      " # 1:\n",
      "[[ 0.23+0.j    0.  +0.j   -0.21-0.37j  0.  +0.j  ]\n",
      " [ 0.  +0.j    0.  +0.j    0.  +0.j    0.  +0.j  ]\n",
      " [-0.21+0.37j  0.  +0.j    0.77+0.j    0.  +0.j  ]\n",
      " [ 0.  +0.j    0.  +0.j    0.  +0.j    0.  +0.j  ]]\n",
      " # 2:\n",
      "[[0.06+0.j   0.  +0.j   0.09+0.21j 0.  +0.j  ]\n",
      " [0.  +0.j   0.  +0.j   0.  +0.j   0.  +0.j  ]\n",
      " [0.09-0.21j 0.  +0.j   0.94+0.j   0.  +0.j  ]\n",
      " [0.  +0.j   0.  +0.j   0.  +0.j   0.  +0.j  ]]\n",
      "---------------------------------------------------\n",
      "\n",
      "expectation value: tensor([-0.0933, -0.3136, -0.5813])\n",
      "expectation value: tensor([-0.0933, -0.3136, -0.5813])\n",
      "expectation value of each Pauli term: tensor([[ 0.0000,  0.0000,  0.0000],\n",
      "        [-0.0315,  0.0264, -0.0117],\n",
      "        [-0.0618, -0.3400, -0.5696]])\n"
     ]
    }
   ],
   "source": [
    "print(f\"Output state: {output_state}\")\n",
    "op = ExpecVal(H)\n",
    "print(f\"expectation value: {op(output_state)}\")\n",
    "# this is equivalent to below code\n",
    "# for state in output_state:\n",
    "#     print(f\"expectation value of each: {op(state)}\")\n",
    "\n",
    "print(f\"expectation value: {output_state.expec_val(H)}\")\n",
    "# return the expectation value of each Pauli term\n",
    "print(\n",
    "    f\"expectation value of each Pauli term: {output_state.expec_val(H, decompose=True)}\"\n",
    ")"
   ]
  },
  {
   "cell_type": "markdown",
   "metadata": {},
   "source": [
    "Similarly, to measure the output state, one can call the `measure` of `State` class, or implement the neural network module `Measure` on batched states. The following code measures the second qubit of the output state."
   ]
  },
  {
   "cell_type": "code",
   "execution_count": 10,
   "metadata": {},
   "outputs": [
    {
     "name": "stdout",
     "output_type": "stream",
     "text": [
      "The shape of PVM: torch.Size([2, 2, 2])\n",
      "expectation value: tensor([[0.0784, 0.9216],\n",
      "        [0.9952, 0.0048],\n",
      "        [0.4924, 0.5076]])\n",
      "expectation value: tensor([[0.0784, 0.9216],\n",
      "        [0.9952, 0.0048],\n",
      "        [0.4924, 0.5076]])\n"
     ]
    }
   ],
   "source": [
    "output_state = cir_kra()\n",
    "basis = random_unitary(1).unsqueeze(-1)\n",
    "pvm = basis @ basis.mH\n",
    "print(f\"The shape of PVM: {pvm.shape}\")\n",
    "\n",
    "op = Measure(pvm)\n",
    "print(f\"expectation value: {op(output_state, [0])}\")\n",
    "# this is equivalent to below code\n",
    "# for state in output_state:\n",
    "#     print(f\"expectation value: {op(state, [0])}\")\n",
    "\n",
    "print(f\"expectation value: {output_state.measure(pvm, [0])}\")"
   ]
  },
  {
   "cell_type": "markdown",
   "metadata": {},
   "source": [
    "One can also keep the collapsed states after the measurement by setting `keep_state = True`."
   ]
  },
  {
   "cell_type": "markdown",
   "metadata": {},
   "source": [
    "---"
   ]
  },
  {
   "cell_type": "markdown",
   "metadata": {},
   "source": [
    "*Table: A reference of notation conventions in this tutorial.*\n",
    "\n",
    "| Symbol        | Variant          | Description                               |\n",
    "|:---------------:|:------------------:|-------------------------------------------|\n",
    "| $R_{x/y/z}(\\theta)$     |       |rotation gates about the $X$/$Y$/$Z$-axis  |\n",
    "|$\\rho_{\\text{in}}$||input quantum state|\n",
    "|$\\rho_{\\text{out}}$|$\\rho_{\\text{out},1}$, $\\rho_{\\text{out},2}$, $\\rho_{\\text{out},3}$| output quantum state|\n",
    "|$\\mathcal{N}$|$\\mathcal{N}_1$, $\\mathcal{N}_2$, $\\mathcal{N}_3$|quantum channel  |\n"
   ]
  },
  {
   "cell_type": "code",
   "execution_count": 11,
   "metadata": {},
   "outputs": [
    {
     "name": "stdout",
     "output_type": "stream",
     "text": [
      "\n",
      "---------VERSION---------\n",
      "quairkit: 0.1.0\n",
      "torch: 2.3.1+cpu\n",
      "numpy: 1.26.0\n",
      "scipy: 1.14.0\n",
      "matplotlib: 3.9.0\n",
      "---------SYSTEM---------\n",
      "Python version: 3.10.14\n",
      "OS: Windows\n",
      "OS version: 10.0.26100\n",
      "---------DEVICE---------\n",
      "CPU: ARMv8 (64-bit) Family 8 Model 1 Revision 201, Qualcomm Technologies Inc\n"
     ]
    }
   ],
   "source": [
    "qkit.print_info()"
   ]
  }
 ],
 "metadata": {
  "kernelspec": {
   "display_name": "quair",
   "language": "python",
   "name": "python3"
  },
  "language_info": {
   "codemirror_mode": {
    "name": "ipython",
    "version": 3
   },
   "file_extension": ".py",
   "mimetype": "text/x-python",
   "name": "python",
   "nbconvert_exporter": "python",
   "pygments_lexer": "ipython3",
   "version": "3.10.14"
  }
 },
 "nbformat": 4,
 "nbformat_minor": 2
}
