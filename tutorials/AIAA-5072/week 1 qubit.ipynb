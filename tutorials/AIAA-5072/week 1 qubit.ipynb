{
 "cells": [
  {
   "cell_type": "code",
   "execution_count": null,
   "id": "9f109492",
   "metadata": {},
   "outputs": [],
   "source": [
    "%%bash\n",
    "if ! python -c \"import quairkit\" 2>/dev/null; then\n",
    "    pip install -i https://mirrors.tuna.tsinghua.edu.cn/pypi/web/simple quairkit \n",
    "fi\n",
    "\n",
    "if ! command -v pdftotext &> /dev/null; then\n",
    "    conda install -y -c conda-forge poppler\n",
    "fi"
   ]
  },
  {
   "cell_type": "markdown",
   "id": "f3b9c9b6",
   "metadata": {},
   "source": [
    "# Brief Introduction to Quantum Computing\n",
    "\n",
    "<em style=\"color:gray;\">Copyright (c) 2025 QuAIR team. All Rights Reserved.</em>\n",
    "\n",
    "Quantum computing represents a revolutionary approach to computation that harnesses the principles of quantum mechanics. Unlike classical bits that exist as either 0 or 1, quantum bits (qubits) can exist in superpositions of states, enabling parallel computation. Furthermore, quantum systems can exhibit entanglement - a uniquely quantum phenomenon where each system cannot be described independently of the others, even when separated by large distances. These properties allow quantum computers to solve certain problems exponentially faster than classical computers, with applications in cryptography [2-4], optimization [5-7], chemistry [8-9], and more.\n",
    "\n",
    "In this tutorial we introduce the basic usage of QuAIRKit. We will cover fundamental concepts in quantum computing, including quantum state representation, quantum evolution(gates, channels and circuit), measurement, and expectation value estimation.\n",
    "\n",
    "**Table of Contents**\n",
    "\n",
    "- [Quantum state](#quantum-state)\n",
    "  - [State Vector](#state-vector)\n",
    "  - [Density Matrix](#density-matrix)\n",
    "- [Quantum Evolution](#quantum-evolution)\n",
    "  - [Quantum Gates](#quantum-gates)\n",
    "    - [Pauli Gates](#pauil-gates)\n",
    "    - [Rotation Gates](#rotation-gates)\n",
    "    - [Two Qubits Gates](#two-qubit-gates)\n",
    "  - [Quantum Circuit](#quantum-circuit)\n",
    "  - [Quantum Channel](#quantum-channels)\n",
    "- [Measurement](#measurement)\n",
    "  - [Projective Measurement](#projective-measurement)\n",
    "  - [Positive Operator-Valued Measures](#positive-operator-valued-measurespovms)\n",
    "- [Expectation](#expectation-value)\n",
    "  - [Hamiltonian](#hamiltonian)\n",
    "  - [Expectation Value Estimation](#expectation-value-estimation)"
   ]
  },
  {
   "cell_type": "code",
   "execution_count": 2,
   "id": "98886e98",
   "metadata": {},
   "outputs": [],
   "source": [
    "import torch\n",
    "\n",
    "import quairkit as qkit\n",
    "from quairkit import Circuit, Hamiltonian\n",
    "from quairkit.loss import *\n",
    "from quairkit.operator import *\n",
    "from quairkit.database import *\n",
    "from quairkit.qinfo import *"
   ]
  },
  {
   "cell_type": "markdown",
   "id": "04272549",
   "metadata": {},
   "source": [
    "## Quantum State\n",
    "\n",
    "### State Vector\n",
    "In classical computing, information is stored in bits that can be either 0 or 1. Quantum computing extends this concept using qubits (quantum bits), which follow the laws of quantum mechanics. Unlike classical bits, qubits can exist in superpositions of states, enabling parallel computation. A single qubit is represented by a **state vector** in a 2D complex vector space. The basis states are:\n",
    "$$\n",
    "\\ket{0}=\n",
    "\\begin{bmatrix}\n",
    "1\\\\\n",
    "0\n",
    "\\end{bmatrix},\\;\n",
    "\\ket{1}=\n",
    "\\begin{bmatrix}\n",
    "0\\\\\n",
    "1\n",
    "\\end{bmatrix}\n",
    ".\n",
    "$$\n",
    "which is known as the **computational basis**.\n",
    "and any quantum state $\\psi$ can be expressed as a linear combination:\n",
    "$$\n",
    "\\ket{\\psi}=\\alpha\\ket{0}+\\beta\\ket{1}=\n",
    "\\begin{bmatrix}\n",
    "\\alpha\\\\\n",
    "\\beta\n",
    "\\end{bmatrix}\n",
    ".\n",
    "$$\n",
    "where $\\alpha,\\beta\\in \\Bbb{C}$ are probability amplitudes satisfying the normalization condition:\n",
    "$$\n",
    "|\\alpha|^2+|\\beta|^2=1.\n",
    "$$\n",
    "\n",
    "The state can also be parameterized (ignoring global phase) as:\n",
    "$$\n",
    "\\ket{\\psi}=\\cos\\frac{\\theta}{2}\\ket{0}+e^{i\\phi}\\sin\\frac{\\theta}{2}\\ket{1}.\n",
    "$$\n",
    "This maps every pure state to a point on the Bloch sphere as Figure. 1 shows, with:\n",
    "- $\\theta$: Polar angle $(0 \\leq \\theta \\leq \\pi)$\n",
    "- $\\phi$: Azimuthal angle $(0 \\leq \\phi < 2\\pi)$\n",
    "\n",
    "<figure style=\"text-align: center;\">\n",
    "  <img src=\"figures/qubit_bloch_sphere.png\" alt=\"alt text\"/>\n",
    "  <figcaption>A example of bloch sphere. </figcaption>\n",
    "</figure>\n",
    "\n",
    "In QuAIRKit, we can construct a single-qubit quantum state using the following code: "
   ]
  },
  {
   "cell_type": "code",
   "execution_count": 3,
   "id": "429f017c",
   "metadata": {},
   "outputs": [
    {
     "name": "stdout",
     "output_type": "stream",
     "text": [
      "Zero state with single qubit: \n",
      "-----------------------------------------------------\n",
      " Backend: default-pure\n",
      " System dimension: [2]\n",
      " System sequence: [0]\n",
      "[1.+0.j 0.+0.j]\n",
      "-----------------------------------------------------\n",
      "\n",
      "One state with single qubit: \n",
      "-----------------------------------------------------\n",
      " Backend: default-pure\n",
      " System dimension: [2]\n",
      " System sequence: [0]\n",
      "[0.+0.j 1.+0.j]\n",
      "-----------------------------------------------------\n",
      "\n",
      "Random state with single qubit: \n",
      "-----------------------------------------------------\n",
      " Backend: default-mixed\n",
      " System dimension: [2]\n",
      " System sequence: [0]\n",
      "[[ 0.31+0.j  -0.23-0.2j]\n",
      " [-0.23+0.2j  0.69+0.j ]]\n",
      "-----------------------------------------------------\n",
      "\n"
     ]
    }
   ],
   "source": [
    "num_qubits = 1  # set the number of qubits\n",
    "\n",
    "# create a |0>\n",
    "state = zero_state(num_qubits)\n",
    "print(f\"Zero state with single qubit: {state}\")\n",
    "\n",
    "# create a |1>\n",
    "state = one_state(num_qubits)\n",
    "print(f\"One state with single qubit: {state}\")\n",
    "\n",
    "# create a random state\n",
    "state = random_state(num_qubits)\n",
    "print(f\"Random state with single qubit: {state}\")"
   ]
  },
  {
   "cell_type": "markdown",
   "id": "0a90e8ea",
   "metadata": {},
   "source": [
    "`State` is a class in QuAIRKit which provides a unified interface for working with both pure and mixed quantum states. It supports two fundamental representations:\n",
    "- State vectors (for pure states)\n",
    "  \n",
    "- Density matrices (for mixed states)\n",
    "\n",
    "The class handles:\n",
    "\n",
    "- State initialization and validation\n",
    "\n",
    "- System dimension management\n",
    "\n",
    "- State representation conversions\n",
    "\n",
    "- Common quantum state generation\n",
    "\n",
    "Check this link for more states you can create: [QuAIRKit.database.state](https://quairkit.com/QuAIRKit/v0.1.0/quairkit.database.state.html#). You can use the functions in this class to construct states like this:"
   ]
  },
  {
   "cell_type": "code",
   "execution_count": 4,
   "id": "f0bf4f85",
   "metadata": {},
   "outputs": [
    {
     "name": "stdout",
     "output_type": "stream",
     "text": [
      "The computationa state is:\n",
      "\n",
      "-----------------------------------------------------\n",
      " Backend: default-pure\n",
      " System dimension: [2, 3]\n",
      " System sequence: [0, 1]\n",
      "[0.+0.j 0.+0.j 0.+0.j 0.+0.j 1.+0.j 0.+0.j]\n",
      "-----------------------------------------------------\n",
      "\n",
      "The Bell state is:\n",
      "\n",
      "-----------------------------------------------------\n",
      " Backend: default-pure\n",
      " System dimension: [2, 2]\n",
      " System sequence: [0, 1]\n",
      "[0.71+0.j 0.  +0.j 0.  +0.j 0.71+0.j]\n",
      "-----------------------------------------------------\n",
      "\n",
      "The GHZ-state is:\n",
      "\n",
      "-----------------------------------------------------\n",
      " Backend: default-pure\n",
      " System dimension: [2, 2, 2]\n",
      " System sequence: [0, 1, 2]\n",
      "[0.71+0.j 0.  +0.j 0.  +0.j 0.  +0.j 0.  +0.j 0.  +0.j 0.  +0.j 0.71+0.j]\n",
      "-----------------------------------------------------\n",
      "\n"
     ]
    }
   ],
   "source": [
    "# Create different states\n",
    "# Index=4 corresponds to |1,1⟩ state\n",
    "state = computational_state(num_systems=2, index=4, system_dim=[2,3])\n",
    "print(f'The computationa state is:\\n{state}')\n",
    "\n",
    "state = bell_state(num_systems=2, system_dim=[2,2])\n",
    "print(f'The Bell state is:\\n{state}')\n",
    "\n",
    "state = ghz_state(num_qubits=3)\n",
    "print(f'The GHZ-state is:\\n{state}')"
   ]
  },
  {
   "cell_type": "markdown",
   "id": "038be05b",
   "metadata": {},
   "source": [
    "Multiple systems can be constructed using tensor product with `nkron` like this"
   ]
  },
  {
   "cell_type": "code",
   "execution_count": 5,
   "id": "25f40755",
   "metadata": {},
   "outputs": [
    {
     "name": "stdout",
     "output_type": "stream",
     "text": [
      "Construct a tensor-product state of individual qubits: \n",
      "-----------------------------------------------------\n",
      " Backend: default-pure\n",
      " System dimension: [2, 2]\n",
      " System sequence: [0, 1]\n",
      "[0.+0.j 1.+0.j 0.+0.j 0.+0.j]\n",
      "-----------------------------------------------------\n",
      "\n"
     ]
    }
   ],
   "source": [
    "state_1 = zero_state(num_qubits)\n",
    "state_2 = one_state(num_qubits)\n",
    "product_state = nkron(state_1, state_2)\n",
    "print(f\"Construct a tensor-product state of individual qubits: {product_state}\")"
   ]
  },
  {
   "cell_type": "markdown",
   "id": "5b788970",
   "metadata": {},
   "source": [
    "### Density Matrix\n",
    "In quantum mechanics, quantum states can be described equivalently in two mathematical forms:\n",
    "- State Vector Representation: Used for pure states (Dirac notation $\\ket{\\psi}$)\n",
    "- Density Matrix Representation: Used for both pure and mixed states (operator $\\rho$)\n",
    "\n",
    "A pure state represents a quantum system that is fully characterized by a single state vector, while a mixed state describes a statistical mixture of quantum states, representing classical uncertainty about the system's preparation. While state vectors work well for describing pure quantum states, quantum systems often exist as statistical mixtures that require a more general representation. This leads us to the density matrix (or density operator) formalism, which provides a unified framework to describe both pure states and mixed states(statistical ensembles).\n",
    "\n",
    "For a pure state described by state vector $\\ket{\\psi}$, the density matrix is $\\rho=\\ket{\\psi}\\bra{\\psi}$. For a mixed state with probabilities $\\{p_i\\}$ and states $\\{ \\ket{\\psi_i}\\}$, the density matrix is $\\rho=\\sum_i p_i\\ket{\\psi_i}\\bra{\\psi_i}$ with properties:\n",
    "1. $\\rho=\\rho^{\\dagger}$.\n",
    "2. $\\mathrm{Tr}(\\rho)=1$.\n",
    "3. $\\langle\\psi\\vert\\rho\\vert\\psi\\rangle\\geq 0$ for all $\\ket{\\psi}$.\n",
    "\n",
    "**Example**\n",
    "\n",
    "Consider a qubit in a mixed state with 50% in $\\ket{0}$ and 50% in $\\ket{1}$. The density matrix of this mixed state is:\n",
    "$$\n",
    "\\rho=0.5\\ket{0}\\bra{0}+0.5\\ket{1}\\bra{1}=\n",
    "\\begin{pmatrix}\n",
    "0.5 & 0\\\\\n",
    "0 & 0.5\n",
    "\\end{pmatrix}.\n",
    "$$\n",
    "\n",
    "In QuAIRKit, we can construct density matrix randomly like this with `random_density_matrix`:"
   ]
  },
  {
   "cell_type": "code",
   "execution_count": 6,
   "id": "50ebf904",
   "metadata": {},
   "outputs": [
    {
     "name": "stdout",
     "output_type": "stream",
     "text": [
      "Random density matrix: tensor([[ 0.1285+0.0000j, -0.0621-0.0081j, -0.0267+0.0540j, -0.0347+0.0125j],\n",
      "        [-0.0621+0.0081j,  0.3315+0.0000j,  0.0560+0.1331j, -0.0685+0.0802j],\n",
      "        [-0.0267-0.0540j,  0.0560-0.1331j,  0.3177+0.0000j, -0.1186+0.0538j],\n",
      "        [-0.0347-0.0125j, -0.0685-0.0802j, -0.1186-0.0538j,  0.2223+0.0000j]])\n"
     ]
    }
   ],
   "source": [
    "density_matrix = random_density_matrix(num_qubits=2)\n",
    "print(f\"Random density matrix: {density_matrix}\")"
   ]
  },
  {
   "cell_type": "markdown",
   "id": "5a997d77",
   "metadata": {},
   "source": [
    "### Quantum Evolution\n",
    "Quantum state evolution describes how a quantum system changes over time under the laws of quantum mechanics. In closed systems (isolated from the environment), this evolution is:\n",
    "\n",
    "- Unitary: Preserves the norm of the state vector\n",
    "\n",
    "- Reversible: The process can theoretically be undone\n",
    "\n",
    "- Deterministic: For known Hamiltonians, evolution is perfectly predictable\n",
    "\n",
    "In closed quantum systems (isolated from the environment), quantum evolution is described by unitary operators that preserve the norm of state vectors. Mathematically:\n",
    "$$\n",
    "\\ket{\\psi_{final}}=U\\ket{\\psi_{init}}.\n",
    "$$\n",
    "where $U$ satisfies $U^{\\dagger}U=I$. These unitary operators are implemented as quantum gates in quantum circuits."
   ]
  },
  {
   "cell_type": "markdown",
   "id": "780e7c8a",
   "metadata": {},
   "source": [
    "### Quantum Gates\n",
    "Quantum gates are the fundamental building blocks of quantum circuits, analogous to classical logic gates (e.g., AND, OR). They are unitary operators that act on qubits, preserving the norm of the quantum state. Mathematically, a quantum gate applied to an $n$-qubit system is represented by a $2^n \\times 2^n$ unitary matrix $U$ (i.e., $U^{\\dagger}U=I$).\n",
    "\n",
    "Common quantum gates and their matrix representations are listed below:\n",
    "\n",
    "#### Pauil Gates\n",
    "| gate | matrix | code |\n",
    "|:------:|:--------:|:-----:|\n",
    "|  X   |$\\begin{bmatrix}0 & 1\\\\1 & 0\\end{bmatrix}$| `x` |\n",
    "|  Y   |$\\begin{bmatrix}0 & -i\\\\i & 0\\end{bmatrix}$| `y` |\n",
    "|  Z   |$\\begin{bmatrix}1 & 0\\\\0 & -1\\end{bmatrix}$| `z` |\n",
    "#### Rotation Gates\n",
    "Rotation gates implement unitary rotations around Bloch sphere axes by angle $\\theta$:\n",
    "| gate | matrix | code |\n",
    "|:------:|:--------:|:-----:|\n",
    "| RX   |$\\begin{bmatrix}\\cos{\\frac{\\theta}{2}} & -i\\sin{\\frac{\\theta}{2}} \\\\ -i\\sin{\\frac{\\theta}{2}} & \\cos{\\frac{\\theta}{2}}\\end{bmatrix}$| `rx` |\n",
    "| RY   |$\\begin{bmatrix}\\cos{\\frac{\\theta}{2}} & -\\sin{\\frac{\\theta}{2}} \\\\ \\sin{\\frac{\\theta}{2}} & \\cos{\\frac{\\theta}{2}}\\end{bmatrix}$| `ry` |\n",
    "| RZ   |$\\begin{bmatrix}e^{-i\\frac{\\theta}{2}} & 0 \\\\ 0 & e^{i\\frac{\\theta}{2}}\\end{bmatrix}$| `rz` |\n",
    "#### Two-Qubit Gates\n",
    "| gate | matrix | code |\n",
    "|:------:|:--------:|:-----:|\n",
    "| CNOT |$\\begin{bmatrix}1 & 0 & 0 & 0\\\\0 & 1 & 0 & 0\\\\0 & 0 & 0 & 1\\\\0 & 0 & 1 & 0\\end{bmatrix}$| `cnot` |\n",
    "| CZ   |$\\begin{bmatrix}1 & 0 & 0 & 0\\\\0 & 1 & 0 & 0\\\\0 & 0 & 1 & 0\\\\0 & 0 & 0 & -1\\end{bmatrix}$| `cz`|\n"
   ]
  },
  {
   "cell_type": "markdown",
   "id": "92bb2b19",
   "metadata": {},
   "source": [
    "### Quantum Circuit\n",
    "\n",
    "Quantum circuits provide the operational framework for quantum computation, translating the abstract principles of unitary evolution into executable sequences of quantum gates.\n",
    "\n",
    "A quantum circuit is composed of:\n",
    "\n",
    "- Qubits, represented by horizontal lines (wires).\n",
    "\n",
    "- Quantum Gates, represented by symbols on the wires, which perform unitary operations.\n",
    "\n",
    "- Time flows from left to right, defining the order of operations.\n",
    "\n",
    "By arranging gates in a specific order across qubits, we construct quantum algorithms that exploit superposition and entanglement to solve problems.\n",
    "\n",
    "Here is a simple demonstration of a quantum circuit:"
   ]
  },
  {
   "cell_type": "code",
   "execution_count": 7,
   "id": "858d05fd",
   "metadata": {},
   "outputs": [
    {
     "name": "stdout",
     "output_type": "stream",
     "text": [
      "The unitary matrix of the circuit: tensor([[ 0.0000+0.0000j,  0.0000+0.0000j,  0.5000-0.5000j,  0.0000+0.0000j,\n",
      "          0.0000+0.0000j,  0.0000+0.0000j, -0.5000+0.5000j,  0.0000+0.0000j],\n",
      "        [ 0.0000+0.0000j,  0.0000+0.0000j,  0.0000+0.0000j,  0.5000-0.5000j,\n",
      "          0.0000+0.0000j,  0.0000+0.0000j,  0.0000+0.0000j, -0.5000+0.5000j],\n",
      "        [ 0.5000-0.5000j,  0.0000+0.0000j,  0.0000+0.0000j,  0.0000+0.0000j,\n",
      "         -0.5000+0.5000j,  0.0000+0.0000j,  0.0000+0.0000j,  0.0000+0.0000j],\n",
      "        [ 0.0000+0.0000j,  0.5000-0.5000j,  0.0000+0.0000j,  0.0000+0.0000j,\n",
      "          0.0000+0.0000j, -0.5000+0.5000j,  0.0000+0.0000j,  0.0000+0.0000j],\n",
      "        [ 0.5000+0.5000j,  0.0000+0.0000j,  0.0000+0.0000j,  0.0000+0.0000j,\n",
      "          0.5000+0.5000j,  0.0000+0.0000j,  0.0000+0.0000j,  0.0000+0.0000j],\n",
      "        [ 0.0000+0.0000j,  0.5000+0.5000j,  0.0000+0.0000j,  0.0000+0.0000j,\n",
      "          0.0000+0.0000j,  0.5000+0.5000j,  0.0000+0.0000j,  0.0000+0.0000j],\n",
      "        [ 0.0000+0.0000j,  0.0000+0.0000j, -0.5000-0.5000j,  0.0000+0.0000j,\n",
      "          0.0000+0.0000j,  0.0000+0.0000j, -0.5000-0.5000j,  0.0000+0.0000j],\n",
      "        [ 0.0000+0.0000j,  0.0000+0.0000j,  0.0000+0.0000j, -0.5000-0.5000j,\n",
      "          0.0000+0.0000j,  0.0000+0.0000j,  0.0000+0.0000j, -0.5000-0.5000j]])\n"
     ]
    },
    {
     "data": {
      "image/png": "[encoded data removed]",
      "text/plain": [
       "<IPython.core.display.Image object>"
      ]
     },
     "metadata": {},
     "output_type": "display_data"
    }
   ],
   "source": [
    "# construct a circuit with specifying the number of qubits\n",
    "num_qubits = 3  # number of qubits\n",
    "cir = Circuit(num_qubits)\n",
    "\n",
    "# add operations\n",
    "cir.h(0)  # apply Hadamard gate on qubit 0\n",
    "cir.x([0, 1])  # apply x gate on qubit 0 and 1\n",
    "cir.cx([0, 1])  # apply cnot gate (control=qubit 0, target=qubit 1) - cx([control, target])\n",
    "cir.rz(0, param=torch.pi/2)  # apply rz gate on qubit 0 with theta=pi/2\n",
    "cir.cz([1, 0])  # apply cz gate(control=qubit 1, target=qubit 0) - cz([control, target])\n",
    "\n",
    "print(f\"The unitary matrix of the circuit: {cir.matrix}\")\n",
    "cir.plot()"
   ]
  },
  {
   "cell_type": "markdown",
   "id": "4f31edcc",
   "metadata": {},
   "source": [
    "Alternatively, we can apply the evolution to a specified state (e.g., `cir(state)`) by invoking the circuit object with a given state."
   ]
  },
  {
   "cell_type": "code",
   "execution_count": 8,
   "id": "3ef28139",
   "metadata": {},
   "outputs": [
    {
     "name": "stdout",
     "output_type": "stream",
     "text": [
      "The output state for input random state is: \n",
      "-----------------------------------------------------\n",
      " Backend: default-pure\n",
      " System dimension: [2, 2, 2]\n",
      " System sequence: [1, 0, 2]\n",
      "[-0.09+0.2j  -0.04+0.07j  0.16-0.09j  0.51+0.34j -0.05+0.27j  0.02-0.13j\n",
      " -0.18-0.03j -0.41+0.49j]\n",
      "-----------------------------------------------------\n",
      "\n"
     ]
    }
   ],
   "source": [
    "state = random_state(num_qubits=3)\n",
    "output_state = cir(state)  # apply circuit unitary U to initial state: U|ψ⟩\n",
    "print(f\"The output state for input random state is: {output_state}\")"
   ]
  },
  {
   "cell_type": "markdown",
   "id": "39b6680d",
   "metadata": {},
   "source": [
    "**Example**\n",
    "\n",
    "To better observe the evolution of the quantum state, let's create a quantum circuit to simulate the process and analyze the results at each step through a step-by-step derivation. We can use `Circuit` to create a quantum circuit as shown below, add quantum gates through gate functions like `h`, `cx`, `rz`, and finally perform a default evolution on the $\\ket{0}$ state by directly calling the created circuit object (e.g., `cir()`):"
   ]
  },
  {
   "cell_type": "code",
   "execution_count": 9,
   "id": "a646faf6",
   "metadata": {},
   "outputs": [],
   "source": [
    "# construct a circuit with specifying the number of qubits\n",
    "num_qubits = 1  # number of qubits\n",
    "cir = Circuit(num_qubits)"
   ]
  },
  {
   "cell_type": "markdown",
   "id": "48b0c3f8",
   "metadata": {},
   "source": [
    "Let us now observe the evolutionary process described by the above circuit step by step through mathematical derivation. Start with the ground state:\n",
    "$$ \\ket{\\psi_0}=\\ket{0}=\n",
    "\\begin{bmatrix}\n",
    "1\\\\\n",
    "0\n",
    "\\end{bmatrix}.\n",
    "$$\n",
    "**Step 1**: Hadamard Gate($H$)\n",
    "\n",
    "Add H gate on $\\psi_0$ to create superposition:\n",
    "$$\n",
    "\\ket{\\psi_1} = H\\ket{0}=\\frac{\\ket{0}+\\ket{1}}{\\sqrt{2}}=\\frac{1}{\\sqrt{2}}\n",
    "\\begin{bmatrix}\n",
    "1\\\\\n",
    "1\n",
    "\\end{bmatrix}.\n",
    "$$"
   ]
  },
  {
   "cell_type": "code",
   "execution_count": 10,
   "id": "d1c1e3ea",
   "metadata": {},
   "outputs": [
    {
     "name": "stdout",
     "output_type": "stream",
     "text": [
      "The unitary matrix of the circuit after H gate: \n",
      "tensor([[ 0.7071+0.j,  0.7071+0.j],\n",
      "        [ 0.7071+0.j, -0.7071+0.j]])\n"
     ]
    }
   ],
   "source": [
    "cir.h(0)  # add Hadamard gate on qubit 0\n",
    "print(f\"The unitary matrix of the circuit after H gate: \\n{cir.matrix}\")"
   ]
  },
  {
   "cell_type": "markdown",
   "id": "1be43682",
   "metadata": {},
   "source": [
    "**Step 2**: Phase Rotation($RZ$)\n",
    "\n",
    "Add relative phase $\\theta=\\pi/2$:\n",
    "$$\n",
    "\\ket{\\psi_2}=RZ(\\frac{\\pi}{2})\\ket{\\psi_1}=\\frac{e^{-i\\pi/4}\\ket{0}+e^{i\\pi/4}\\ket{1}}{\\sqrt{2}}=\\frac{1}{\\sqrt{2}}\n",
    "\\begin{bmatrix}\n",
    "e^{-i\\pi/4}\\\\\n",
    "e^{i\\pi/4}\n",
    "\\end{bmatrix}.\n",
    "$$\n"
   ]
  },
  {
   "cell_type": "code",
   "execution_count": 11,
   "id": "ccdb8cf8",
   "metadata": {},
   "outputs": [
    {
     "name": "stdout",
     "output_type": "stream",
     "text": [
      "The unitary matrix of the circuit after H gate and CZ gate: \n",
      "tensor([[ 0.5000-0.5000j,  0.5000-0.5000j],\n",
      "        [ 0.5000+0.5000j, -0.5000-0.5000j]])\n"
     ]
    }
   ],
   "source": [
    "cir.rz(0, torch.pi/2)  # add CZ gate on qubit 0 with θ=π/2\n",
    "print(f\"The unitary matrix of the circuit after H gate and CZ gate: \\n{cir.matrix}\")"
   ]
  },
  {
   "cell_type": "markdown",
   "id": "2ffad5fd",
   "metadata": {},
   "source": [
    "Due to Euler's Formula $e^{i\\theta}=\\cos(\\theta)+i\\sin(\\theta)$, we can obtain:\n",
    "$$\n",
    "e^{-i\\pi/4}=\\cos(\\pi/4)-i\\sin(\\pi/4)=\\frac{1-i}{\\sqrt{2}}.\n",
    "$$\n",
    "$$\n",
    "e^{i\\pi/4}=\\cos(\\pi/4)+i\\sin(\\pi/4)=\\frac{1+i}{\\sqrt{2}}.\n",
    "$$\n",
    "the above expression of $\\ket{\\psi_2}$ is equivalent to:\n",
    "$$\n",
    "\\ket{\\psi_2}=\\frac{1}{\\sqrt{2}}\n",
    "\\begin{bmatrix}\n",
    "e^{-i\\pi/4}\\\\\n",
    "e^{i\\pi/4}\n",
    "\\end{bmatrix}=\n",
    "\\frac{1}{\\sqrt{2}}\n",
    "\\begin{bmatrix}\n",
    "\\frac{1-i}{\\sqrt{2}}\\\\\n",
    "\\frac{1+i}{\\sqrt{2}}\n",
    "\\end{bmatrix}=\n",
    "\\frac{1}{2}\n",
    "\\begin{bmatrix}\n",
    "1-i\\\\\n",
    "1+i\n",
    "\\end{bmatrix}=\n",
    "\\begin{bmatrix}\n",
    "0.5-0.5i\\\\\n",
    "0.5+0.5i\n",
    "\\end{bmatrix}.\n",
    "$$\n",
    "This is consistent with the results obtained from the code."
   ]
  },
  {
   "cell_type": "code",
   "execution_count": 12,
   "id": "8f226622",
   "metadata": {},
   "outputs": [
    {
     "name": "stdout",
     "output_type": "stream",
     "text": [
      "The unitary matrix of the final circuit: \n",
      "tensor([[ 0.5000-0.5000j,  0.5000-0.5000j],\n",
      "        [ 0.5000+0.5000j, -0.5000-0.5000j]])\n",
      "\n",
      "The output state for inputting zero state is: \n",
      "-----------------------------------------------------\n",
      " Backend: default-pure\n",
      " System dimension: [2]\n",
      " System sequence: [0]\n",
      "[0.5-0.5j 0.5+0.5j]\n",
      "-----------------------------------------------------\n",
      "\n"
     ]
    }
   ],
   "source": [
    "print(f\"The unitary matrix of the final circuit: \\n{cir.matrix}\")\n",
    "\n",
    "output_state = cir()  # run the circuit with initial state |0>\n",
    "print(f\"\\nThe output state for inputting zero state is: {output_state}\")"
   ]
  },
  {
   "cell_type": "markdown",
   "id": "f150b5c2",
   "metadata": {},
   "source": [
    "#### Quantum Channels\n",
    "\n",
    "Quantum channels are completely positive, trace-preserving (CPTP) maps that describe the most general physical transformations of quantum states. Unlike unitary gates, they can model:\n",
    "- Noise processes (decoherence, amplitude damping)\n",
    "  \n",
    "- Measurement effects\n",
    "  \n",
    "- Open system dynamics (interaction with environment)\n",
    "\n",
    "A key feature of a quantum channel is its ability to transform a pure state into a mixed state, described by a density matrix with non-zero entropy. While they can be represented in several mathematically equivalent ways (Kraus, Choi, Stinespring representations), in practice, we often define them by their action on qubits. Here we only introduce the Kraus representation. You can find more representations at [QuAIRKit Tutorial](https://quairkit.com/QuAIRKit/latest/tutorials/introduction/operator.html). A common example is the Depolarizing Channel, which with probability $p$ randomly applies an X, Y, or Z error to a qubit, and with probability $(1-p)$ leaves it untouched.\n",
    "\n",
    "**Kraus Representation**\n",
    "\n",
    "Mathematically, a quantum channel $\\mathcal{N}$ acts on density matrix $\\rho$ as:\n",
    "$$\n",
    "\\mathcal{N}(\\rho)=\\sum_i K_i \\rho K_i^{\\dagger}.\n",
    "$$\n",
    "where Kraus operators $\\{ K_i\\}$ satisfy:\n",
    "$$\n",
    "\\sum_i K_i^{\\dagger} K_i = I.\n",
    "$$\n",
    "\n",
    "### Common Quantum Channel Examples\n",
    "**Depolarizing Channel**\n",
    "\n",
    "The depolarizing channel is a fundamental noise model in quantum information theory. It describes a process where, with a certain probability, the quantum state is replaced by the completely mixed state, effectively introducing isotropic noise (noise that is the same in all directions).\n",
    "\n",
    "The action of the depolarizing channel on a density matrix $\\rho$ with probability $p$ is given by:\n",
    "$$\n",
    "\\Phi_{depo}(\\rho)=(1-p)\\rho + p\\frac{I}{d}.\n",
    "$$\n",
    "where:\n",
    "- $p$: The error probability or depolarizing probability. It is a real number between 0 and 1 ($0 \\leq p \\leq 1$).\n",
    "- $d$: The dimension of the Hilbert space of the quantum system.\n",
    "- $I$: The identity operator (or identity matrix) acting on the Hilbert space of the quantum system. Its dimension matches that of $\\rho$.\n",
    "\n",
    "The Kraus representation for the depolarizing channel can be expressed in terms of the identity operator and Pauli matrices. For a single qubit (d=2), the Kraus operators are:\n",
    "$$\n",
    "K_0 = \\sqrt{1-\\frac{3p}{4}}I, \\quad K_1 = \\sqrt{\\frac{p}{4}}X, \\quad K_2 = \\sqrt{\\frac{p}{4}}Y, \\quad K_3 = \\sqrt{\\frac{p}{4}}Z.\n",
    "$$\n",
    "where $X,Y,Z$ are the Pauli matrices and $I$ is the identity matrix.\n",
    "\n",
    "Depolarizing Channel can be easily constructed using `depolarizing_kraus` in kraus representation:"
   ]
  },
  {
   "cell_type": "code",
   "execution_count": 13,
   "id": "bdd98c7c",
   "metadata": {},
   "outputs": [
    {
     "name": "stdout",
     "output_type": "stream",
     "text": [
      "Kraus representation of a depolarizing channel with probability 0.5:\n",
      " tensor([[[ 0.7906+0.0000j,  0.0000+0.0000j],\n",
      "         [ 0.0000+0.0000j,  0.7906+0.0000j]],\n",
      "\n",
      "        [[ 0.0000+0.0000j,  0.3536+0.0000j],\n",
      "         [ 0.3536+0.0000j,  0.0000+0.0000j]],\n",
      "\n",
      "        [[ 0.0000+0.0000j,  0.0000-0.3536j],\n",
      "         [ 0.0000+0.3536j,  0.0000+0.0000j]],\n",
      "\n",
      "        [[ 0.3536+0.0000j,  0.0000+0.0000j],\n",
      "         [ 0.0000+0.0000j, -0.3536+0.0000j]]])\n",
      "\n"
     ]
    }
   ],
   "source": [
    "probs = 0.5 # probability\n",
    "depolarizing_kraus_repr = depolarizing_kraus(probs) # Kraus representation\n",
    "\n",
    "print(f\"Kraus representation of a depolarizing channel with probability {probs}:\\n {depolarizing_kraus_repr}\\n\")"
   ]
  },
  {
   "cell_type": "markdown",
   "id": "fa8a0f14",
   "metadata": {},
   "source": [
    "**Amplitude Damping (AD) Channel** \n",
    "\n",
    "The amplitude damping channel is the channel given with Kraus operators:\n",
    "$$\n",
    "K_0=\n",
    "\\begin{bmatrix}\n",
    "1 & 0\\\\\n",
    "0 & \\sqrt{1-\\gamma}\n",
    "\\end{bmatrix},\\;\n",
    "K_1=\n",
    "\\begin{bmatrix}\n",
    "0 & \\sqrt{\\gamma}\\\\\n",
    "0 & 0\n",
    "\\end{bmatrix}.\n",
    "$$\n",
    "where $\\gamma\\in[0,1]$.\n",
    "\n",
    "AD channel can be constructed using `amplitude_damping_kraus` in kraus representation:"
   ]
  },
  {
   "cell_type": "code",
   "execution_count": 14,
   "id": "af75a658",
   "metadata": {},
   "outputs": [
    {
     "name": "stdout",
     "output_type": "stream",
     "text": [
      "Kraus representation of a amplitude damping channel with parameter 0.5:\n",
      " tensor([[[1.0000+0.j, 0.0000+0.j],\n",
      "         [0.0000+0.j, 0.7071+0.j]],\n",
      "\n",
      "        [[0.0000+0.j, 0.7071+0.j],\n",
      "         [0.0000+0.j, 0.0000+0.j]]])\n",
      "\n"
     ]
    }
   ],
   "source": [
    "gamma = 0.5 # parameter gamma\n",
    "amplitude_damping_kraus_repr = amplitude_damping_kraus(gamma) # Kraus representation\n",
    "\n",
    "print(f\"Kraus representation of a amplitude damping channel with parameter {gamma}:\\n {amplitude_damping_kraus_repr}\\n\")"
   ]
  },
  {
   "cell_type": "markdown",
   "id": "6eece2d5",
   "metadata": {},
   "source": [
    "And we can add channels to circuit like this:"
   ]
  },
  {
   "cell_type": "code",
   "execution_count": 15,
   "id": "2194fb82",
   "metadata": {},
   "outputs": [],
   "source": [
    "# Similarly, you can implement custom channels using Circuit.append.\n",
    "kraus_op = random_channel(num_systems=1, target=\"kraus\")\n",
    "cir.kraus_channel(kraus_op, system_idx=0)"
   ]
  },
  {
   "cell_type": "markdown",
   "id": "455287ae",
   "metadata": {},
   "source": [
    "**Example**\n",
    "\n",
    "To understand how quantum channels work in practice, let's examine a concrete example using the Kraus representation. We will create two common noise channels—depolarizing and amplitude damping—see their Kraus operators, and most importantly, observe how they transform a pure state into a mixed state.\n",
    "\n",
    "**Step 1**: Initial Pure State Preparation\n",
    "\n",
    "We begin with the computational basis state $\\ket{0}$, which will serve as our input to the quantum channels."
   ]
  },
  {
   "cell_type": "code",
   "execution_count": 16,
   "id": "9a1b57a3",
   "metadata": {},
   "outputs": [
    {
     "name": "stdout",
     "output_type": "stream",
     "text": [
      "1. CREATING INITIAL PURE STATE\n",
      "Initial state: \n",
      "-----------------------------------------------------\n",
      " Backend: default-pure\n",
      " System dimension: [2]\n",
      " System sequence: [0]\n",
      "[1.+0.j 0.+0.j]\n",
      "-----------------------------------------------------\n",
      "\n",
      "State vector: \n",
      "-----------------------------------------------------\n",
      " Backend: default-pure\n",
      " System dimension: [2]\n",
      " System sequence: [0]\n",
      "[1.+0.j 0.+0.j]\n",
      "-----------------------------------------------------\n",
      "\n"
     ]
    }
   ],
   "source": [
    "# Example: Demonstrating Kraus representation and pure-to-mixed state transformation\n",
    "\n",
    "# Define parameters for the channels\n",
    "depolarizing_prob = 0.7  # Strong depolarizing probability\n",
    "damping_gamma = 0.3      # Amplitude damping parameter\n",
    "\n",
    "# --- 1. Create a pure state |0⟩ ---\n",
    "print(\"1. CREATING INITIAL PURE STATE\")\n",
    "init_state = zero_state(num_qubits=1)  # |0⟩ state\n",
    "print(f\"Initial state: {init_state}\")\n",
    "print(f\"State vector: {init_state}\")"
   ]
  },
  {
   "cell_type": "markdown",
   "id": "068bb882",
   "metadata": {},
   "source": [
    "**Step 2**: Depolarizing Channel Implementation\n",
    "\n",
    "Applying the depolarizing channel with probability p=0.7 to our initial state. The transformation follows:\n",
    "$$\n",
    "\\Phi_{depo}(\\rho)=(1-0.7)\\ket{0}\\bra{0} + 0.7·\\frac{I}{2}=0.3\\ket{0}\\bra{0}+0.35I.\n",
    "$$\n",
    "The corresponding Kraus operators with numerical coefficients:\n",
    "$$\n",
    "K_0 = \\sqrt{0.475}I \\approx 0.689I.\n",
    "$$\n",
    "$$\n",
    "K_1 = \\sqrt{0.175}X \\approx 0.418X.\n",
    "$$\n",
    "$$\n",
    "K_2 = \\sqrt{0.175}Y \\approx 0.418Y.\n",
    "$$\n",
    "$$\n",
    "K_3 = \\sqrt{0.175}Z \\approx 0.418Z.\n",
    "$$\n",
    "We extract and examine the Kraus operators that implement this transformation."
   ]
  },
  {
   "cell_type": "code",
   "execution_count": 17,
   "id": "d0e47d4d",
   "metadata": {},
   "outputs": [
    {
     "name": "stdout",
     "output_type": "stream",
     "text": [
      "2. DEPOLARIZING CHANNEL:\n",
      "Kraus operators (p=0.7):\n",
      "K0:\n",
      "tensor([[0.6892+0.j, 0.0000+0.j],\n",
      "        [0.0000+0.j, 0.6892+0.j]])\n",
      "K1:\n",
      "tensor([[0.0000+0.j, 0.4183+0.j],\n",
      "        [0.4183+0.j, 0.0000+0.j]])\n",
      "K2:\n",
      "tensor([[0.+0.0000j, 0.-0.4183j],\n",
      "        [0.+0.4183j, 0.+0.0000j]])\n",
      "K3:\n",
      "tensor([[ 0.4183+0.j,  0.0000+0.j],\n",
      "        [ 0.0000+0.j, -0.4183+0.j]])\n",
      "\n",
      "After depolarizing channel, the output state:\n",
      "-----------------------------------------------------\n",
      " Backend: default-mixed\n",
      " System dimension: [2]\n",
      " System sequence: [0]\n",
      "[[0.65+0.j 0.  +0.j]\n",
      " [0.  +0.j 0.35+0.j]]\n",
      "-----------------------------------------------------\n",
      "\n"
     ]
    }
   ],
   "source": [
    "# --- 2. Depolarizing Channel Example ---\n",
    "print(\"2. DEPOLARIZING CHANNEL:\")\n",
    "\n",
    "# Get Kraus operators for depolarizing channel\n",
    "depolarizing_kraus_ops = depolarizing_kraus(depolarizing_prob)\n",
    "print(f\"Kraus operators (p={depolarizing_prob}):\")\n",
    "for i, op in enumerate(depolarizing_kraus_ops):\n",
    "    print(f\"K{i}:\\n{op}\")\n",
    "\n",
    "# Apply channel to pure state\n",
    "depolarized_state = init_state.transform(depolarizing_kraus_ops, sys_idx=[0])\n",
    "print(f\"\\nAfter depolarizing channel, the output state:{depolarized_state}\")"
   ]
  },
  {
   "cell_type": "markdown",
   "id": "54f3c3e2",
   "metadata": {},
   "source": [
    "**Step 3**: Amplitude Damping Channel Implementation\n",
    "\n",
    "Now applying amplitude damping with $\\gamma=0.3$. The Kraus operators implement:\n",
    "$$\n",
    "K_0=\\ket{0}\\bra{0}+\\sqrt{0.7}\\ket{1}\\bra{1} \\approx \\ket{0}\\bra{0}+0.837\\ket{1}\\bra{1}.\n",
    "$$\n",
    "$$\n",
    "K_1=\\sqrt{0.3}\\ket{0}\\bra{1} \\approx 0.548 \\ket{0}\\bra{1}.\n",
    "$$\n",
    "The output state becomes:\n",
    "$$\n",
    "\\rho_{out} = K_0 \\ket{0}\\bra{0}K^{\\dagger}_0+K_1\\ket{0}\\bra{0}K^{\\dagger}_1=\\ket{0}\\bra{0}+0.3\\ket{0}\\bra{0}=\\ket{0}\\bra{0}.\n",
    "$$"
   ]
  },
  {
   "cell_type": "code",
   "execution_count": 18,
   "id": "e11e1e28",
   "metadata": {},
   "outputs": [
    {
     "name": "stdout",
     "output_type": "stream",
     "text": [
      "3. AMPLITUDE DAMPING CHANNEL:\n",
      "Kraus operators (γ=0.3):\n",
      "K0:\n",
      "tensor([[1.0000+0.j, 0.0000+0.j],\n",
      "        [0.0000+0.j, 0.8367+0.j]])\n",
      "K1:\n",
      "tensor([[0.0000+0.j, 0.5477+0.j],\n",
      "        [0.0000+0.j, 0.0000+0.j]])\n",
      "\n",
      "After amplitude damping channel, the output state:\n",
      "-----------------------------------------------------\n",
      " Backend: default-mixed\n",
      " System dimension: [2]\n",
      " System sequence: [0]\n",
      "[[1.+0.j 0.+0.j]\n",
      " [0.+0.j 0.+0.j]]\n",
      "-----------------------------------------------------\n",
      "\n"
     ]
    }
   ],
   "source": [
    "# --- 3. Amplitude Damping Channel Example ---\n",
    "print(\"3. AMPLITUDE DAMPING CHANNEL:\") \n",
    "\n",
    "# Get Kraus operators for amplitude damping\n",
    "damping_kraus_ops = amplitude_damping_kraus(damping_gamma)\n",
    "print(f\"Kraus operators (γ={damping_gamma}):\")\n",
    "for i, op in enumerate(damping_kraus_ops):\n",
    "    print(f\"K{i}:\\n{op}\")\n",
    "\n",
    "# Apply channel to pure state\n",
    "damped_state = init_state.transform(damping_kraus_ops, sys_idx=[0])\n",
    "print(f\"\\nAfter amplitude damping channel, the output state:{damped_state}\")"
   ]
  },
  {
   "cell_type": "markdown",
   "id": "25ec2dc9",
   "metadata": {},
   "source": [
    "## Measurement\n",
    "\n",
    "Quantum measurement is the process of extracting classical information from a quantum system, causing the system's state to collapse probabilistically to an eigenstate of the measured observable. Unlike classical measurements, quantum measurements:\n",
    "\n",
    "- Are fundamentally probabilistic\n",
    "\n",
    "- Irreversibly alter the quantum state (wavefunction collapse)\n",
    "\n",
    "- Depend on the choice of measurement basis\n",
    "\n",
    "### Projective Measurement\n",
    "\n",
    "An observable $O$ is represented by a Hermitian operator ($O=O^{\\dagger}$). Being Hermitian, it admits a spectral decomposition into its eigenvalues $\\lambda_i$ (the possible measurement outcomes) and corresponding orthonormal eigenstates $\\ket{\\sigma_i}$:\n",
    "$$\n",
    "O=\\sum_i \\lambda_i \\ket{\\sigma_i}\\bra{\\sigma_i}.\n",
    "$$\n",
    "\n",
    "**Born Rule**\n",
    "\n",
    "\n",
    "\n",
    "For a quantum system in a pure state $\\ket{\\psi}$, Upon measurement of $O$ the system yields an outcome associated with eigenvalue $\\lambda_i$, occurring with probability:\n",
    "\n",
    "$$\n",
    "p_i=|\\langle \\sigma_i \\vert \\psi \\rangle|^2.\n",
    "$$\n",
    "Following the measurement, the post-measurement state collapses to the corresponding eigenstate:\n",
    "$$\n",
    "\\ket{\\psi}\\xrightarrow{\\text{after measure}}\\ket{\\sigma_i}.\n",
    "$$\n",
    "\n",
    "### Positive Operator-Valued Measures\n",
    "A more general Positive Operator-Valued Measure (POVM) is a set of operators ${E_i}$ where:\n",
    "$$\n",
    "E_i=M_i^{\\dagger}M_i,\\quad \\sum_i E_i=I.\n",
    "$$\n",
    "the probability of outcome $i$ is:\n",
    "$$\n",
    "p_i= \\mathrm{Tr} (M_i \\rho M_i^{\\dagger})= \\mathrm{Tr} (E_i \\rho).\n",
    "$$\n",
    "Unlike projective measurements, POVMs allow non-orthogonal measurements."
   ]
  },
  {
   "cell_type": "code",
   "execution_count": 19,
   "id": "373a9136",
   "metadata": {},
   "outputs": [
    {
     "name": "stdout",
     "output_type": "stream",
     "text": [
      "Projection-valued measure: \n",
      "tensor([[[ 0.5000+0.j,  0.5000+0.j],\n",
      "         [ 0.5000+0.j,  0.5000+0.j]],\n",
      "\n",
      "        [[ 0.5000+0.j, -0.5000+0.j],\n",
      "         [-0.5000+0.j,  0.5000+0.j]]])\n",
      "\n",
      "The collapsed state for each outcome is: \n",
      "-----------------------------------------------------\n",
      " Backend: default-mixed\n",
      " System dimension: [2, 2]\n",
      " System sequence: [0, 1]\n",
      " Batch size: [2]\n",
      "\n",
      " # 0:\n",
      "[[0.35+0.j   0.21-0.01j 0.35+0.j   0.21-0.01j]\n",
      " [0.21+0.01j 0.15+0.j   0.21+0.01j 0.15+0.j  ]\n",
      " [0.35+0.j   0.21-0.01j 0.35+0.j   0.21-0.01j]\n",
      " [0.21+0.01j 0.15+0.j   0.21+0.01j 0.15+0.j  ]]\n",
      " # 1:\n",
      "[[ 0.48+0.j   -0.04-0.07j -0.48+0.j    0.04+0.07j]\n",
      " [-0.04+0.07j  0.02+0.j    0.04-0.07j -0.02+0.j  ]\n",
      " [-0.48+0.j    0.04+0.07j  0.48+0.j   -0.04-0.07j]\n",
      " [ 0.04-0.07j -0.02+0.j   -0.04+0.07j  0.02+0.j  ]]\n",
      "-----------------------------------------------------\n",
      "\n"
     ]
    }
   ],
   "source": [
    "# Construct a POVM for the single-qubit Pauli-X basis\n",
    "pvm = pauli_str_povm(\"x\")\n",
    "print(f\"Projection-valued measure: \\n{pvm}\")\n",
    "op = Measure(pvm)\n",
    "state = random_state(num_qubits=2, rank=2)\n",
    "\n",
    "# Measure on qubit 0 and keep the collapsed state\n",
    "prob, collapsed_state = op(state, qubits_idx=[0], keep_state=True)\n",
    "print(f\"\\nThe collapsed state for each outcome is: {collapsed_state}\")"
   ]
  },
  {
   "cell_type": "markdown",
   "id": "07a98016",
   "metadata": {},
   "source": [
    "With this general framework in place, we now turn to the most important observable in most quantum systems: the Hamiltonian.\n",
    "### Hamiltonian \n",
    "Among all quantum observables, the Hamiltonian operator holds a place of paramount importance. Its expectation value has a direct and profound physical interpretation: it represents the average energy of the quantum system in the state $\\ket{\\psi}$. For this reason, calculating it is a central task in many quantum problems, from analyzing molecular structures to optimizing quantum algorithms.\n",
    "\n",
    "In quantum mechanics, a Hamiltonian ($\\mathcal{H}$) is a Hermitian operator that corresponds to the total energy of a quantum system. It governs the time evolution of quantum states through the Schrödinger equation. For quantum computing purposes, we typically work with time-independent Hamiltonians expressed as sums of Pauli operators:\n",
    "$$\n",
    "H = \\sum_i c_i h_i.\n",
    "$$\n",
    "where $h_i$ are Pauli strings (e.g., $h_i \\in \\{I,X,Y,Z\\}^{\\otimes n}$ for $n$ qubit system) and $c_i$ are real coefficients. \n",
    "\n",
    "**Building Quantum Hamiltonians**\n",
    "\n",
    "A quantum Hamiltonian characterizes the interactions among the constituents of a quantum system. To facilitate simulations, the library implements several convenient routines for building Hamiltonians of common models.\n",
    "\n",
    "**Example 1**: Ising-type Model\n",
    "\n",
    "The Ising model is one of the simplest yet most important models that describes interacting quantum bits (qubits). It plays a central role in quantum optimization and quantum simulation, providing a minimal framework to study collective quantum phenomena.\n",
    "\n",
    "This model captures two essential physical effects:\n",
    "- Qubit interactions: Qubits influence each other through ZZ coupling terms.\n",
    "\n",
    "- External influence: Individual qubits are affected by external fields (X terms).\n",
    "\n",
    "Formally, for $n$ qubit system, Ising model describes Hamiltonian with two-site interaction and external field:\n",
    "$$ \n",
    "H_{\\text{Ising}} = \\sum_{i<j} J_{ij}Z_i Z_j + \\sum_{k} h_k X_k \n",
    "$$ \n",
    "where $J_{ij}$ is the coupling strength between sites $i$ and $j$, and $h_k$ is the magnetic field strength at vertex $k$. In QuAirKit, Ising model can be constructed via ising_hamiltonian.\n",
    "\n",
    "In QuAirKit, the Ising Hamiltonian can be readily constructed using the function ``ising_hamiltonian``."
   ]
  },
  {
   "cell_type": "code",
   "execution_count": 20,
   "id": "7b96e55a",
   "metadata": {},
   "outputs": [
    {
     "name": "stdout",
     "output_type": "stream",
     "text": [
      "The Pauli decomposition of the Hamiltonian for the Ising model is:\n",
      " 0.5 Z0, Z1\n",
      "0.5 Z0, Z2\n",
      "0.5 Z1, Z2\n",
      "0.30000001192092896 X0\n",
      "0.30000001192092896 X1\n",
      "0.30000001192092896 X2\n",
      "----------------------------------------------------------------------------------------------------\n"
     ]
    }
   ],
   "source": [
    "# Hamiltonian construction examples\n",
    "num_qubits = 3  # initial setting with 3 qubits\n",
    "split_line = '\\n' + '-' * 100 + '\\n'\n",
    "\n",
    "# J matrix controls qubit-qubit interaction strengths\n",
    "# h vector controls external field strengths on each qubit\n",
    "J = torch.ones(num_qubits, num_qubits) * 0.5  # uniform interaction strength\n",
    "h = torch.ones(num_qubits) * 0.3  # uniform external field\n",
    "H = ising_hamiltonian(J, h)\n",
    "print(\"The Pauli decomposition of the Hamiltonian for the Ising model is:\\n\", H, end=split_line)"
   ]
  },
  {
   "cell_type": "markdown",
   "id": "20e67871",
   "metadata": {},
   "source": [
    "**Other Hamiltonian**\n",
    "\n",
    "The hamiltonian library supports various interaction patterns. Here are additional examples (For further details regarding Hamiltonian, please refer to the dedicated tutorial:\n",
    "[Hamiltonian](https://github.com/QuAIR/QuAIRKit/blob/main/tutorials/introduction/Hamiltonian.ipynb)):"
   ]
  },
  {
   "cell_type": "code",
   "execution_count": 21,
   "id": "78bd4724",
   "metadata": {},
   "outputs": [
    {
     "name": "stdout",
     "output_type": "stream",
     "text": [
      "The Pauli decomposition of the Hamiltonian for the XY chain is:\n",
      " 0.5 X0, X1\n",
      "0.5 Y0, Y1\n",
      "0.5 X0, X2\n",
      "0.5 Y0, Y2\n",
      "0.5 X1, X2\n",
      "0.5 Y1, Y2\n",
      "----------------------------------------------------------------------------------------------------\n",
      "The Pauli decomposition of the Hamiltonian for the Heisenberg model is:\n",
      " 0.5 X0, X1\n",
      "0.5 Y0, Y1\n",
      "0.5 Z0, Z1\n",
      "0.5 X0, X2\n",
      "0.5 Y0, Y2\n",
      "0.5 Z0, Z2\n",
      "0.5 X1, X2\n",
      "0.5 Y1, Y2\n",
      "0.5 Z1, Z2\n",
      "----------------------------------------------------------------------------------------------------\n",
      "The Pauli decomposition of the random Hamiltonian is:\n",
      " -0.5565087119069443 Z2\n",
      "-0.3574592594985191 Z0, Z1\n",
      "-0.3444759632175145 Z0, Y1, Y2\n",
      "----------------------------------------------------------------------------------------------------\n",
      "Custom Hamiltonian from coefficient list:\n",
      " 0.1 X0, Z1\n",
      "0.3 Z1\n",
      "0.5 Z2\n"
     ]
    }
   ],
   "source": [
    "# Hamiltonian with XX and YY interactions (XY model)\n",
    "gamma = torch.ones(2, num_qubits, num_qubits) * 0.5\n",
    "H = xy_hamiltonian(gamma)\n",
    "print(\"The Pauli decomposition of the Hamiltonian for the XY chain is:\\n\", H, end=split_line)\n",
    "\n",
    "# Hamiltonian with full XYZ interactions (Heisenberg model)\n",
    "gamma = torch.ones(3, num_qubits, num_qubits) * 0.5\n",
    "H = heisenberg_hamiltonian(gamma)\n",
    "print(\"The Pauli decomposition of the Hamiltonian for the Heisenberg model is:\\n\", H, end=split_line)\n",
    "\n",
    "# Random Hamiltonian for general use\n",
    "H = random_hamiltonian_generator(num_qubits)\n",
    "print(\"The Pauli decomposition of the random Hamiltonian is:\\n\", H, end=split_line)\n",
    "\n",
    "# Custom Hamiltonian from explicit coefficients\n",
    "h_list = [[0.1, \"X0,Z1\"], [0.3, \"Z1\"], [0.5, \"Z2\"]]  # [coefficient, Pauli_string]\n",
    "H_custom = Hamiltonian(h_list)\n",
    "print(\"Custom Hamiltonian from coefficient list:\\n\", H_custom)"
   ]
  },
  {
   "cell_type": "markdown",
   "id": "e44d3de4",
   "metadata": {},
   "source": [
    "The expectation value of an observable $O$, which is the hamiltonian matrix, in quantum represents the statistical average of measurement outcomes obtained from repeated experiments on identically prepared systems. \n",
    "\n",
    "For a pure state $|\\psi \\rangle$, the expectation value is defined as:\n",
    "$$\n",
    "\\langle O \\rangle=\\langle \\psi \\vert O \\vert \\psi \\rangle.\n",
    "$$\n",
    "For a mixed state described by a density matrix $\\rho$, the expectation value is defined as:\n",
    "$$\n",
    "\\langle O \\rangle = \\mathrm{Tr}(O\\rho).\n",
    "$$\n",
    "\n",
    "The observable $O$ can be decomposed by the spectral decomposition \n",
    "$$\n",
    "\\langle O \\rangle=\\sum_i \\lambda_i |\\sigma_i\\rangle\\langle \\sigma_i|.\n",
    "$$\n",
    "where $\\lambda_i$ is eigenvalue of the observable $O$ and  $|\\sigma_i\\rangle\\langle \\sigma_i|$ is an corresponding to eigenvector. Then, the expectation value may be rewritten by:\n",
    "$$\n",
    "\\langle O \\rangle=\\sum_i \\lambda_i \\,p_i.\n",
    "$$\n",
    "where $p_i= \\mathrm{Tr}(\\rho |\\sigma_i\\rangle\\langle \\sigma_i|)$ for arbitrary state $\\rho$ is the probability of obtaining the outcome $|\\sigma_i\\rangle$."
   ]
  },
  {
   "cell_type": "markdown",
   "id": "7b0f7386",
   "metadata": {},
   "source": [
    "The `expec_val` may be employed to compute the expectation value for a specified Hamiltonian and quantum state."
   ]
  },
  {
   "cell_type": "code",
   "execution_count": 22,
   "id": "8c98b956",
   "metadata": {},
   "outputs": [
    {
     "name": "stdout",
     "output_type": "stream",
     "text": [
      "The Pauli decomposition of the random Hamiltonian is:\n",
      " 0.8961078150613921 X0, Y1, X2\n",
      "0.6632186222657794 X0\n",
      "-0.5799476719289227 Z0, Y1, Y2\n",
      "----------------------------------------------------------------------------------------------------\n",
      "random state with three qubit: \n",
      "-----------------------------------------------------\n",
      " Backend: default-mixed\n",
      " System dimension: [2, 2, 2]\n",
      " System sequence: [0, 1, 2]\n",
      "[[ 0.15+0.j    0.04+0.03j -0.12-0.1j   0.07+0.05j -0.04+0.04j  0.06-0.05j\n",
      "   0.1 -0.j   -0.13-0.06j]\n",
      " [ 0.04-0.03j  0.07+0.j   -0.08+0.02j  0.04+0.02j -0.03-0.02j -0.  -0.07j\n",
      "   0.09-0.04j  0.01+0.06j]\n",
      " [-0.12+0.1j  -0.08-0.02j  0.19-0.j   -0.09-0.01j  0.  -0.03j -0.03+0.11j\n",
      "  -0.12+0.06j  0.14-0.09j]\n",
      " [ 0.07-0.05j  0.04-0.02j -0.09+0.01j  0.06+0.j   -0.02+0.03j -0.01-0.05j\n",
      "   0.05-0.07j -0.04+0.01j]\n",
      " [-0.04-0.04j -0.03+0.02j  0.  +0.03j -0.02-0.03j  0.06+0.j    0.01+0.01j\n",
      "  -0.04+0.02j -0.04+0.07j]\n",
      " [ 0.06+0.05j -0.  +0.07j -0.03-0.11j -0.01+0.05j  0.01-0.01j  0.08-0.j\n",
      "   0.05+0.09j -0.08-0.02j]\n",
      " [ 0.1 +0.j    0.09+0.04j -0.12-0.06j  0.05+0.07j -0.04-0.02j  0.05-0.09j\n",
      "   0.14+0.j   -0.04+0.03j]\n",
      " [-0.13+0.06j  0.01-0.06j  0.14+0.09j -0.04-0.01j -0.04-0.07j -0.08+0.02j\n",
      "  -0.04-0.03j  0.25+0.j  ]]\n",
      "-----------------------------------------------------\n",
      "\n",
      "Expection value of the Hamiltonian: 0.41734418272972107\n"
     ]
    }
   ],
   "source": [
    "# caculate the expection value\n",
    "H = random_hamiltonian_generator(num_qubits)\n",
    "print(\"The Pauli decomposition of the random Hamiltonian is:\\n\", H, end=split_line)\n",
    "rho = random_state(num_qubits=3)\n",
    "print(f\"random state with three qubit: {rho}\")\n",
    "print(f\"Expection value of the Hamiltonian: {rho.expec_val(H)}\")"
   ]
  },
  {
   "cell_type": "markdown",
   "id": "e89915d7",
   "metadata": {},
   "source": [
    "This tutorial has introduced the core functionalities of QuAIRKit, demonstrating its capabilities for quantum state manipulation, gate operations, measurements, and expectation value estimation—essential tools for quantum algorithm development and simulation."
   ]
  },
  {
   "cell_type": "markdown",
   "id": "6bddaaac",
   "metadata": {},
   "source": [
    "---"
   ]
  },
  {
   "cell_type": "markdown",
   "id": "f96d1e32",
   "metadata": {},
   "source": [
    "## References\n",
    "\n",
    "[1] Nielsen, Michael A., and Isaac L. Chuang. Quantum computation and quantum information. Cambridge university press, 2010.\n",
    "\n",
    "[2] Shor, Peter W. \"Algorithms for quantum computation: discrete logarithms and factoring.\" Proceedings 35th annual symposium on foundations of computer science. Ieee, 1994.\n",
    "\n",
    "[3] Gisin, Nicolas, et al. \"Quantum cryptography.\" Reviews of modern physics 74.1 (2002): 145.\n",
    "\n",
    "[4] Bennett, Charles H., and Gilles Brassard. \"Quantum cryptography: Public key distribution and coin tossing.\" Theoretical computer science 560 (2014): 7-11.\n",
    "\n",
    "[5] Farhi, Edward, Jeffrey Goldstone, and Sam Gutmann. \"A quantum approximate optimization algorithm.\" arXiv preprint arXiv:1411.4028 (2014).\n",
    "\n",
    "[6] Peruzzo, Alberto, et al. \"A variational eigenvalue solver on a photonic quantum processor.\" Nature communications 5.1 (2014): 4213.\n",
    "\n",
    "[7] Tilly, Jules, et al. \"The variational quantum eigensolver: a review of methods and best practices.\" Physics Reports 986 (2022): 1-128.\n",
    "\n",
    "[8] Levine, Ira N., Daryle H. Busch, and Harrison Shull. Quantum chemistry. Vol. 6. Upper Saddle River, NJ: Pearson Prentice Hall, 2009.\n",
    "\n",
    "[9] Cao, Yudong, et al. \"Quantum chemistry in the age of quantum computing.\" Chemical reviews 119.19 (2019): 10856-10915."
   ]
  },
  {
   "cell_type": "markdown",
   "id": "1bb4dbe6",
   "metadata": {},
   "source": [
    "*Table: A reference of notation conventions in this tutorial.*\n",
    "\n",
    "| Symbol        | Variant          | Description                               |\n",
    "|:---------------:|:------------------:|-------------------------------------------|\n",
    "| $\\ket{\\psi}$ |  | State vector representation of quantum states |\n",
    "| $\\rho$ |  | Density matrix representation of quantum states|\n",
    "| $U$ |  | Unitary operations|\n",
    "| $H,X,Y,Z$ |  | Hadamard gate and Pauli matrices|\n",
    "| $M$ |  | Quantum measurement operator|\n",
    "| $p$ | $p_i$ | THe probability|\n",
    "| $K_i$ |  | Kraus operators for quantum channels|\n",
    "| $\\mathcal{N}$ |$\\Phi, \\Phi_{depo} ,\\Phi_{AD}$ | Quantum channel (CPTP map)|\n",
    "| $H$ | $H_{\\text{Ising}}$ | Hamiltonian operator|\n",
    "| $O$ |  | Observable operator|\n",
    "| $\\lambda_i$ | | Set of eigenvalues of observable $O$|\n",
    "| $\\langle O \\rangle$ |  | Expectation value of observable $O$ in state $\\ket{\\psi}$|\n",
    "| $\\alpha,\\beta$ |  | Probability amplitudes in quantum superposition|\n",
    "| $\\theta, \\phi$ |  | Angles parameterizing quantum states on Bloch sphere|\n",
    "| $I$ | $I_d$ | Identity operator of dimension $d$ |\n",
    "| $\\mathrm{Tr}$ |  | Trace operation|\n",
    "| $\\mathrm{Tr}_B$ |  | Partial trace over subsystem B|\n",
    "| $\\dagger$ | | Hermitian conjugate (adjoint) operation|"
   ]
  },
  {
   "cell_type": "code",
   "execution_count": 23,
   "id": "9dad0dcc",
   "metadata": {},
   "outputs": [
    {
     "name": "stdout",
     "output_type": "stream",
     "text": [
      "\n",
      "---------VERSION---------\n",
      "quairkit: 0.4.2\n",
      "torch: 2.8.0+cu128\n",
      "torch cuda: 12.8\n",
      "numpy: 2.2.6\n",
      "scipy: 1.15.3\n",
      "matplotlib: 3.10.6\n",
      "---------SYSTEM---------\n",
      "Python version: 3.10.18\n",
      "OS: Linux\n",
      "OS version: #1 SMP Tue Nov 5 00:21:55 UTC 2024\n",
      "---------DEVICE---------\n",
      "CPU:  13th Gen Intel(R) Core(TM) i9-13980HX\n",
      "GPU: (0) NVIDIA GeForce RTX 4090 Laptop GPU\n"
     ]
    }
   ],
   "source": [
    "qkit.print_info()"
   ]
  }
 ],
 "metadata": {
  "kernelspec": {
   "display_name": "api",
   "language": "python",
   "name": "python3"
  },
  "language_info": {
   "codemirror_mode": {
    "name": "ipython",
    "version": 3
   },
   "file_extension": ".py",
   "mimetype": "text/x-python",
   "name": "python",
   "nbconvert_exporter": "python",
   "pygments_lexer": "ipython3",
   "version": "3.10.18"
  }
 },
 "nbformat": 4,
 "nbformat_minor": 5
}
